{
 "cells": [
  {
   "cell_type": "markdown",
   "metadata": {},
   "source": [
    "# Group 7 - Too Hot to Handle\n",
    "\n",
    "### Dharmik Bhayani\n",
    "### Khushboo Modi\n",
    "### Surbhi Gupta"
   ]
  },
  {
   "cell_type": "markdown",
   "metadata": {},
   "source": [
    "# Project Overview"
   ]
  },
  {
   "cell_type": "markdown",
   "metadata": {},
   "source": [
    "“People are suffering. People are dying. Entire ecosystems are collapsing. We are in the beginning of a mass extinction.” The interest in climate change has never been stronger or more important than it is today.\n",
    "\n",
    "Any effort to combat climate change will be multi-faceted. And the best place to start would be at the local level. Almost half of the world's population lives in cities. Also historically, local governments have been more successful in dealing with climate control as environmental initiatives often face challenges at the federal and state levels.\n",
    "So if we make people aware about how climate has changed locally, the chances of successful ventures for climate control will definitely increase. \n",
    "\n",
    "These are the questions which we seek to answer:\n",
    "    1. How has precipitation changed over the years?\n",
    "    2. How weather has changed over the last two decades?\n",
    "    3. Compare differences in temperature and precipitation with respect to Geographical features.\n",
    "    \n",
    "To answer these questions we used data from \"https://www.ncdc.noaa.gov/IPS/cd/cd.html\". This site provides pdfs of monthly or annual weather report from all weather stations in the state, upon request. We decided to use Maryland, Virginia, Delaware and DC regions' annual weather reports from the year 1920 till 2018 for our analysis. The data was in the pdf in the form of tables. The tables had monthly Precipitation, Temperature, Cooling Days data from each weather station in that respective state."
   ]
  },
  {
   "cell_type": "markdown",
   "metadata": {},
   "source": [
    "# Step 1"
   ]
  },
  {
   "cell_type": "markdown",
   "metadata": {},
   "source": [
    "# Data Acquisition and Cleaning "
   ]
  },
  {
   "cell_type": "markdown",
   "metadata": {},
   "source": [
    "We scraped pdfs for Maryland, Virginia, Delaware and DC for years 1920 till 2018 using Selenium from \"https://www.ncdc.noaa.gov/IPS/cd/cd.html\" and saved all the pdf data using requests library. <br>\n",
    "To convert the pdfs into dataframes we used camelot."
   ]
  },
  {
   "cell_type": "markdown",
   "metadata": {},
   "source": [
    "## Scanning the internet for data "
   ]
  },
  {
   "cell_type": "code",
   "execution_count": 1,
   "metadata": {},
   "outputs": [
    {
     "data": {
      "text/html": [
       "        <script type=\"text/javascript\">\n",
       "        window.PlotlyConfig = {MathJaxConfig: 'local'};\n",
       "        if (window.MathJax) {MathJax.Hub.Config({SVG: {font: \"STIX-Web\"}});}\n",
       "        if (typeof require !== 'undefined') {\n",
       "        require.undef(\"plotly\");\n",
       "        requirejs.config({\n",
       "            paths: {\n",
       "                'plotly': ['https://cdn.plot.ly/plotly-latest.min']\n",
       "            }\n",
       "        });\n",
       "        require(['plotly'], function(Plotly) {\n",
       "            window._Plotly = Plotly;\n",
       "        });\n",
       "        }\n",
       "        </script>\n",
       "        "
      ]
     },
     "metadata": {},
     "output_type": "display_data"
    },
    {
     "data": {
      "text/html": [
       "        <script type=\"text/javascript\">\n",
       "        window.PlotlyConfig = {MathJaxConfig: 'local'};\n",
       "        if (window.MathJax) {MathJax.Hub.Config({SVG: {font: \"STIX-Web\"}});}\n",
       "        if (typeof require !== 'undefined') {\n",
       "        require.undef(\"plotly\");\n",
       "        requirejs.config({\n",
       "            paths: {\n",
       "                'plotly': ['https://cdn.plot.ly/plotly-latest.min']\n",
       "            }\n",
       "        });\n",
       "        require(['plotly'], function(Plotly) {\n",
       "            window._Plotly = Plotly;\n",
       "        });\n",
       "        }\n",
       "        </script>\n",
       "        "
      ]
     },
     "metadata": {},
     "output_type": "display_data"
    }
   ],
   "source": [
    "#importing the packages\n",
    "from selenium import webdriver  \n",
    "from selenium.webdriver.support.ui import Select  \n",
    "import time  \n",
    "import requests  \n",
    "import os  \n",
    "import pandas as pd\n",
    "import numpy as np\n",
    "import camelot\n",
    "import re\n",
    "import json, string\n",
    "import folium\n",
    "import matplotlib.pyplot as plt\n",
    "%matplotlib inline\n",
    "\n",
    "import plotly.graph_objs as go\n",
    "from plotly.offline import iplot, init_notebook_mode\n",
    "import cufflinks\n",
    "cufflinks.go_offline(connected=True)\n",
    "init_notebook_mode(connected=True)\n",
    "\n",
    "from folium import Map, Marker, GeoJson, LayerControl\n",
    "\n",
    "%matplotlib inline"
   ]
  },
  {
   "cell_type": "code",
   "execution_count": 2,
   "metadata": {},
   "outputs": [],
   "source": [
    "#Opening a bot controlled browser\n",
    "driver = webdriver.Firefox()"
   ]
  },
  {
   "cell_type": "code",
   "execution_count": 3,
   "metadata": {},
   "outputs": [],
   "source": [
    "# Creating a list for file names\n",
    "year_list = []  \n",
    "md_file_name = []  \n",
    "va_file_name = []  \n",
    "for i in range(1920,2019):  \n",
    "    \n",
    "    pub_year = str(i)+'-ANNUAL'  \n",
    "    \n",
    "    year_list.append(pub_year)  \n",
    "    \n",
    "    cwd = os.getcwd()  \n",
    "    va = '\\\\VA'  \n",
    "    md = '\\\\MD'  \n",
    "    md_file = '\\\\MD' + str(i) + '.pdf'  \n",
    "    va_file = '\\\\VA' + str(i) + '.pdf'  \n",
    "    md_link = cwd+md+md_file  \n",
    "    va_link = cwd+va+va_file  \n",
    "    \n",
    "    md_file_name.append(md_link)  \n",
    "    va_file_name.append(va_link)  "
   ]
  },
  {
   "cell_type": "code",
   "execution_count": 4,
   "metadata": {},
   "outputs": [
    {
     "name": "stdout",
     "output_type": "stream",
     "text": [
      "The Maryland list of file names and path looks like this: C:\\Users\\dharm\\Jupyter Workspace\\project\\MD\\MD1921.pdf\n",
      "The Virginia list of file names and path looks like this: C:\\Users\\dharm\\Jupyter Workspace\\project\\VA\\VA1921.pdf\n"
     ]
    }
   ],
   "source": [
    "print(\"The Maryland list of file names and path looks like this: \" + md_file_name[1])\n",
    "print(\"The Virginia list of file names and path looks like this: \" + va_file_name[1])"
   ]
  },
  {
   "cell_type": "markdown",
   "metadata": {},
   "source": [
    "#### Going through the internet to get temporary links of the pdf generated on NOAA websites"
   ]
  },
  {
   "cell_type": "code",
   "execution_count": 5,
   "metadata": {},
   "outputs": [
    {
     "name": "stdout",
     "output_type": "stream",
     "text": [
      "Fetching of links for Maryland -- Completed\n"
     ]
    }
   ],
   "source": [
    "#Getting the pdf links for Maryland\n",
    "md_pdf_link = []  \n",
    "for year in year_list:  \n",
    "    \n",
    "    driver.get(\"https://www.ncdc.noaa.gov/IPS/cd/cd.html\")  \n",
    "    state = Select(driver.find_element_by_name('state'))  \n",
    "    state.select_by_value('MD')  \n",
    "    next_btn = driver.find_element_by_name('_target1')  \n",
    "    next_btn.click()  \n",
    "    \n",
    "    time.sleep(1)  \n",
    "    \n",
    "    publication = Select(driver.find_element_by_name('publicationDate'))  \n",
    "    publication.select_by_value(year)  \n",
    "    submit_btn = driver.find_element_by_name('_target2')  \n",
    "    submit_btn.click()  \n",
    "    \n",
    "    time.sleep(2)  \n",
    "    \n",
    "    link = driver.find_element_by_id('anch_16')  \n",
    "    pdf_link = link.get_attribute('href')  \n",
    "    \n",
    "    md_pdf_link.append(pdf_link)\n",
    "\n",
    "print(\"Fetching of links for Maryland -- Completed\")"
   ]
  },
  {
   "cell_type": "code",
   "execution_count": 6,
   "metadata": {},
   "outputs": [
    {
     "name": "stdout",
     "output_type": "stream",
     "text": [
      "Fetching of links for Virginia -- Completed\n"
     ]
    }
   ],
   "source": [
    "#Getting the pdf links for Virginia\n",
    "va_pdf_link = []  \n",
    "for year in year_list:  \n",
    "    \n",
    "    driver.get(\"https://www.ncdc.noaa.gov/IPS/cd/cd.html\")  \n",
    "    state = Select(driver.find_element_by_name('state'))  \n",
    "    state.select_by_value('VA')  \n",
    "    next_btn = driver.find_element_by_name('_target1')  \n",
    "    next_btn.click()  \n",
    "    \n",
    "    time.sleep(1)  \n",
    "    \n",
    "    publication = Select(driver.find_element_by_name('publicationDate'))  \n",
    "    publication.select_by_value(year)  \n",
    "    submit_btn = driver.find_element_by_name('_target2')  \n",
    "    submit_btn.click()  \n",
    "    \n",
    "    time.sleep(2)  \n",
    "    \n",
    "    link = driver.find_element_by_id('anch_16')  \n",
    "    pdf_link = link.get_attribute('href')  \n",
    "    \n",
    "    va_pdf_link.append(pdf_link)\n",
    "    \n",
    "print(\"Fetching of links for Virginia -- Completed\")"
   ]
  },
  {
   "cell_type": "markdown",
   "metadata": {},
   "source": [
    "#### Saving the pdf files to system"
   ]
  },
  {
   "cell_type": "code",
   "execution_count": 7,
   "metadata": {},
   "outputs": [
    {
     "name": "stdout",
     "output_type": "stream",
     "text": [
      "Saving of Maryland files to system -- Completed\n"
     ]
    }
   ],
   "source": [
    "for i in range(99):  \n",
    "    r = requests.get(md_pdf_link[i], stream = True)  \n",
    "\n",
    "    with open(md_file_name[i],\"wb\") as pdf:   \n",
    "        for chunk in r.iter_content(chunk_size=1024):   \n",
    "            if chunk:   \n",
    "                pdf.write(chunk)\n",
    "\n",
    "print(\"Saving of Maryland files to system -- Completed\")"
   ]
  },
  {
   "cell_type": "code",
   "execution_count": 8,
   "metadata": {},
   "outputs": [
    {
     "name": "stdout",
     "output_type": "stream",
     "text": [
      "Saving of Virginia files to system -- Completed\n"
     ]
    }
   ],
   "source": [
    "for i in range(99):  \n",
    "    r = requests.get(va_pdf_link[i], stream = True)  \n",
    "\n",
    "    with open(va_file_name[i],\"wb\") as pdf:   \n",
    "        for chunk in r.iter_content(chunk_size=1024):   \n",
    "            if chunk:   \n",
    "                pdf.write(chunk)  \n",
    "                \n",
    "print(\"Saving of Virginia files to system -- Completed\")"
   ]
  },
  {
   "cell_type": "code",
   "execution_count": 9,
   "metadata": {},
   "outputs": [],
   "source": [
    "#Closing the browser\n",
    "driver.close()"
   ]
  },
  {
   "cell_type": "markdown",
   "metadata": {},
   "source": [
    "# Step 2"
   ]
  },
  {
   "cell_type": "markdown",
   "metadata": {},
   "source": [
    "# Scraping data from pdfs and Data Cleaning"
   ]
  },
  {
   "cell_type": "markdown",
   "metadata": {},
   "source": [
    "Limitations: \n",
    "1. After downloading the pdf from the internet using selenium, we found out that annual reports from 1921 to 2004 are image based and we were unable to scrape data from that reports, hence we needed to limit the data cleaning from 2005-2018\n",
    "2. As each pdf behaved and scraped in a different way, we were forced to clean each pdf manually and we were unable to automate the process of cleaning.\n",
    "3. Initially we used the tabula-py package, that did not work hence we used camelot package to scrape the pdf."
   ]
  },
  {
   "cell_type": "markdown",
   "metadata": {},
   "source": [
    "### Maryland Rain Data"
   ]
  },
  {
   "cell_type": "markdown",
   "metadata": {},
   "source": [
    "#### MD2018"
   ]
  },
  {
   "cell_type": "code",
   "execution_count": 10,
   "metadata": {},
   "outputs": [
    {
     "data": {
      "text/plain": [
       "'C:\\\\Users\\\\dharm\\\\Jupyter Workspace\\\\project\\\\MD\\\\'"
      ]
     },
     "execution_count": 10,
     "metadata": {},
     "output_type": "execute_result"
    }
   ],
   "source": [
    "#Setting the path to the correct directory\n",
    "path_a = os.getcwd() + '\\\\MD\\\\'\n",
    "path_a"
   ]
  },
  {
   "cell_type": "code",
   "execution_count": 11,
   "metadata": {},
   "outputs": [
    {
     "data": {
      "text/plain": [
       "<TableList n=2>"
      ]
     },
     "execution_count": 11,
     "metadata": {},
     "output_type": "execute_result"
    }
   ],
   "source": [
    "#Setting the path to the required pdf and using Camelot to scrape specific pages from the file.\n",
    "file = path_a + 'MD2018.pdf'\n",
    "tables = camelot.read_pdf(file, pages = '2,3')\n",
    "tables"
   ]
  },
  {
   "cell_type": "markdown",
   "metadata": {},
   "source": [
    "The report contains precipitation data on page 2,3 hence we scrape two pages which leads to two tables for precipitation."
   ]
  },
  {
   "cell_type": "code",
   "execution_count": 12,
   "metadata": {
    "scrolled": true
   },
   "outputs": [
    {
     "data": {
      "text/html": [
       "<div>\n",
       "<style scoped>\n",
       "    .dataframe tbody tr th:only-of-type {\n",
       "        vertical-align: middle;\n",
       "    }\n",
       "\n",
       "    .dataframe tbody tr th {\n",
       "        vertical-align: top;\n",
       "    }\n",
       "\n",
       "    .dataframe thead th {\n",
       "        text-align: right;\n",
       "    }\n",
       "</style>\n",
       "<table border=\"1\" class=\"dataframe\">\n",
       "  <thead>\n",
       "    <tr style=\"text-align: right;\">\n",
       "      <th></th>\n",
       "      <th>0</th>\n",
       "      <th>1</th>\n",
       "      <th>2</th>\n",
       "      <th>3</th>\n",
       "      <th>4</th>\n",
       "      <th>5</th>\n",
       "      <th>6</th>\n",
       "      <th>7</th>\n",
       "      <th>8</th>\n",
       "      <th>9</th>\n",
       "      <th>10</th>\n",
       "      <th>11</th>\n",
       "      <th>12</th>\n",
       "    </tr>\n",
       "  </thead>\n",
       "  <tbody>\n",
       "    <tr>\n",
       "      <td>0</td>\n",
       "      <td>STATION</td>\n",
       "      <td>JAN</td>\n",
       "      <td></td>\n",
       "      <td>FEB</td>\n",
       "      <td></td>\n",
       "      <td>MAR</td>\n",
       "      <td></td>\n",
       "      <td>APR</td>\n",
       "      <td></td>\n",
       "      <td>MAY</td>\n",
       "      <td></td>\n",
       "      <td>JUN</td>\n",
       "      <td></td>\n",
       "    </tr>\n",
       "    <tr>\n",
       "      <td>1</td>\n",
       "      <td></td>\n",
       "      <td>PRECIP.</td>\n",
       "      <td>DEPART.</td>\n",
       "      <td>PRECIP.</td>\n",
       "      <td>DEPART.</td>\n",
       "      <td>PRECIP.</td>\n",
       "      <td>DEPART.</td>\n",
       "      <td>PRECIP.</td>\n",
       "      <td>DEPART.</td>\n",
       "      <td>PRECIP.</td>\n",
       "      <td>DEPART.</td>\n",
       "      <td>PRECIP.</td>\n",
       "      <td>DEPART.</td>\n",
       "    </tr>\n",
       "    <tr>\n",
       "      <td>2</td>\n",
       "      <td>MARYLAND\\nSOUTHERN EASTERN SHORE  01\\nPRINCESS...</td>\n",
       "      <td>M\\n4.63\\n3.53\\n4.15\\n4.10\\n3.27\\n3.27\\n2.43\\n ...</td>\n",
       "      <td>-0.08\\n0.58\\n0.10\\n-0.33\\n-0.71\\n-0.80\\n \\n-0....</td>\n",
       "      <td>M\\n2.88\\n2.72\\nM 1.90\\n2.80\\n5.93\\n5.93\\n6.73\\...</td>\n",
       "      <td>-0.63\\n-1.24\\n-0.62\\n2.80\\n2.62\\n3.65\\n \\n2.41...</td>\n",
       "      <td>M\\nM\\n3.04\\n3.39\\n3.22\\n3.27\\n3.27\\n3.07\\nMA 3...</td>\n",
       "      <td>-1.38\\n-1.13\\n-1.26\\n-1.09\\n-1.02\\n-1.14\\n \\n-...</td>\n",
       "      <td>M\\n3.08\\n2.31\\n2.36\\n2.58\\n3.30\\n3.30\\n3.68\\n ...</td>\n",
       "      <td>-1.24\\n-1.12\\n-0.68\\n-0.56\\n-0.09\\n0.18\\n \\n0....</td>\n",
       "      <td>M\\n11.39\\n9.79\\nM\\n10.59\\n7.73\\n7.73\\n11.59\\nM...</td>\n",
       "      <td>6.17\\n \\n6.97\\n3.54\\n3.82\\n7.39\\n \\n7.45\\n \\n4...</td>\n",
       "      <td>M\\n5.25\\n4.17\\n4.60\\n4.67\\n2.79\\n2.79\\n7.06\\nM...</td>\n",
       "      <td>0.46\\n1.13\\n1.29\\n-1.07\\n-0.76\\n2.99\\n \\n3.28\\...</td>\n",
       "    </tr>\n",
       "  </tbody>\n",
       "</table>\n",
       "</div>"
      ],
      "text/plain": [
       "                                                   0  \\\n",
       "0                                            STATION   \n",
       "1                                                      \n",
       "2  MARYLAND\\nSOUTHERN EASTERN SHORE  01\\nPRINCESS...   \n",
       "\n",
       "                                                   1  \\\n",
       "0                                                JAN   \n",
       "1                                            PRECIP.   \n",
       "2  M\\n4.63\\n3.53\\n4.15\\n4.10\\n3.27\\n3.27\\n2.43\\n ...   \n",
       "\n",
       "                                                   2  \\\n",
       "0                                                      \n",
       "1                                            DEPART.   \n",
       "2  -0.08\\n0.58\\n0.10\\n-0.33\\n-0.71\\n-0.80\\n \\n-0....   \n",
       "\n",
       "                                                   3  \\\n",
       "0                                                FEB   \n",
       "1                                            PRECIP.   \n",
       "2  M\\n2.88\\n2.72\\nM 1.90\\n2.80\\n5.93\\n5.93\\n6.73\\...   \n",
       "\n",
       "                                                   4  \\\n",
       "0                                                      \n",
       "1                                            DEPART.   \n",
       "2  -0.63\\n-1.24\\n-0.62\\n2.80\\n2.62\\n3.65\\n \\n2.41...   \n",
       "\n",
       "                                                   5  \\\n",
       "0                                                MAR   \n",
       "1                                            PRECIP.   \n",
       "2  M\\nM\\n3.04\\n3.39\\n3.22\\n3.27\\n3.27\\n3.07\\nMA 3...   \n",
       "\n",
       "                                                   6  \\\n",
       "0                                                      \n",
       "1                                            DEPART.   \n",
       "2  -1.38\\n-1.13\\n-1.26\\n-1.09\\n-1.02\\n-1.14\\n \\n-...   \n",
       "\n",
       "                                                   7  \\\n",
       "0                                                APR   \n",
       "1                                            PRECIP.   \n",
       "2  M\\n3.08\\n2.31\\n2.36\\n2.58\\n3.30\\n3.30\\n3.68\\n ...   \n",
       "\n",
       "                                                   8  \\\n",
       "0                                                      \n",
       "1                                            DEPART.   \n",
       "2  -1.24\\n-1.12\\n-0.68\\n-0.56\\n-0.09\\n0.18\\n \\n0....   \n",
       "\n",
       "                                                   9  \\\n",
       "0                                                MAY   \n",
       "1                                            PRECIP.   \n",
       "2  M\\n11.39\\n9.79\\nM\\n10.59\\n7.73\\n7.73\\n11.59\\nM...   \n",
       "\n",
       "                                                  10  \\\n",
       "0                                                      \n",
       "1                                            DEPART.   \n",
       "2  6.17\\n \\n6.97\\n3.54\\n3.82\\n7.39\\n \\n7.45\\n \\n4...   \n",
       "\n",
       "                                                  11  \\\n",
       "0                                                JUN   \n",
       "1                                            PRECIP.   \n",
       "2  M\\n5.25\\n4.17\\n4.60\\n4.67\\n2.79\\n2.79\\n7.06\\nM...   \n",
       "\n",
       "                                                  12  \n",
       "0                                                     \n",
       "1                                            DEPART.  \n",
       "2  0.46\\n1.13\\n1.29\\n-1.07\\n-0.76\\n2.99\\n \\n3.28\\...  "
      ]
     },
     "execution_count": 12,
     "metadata": {},
     "output_type": "execute_result"
    }
   ],
   "source": [
    "try1 = tables[0].df\n",
    "try1"
   ]
  },
  {
   "cell_type": "markdown",
   "metadata": {},
   "source": [
    "Each row in the table is seperated by \\n, hence we split each column by \\n and each entry in new row and then again combine all columns to make a dataframe. And filling blank values with mean of each column."
   ]
  },
  {
   "cell_type": "code",
   "execution_count": 13,
   "metadata": {},
   "outputs": [],
   "source": [
    "#Cleaning the first table on first page\n",
    "try1 = tables[0].df\n",
    "try1 = pd.DataFrame(try1.iloc[2])\n",
    "try1 = try1.transpose()\n",
    "try1.columns = ['Station','Jan1','Jan2','Feb1','Feb2','Mar1','Mar2','Apr1','Apr2','May1','May2','Jun1','Jun2']\n",
    "\n",
    "i=2\n",
    "for x in try1.columns:\n",
    "    globals()['try'+str(i)] = pd.DataFrame(try1[x].str.split('\\n').tolist()).stack()\n",
    "    i=i+1\n",
    "\n",
    "comb1 = pd.DataFrame()\n",
    "for i in range(2,15):\n",
    "    comb1 = pd.concat([comb1, globals()['try'+str(i)]], ignore_index=True, axis =1)"
   ]
  },
  {
   "cell_type": "code",
   "execution_count": 14,
   "metadata": {},
   "outputs": [],
   "source": [
    "#Cleaning the second table on second page\n",
    "try1 = tables[1].df\n",
    "try1 = pd.DataFrame(try1.iloc[2])\n",
    "try1 = try1.transpose()\n",
    "try1.columns = ['Station','Jul1','Jul2','Aug1','Aug2','Sep1','Sep2','Oct1','Oct2','Nov1','Nov2','Dec1','Dec2','Ann1','Ann2']\n",
    "\n",
    "i=2\n",
    "for x in try1.columns:\n",
    "    globals()['try'+str(i)] = pd.DataFrame(try1[x].str.split('\\n').tolist()).stack()\n",
    "    i=i+1\n",
    "\n",
    "comb2 = pd.DataFrame()\n",
    "for i in range(2,15):\n",
    "    comb2 = pd.concat([comb2, globals()['try'+str(i)]], ignore_index=True, axis =1)"
   ]
  },
  {
   "cell_type": "code",
   "execution_count": 15,
   "metadata": {},
   "outputs": [
    {
     "name": "stdout",
     "output_type": "stream",
     "text": [
      "MD Rain Data for 2018 cleaned and dataframe created\n",
      "\n"
     ]
    }
   ],
   "source": [
    "#Combining the two tables into one dataframe for MD 2018 and cleaning the whole dataframe\n",
    "MDrain2018 = pd.concat([comb1,comb2], axis=1, ignore_index = True,join='inner')\n",
    "MDrain2018.columns = ['Station','JAN_Precip_18','JAN_Depart_18','FEB_Precip_18','FEB_Depart_18','MAR_Precip_18','MAR_Depart_18','APR_Precip_18','APR_Depart_18','MAY_Precip_18','MAY_Depart_18','JUN_Precip_18','JUN_Depart_18','Station1','JUL_Precip_18','JUL_Depart_18','AUG_Precip_18','AUG_Depart_18','SEP_Precip_18','SEP_Depart_18','OCT_Precip_18','OCT_Depart_18','NOV_Precip_18','NOV_Depart_18','DEC_Precip_18','DEC_Depart_18']\n",
    "\n",
    "MDrain2018 = MDrain2018.set_index('Station')\n",
    "MDrain2018 = MDrain2018.drop(columns=['Station1'])\n",
    "\n",
    "for x in MDrain2018.columns:  \n",
    "    MDrain2018[x] = MDrain2018[x].str.replace(r'[A-Z]','')\n",
    "    MDrain2018[x] = MDrain2018[x].str.replace('      ','0')\n",
    "    MDrain2018[x] = MDrain2018[x].str.replace(' ','')\n",
    "    MDrain2018[x] = MDrain2018[x].replace(r'', np.NaN)\n",
    "    MDrain2018[x] = MDrain2018[x].astype('float')\n",
    "MDrain2018 = MDrain2018.fillna(MDrain2018.mean())\n",
    "\n",
    "print(\"MD Rain Data for 2018 cleaned and dataframe created\")\n",
    "print(\"\")"
   ]
  },
  {
   "cell_type": "code",
   "execution_count": 16,
   "metadata": {},
   "outputs": [
    {
     "data": {
      "text/html": [
       "<div>\n",
       "<style scoped>\n",
       "    .dataframe tbody tr th:only-of-type {\n",
       "        vertical-align: middle;\n",
       "    }\n",
       "\n",
       "    .dataframe tbody tr th {\n",
       "        vertical-align: top;\n",
       "    }\n",
       "\n",
       "    .dataframe thead th {\n",
       "        text-align: right;\n",
       "    }\n",
       "</style>\n",
       "<table border=\"1\" class=\"dataframe\">\n",
       "  <thead>\n",
       "    <tr style=\"text-align: right;\">\n",
       "      <th></th>\n",
       "      <th>JAN_Precip_18</th>\n",
       "      <th>JAN_Depart_18</th>\n",
       "      <th>FEB_Precip_18</th>\n",
       "      <th>FEB_Depart_18</th>\n",
       "      <th>MAR_Precip_18</th>\n",
       "      <th>MAR_Depart_18</th>\n",
       "      <th>APR_Precip_18</th>\n",
       "      <th>APR_Depart_18</th>\n",
       "      <th>MAY_Precip_18</th>\n",
       "      <th>MAY_Depart_18</th>\n",
       "      <th>...</th>\n",
       "      <th>AUG_Precip_18</th>\n",
       "      <th>AUG_Depart_18</th>\n",
       "      <th>SEP_Precip_18</th>\n",
       "      <th>SEP_Depart_18</th>\n",
       "      <th>OCT_Precip_18</th>\n",
       "      <th>OCT_Depart_18</th>\n",
       "      <th>NOV_Precip_18</th>\n",
       "      <th>NOV_Depart_18</th>\n",
       "      <th>DEC_Precip_18</th>\n",
       "      <th>DEC_Depart_18</th>\n",
       "    </tr>\n",
       "    <tr>\n",
       "      <th>Station</th>\n",
       "      <th></th>\n",
       "      <th></th>\n",
       "      <th></th>\n",
       "      <th></th>\n",
       "      <th></th>\n",
       "      <th></th>\n",
       "      <th></th>\n",
       "      <th></th>\n",
       "      <th></th>\n",
       "      <th></th>\n",
       "      <th></th>\n",
       "      <th></th>\n",
       "      <th></th>\n",
       "      <th></th>\n",
       "      <th></th>\n",
       "      <th></th>\n",
       "      <th></th>\n",
       "      <th></th>\n",
       "      <th></th>\n",
       "      <th></th>\n",
       "      <th></th>\n",
       "    </tr>\n",
       "  </thead>\n",
       "  <tbody>\n",
       "    <tr>\n",
       "      <td>MARYLAND</td>\n",
       "      <td>2.405625</td>\n",
       "      <td>-0.08</td>\n",
       "      <td>5.004063</td>\n",
       "      <td>-0.63</td>\n",
       "      <td>2.642667</td>\n",
       "      <td>-1.38</td>\n",
       "      <td>3.658387</td>\n",
       "      <td>-1.24</td>\n",
       "      <td>7.767931</td>\n",
       "      <td>6.170000</td>\n",
       "      <td>...</td>\n",
       "      <td>3.22</td>\n",
       "      <td>-1.440000</td>\n",
       "      <td>7.04</td>\n",
       "      <td>3.200000</td>\n",
       "      <td>6.80</td>\n",
       "      <td>3.500000</td>\n",
       "      <td>5.86</td>\n",
       "      <td>2.470</td>\n",
       "      <td>5.330345</td>\n",
       "      <td>-0.18</td>\n",
       "    </tr>\n",
       "    <tr>\n",
       "      <td>SOUTHERN EASTERN SHORE  01</td>\n",
       "      <td>4.630000</td>\n",
       "      <td>0.58</td>\n",
       "      <td>2.880000</td>\n",
       "      <td>-1.24</td>\n",
       "      <td>2.642667</td>\n",
       "      <td>-1.13</td>\n",
       "      <td>3.080000</td>\n",
       "      <td>-1.12</td>\n",
       "      <td>11.390000</td>\n",
       "      <td>3.658333</td>\n",
       "      <td>...</td>\n",
       "      <td>3.30</td>\n",
       "      <td>1.477308</td>\n",
       "      <td>7.73</td>\n",
       "      <td>5.664615</td>\n",
       "      <td>8.48</td>\n",
       "      <td>0.635385</td>\n",
       "      <td>6.39</td>\n",
       "      <td>3.734</td>\n",
       "      <td>4.670000</td>\n",
       "      <td>-0.38</td>\n",
       "    </tr>\n",
       "    <tr>\n",
       "      <td>PRINCESS ANNE</td>\n",
       "      <td>3.530000</td>\n",
       "      <td>0.10</td>\n",
       "      <td>2.720000</td>\n",
       "      <td>-0.62</td>\n",
       "      <td>3.040000</td>\n",
       "      <td>-1.26</td>\n",
       "      <td>2.310000</td>\n",
       "      <td>-0.68</td>\n",
       "      <td>9.790000</td>\n",
       "      <td>6.970000</td>\n",
       "      <td>...</td>\n",
       "      <td>2.26</td>\n",
       "      <td>-2.170000</td>\n",
       "      <td>5.26</td>\n",
       "      <td>1.280000</td>\n",
       "      <td>8.67</td>\n",
       "      <td>5.180000</td>\n",
       "      <td>4.50</td>\n",
       "      <td>1.070</td>\n",
       "      <td>3.530000</td>\n",
       "      <td>0.43</td>\n",
       "    </tr>\n",
       "    <tr>\n",
       "      <td>SALISBURY 2N</td>\n",
       "      <td>4.150000</td>\n",
       "      <td>-0.33</td>\n",
       "      <td>1.900000</td>\n",
       "      <td>2.80</td>\n",
       "      <td>3.390000</td>\n",
       "      <td>-1.09</td>\n",
       "      <td>2.360000</td>\n",
       "      <td>-0.56</td>\n",
       "      <td>7.767931</td>\n",
       "      <td>3.540000</td>\n",
       "      <td>...</td>\n",
       "      <td>2.63</td>\n",
       "      <td>-2.270000</td>\n",
       "      <td>7.47</td>\n",
       "      <td>3.070000</td>\n",
       "      <td>1.49</td>\n",
       "      <td>-2.040000</td>\n",
       "      <td>4.50</td>\n",
       "      <td>0.980</td>\n",
       "      <td>3.290000</td>\n",
       "      <td>0.87</td>\n",
       "    </tr>\n",
       "    <tr>\n",
       "      <td>SALISBURY-WICOMICO RGNL AP  //</td>\n",
       "      <td>4.100000</td>\n",
       "      <td>-0.71</td>\n",
       "      <td>2.800000</td>\n",
       "      <td>2.62</td>\n",
       "      <td>3.220000</td>\n",
       "      <td>-1.02</td>\n",
       "      <td>2.580000</td>\n",
       "      <td>-0.09</td>\n",
       "      <td>10.590000</td>\n",
       "      <td>3.820000</td>\n",
       "      <td>...</td>\n",
       "      <td>2.85</td>\n",
       "      <td>-1.890000</td>\n",
       "      <td>6.88</td>\n",
       "      <td>3.120000</td>\n",
       "      <td>7.98</td>\n",
       "      <td>4.610000</td>\n",
       "      <td>5.13</td>\n",
       "      <td>1.950</td>\n",
       "      <td>3.830000</td>\n",
       "      <td>1.12</td>\n",
       "    </tr>\n",
       "  </tbody>\n",
       "</table>\n",
       "<p>5 rows × 24 columns</p>\n",
       "</div>"
      ],
      "text/plain": [
       "                                JAN_Precip_18  JAN_Depart_18  FEB_Precip_18  \\\n",
       "Station                                                                       \n",
       "MARYLAND                             2.405625          -0.08       5.004063   \n",
       "SOUTHERN EASTERN SHORE  01           4.630000           0.58       2.880000   \n",
       "PRINCESS ANNE                        3.530000           0.10       2.720000   \n",
       "SALISBURY 2N                         4.150000          -0.33       1.900000   \n",
       "SALISBURY-WICOMICO RGNL AP  //       4.100000          -0.71       2.800000   \n",
       "\n",
       "                                FEB_Depart_18  MAR_Precip_18  MAR_Depart_18  \\\n",
       "Station                                                                       \n",
       "MARYLAND                                -0.63       2.642667          -1.38   \n",
       "SOUTHERN EASTERN SHORE  01              -1.24       2.642667          -1.13   \n",
       "PRINCESS ANNE                           -0.62       3.040000          -1.26   \n",
       "SALISBURY 2N                             2.80       3.390000          -1.09   \n",
       "SALISBURY-WICOMICO RGNL AP  //           2.62       3.220000          -1.02   \n",
       "\n",
       "                                APR_Precip_18  APR_Depart_18  MAY_Precip_18  \\\n",
       "Station                                                                       \n",
       "MARYLAND                             3.658387          -1.24       7.767931   \n",
       "SOUTHERN EASTERN SHORE  01           3.080000          -1.12      11.390000   \n",
       "PRINCESS ANNE                        2.310000          -0.68       9.790000   \n",
       "SALISBURY 2N                         2.360000          -0.56       7.767931   \n",
       "SALISBURY-WICOMICO RGNL AP  //       2.580000          -0.09      10.590000   \n",
       "\n",
       "                                MAY_Depart_18  ...  AUG_Precip_18  \\\n",
       "Station                                        ...                  \n",
       "MARYLAND                             6.170000  ...           3.22   \n",
       "SOUTHERN EASTERN SHORE  01           3.658333  ...           3.30   \n",
       "PRINCESS ANNE                        6.970000  ...           2.26   \n",
       "SALISBURY 2N                         3.540000  ...           2.63   \n",
       "SALISBURY-WICOMICO RGNL AP  //       3.820000  ...           2.85   \n",
       "\n",
       "                                AUG_Depart_18  SEP_Precip_18  SEP_Depart_18  \\\n",
       "Station                                                                       \n",
       "MARYLAND                            -1.440000           7.04       3.200000   \n",
       "SOUTHERN EASTERN SHORE  01           1.477308           7.73       5.664615   \n",
       "PRINCESS ANNE                       -2.170000           5.26       1.280000   \n",
       "SALISBURY 2N                        -2.270000           7.47       3.070000   \n",
       "SALISBURY-WICOMICO RGNL AP  //      -1.890000           6.88       3.120000   \n",
       "\n",
       "                                OCT_Precip_18  OCT_Depart_18  NOV_Precip_18  \\\n",
       "Station                                                                       \n",
       "MARYLAND                                 6.80       3.500000           5.86   \n",
       "SOUTHERN EASTERN SHORE  01               8.48       0.635385           6.39   \n",
       "PRINCESS ANNE                            8.67       5.180000           4.50   \n",
       "SALISBURY 2N                             1.49      -2.040000           4.50   \n",
       "SALISBURY-WICOMICO RGNL AP  //           7.98       4.610000           5.13   \n",
       "\n",
       "                                NOV_Depart_18  DEC_Precip_18  DEC_Depart_18  \n",
       "Station                                                                      \n",
       "MARYLAND                                2.470       5.330345          -0.18  \n",
       "SOUTHERN EASTERN SHORE  01              3.734       4.670000          -0.38  \n",
       "PRINCESS ANNE                           1.070       3.530000           0.43  \n",
       "SALISBURY 2N                            0.980       3.290000           0.87  \n",
       "SALISBURY-WICOMICO RGNL AP  //          1.950       3.830000           1.12  \n",
       "\n",
       "[5 rows x 24 columns]"
      ]
     },
     "execution_count": 16,
     "metadata": {},
     "output_type": "execute_result"
    }
   ],
   "source": [
    "MDrain2018.head()"
   ]
  },
  {
   "cell_type": "markdown",
   "metadata": {},
   "source": [
    "#### The same process is repeated for the years 2005 to 2017"
   ]
  },
  {
   "cell_type": "code",
   "execution_count": 17,
   "metadata": {},
   "outputs": [
    {
     "name": "stdout",
     "output_type": "stream",
     "text": [
      "MD Rain Data for 2017 cleaned and dataframe created\n",
      "\n",
      "MD Rain Data for 2016 cleaned and dataframe created\n",
      "\n",
      "MD Rain Data for 2015 cleaned and dataframe created\n",
      "\n",
      "MD Rain Data for 2014 cleaned and dataframe created\n",
      "\n",
      "MD Rain Data for 2013 cleaned and dataframe created\n",
      "\n",
      "MD Rain Data for 2012 cleaned and dataframe created\n",
      "\n",
      "MD Rain Data for 2011 cleaned and dataframe created\n",
      "\n",
      "MD Rain Data for 2010 cleaned and dataframe created\n",
      "\n",
      "MD Rain Data for 2009 cleaned and dataframe created\n",
      "\n",
      "MD Rain Data for 2008 cleaned and dataframe created\n",
      "\n",
      "MD Rain Data for 2007 cleaned and dataframe created\n",
      "\n",
      "MD Rain Data for 2006 cleaned and dataframe created\n",
      "\n",
      "MD Rain Data for 2005 cleaned and dataframe created\n",
      "\n"
     ]
    }
   ],
   "source": [
    "#MD2017\n",
    "file = path_a + 'MD2017.pdf'\n",
    "tables = camelot.read_pdf(file, pages = '2,3')\n",
    "tables\n",
    "\n",
    "try1 = tables[0].df\n",
    "try1 = pd.DataFrame(try1.iloc[2])\n",
    "try1 = try1.transpose()\n",
    "try1.columns = ['Station','Jan1','Jan2','Feb1','Feb2','Mar1','Mar2','Apr1','Apr2','May1','May2','Jun1','Jun2']\n",
    "\n",
    "i=2\n",
    "for x in try1.columns:\n",
    "    globals()['try'+str(i)] = pd.DataFrame(try1[x].str.split('\\n').tolist()).stack()\n",
    "    i=i+1\n",
    "\n",
    "comb1 = pd.DataFrame()\n",
    "for i in range(2,15):\n",
    "    comb1 = pd.concat([comb1, globals()['try'+str(i)]], ignore_index=True, axis =1)\n",
    "try1 = tables[1].df\n",
    "try1 = pd.DataFrame(try1.iloc[2])\n",
    "try1 = try1.transpose()\n",
    "try1.columns = ['Station','Jul1','Jul2','Aug1','Aug2','Sep1','Sep2','Oct1','Oct2','Nov1','Nov2','Dec1','Dec2','Ann1','Ann2']\n",
    "\n",
    "i=2\n",
    "for x in try1.columns:\n",
    "    globals()['try'+str(i)] = pd.DataFrame(try1[x].str.split('\\n').tolist()).stack()\n",
    "    i=i+1\n",
    "\n",
    "comb2 = pd.DataFrame()\n",
    "for i in range(2,15):\n",
    "    comb2 = pd.concat([comb2, globals()['try'+str(i)]], ignore_index=True, axis =1)\n",
    "    \n",
    "MDrain2017 = pd.concat([comb1,comb2], axis=1, ignore_index = True,join='inner')\n",
    "MDrain2017.columns = ['Station','JAN_Precip_17','JAN_Depart_17','FEB_Precip_17','FEB_Depart_17','MAR_Precip_17','MAR_Depart_17','APR_Precip_17','APR_Depart_17','MAY_Precip_17','MAY_Depart_17','JUN_Precip_17','JUN_Depart_17','Station1','JUL_Precip_17','JUL_Depart_17','AUG_Precip_17','AUG_Depart_17','SEP_Precip_17','SEP_Depart_17','OCT_Precip_17','OCT_Depart_17','NOV_Precip_17','NOV_Depart_17','DEC_Precip_17','DEC_Depart_17']\n",
    "\n",
    "MDrain2017 = MDrain2017.set_index('Station')\n",
    "MDrain2017 = MDrain2017.drop(columns=['Station1'])\n",
    "\n",
    "for x in MDrain2017.columns:  \n",
    "    MDrain2017[x] = MDrain2017[x].str.replace(r'[A-Z]','')\n",
    "    MDrain2017[x] = MDrain2017[x].str.replace('      ','0')\n",
    "    MDrain2017[x] = MDrain2017[x].str.replace(' ','')\n",
    "    MDrain2017[x] = MDrain2017[x].replace(r'', np.NaN)\n",
    "    MDrain2017[x] = MDrain2017[x].astype('float')\n",
    "MDrain2017 = MDrain2017.fillna(MDrain2017.mean())\n",
    "\n",
    "print(\"MD Rain Data for 2017 cleaned and dataframe created\")\n",
    "print(\"\")\n",
    "\n",
    "#MD2016\n",
    "file = path_a + 'MD2016.pdf'\n",
    "tables = camelot.read_pdf(file, pages = '2,3')\n",
    "tables\n",
    "\n",
    "try1 = tables[0].df\n",
    "try1 = pd.DataFrame(try1.iloc[2])\n",
    "try1 = try1.transpose()\n",
    "try1.columns = ['Station','Jan1','Jan2','Feb1','Feb2','Mar1','Mar2','Apr1','Apr2','May1','May2','Jun1','Jun2']\n",
    "\n",
    "i=2\n",
    "for x in try1.columns:\n",
    "    globals()['try'+str(i)] = pd.DataFrame(try1[x].str.split('\\n').tolist()).stack()\n",
    "    i=i+1\n",
    "\n",
    "comb1 = pd.DataFrame()\n",
    "for i in range(2,15):\n",
    "    comb1 = pd.concat([comb1, globals()['try'+str(i)]], ignore_index=True, axis =1)\n",
    "try1 = tables[1].df\n",
    "try1 = pd.DataFrame(try1.iloc[2])\n",
    "try1 = try1.transpose()\n",
    "try1.columns = ['Station','Jul1','Jul2','Aug1','Aug2','Sep1','Sep2','Oct1','Oct2','Nov1','Nov2','Dec1','Dec2','Ann1','Ann2']\n",
    "\n",
    "i=2\n",
    "for x in try1.columns:\n",
    "    globals()['try'+str(i)] = pd.DataFrame(try1[x].str.split('\\n').tolist()).stack()\n",
    "    i=i+1\n",
    "\n",
    "comb2 = pd.DataFrame()\n",
    "for i in range(2,15):\n",
    "    comb2 = pd.concat([comb2, globals()['try'+str(i)]], ignore_index=True, axis =1)\n",
    "    \n",
    "MDrain2016 = pd.concat([comb1,comb2], axis=1, ignore_index = True,join='inner')\n",
    "MDrain2016.columns = ['Station','JAN_Precip_16','JAN_Depart_16','FEB_Precip_16','FEB_Depart_16','MAR_Precip_16','MAR_Depart_16','APR_Precip_16','APR_Depart_16','MAY_Precip_16','MAY_Depart_16','JUN_Precip_16','JUN_Depart_16','Station1','JUL_Precip_16','JUL_Depart_16','AUG_Precip_16','AUG_Depart_16','SEP_Precip_16','SEP_Depart_16','OCT_Precip_16','OCT_Depart_16','NOV_Precip_16','NOV_Depart_16','DEC_Precip_16','DEC_Depart_16']\n",
    "\n",
    "MDrain2016 = MDrain2016.set_index('Station')\n",
    "MDrain2016 = MDrain2016.drop(columns=['Station1'])\n",
    "\n",
    "for x in MDrain2016.columns:  \n",
    "    MDrain2016[x] = MDrain2016[x].str.replace(r'[A-Z]','')\n",
    "    MDrain2016[x] = MDrain2016[x].str.replace('      ','0')\n",
    "    MDrain2016[x] = MDrain2016[x].str.replace(' ','')\n",
    "    MDrain2016[x] = MDrain2016[x].replace(r'', np.NaN)\n",
    "    MDrain2016[x] = MDrain2016[x].astype('float')\n",
    "MDrain2016 = MDrain2016.fillna(MDrain2016.mean())\n",
    "\n",
    "print(\"MD Rain Data for 2016 cleaned and dataframe created\")\n",
    "print(\"\")\n",
    "\n",
    "#MD2015\n",
    "file = path_a + 'MD2015.pdf'\n",
    "tables = camelot.read_pdf(file, pages = '2,3')\n",
    "tables\n",
    "\n",
    "try1 = tables[0].df\n",
    "try1 = pd.DataFrame(try1.iloc[2])\n",
    "try1 = try1.transpose()\n",
    "try1.columns = ['Station','Jan1','Jan2','Feb1','Feb2','Mar1','Mar2','Apr1','Apr2','May1','May2','Jun1','Jun2']\n",
    "\n",
    "i=2\n",
    "for x in try1.columns:\n",
    "    globals()['try'+str(i)] = pd.DataFrame(try1[x].str.split('\\n').tolist()).stack()\n",
    "    i=i+1\n",
    "\n",
    "comb1 = pd.DataFrame()\n",
    "for i in range(2,15):\n",
    "    comb1 = pd.concat([comb1, globals()['try'+str(i)]], ignore_index=True, axis =1)\n",
    "try1 = tables[1].df\n",
    "try1 = pd.DataFrame(try1.iloc[2])\n",
    "try1 = try1.transpose()\n",
    "try1.columns = ['Station','Jul1','Jul2','Aug1','Aug2','Sep1','Sep2','Oct1','Oct2','Nov1','Nov2','Dec1','Dec2','Ann1','Ann2']\n",
    "\n",
    "i=2\n",
    "for x in try1.columns:\n",
    "    globals()['try'+str(i)] = pd.DataFrame(try1[x].str.split('\\n').tolist()).stack()\n",
    "    i=i+1\n",
    "\n",
    "comb2 = pd.DataFrame()\n",
    "for i in range(2,15):\n",
    "    comb2 = pd.concat([comb2, globals()['try'+str(i)]], ignore_index=True, axis =1)\n",
    "    \n",
    "MDrain2015 = pd.concat([comb1,comb2], axis=1, ignore_index = True,join='inner')\n",
    "MDrain2015.columns = ['Station','JAN_Precip_15','JAN_Depart_15','FEB_Precip_15','FEB_Depart_15','MAR_Precip_15','MAR_Depart_15','APR_Precip_15','APR_Depart_15','MAY_Precip_15','MAY_Depart_15','JUN_Precip_15','JUN_Depart_15','Station1','JUL_Precip_15','JUL_Depart_15','AUG_Precip_15','AUG_Depart_15','SEP_Precip_15','SEP_Depart_15','OCT_Precip_15','OCT_Depart_15','NOV_Precip_15','NOV_Depart_15','DEC_Precip_15','DEC_Depart_15']\n",
    "\n",
    "MDrain2015 = MDrain2015.set_index('Station')\n",
    "MDrain2015 = MDrain2015.drop(columns=['Station1'])\n",
    "\n",
    "for x in MDrain2015.columns:  \n",
    "    MDrain2015[x] = MDrain2015[x].str.replace(r'[A-Z]','')\n",
    "    MDrain2015[x] = MDrain2015[x].str.replace('      ','0')\n",
    "    MDrain2015[x] = MDrain2015[x].str.replace(' ','')\n",
    "    MDrain2015[x] = MDrain2015[x].replace(r'', np.NaN)\n",
    "    MDrain2015[x] = MDrain2015[x].astype('float')\n",
    "MDrain2015 = MDrain2015.fillna(MDrain2015.mean())\n",
    "\n",
    "print(\"MD Rain Data for 2015 cleaned and dataframe created\")\n",
    "print(\"\")\n",
    "\n",
    "#MD2014\n",
    "file = path_a + 'MD2014.pdf'\n",
    "tables = camelot.read_pdf(file, pages = '2,3')\n",
    "tables\n",
    "\n",
    "try1 = tables[0].df\n",
    "try1 = pd.DataFrame(try1.iloc[2])\n",
    "try1 = try1.transpose()\n",
    "try1.columns = ['Station','Jan1','Jan2','Feb1','Feb2','Mar1','Mar2','Apr1','Apr2','May1','May2','Jun1','Jun2']\n",
    "\n",
    "i=2\n",
    "for x in try1.columns:\n",
    "    globals()['try'+str(i)] = pd.DataFrame(try1[x].str.split('\\n').tolist()).stack()\n",
    "    i=i+1\n",
    "\n",
    "comb1 = pd.DataFrame()\n",
    "for i in range(2,15):\n",
    "    comb1 = pd.concat([comb1, globals()['try'+str(i)]], ignore_index=True, axis =1)\n",
    "try1 = tables[1].df\n",
    "try1 = pd.DataFrame(try1.iloc[2])\n",
    "try1 = try1.transpose()\n",
    "try1.columns = ['Station','Jul1','Jul2','Aug1','Aug2','Sep1','Sep2','Oct1','Oct2','Nov1','Nov2','Dec1','Dec2','Ann1','Ann2']\n",
    "\n",
    "i=2\n",
    "for x in try1.columns:\n",
    "    globals()['try'+str(i)] = pd.DataFrame(try1[x].str.split('\\n').tolist()).stack()\n",
    "    i=i+1\n",
    "\n",
    "comb2 = pd.DataFrame()\n",
    "for i in range(2,15):\n",
    "    comb2 = pd.concat([comb2, globals()['try'+str(i)]], ignore_index=True, axis =1)\n",
    "    \n",
    "MDrain2014 = pd.concat([comb1,comb2], axis=1, ignore_index = True,join='inner')\n",
    "MDrain2014.columns = ['Station','JAN_Precip_14','JAN_Depart_14','FEB_Precip_14','FEB_Depart_14','MAR_Precip_14','MAR_Depart_14','APR_Precip_14','APR_Depart_14','MAY_Precip_14','MAY_Depart_14','JUN_Precip_14','JUN_Depart_14','Station1','JUL_Precip_14','JUL_Depart_14','AUG_Precip_14','AUG_Depart_14','SEP_Precip_14','SEP_Depart_14','OCT_Precip_14','OCT_Depart_14','NOV_Precip_14','NOV_Depart_14','DEC_Precip_14','DEC_Depart_14']\n",
    "\n",
    "MDrain2014 = MDrain2014.set_index('Station')\n",
    "MDrain2014 = MDrain2014.drop(columns=['Station1'])\n",
    "\n",
    "for x in MDrain2014.columns:  \n",
    "    MDrain2014[x] = MDrain2014[x].str.replace(r'[A-Z]','')\n",
    "    MDrain2014[x] = MDrain2014[x].str.replace('      ','0')\n",
    "    MDrain2014[x] = MDrain2014[x].str.replace(' ','')\n",
    "    MDrain2014[x] = MDrain2014[x].replace(r'', np.NaN)\n",
    "    MDrain2014[x] = MDrain2014[x].astype('float')\n",
    "MDrain2014 = MDrain2014.fillna(MDrain2014.mean())\n",
    "\n",
    "print(\"MD Rain Data for 2014 cleaned and dataframe created\")\n",
    "print(\"\")\n",
    "\n",
    "#MD2013\n",
    "file = path_a + 'MD2013.pdf'\n",
    "tables = camelot.read_pdf(file, pages = '2,3')\n",
    "tables\n",
    "\n",
    "try1 = tables[0].df\n",
    "try1 = pd.DataFrame(try1.iloc[2])\n",
    "try1 = try1.transpose()\n",
    "try1.columns = ['Station','Jan1','Jan2','Feb1','Feb2','Mar1','Mar2','Apr1','Apr2','May1','May2','Jun1','Jun2']\n",
    "\n",
    "i=2\n",
    "for x in try1.columns:\n",
    "    globals()['try'+str(i)] = pd.DataFrame(try1[x].str.split('\\n').tolist()).stack()\n",
    "    i=i+1\n",
    "\n",
    "comb1 = pd.DataFrame()\n",
    "for i in range(2,15):\n",
    "    comb1 = pd.concat([comb1, globals()['try'+str(i)]], ignore_index=True, axis =1)\n",
    "try1 = tables[1].df\n",
    "try1 = pd.DataFrame(try1.iloc[2])\n",
    "try1 = try1.transpose()\n",
    "try1.columns = ['Station','Jul1','Jul2','Aug1','Aug2','Sep1','Sep2','Oct1','Oct2','Nov1','Nov2','Dec1','Dec2','Ann1','Ann2']\n",
    "\n",
    "i=2\n",
    "for x in try1.columns:\n",
    "    globals()['try'+str(i)] = pd.DataFrame(try1[x].str.split('\\n').tolist()).stack()\n",
    "    i=i+1\n",
    "\n",
    "comb2 = pd.DataFrame()\n",
    "for i in range(2,15):\n",
    "    comb2 = pd.concat([comb2, globals()['try'+str(i)]], ignore_index=True, axis =1)\n",
    "    \n",
    "MDrain2013 = pd.concat([comb1,comb2], axis=1, ignore_index = True,join='inner')\n",
    "MDrain2013.columns = ['Station','JAN_Precip_13','JAN_Depart_13','FEB_Precip_13','FEB_Depart_13','MAR_Precip_13','MAR_Depart_13','APR_Precip_13','APR_Depart_13','MAY_Precip_13','MAY_Depart_13','JUN_Precip_13','JUN_Depart_13','Station1','JUL_Precip_13','JUL_Depart_13','AUG_Precip_13','AUG_Depart_13','SEP_Precip_13','SEP_Depart_13','OCT_Precip_13','OCT_Depart_13','NOV_Precip_13','NOV_Depart_13','DEC_Precip_13','DEC_Depart_13']\n",
    "\n",
    "MDrain2013 = MDrain2013.set_index('Station')\n",
    "MDrain2013 = MDrain2013.drop(columns=['Station1'])\n",
    "\n",
    "for x in MDrain2013.columns:  \n",
    "    MDrain2013[x] = MDrain2013[x].str.replace(r'[A-Z]','')\n",
    "    MDrain2013[x] = MDrain2013[x].str.replace('      ','0')\n",
    "    MDrain2013[x] = MDrain2013[x].str.replace(' ','')\n",
    "    MDrain2013[x] = MDrain2013[x].replace(r'', np.NaN)\n",
    "    MDrain2013[x] = MDrain2013[x].astype('float')\n",
    "MDrain2013 = MDrain2013.fillna(MDrain2013.mean())\n",
    "\n",
    "print(\"MD Rain Data for 2013 cleaned and dataframe created\")\n",
    "print(\"\")\n",
    "\n",
    "#MD2012\n",
    "file = path_a + 'MD2012.pdf'\n",
    "tables = camelot.read_pdf(file, pages = '2,3')\n",
    "tables\n",
    "\n",
    "try1 = tables[0].df\n",
    "try1 = pd.DataFrame(try1.iloc[2])\n",
    "try1 = try1.transpose()\n",
    "try1.columns = ['Station','Jan1','Jan2','Feb1','Feb2','Mar1','Mar2','Apr1','Apr2','May1','May2','Jun1','Jun2']\n",
    "\n",
    "i=2\n",
    "for x in try1.columns:\n",
    "    globals()['try'+str(i)] = pd.DataFrame(try1[x].str.split('\\n').tolist()).stack()\n",
    "    i=i+1\n",
    "\n",
    "comb1 = pd.DataFrame()\n",
    "for i in range(2,15):\n",
    "    comb1 = pd.concat([comb1, globals()['try'+str(i)]], ignore_index=True, axis =1)\n",
    "try1 = tables[1].df\n",
    "try1 = pd.DataFrame(try1.iloc[2])\n",
    "try1 = try1.transpose()\n",
    "try1.columns = ['Station','Jul1','Jul2','Aug1','Aug2','Sep1','Sep2','Oct1','Oct2','Nov1','Nov2','Dec1','Dec2','Ann1','Ann2']\n",
    "\n",
    "i=2\n",
    "for x in try1.columns:\n",
    "    globals()['try'+str(i)] = pd.DataFrame(try1[x].str.split('\\n').tolist()).stack()\n",
    "    i=i+1\n",
    "\n",
    "comb2 = pd.DataFrame()\n",
    "for i in range(2,15):\n",
    "    comb2 = pd.concat([comb2, globals()['try'+str(i)]], ignore_index=True, axis =1)\n",
    "    \n",
    "MDrain2012 = pd.concat([comb1,comb2], axis=1, ignore_index = True,join='inner')\n",
    "MDrain2012.columns = ['Station','JAN_Precip_12','JAN_Depart_12','FEB_Precip_12','FEB_Depart_12','MAR_Precip_12','MAR_Depart_12','APR_Precip_12','APR_Depart_12','MAY_Precip_12','MAY_Depart_12','JUN_Precip_12','JUN_Depart_12','Station1','JUL_Precip_12','JUL_Depart_12','AUG_Precip_12','AUG_Depart_12','SEP_Precip_12','SEP_Depart_12','OCT_Precip_12','OCT_Depart_12','NOV_Precip_12','NOV_Depart_12','DEC_Precip_12','DEC_Depart_12']\n",
    "\n",
    "MDrain2012 = MDrain2012.set_index('Station')\n",
    "MDrain2012 = MDrain2012.drop(columns=['Station1'])\n",
    "\n",
    "for x in MDrain2012.columns:  \n",
    "    MDrain2012[x] = MDrain2012[x].str.replace(r'[A-Z]','')\n",
    "    MDrain2012[x] = MDrain2012[x].str.replace('      ','0')\n",
    "    MDrain2012[x] = MDrain2012[x].str.replace(' ','')\n",
    "    MDrain2012[x] = MDrain2012[x].replace(r'', np.NaN)\n",
    "    MDrain2012[x] = MDrain2012[x].astype('float')\n",
    "MDrain2012 = MDrain2012.fillna(MDrain2012.mean())\n",
    "\n",
    "print(\"MD Rain Data for 2012 cleaned and dataframe created\")\n",
    "print(\"\")\n",
    "\n",
    "#MD2011\n",
    "file = path_a + 'MD2011.pdf'\n",
    "tables = camelot.read_pdf(file, pages = '2,3')\n",
    "tables\n",
    "\n",
    "try1 = tables[0].df\n",
    "try1 = pd.DataFrame(try1.iloc[2])\n",
    "try1 = try1.transpose()\n",
    "try1.columns = ['Station','Jan1','Jan2','Feb1','Feb2','Mar1','Mar2','Apr1','Apr2','May1','May2','Jun1','Jun2']\n",
    "\n",
    "i=2\n",
    "for x in try1.columns:\n",
    "    globals()['try'+str(i)] = pd.DataFrame(try1[x].str.split('\\n').tolist()).stack()\n",
    "    i=i+1\n",
    "\n",
    "comb1 = pd.DataFrame()\n",
    "for i in range(2,15):\n",
    "    comb1 = pd.concat([comb1, globals()['try'+str(i)]], ignore_index=True, axis =1)\n",
    "try1 = tables[1].df\n",
    "try1 = pd.DataFrame(try1.iloc[2])\n",
    "try1 = try1.transpose()\n",
    "try1.columns = ['Station','Jul1','Jul2','Aug1','Aug2','Sep1','Sep2','Oct1','Oct2','Nov1','Nov2','Dec1','Dec2','Ann1','Ann2']\n",
    "\n",
    "i=2\n",
    "for x in try1.columns:\n",
    "    globals()['try'+str(i)] = pd.DataFrame(try1[x].str.split('\\n').tolist()).stack()\n",
    "    i=i+1\n",
    "\n",
    "comb2 = pd.DataFrame()\n",
    "for i in range(2,15):\n",
    "    comb2 = pd.concat([comb2, globals()['try'+str(i)]], ignore_index=True, axis =1)\n",
    "    \n",
    "MDrain2011 = pd.concat([comb1,comb2], axis=1, ignore_index = True,join='inner')\n",
    "MDrain2011.columns = ['Station','JAN_Precip_11','JAN_Depart_11','FEB_Precip_11','FEB_Depart_11','MAR_Precip_11','MAR_Depart_11','APR_Precip_11','APR_Depart_11','MAY_Precip_11','MAY_Depart_11','JUN_Precip_11','JUN_Depart_11','Station1','JUL_Precip_11','JUL_Depart_11','AUG_Precip_11','AUG_Depart_11','SEP_Precip_11','SEP_Depart_11','OCT_Precip_11','OCT_Depart_11','NOV_Precip_11','NOV_Depart_11','DEC_Precip_11','DEC_Depart_11']\n",
    "\n",
    "MDrain2011 = MDrain2011.set_index('Station')\n",
    "MDrain2011 = MDrain2011.drop(columns=['Station1'])\n",
    "\n",
    "for x in MDrain2011.columns:  \n",
    "    MDrain2011[x] = MDrain2011[x].str.replace(r'[A-Z]','')\n",
    "    MDrain2011[x] = MDrain2011[x].str.replace('      ','0')\n",
    "    MDrain2011[x] = MDrain2011[x].str.replace(' ','')\n",
    "    MDrain2011[x] = MDrain2011[x].replace(r'', np.NaN)\n",
    "    MDrain2011[x] = MDrain2011[x].astype('float')\n",
    "MDrain2011 = MDrain2011.fillna(MDrain2011.mean())\n",
    "\n",
    "print(\"MD Rain Data for 2011 cleaned and dataframe created\")\n",
    "print(\"\")\n",
    "\n",
    "#MD2010\n",
    "file = path_a + 'MD2010.pdf'\n",
    "tables = camelot.read_pdf(file, pages = '2,3')\n",
    "tables\n",
    "\n",
    "try1 = tables[0].df\n",
    "try1 = pd.DataFrame(try1.iloc[2])\n",
    "try1 = try1.transpose()\n",
    "try1.columns = ['Station','Jan1','Jan2','Feb1','Feb2','Mar1','Mar2','Apr1','Apr2','May1','May2','Jun1','Jun2']\n",
    "\n",
    "i=2\n",
    "for x in try1.columns:\n",
    "    globals()['try'+str(i)] = pd.DataFrame(try1[x].str.split('\\n').tolist()).stack()\n",
    "    i=i+1\n",
    "\n",
    "comb1 = pd.DataFrame()\n",
    "for i in range(2,15):\n",
    "    comb1 = pd.concat([comb1, globals()['try'+str(i)]], ignore_index=True, axis =1)\n",
    "try1 = tables[1].df\n",
    "try1 = pd.DataFrame(try1.iloc[2])\n",
    "try1 = try1.transpose()\n",
    "try1.columns = ['Station','Jul1','Jul2','Aug1','Aug2','Sep1','Sep2','Oct1','Oct2','Nov1','Nov2','Dec1','Dec2','Ann1','Ann2']\n",
    "\n",
    "i=2\n",
    "for x in try1.columns:\n",
    "    globals()['try'+str(i)] = pd.DataFrame(try1[x].str.split('\\n').tolist()).stack()\n",
    "    i=i+1\n",
    "\n",
    "comb2 = pd.DataFrame()\n",
    "for i in range(2,15):\n",
    "    comb2 = pd.concat([comb2, globals()['try'+str(i)]], ignore_index=True, axis =1)\n",
    "    \n",
    "MDrain2010 = pd.concat([comb1,comb2], axis=1, ignore_index = True,join='inner')\n",
    "MDrain2010.columns = ['Station','JAN_Precip_10','JAN_Depart_10','FEB_Precip_10','FEB_Depart_10','MAR_Precip_10','MAR_Depart_10','APR_Precip_10','APR_Depart_10','MAY_Precip_10','MAY_Depart_10','JUN_Precip_10','JUN_Depart_10','Station1','JUL_Precip_10','JUL_Depart_10','AUG_Precip_10','AUG_Depart_10','SEP_Precip_10','SEP_Depart_10','OCT_Precip_10','OCT_Depart_10','NOV_Precip_10','NOV_Depart_10','DEC_Precip_10','DEC_Depart_10']\n",
    "\n",
    "MDrain2010 = MDrain2010.set_index('Station')\n",
    "MDrain2010 = MDrain2010.drop(columns=['Station1'])\n",
    "\n",
    "for x in MDrain2010.columns:  \n",
    "    MDrain2010[x] = MDrain2010[x].str.replace(r'[A-Z]','')\n",
    "    MDrain2010[x] = MDrain2010[x].str.replace('      ','0')\n",
    "    MDrain2010[x] = MDrain2010[x].str.replace(' ','')\n",
    "    MDrain2010[x] = MDrain2010[x].replace(r'', np.NaN)\n",
    "    MDrain2010[x] = MDrain2010[x].astype('float')\n",
    "MDrain2010 = MDrain2010.fillna(MDrain2010.mean())\n",
    "\n",
    "print(\"MD Rain Data for 2010 cleaned and dataframe created\")\n",
    "print(\"\")\n",
    "\n",
    "#MD2009\n",
    "file = path_a + 'MD2009.pdf'\n",
    "tables = camelot.read_pdf(file, pages = '2,3')\n",
    "tables\n",
    "\n",
    "try1 = tables[0].df\n",
    "try1 = pd.DataFrame(try1.iloc[2])\n",
    "try1 = try1.transpose()\n",
    "try1.columns = ['Station','Jan1','Jan2','Feb1','Feb2','Mar1','Mar2','Apr1','Apr2','May1','May2','Jun1','Jun2']\n",
    "\n",
    "i=2\n",
    "for x in try1.columns:\n",
    "    globals()['try'+str(i)] = pd.DataFrame(try1[x].str.split('\\n').tolist()).stack()\n",
    "    i=i+1\n",
    "\n",
    "comb1 = pd.DataFrame()\n",
    "for i in range(2,15):\n",
    "    comb1 = pd.concat([comb1, globals()['try'+str(i)]], ignore_index=True, axis =1)\n",
    "try1 = tables[1].df\n",
    "try1 = pd.DataFrame(try1.iloc[2])\n",
    "try1 = try1.transpose()\n",
    "try1.columns = ['Station','Jul1','Jul2','Aug1','Aug2','Sep1','Sep2','Oct1','Oct2','Nov1','Nov2','Dec1','Dec2','Ann1','Ann2']\n",
    "\n",
    "i=2\n",
    "for x in try1.columns:\n",
    "    globals()['try'+str(i)] = pd.DataFrame(try1[x].str.split('\\n').tolist()).stack()\n",
    "    i=i+1\n",
    "\n",
    "comb2 = pd.DataFrame()\n",
    "for i in range(2,15):\n",
    "    comb2 = pd.concat([comb2, globals()['try'+str(i)]], ignore_index=True, axis =1)\n",
    "    \n",
    "MDrain2009 = pd.concat([comb1,comb2], axis=1, ignore_index = True,join='inner')\n",
    "MDrain2009.columns = ['Station','JAN_Precip_09','JAN_Depart_09','FEB_Precip_09','FEB_Depart_09','MAR_Precip_09','MAR_Depart_09','APR_Precip_09','APR_Depart_09','MAY_Precip_09','MAY_Depart_09','JUN_Precip_09','JUN_Depart_09','Station1','JUL_Precip_09','JUL_Depart_09','AUG_Precip_09','AUG_Depart_09','SEP_Precip_09','SEP_Depart_09','OCT_Precip_09','OCT_Depart_09','NOV_Precip_09','NOV_Depart_09','DEC_Precip_09','DEC_Depart_09']\n",
    "\n",
    "MDrain2009 = MDrain2009.set_index('Station')\n",
    "MDrain2009 = MDrain2009.drop(columns=['Station1'])\n",
    "\n",
    "for x in MDrain2009.columns:  \n",
    "    MDrain2009[x] = MDrain2009[x].str.replace(r'[A-Z]','')\n",
    "    MDrain2009[x] = MDrain2009[x].str.replace('      ','0')\n",
    "    MDrain2009[x] = MDrain2009[x].str.replace(' ','')\n",
    "    MDrain2009[x] = MDrain2009[x].replace(r'', np.NaN)\n",
    "    MDrain2009[x] = MDrain2009[x].astype('float')\n",
    "MDrain2009 = MDrain2009.fillna(MDrain2009.mean())\n",
    "\n",
    "print(\"MD Rain Data for 2009 cleaned and dataframe created\")\n",
    "print(\"\")\n",
    "\n",
    "#MD2008\n",
    "file = path_a + 'MD2008.pdf'\n",
    "tables = camelot.read_pdf(file, pages = '2,3')\n",
    "tables\n",
    "try1 = tables[0].df\n",
    "try1 = pd.DataFrame(try1.iloc[2])\n",
    "try1 = try1.transpose()\n",
    "try1.columns = ['Station','Jan1','Jan2','Feb1','Feb2','Mar1','Mar2','Apr1','Apr2','May1','May2','Jun1','Jun2']\n",
    "\n",
    "i=2\n",
    "for x in try1.columns:\n",
    "    globals()['try'+str(i)] = pd.DataFrame(try1[x].str.split('\\n').tolist()).stack()\n",
    "    i=i+1\n",
    "\n",
    "comb1 = pd.DataFrame()\n",
    "for i in range(2,15):\n",
    "    comb1 = pd.concat([comb1, globals()['try'+str(i)]], ignore_index=True, axis =1)\n",
    "try1 = tables[1].df\n",
    "try1 = pd.DataFrame(try1.iloc[2])\n",
    "try1 = try1.transpose()\n",
    "try1.columns = ['Station','Jul1','Jul2','Aug1','Aug2','Sep1','Sep2','Oct1','Oct2','Nov1','Nov2','Dec1','Dec2','Ann1','Ann2']\n",
    "\n",
    "i=2\n",
    "for x in try1.columns:\n",
    "    globals()['try'+str(i)] = pd.DataFrame(try1[x].str.split('\\n').tolist()).stack()\n",
    "    i=i+1\n",
    "\n",
    "comb2 = pd.DataFrame()\n",
    "for i in range(2,15):\n",
    "    comb2 = pd.concat([comb2, globals()['try'+str(i)]], ignore_index=True, axis =1)\n",
    "    \n",
    "MDrain2008 = pd.concat([comb1,comb2], axis=1, ignore_index = True,join='inner')\n",
    "MDrain2008.columns = ['Station','JAN_Precip_08','JAN_Depart_08','FEB_Precip_08','FEB_Depart_08','MAR_Precip_08','MAR_Depart_08','APR_Precip_08','APR_Depart_08','MAY_Precip_08','MAY_Depart_08','JUN_Precip_08','JUN_Depart_08','Station1','JUL_Precip_08','JUL_Depart_08','AUG_Precip_08','AUG_Depart_08','SEP_Precip_08','SEP_Depart_08','OCT_Precip_08','OCT_Depart_08','NOV_Precip_08','NOV_Depart_08','DEC_Precip_08','DEC_Depart_08']\n",
    "\n",
    "MDrain2008 = MDrain2008.set_index('Station')\n",
    "MDrain2008 = MDrain2008.drop(columns=['Station1'])\n",
    "\n",
    "for x in MDrain2008.columns:  \n",
    "    MDrain2008[x] = MDrain2008[x].str.replace(r'[A-Z]','')\n",
    "    MDrain2008[x] = MDrain2008[x].str.replace('      ','0')\n",
    "    MDrain2008[x] = MDrain2008[x].str.replace(' ','')\n",
    "    MDrain2008[x] = MDrain2008[x].replace(r'', np.NaN)\n",
    "    MDrain2008[x] = MDrain2008[x].astype('float')\n",
    "MDrain2008 = MDrain2008.fillna(MDrain2008.mean())\n",
    "\n",
    "print(\"MD Rain Data for 2008 cleaned and dataframe created\")\n",
    "print(\"\")\n",
    "\n",
    "#MD2007\n",
    "file = path_a + 'MD2007.pdf'\n",
    "tables = camelot.read_pdf(file, pages = '2,3')\n",
    "tables\n",
    "\n",
    "try1 = tables[0].df\n",
    "try1 = pd.DataFrame(try1.iloc[2])\n",
    "try1 = try1.transpose()\n",
    "try1.columns = ['Station','Jan1','Jan2','Feb1','Feb2','Mar1','Mar2','Apr1','Apr2','May1','May2','Jun1','Jun2']\n",
    "\n",
    "i=2\n",
    "for x in try1.columns:\n",
    "    globals()['try'+str(i)] = pd.DataFrame(try1[x].str.split('\\n').tolist()).stack()\n",
    "    i=i+1\n",
    "\n",
    "comb1 = pd.DataFrame()\n",
    "for i in range(2,15):\n",
    "    comb1 = pd.concat([comb1, globals()['try'+str(i)]], ignore_index=True, axis =1)\n",
    "try1 = tables[1].df\n",
    "try1 = pd.DataFrame(try1.iloc[2])\n",
    "try1 = try1.transpose()\n",
    "try1.columns = ['Station','Jul1','Jul2','Aug1','Aug2','Sep1','Sep2','Oct1','Oct2','Nov1','Nov2','Dec1','Dec2','Ann1','Ann2']\n",
    "\n",
    "i=2\n",
    "for x in try1.columns:\n",
    "    globals()['try'+str(i)] = pd.DataFrame(try1[x].str.split('\\n').tolist()).stack()\n",
    "    i=i+1\n",
    "\n",
    "comb2 = pd.DataFrame()\n",
    "for i in range(2,15):\n",
    "    comb2 = pd.concat([comb2, globals()['try'+str(i)]], ignore_index=True, axis =1)\n",
    "    \n",
    "MDrain2007 = pd.concat([comb1,comb2], axis=1, ignore_index = True,join='inner')\n",
    "MDrain2007.columns = ['Station','JAN_Precip_07','JAN_Depart_07','FEB_Precip_07','FEB_Depart_07','MAR_Precip_07','MAR_Depart_07','APR_Precip_07','APR_Depart_07','MAY_Precip_07','MAY_Depart_07','JUN_Precip_07','JUN_Depart_07','Station1','JUL_Precip_07','JUL_Depart_07','AUG_Precip_07','AUG_Depart_07','SEP_Precip_07','SEP_Depart_07','OCT_Precip_07','OCT_Depart_07','NOV_Precip_07','NOV_Depart_07','DEC_Precip_07','DEC_Depart_07']\n",
    "\n",
    "MDrain2007 = MDrain2007.set_index('Station')\n",
    "MDrain2007 = MDrain2007.drop(columns=['Station1'])\n",
    "\n",
    "for x in MDrain2007.columns:  \n",
    "    MDrain2007[x] = MDrain2007[x].str.replace(r'[A-Z]','')\n",
    "    MDrain2007[x] = MDrain2007[x].str.replace('      ','0')\n",
    "    MDrain2007[x] = MDrain2007[x].str.replace(' ','')\n",
    "    MDrain2007[x] = MDrain2007[x].replace(r'', np.NaN)\n",
    "    MDrain2007[x] = MDrain2007[x].astype('float')\n",
    "MDrain2007 = MDrain2007.fillna(MDrain2007.mean())\n",
    "\n",
    "print(\"MD Rain Data for 2007 cleaned and dataframe created\")\n",
    "print(\"\")\n",
    "\n",
    "#MD2006\n",
    "file = path_a + 'MD2006.pdf'\n",
    "tables = camelot.read_pdf(file, pages = '2,3')\n",
    "tables\n",
    "\n",
    "try1 = tables[0].df\n",
    "try1 = pd.DataFrame(try1.iloc[2])\n",
    "try1 = try1.transpose()\n",
    "try1.columns = ['Station','Jan1','Jan2','Feb1','Feb2','Mar1','Mar2','Apr1','Apr2','May1','May2','Jun1','Jun2']\n",
    "\n",
    "i=2\n",
    "for x in try1.columns:\n",
    "    globals()['try'+str(i)] = pd.DataFrame(try1[x].str.split('\\n').tolist()).stack()\n",
    "    i=i+1\n",
    "\n",
    "comb1 = pd.DataFrame()\n",
    "for i in range(2,15):\n",
    "    comb1 = pd.concat([comb1, globals()['try'+str(i)]], ignore_index=True, axis =1)\n",
    "try1 = tables[1].df\n",
    "try1 = pd.DataFrame(try1.iloc[2])\n",
    "try1 = try1.transpose()\n",
    "try1.columns = ['Station','Jul1','Jul2','Aug1','Aug2','Sep1','Sep2','Oct1','Oct2','Nov1','Nov2','Dec1','Dec2','Ann1','Ann2']\n",
    "\n",
    "i=2\n",
    "for x in try1.columns:\n",
    "    globals()['try'+str(i)] = pd.DataFrame(try1[x].str.split('\\n').tolist()).stack()\n",
    "    i=i+1\n",
    "\n",
    "comb2 = pd.DataFrame()\n",
    "for i in range(2,15):\n",
    "    comb2 = pd.concat([comb2, globals()['try'+str(i)]], ignore_index=True, axis =1)\n",
    "    \n",
    "MDrain2006 = pd.concat([comb1,comb2], axis=1, ignore_index = True,join='inner')\n",
    "MDrain2006.columns = ['Station','JAN_Precip_06','JAN_Depart_06','FEB_Precip_06','FEB_Depart_06','MAR_Precip_06','MAR_Depart_06','APR_Precip_06','APR_Depart_06','MAY_Precip_06','MAY_Depart_06','JUN_Precip_06','JUN_Depart_06','Station1','JUL_Precip_06','JUL_Depart_06','AUG_Precip_06','AUG_Depart_06','SEP_Precip_06','SEP_Depart_06','OCT_Precip_06','OCT_Depart_06','NOV_Precip_06','NOV_Depart_06','DEC_Precip_06','DEC_Depart_06']\n",
    "\n",
    "MDrain2006 = MDrain2006.set_index('Station')\n",
    "MDrain2006 = MDrain2006.drop(columns=['Station1'])\n",
    "\n",
    "for x in MDrain2006.columns: \n",
    "    MDrain2006[x] = MDrain2006[x].str.replace(r'[A-Z]','')\n",
    "    MDrain2006[x] = MDrain2006[x].str.replace('    ','0')\n",
    "    MDrain2006[x] = MDrain2006[x].str.replace(' ','')\n",
    "    MDrain2006[x] = MDrain2006[x].replace(r'', np.NaN)\n",
    "    MDrain2006[x] = MDrain2006[x].astype('float')\n",
    "MDrain2006 = MDrain2006.fillna(MDrain2006.mean())\n",
    "\n",
    "print(\"MD Rain Data for 2006 cleaned and dataframe created\")\n",
    "print(\"\")\n",
    "\n",
    "#MD2005\n",
    "file = path_a + 'MD2005.pdf'\n",
    "tables = camelot.read_pdf(file, pages = '2,3')\n",
    "tables\n",
    "\n",
    "try1 = tables[0].df\n",
    "try1 = pd.DataFrame(try1.iloc[2])\n",
    "try1 = try1.transpose()\n",
    "try1.columns = ['Station','Jan1','Jan2','Feb1','Feb2','Mar1','Mar2','Apr1','Apr2','May1','May2','Jun1','Jun2']\n",
    "\n",
    "i=2\n",
    "for x in try1.columns:\n",
    "    globals()['try'+str(i)] = pd.DataFrame(try1[x].str.split('\\n').tolist()).stack()\n",
    "    i=i+1\n",
    "\n",
    "comb1 = pd.DataFrame()\n",
    "for i in range(2,15):\n",
    "    comb1 = pd.concat([comb1, globals()['try'+str(i)]], ignore_index=True, axis =1)\n",
    "try1 = tables[1].df\n",
    "try1 = pd.DataFrame(try1.iloc[2])\n",
    "try1 = try1.transpose()\n",
    "try1.columns = ['Station','Jul1','Jul2','Aug1','Aug2','Sep1','Sep2','Oct1','Oct2','Nov1','Nov2','Dec1','Dec2','Ann1','Ann2']\n",
    "\n",
    "i=2\n",
    "for x in try1.columns:\n",
    "    globals()['try'+str(i)] = pd.DataFrame(try1[x].str.split('\\n').tolist()).stack()\n",
    "    i=i+1\n",
    "\n",
    "comb2 = pd.DataFrame()\n",
    "for i in range(2,15):\n",
    "    comb2 = pd.concat([comb2, globals()['try'+str(i)]], ignore_index=True, axis =1)\n",
    "    \n",
    "MDrain2005 = pd.concat([comb1,comb2], axis=1, ignore_index = True,join='inner')\n",
    "MDrain2005.columns = ['Station','JAN_Precip_05','JAN_Depart_05','FEB_Precip_05','FEB_Depart_05','MAR_Precip_05','MAR_Depart_05','APR_Precip_05','APR_Depart_05','MAY_Precip_05','MAY_Depart_05','JUN_Precip_05','JUN_Depart_05','Station1','JUL_Precip_05','JUL_Depart_05','AUG_Precip_05','AUG_Depart_05','SEP_Precip_05','SEP_Depart_05','OCT_Precip_05','OCT_Depart_05','NOV_Precip_05','NOV_Depart_05','DEC_Precip_05','DEC_Depart_05']\n",
    "\n",
    "MDrain2005 = MDrain2005.set_index('Station')\n",
    "MDrain2005 = MDrain2005.drop(columns=['Station1'])\n",
    "\n",
    "for x in MDrain2005.columns:  \n",
    "    MDrain2005[x] = MDrain2005[x].str.replace(r'[A-Z]','')\n",
    "    MDrain2005[x] = MDrain2005[x].str.replace('      ','0')\n",
    "    MDrain2005[x] = MDrain2005[x].str.replace(' ','')\n",
    "    MDrain2005[x] = MDrain2005[x].astype('float')\n",
    "MDrain2005 = MDrain2005.fillna(MDrain2005.mean())\n",
    "\n",
    "print(\"MD Rain Data for 2005 cleaned and dataframe created\")\n",
    "print(\"\")"
   ]
  },
  {
   "cell_type": "markdown",
   "metadata": {},
   "source": [
    "#### Combining all dataframes from 2005 to 2018 into one"
   ]
  },
  {
   "cell_type": "code",
   "execution_count": 18,
   "metadata": {},
   "outputs": [
    {
     "name": "stdout",
     "output_type": "stream",
     "text": [
      "All dataframe combined and rain data for MD saved as .csv\n"
     ]
    }
   ],
   "source": [
    "Station = MDrain2005.index\n",
    "MDrain = pd.DataFrame()\n",
    "for i in range(2005,2019):\n",
    "    MDrain.reset_index(drop=True, inplace=True)\n",
    "    globals()['MDrain'+str(i)].reset_index(drop=True, inplace=True)\n",
    "    MDrain = pd.concat([MDrain, globals()['MDrain'+str(i)]], axis =1)\n",
    "    \n",
    "MDrain = MDrain.set_index(Station)\n",
    "MDrain = MDrain.transpose()\n",
    "MDrain.to_csv(path_a+'\\\\MDrain.csv')\n",
    "\n",
    "print(\"All dataframe combined and rain data for MD saved as .csv\")"
   ]
  },
  {
   "cell_type": "code",
   "execution_count": 19,
   "metadata": {},
   "outputs": [
    {
     "data": {
      "text/html": [
       "<div>\n",
       "<style scoped>\n",
       "    .dataframe tbody tr th:only-of-type {\n",
       "        vertical-align: middle;\n",
       "    }\n",
       "\n",
       "    .dataframe tbody tr th {\n",
       "        vertical-align: top;\n",
       "    }\n",
       "\n",
       "    .dataframe thead th {\n",
       "        text-align: right;\n",
       "    }\n",
       "</style>\n",
       "<table border=\"1\" class=\"dataframe\">\n",
       "  <thead>\n",
       "    <tr style=\"text-align: right;\">\n",
       "      <th>Station</th>\n",
       "      <th>SOUTHERN EASTERN</th>\n",
       "      <th>SHORE              01</th>\n",
       "      <th>ASSATEAGUE</th>\n",
       "      <th>PRINCESS ANNE</th>\n",
       "      <th>SALISBURY</th>\n",
       "      <th>SALISBURY POLICE BRKS</th>\n",
       "      <th>SALISBURY FAA AP</th>\n",
       "      <th>SNOW HILL 4 N</th>\n",
       "      <th>--DIVISIONAL DATA-------&gt;</th>\n",
       "      <th>CENTRAL EASTERN</th>\n",
       "      <th>...</th>\n",
       "      <th>ABERDEEN PHILLIPS FLD</th>\n",
       "      <th>CATOCTIN MOUNTAIN PARK</th>\n",
       "      <th>CONOWINGO DAM</th>\n",
       "      <th>CYLBURN</th>\n",
       "      <th>DAMASCUS 3 SSW</th>\n",
       "      <th>EMMITSBURG 2 SE</th>\n",
       "      <th>FREDERICK 2 NNE</th>\n",
       "      <th>MILLERS 4 NE</th>\n",
       "      <th>PORT DEPOSIT 2 NE</th>\n",
       "      <th>POTOMAC FILTER PLANT</th>\n",
       "    </tr>\n",
       "  </thead>\n",
       "  <tbody>\n",
       "    <tr>\n",
       "      <td>JAN_Precip_05</td>\n",
       "      <td>4.510000</td>\n",
       "      <td>3.430000</td>\n",
       "      <td>4.88</td>\n",
       "      <td>5.04</td>\n",
       "      <td>4.04</td>\n",
       "      <td>4.19</td>\n",
       "      <td>4.370000</td>\n",
       "      <td>4.12</td>\n",
       "      <td>2.180000</td>\n",
       "      <td>4.12</td>\n",
       "      <td>...</td>\n",
       "      <td>1.520000</td>\n",
       "      <td>3.590556</td>\n",
       "      <td>3.590556</td>\n",
       "      <td>3.590556</td>\n",
       "      <td>3.590556</td>\n",
       "      <td>3.590556</td>\n",
       "      <td>3.590556</td>\n",
       "      <td>3.590556</td>\n",
       "      <td>3.590556</td>\n",
       "      <td>3.590556</td>\n",
       "    </tr>\n",
       "    <tr>\n",
       "      <td>JAN_Depart_05</td>\n",
       "      <td>0.860000</td>\n",
       "      <td>0.000000</td>\n",
       "      <td>-0.05</td>\n",
       "      <td>0.17</td>\n",
       "      <td>0.37</td>\n",
       "      <td>0.01</td>\n",
       "      <td>0.000000</td>\n",
       "      <td>0.14</td>\n",
       "      <td>-0.550000</td>\n",
       "      <td>0.00</td>\n",
       "      <td>...</td>\n",
       "      <td>0.131250</td>\n",
       "      <td>0.131250</td>\n",
       "      <td>0.131250</td>\n",
       "      <td>0.131250</td>\n",
       "      <td>0.131250</td>\n",
       "      <td>0.131250</td>\n",
       "      <td>0.131250</td>\n",
       "      <td>0.131250</td>\n",
       "      <td>0.131250</td>\n",
       "      <td>0.131250</td>\n",
       "    </tr>\n",
       "    <tr>\n",
       "      <td>FEB_Precip_05</td>\n",
       "      <td>3.090000</td>\n",
       "      <td>2.940000</td>\n",
       "      <td>2.52</td>\n",
       "      <td>2.61</td>\n",
       "      <td>3.04</td>\n",
       "      <td>2.73</td>\n",
       "      <td>2.820000</td>\n",
       "      <td>2.25</td>\n",
       "      <td>2.100000</td>\n",
       "      <td>2.18</td>\n",
       "      <td>...</td>\n",
       "      <td>1.610000</td>\n",
       "      <td>1.953333</td>\n",
       "      <td>1.953333</td>\n",
       "      <td>1.953333</td>\n",
       "      <td>1.953333</td>\n",
       "      <td>1.953333</td>\n",
       "      <td>1.953333</td>\n",
       "      <td>1.953333</td>\n",
       "      <td>1.953333</td>\n",
       "      <td>1.953333</td>\n",
       "    </tr>\n",
       "    <tr>\n",
       "      <td>FEB_Depart_05</td>\n",
       "      <td>-0.500000</td>\n",
       "      <td>0.000000</td>\n",
       "      <td>-0.93</td>\n",
       "      <td>0.00</td>\n",
       "      <td>-0.52</td>\n",
       "      <td>-0.68</td>\n",
       "      <td>-0.600000</td>\n",
       "      <td>-1.10</td>\n",
       "      <td>-1.230000</td>\n",
       "      <td>-1.13</td>\n",
       "      <td>...</td>\n",
       "      <td>-0.970000</td>\n",
       "      <td>-0.639167</td>\n",
       "      <td>-0.639167</td>\n",
       "      <td>-0.639167</td>\n",
       "      <td>-0.639167</td>\n",
       "      <td>-0.639167</td>\n",
       "      <td>-0.639167</td>\n",
       "      <td>-0.639167</td>\n",
       "      <td>-0.639167</td>\n",
       "      <td>-0.639167</td>\n",
       "    </tr>\n",
       "    <tr>\n",
       "      <td>MAR_Precip_05</td>\n",
       "      <td>4.600000</td>\n",
       "      <td>3.910000</td>\n",
       "      <td>4.69</td>\n",
       "      <td>2.85</td>\n",
       "      <td>4.05</td>\n",
       "      <td>4.84</td>\n",
       "      <td>4.420000</td>\n",
       "      <td>4.43</td>\n",
       "      <td>4.440000</td>\n",
       "      <td>4.44</td>\n",
       "      <td>...</td>\n",
       "      <td>5.000000</td>\n",
       "      <td>4.570833</td>\n",
       "      <td>4.570833</td>\n",
       "      <td>4.570833</td>\n",
       "      <td>4.570833</td>\n",
       "      <td>4.570833</td>\n",
       "      <td>4.570833</td>\n",
       "      <td>4.570833</td>\n",
       "      <td>4.570833</td>\n",
       "      <td>4.570833</td>\n",
       "    </tr>\n",
       "    <tr>\n",
       "      <td>...</td>\n",
       "      <td>...</td>\n",
       "      <td>...</td>\n",
       "      <td>...</td>\n",
       "      <td>...</td>\n",
       "      <td>...</td>\n",
       "      <td>...</td>\n",
       "      <td>...</td>\n",
       "      <td>...</td>\n",
       "      <td>...</td>\n",
       "      <td>...</td>\n",
       "      <td>...</td>\n",
       "      <td>...</td>\n",
       "      <td>...</td>\n",
       "      <td>...</td>\n",
       "      <td>...</td>\n",
       "      <td>...</td>\n",
       "      <td>...</td>\n",
       "      <td>...</td>\n",
       "      <td>...</td>\n",
       "      <td>...</td>\n",
       "      <td>...</td>\n",
       "    </tr>\n",
       "    <tr>\n",
       "      <td>OCT_Depart_18</td>\n",
       "      <td>3.500000</td>\n",
       "      <td>0.635385</td>\n",
       "      <td>5.18</td>\n",
       "      <td>-2.04</td>\n",
       "      <td>4.61</td>\n",
       "      <td>2.19</td>\n",
       "      <td>2.670000</td>\n",
       "      <td>4.57</td>\n",
       "      <td>0.635385</td>\n",
       "      <td>4.79</td>\n",
       "      <td>...</td>\n",
       "      <td>0.635385</td>\n",
       "      <td>0.635385</td>\n",
       "      <td>0.635385</td>\n",
       "      <td>0.635385</td>\n",
       "      <td>0.635385</td>\n",
       "      <td>0.635385</td>\n",
       "      <td>0.635385</td>\n",
       "      <td>0.635385</td>\n",
       "      <td>NaN</td>\n",
       "      <td>NaN</td>\n",
       "    </tr>\n",
       "    <tr>\n",
       "      <td>NOV_Precip_18</td>\n",
       "      <td>5.860000</td>\n",
       "      <td>6.390000</td>\n",
       "      <td>4.50</td>\n",
       "      <td>4.50</td>\n",
       "      <td>5.13</td>\n",
       "      <td>7.82</td>\n",
       "      <td>7.203226</td>\n",
       "      <td>6.89</td>\n",
       "      <td>8.330000</td>\n",
       "      <td>7.61</td>\n",
       "      <td>...</td>\n",
       "      <td>7.203226</td>\n",
       "      <td>7.203226</td>\n",
       "      <td>7.203226</td>\n",
       "      <td>7.203226</td>\n",
       "      <td>7.203226</td>\n",
       "      <td>7.203226</td>\n",
       "      <td>7.203226</td>\n",
       "      <td>7.203226</td>\n",
       "      <td>NaN</td>\n",
       "      <td>NaN</td>\n",
       "    </tr>\n",
       "    <tr>\n",
       "      <td>NOV_Depart_18</td>\n",
       "      <td>2.470000</td>\n",
       "      <td>3.734000</td>\n",
       "      <td>1.07</td>\n",
       "      <td>0.98</td>\n",
       "      <td>1.95</td>\n",
       "      <td>4.17</td>\n",
       "      <td>3.734000</td>\n",
       "      <td>3.30</td>\n",
       "      <td>3.734000</td>\n",
       "      <td>4.34</td>\n",
       "      <td>...</td>\n",
       "      <td>3.734000</td>\n",
       "      <td>3.734000</td>\n",
       "      <td>3.734000</td>\n",
       "      <td>3.734000</td>\n",
       "      <td>3.734000</td>\n",
       "      <td>3.734000</td>\n",
       "      <td>3.734000</td>\n",
       "      <td>3.734000</td>\n",
       "      <td>NaN</td>\n",
       "      <td>NaN</td>\n",
       "    </tr>\n",
       "    <tr>\n",
       "      <td>DEC_Precip_18</td>\n",
       "      <td>5.330345</td>\n",
       "      <td>4.670000</td>\n",
       "      <td>3.53</td>\n",
       "      <td>3.29</td>\n",
       "      <td>3.83</td>\n",
       "      <td>4.61</td>\n",
       "      <td>4.610000</td>\n",
       "      <td>4.92</td>\n",
       "      <td>5.330345</td>\n",
       "      <td>4.92</td>\n",
       "      <td>...</td>\n",
       "      <td>5.330345</td>\n",
       "      <td>5.330345</td>\n",
       "      <td>5.330345</td>\n",
       "      <td>5.330345</td>\n",
       "      <td>5.330345</td>\n",
       "      <td>5.330345</td>\n",
       "      <td>5.330345</td>\n",
       "      <td>5.330345</td>\n",
       "      <td>NaN</td>\n",
       "      <td>NaN</td>\n",
       "    </tr>\n",
       "    <tr>\n",
       "      <td>DEC_Depart_18</td>\n",
       "      <td>-0.180000</td>\n",
       "      <td>-0.380000</td>\n",
       "      <td>0.43</td>\n",
       "      <td>0.87</td>\n",
       "      <td>1.12</td>\n",
       "      <td>1.22</td>\n",
       "      <td>1.812400</td>\n",
       "      <td>1.61</td>\n",
       "      <td>1.812400</td>\n",
       "      <td>3.17</td>\n",
       "      <td>...</td>\n",
       "      <td>1.812400</td>\n",
       "      <td>1.812400</td>\n",
       "      <td>1.812400</td>\n",
       "      <td>1.812400</td>\n",
       "      <td>1.812400</td>\n",
       "      <td>1.812400</td>\n",
       "      <td>1.812400</td>\n",
       "      <td>1.812400</td>\n",
       "      <td>NaN</td>\n",
       "      <td>NaN</td>\n",
       "    </tr>\n",
       "  </tbody>\n",
       "</table>\n",
       "<p>336 rows × 45 columns</p>\n",
       "</div>"
      ],
      "text/plain": [
       "Station        SOUTHERN EASTERN  SHORE              01  \\\n",
       "JAN_Precip_05          4.510000               3.430000   \n",
       "JAN_Depart_05          0.860000               0.000000   \n",
       "FEB_Precip_05          3.090000               2.940000   \n",
       "FEB_Depart_05         -0.500000               0.000000   \n",
       "MAR_Precip_05          4.600000               3.910000   \n",
       "...                         ...                    ...   \n",
       "OCT_Depart_18          3.500000               0.635385   \n",
       "NOV_Precip_18          5.860000               6.390000   \n",
       "NOV_Depart_18          2.470000               3.734000   \n",
       "DEC_Precip_18          5.330345               4.670000   \n",
       "DEC_Depart_18         -0.180000              -0.380000   \n",
       "\n",
       "Station        ASSATEAGUE                 PRINCESS ANNE              \\\n",
       "JAN_Precip_05                       4.88                       5.04   \n",
       "JAN_Depart_05                      -0.05                       0.17   \n",
       "FEB_Precip_05                       2.52                       2.61   \n",
       "FEB_Depart_05                      -0.93                       0.00   \n",
       "MAR_Precip_05                       4.69                       2.85   \n",
       "...                                  ...                        ...   \n",
       "OCT_Depart_18                       5.18                      -2.04   \n",
       "NOV_Precip_18                       4.50                       4.50   \n",
       "NOV_Depart_18                       1.07                       0.98   \n",
       "DEC_Precip_18                       3.53                       3.29   \n",
       "DEC_Depart_18                       0.43                       0.87   \n",
       "\n",
       "Station        SALISBURY                  SALISBURY POLICE BRKS      \\\n",
       "JAN_Precip_05                       4.04                       4.19   \n",
       "JAN_Depart_05                       0.37                       0.01   \n",
       "FEB_Precip_05                       3.04                       2.73   \n",
       "FEB_Depart_05                      -0.52                      -0.68   \n",
       "MAR_Precip_05                       4.05                       4.84   \n",
       "...                                  ...                        ...   \n",
       "OCT_Depart_18                       4.61                       2.19   \n",
       "NOV_Precip_18                       5.13                       7.82   \n",
       "NOV_Depart_18                       1.95                       4.17   \n",
       "DEC_Precip_18                       3.83                       4.61   \n",
       "DEC_Depart_18                       1.12                       1.22   \n",
       "\n",
       "Station        SALISBURY FAA AP           SNOW HILL 4 N              \\\n",
       "JAN_Precip_05                   4.370000                       4.12   \n",
       "JAN_Depart_05                   0.000000                       0.14   \n",
       "FEB_Precip_05                   2.820000                       2.25   \n",
       "FEB_Depart_05                  -0.600000                      -1.10   \n",
       "MAR_Precip_05                   4.420000                       4.43   \n",
       "...                                  ...                        ...   \n",
       "OCT_Depart_18                   2.670000                       4.57   \n",
       "NOV_Precip_18                   7.203226                       6.89   \n",
       "NOV_Depart_18                   3.734000                       3.30   \n",
       "DEC_Precip_18                   4.610000                       4.92   \n",
       "DEC_Depart_18                   1.812400                       1.61   \n",
       "\n",
       "Station        --DIVISIONAL DATA------->  CENTRAL EASTERN  ...  \\\n",
       "JAN_Precip_05                   2.180000             4.12  ...   \n",
       "JAN_Depart_05                  -0.550000             0.00  ...   \n",
       "FEB_Precip_05                   2.100000             2.18  ...   \n",
       "FEB_Depart_05                  -1.230000            -1.13  ...   \n",
       "MAR_Precip_05                   4.440000             4.44  ...   \n",
       "...                                  ...              ...  ...   \n",
       "OCT_Depart_18                   0.635385             4.79  ...   \n",
       "NOV_Precip_18                   8.330000             7.61  ...   \n",
       "NOV_Depart_18                   3.734000             4.34  ...   \n",
       "DEC_Precip_18                   5.330345             4.92  ...   \n",
       "DEC_Depart_18                   1.812400             3.17  ...   \n",
       "\n",
       "Station        ABERDEEN PHILLIPS FLD      CATOCTIN MOUNTAIN PARK     \\\n",
       "JAN_Precip_05                   1.520000                   3.590556   \n",
       "JAN_Depart_05                   0.131250                   0.131250   \n",
       "FEB_Precip_05                   1.610000                   1.953333   \n",
       "FEB_Depart_05                  -0.970000                  -0.639167   \n",
       "MAR_Precip_05                   5.000000                   4.570833   \n",
       "...                                  ...                        ...   \n",
       "OCT_Depart_18                   0.635385                   0.635385   \n",
       "NOV_Precip_18                   7.203226                   7.203226   \n",
       "NOV_Depart_18                   3.734000                   3.734000   \n",
       "DEC_Precip_18                   5.330345                   5.330345   \n",
       "DEC_Depart_18                   1.812400                   1.812400   \n",
       "\n",
       "Station        CONOWINGO DAM              CYLBURN                    \\\n",
       "JAN_Precip_05                   3.590556                   3.590556   \n",
       "JAN_Depart_05                   0.131250                   0.131250   \n",
       "FEB_Precip_05                   1.953333                   1.953333   \n",
       "FEB_Depart_05                  -0.639167                  -0.639167   \n",
       "MAR_Precip_05                   4.570833                   4.570833   \n",
       "...                                  ...                        ...   \n",
       "OCT_Depart_18                   0.635385                   0.635385   \n",
       "NOV_Precip_18                   7.203226                   7.203226   \n",
       "NOV_Depart_18                   3.734000                   3.734000   \n",
       "DEC_Precip_18                   5.330345                   5.330345   \n",
       "DEC_Depart_18                   1.812400                   1.812400   \n",
       "\n",
       "Station        DAMASCUS 3 SSW             EMMITSBURG 2 SE            \\\n",
       "JAN_Precip_05                   3.590556                   3.590556   \n",
       "JAN_Depart_05                   0.131250                   0.131250   \n",
       "FEB_Precip_05                   1.953333                   1.953333   \n",
       "FEB_Depart_05                  -0.639167                  -0.639167   \n",
       "MAR_Precip_05                   4.570833                   4.570833   \n",
       "...                                  ...                        ...   \n",
       "OCT_Depart_18                   0.635385                   0.635385   \n",
       "NOV_Precip_18                   7.203226                   7.203226   \n",
       "NOV_Depart_18                   3.734000                   3.734000   \n",
       "DEC_Precip_18                   5.330345                   5.330345   \n",
       "DEC_Depart_18                   1.812400                   1.812400   \n",
       "\n",
       "Station        FREDERICK 2 NNE            MILLERS 4 NE               \\\n",
       "JAN_Precip_05                   3.590556                   3.590556   \n",
       "JAN_Depart_05                   0.131250                   0.131250   \n",
       "FEB_Precip_05                   1.953333                   1.953333   \n",
       "FEB_Depart_05                  -0.639167                  -0.639167   \n",
       "MAR_Precip_05                   4.570833                   4.570833   \n",
       "...                                  ...                        ...   \n",
       "OCT_Depart_18                   0.635385                   0.635385   \n",
       "NOV_Precip_18                   7.203226                   7.203226   \n",
       "NOV_Depart_18                   3.734000                   3.734000   \n",
       "DEC_Precip_18                   5.330345                   5.330345   \n",
       "DEC_Depart_18                   1.812400                   1.812400   \n",
       "\n",
       "Station        PORT DEPOSIT 2 NE          POTOMAC FILTER PLANT  \n",
       "JAN_Precip_05                   3.590556              3.590556  \n",
       "JAN_Depart_05                   0.131250              0.131250  \n",
       "FEB_Precip_05                   1.953333              1.953333  \n",
       "FEB_Depart_05                  -0.639167             -0.639167  \n",
       "MAR_Precip_05                   4.570833              4.570833  \n",
       "...                                  ...                   ...  \n",
       "OCT_Depart_18                        NaN                   NaN  \n",
       "NOV_Precip_18                        NaN                   NaN  \n",
       "NOV_Depart_18                        NaN                   NaN  \n",
       "DEC_Precip_18                        NaN                   NaN  \n",
       "DEC_Depart_18                        NaN                   NaN  \n",
       "\n",
       "[336 rows x 45 columns]"
      ]
     },
     "execution_count": 19,
     "metadata": {},
     "output_type": "execute_result"
    }
   ],
   "source": [
    "MDrain"
   ]
  },
  {
   "cell_type": "markdown",
   "metadata": {},
   "source": [
    "### Maryland Temperature Data"
   ]
  },
  {
   "cell_type": "markdown",
   "metadata": {},
   "source": [
    "#### Essentially, we used the same technique for scraping and cleaning the temperature data as we did for precipitation data with some changes in cleaning techniques."
   ]
  },
  {
   "cell_type": "markdown",
   "metadata": {},
   "source": [
    "#### Maryland 2018"
   ]
  },
  {
   "cell_type": "code",
   "execution_count": 20,
   "metadata": {},
   "outputs": [
    {
     "data": {
      "text/plain": [
       "<TableList n=2>"
      ]
     },
     "execution_count": 20,
     "metadata": {},
     "output_type": "execute_result"
    }
   ],
   "source": [
    "file = path_a + 'MD2018.pdf'\n",
    "tables = camelot.read_pdf(file, pages = '6,7')\n",
    "tables"
   ]
  },
  {
   "cell_type": "code",
   "execution_count": 21,
   "metadata": {},
   "outputs": [
    {
     "data": {
      "text/html": [
       "<div>\n",
       "<style scoped>\n",
       "    .dataframe tbody tr th:only-of-type {\n",
       "        vertical-align: middle;\n",
       "    }\n",
       "\n",
       "    .dataframe tbody tr th {\n",
       "        vertical-align: top;\n",
       "    }\n",
       "\n",
       "    .dataframe thead th {\n",
       "        text-align: right;\n",
       "    }\n",
       "</style>\n",
       "<table border=\"1\" class=\"dataframe\">\n",
       "  <thead>\n",
       "    <tr style=\"text-align: right;\">\n",
       "      <th></th>\n",
       "      <th>0</th>\n",
       "      <th>1</th>\n",
       "      <th>2</th>\n",
       "      <th>3</th>\n",
       "      <th>4</th>\n",
       "      <th>5</th>\n",
       "      <th>6</th>\n",
       "      <th>7</th>\n",
       "      <th>8</th>\n",
       "      <th>9</th>\n",
       "      <th>...</th>\n",
       "      <th>17</th>\n",
       "      <th>18</th>\n",
       "      <th>19</th>\n",
       "      <th>20</th>\n",
       "      <th>21</th>\n",
       "      <th>22</th>\n",
       "      <th>23</th>\n",
       "      <th>24</th>\n",
       "      <th>25</th>\n",
       "      <th>26</th>\n",
       "    </tr>\n",
       "  </thead>\n",
       "  <tbody>\n",
       "    <tr>\n",
       "      <td>0</td>\n",
       "      <td>STATION</td>\n",
       "      <td>JAN</td>\n",
       "      <td></td>\n",
       "      <td>FEB</td>\n",
       "      <td></td>\n",
       "      <td>MAR</td>\n",
       "      <td></td>\n",
       "      <td>APR</td>\n",
       "      <td></td>\n",
       "      <td>MAY</td>\n",
       "      <td>...</td>\n",
       "      <td>SEP</td>\n",
       "      <td></td>\n",
       "      <td>OCT</td>\n",
       "      <td></td>\n",
       "      <td>NOV</td>\n",
       "      <td></td>\n",
       "      <td>DEC</td>\n",
       "      <td></td>\n",
       "      <td>ANNUAL</td>\n",
       "      <td></td>\n",
       "    </tr>\n",
       "    <tr>\n",
       "      <td>1</td>\n",
       "      <td></td>\n",
       "      <td>TEMPERATURE</td>\n",
       "      <td>DEPARTURE.</td>\n",
       "      <td>TEMPERATURE</td>\n",
       "      <td>DEPARTURE.</td>\n",
       "      <td>TEMPERATURE</td>\n",
       "      <td>DEPARTURE.</td>\n",
       "      <td>TEMPERATURE</td>\n",
       "      <td>DEPARTURE.</td>\n",
       "      <td>TEMPERATURE</td>\n",
       "      <td>...</td>\n",
       "      <td>TEMPERATURE</td>\n",
       "      <td>DEPARTURE.</td>\n",
       "      <td>TEMPERATURE</td>\n",
       "      <td>DEPARTURE.</td>\n",
       "      <td>TEMPERATURE</td>\n",
       "      <td>DEPARTURE.</td>\n",
       "      <td>TEMPERATURE</td>\n",
       "      <td>DEPARTURE.</td>\n",
       "      <td>TEMPERATURE</td>\n",
       "      <td>DEPARTURE.</td>\n",
       "    </tr>\n",
       "    <tr>\n",
       "      <td>2</td>\n",
       "      <td>MARYLAND\\nSOUTHERN EASTERN SHORE  01\\nPRINCESS...</td>\n",
       "      <td>M\\n36.0\\n33.8\\n34.0\\n34.6\\n34.2\\n34.2\\n30.9M\\n...</td>\n",
       "      <td>-1.6\\n-3.3\\n-1.4\\n-2.1\\n-0.6\\n-3.1\\n \\n-3.1\\n-...</td>\n",
       "      <td>M\\n47.5\\n45.6\\n44.1M\\n45.7\\n43.9\\n43.9\\n42.2\\n...</td>\n",
       "      <td>7.9\\n4.6\\n7.9\\n5.0\\n7.0\\n5.3\\n \\n5.3\\n6.4\\n6.0...</td>\n",
       "      <td>M\\nM\\n41.1\\n39.8\\n40.5\\n41.8\\n41.8\\n40.0\\nMM\\n...</td>\n",
       "      <td>-3.6\\n-6.6\\n-4.8\\n-4.7\\n-3.5\\n-4.6\\n \\n-5.2\\n-...</td>\n",
       "      <td>M\\n54.1\\n52.1\\n51.5\\n52.6\\n53.3\\n53.3\\n51.5\\nM...</td>\n",
       "      <td>-1.9\\n-4.3\\n-1.5\\n-3.0\\n-1.2\\n-3.1\\n \\n-2.7\\n-...</td>\n",
       "      <td>M\\n71.4\\n69.0\\nM\\n70.2\\n70.9\\n70.9\\n68.6M\\nMM\\...</td>\n",
       "      <td>...</td>\n",
       "      <td>M\\n76.5\\n75.4\\n78.3\\n76.7\\n75.3\\n75.3\\n72.9M\\n...</td>\n",
       "      <td>7.2\\n8.5\\n7.4\\n5.1\\n6.1\\n6.4\\n \\n4.8\\n8.7\\n5.2...</td>\n",
       "      <td>M\\n62.2\\n60.4\\n63.8\\n62.1\\n62.3\\n62.3\\n57.8\\nM...</td>\n",
       "      <td>3.2\\n4.7\\n3.8\\n2.7\\n4.1\\n2.2\\n \\n0.9\\n5.6\\n3.2...</td>\n",
       "      <td>M\\n47.5\\n46.8\\n50.9\\n48.4\\n46.6\\n46.6\\n44.2\\nM...</td>\n",
       "      <td>-1.4\\n0.9\\n-0.4\\n-3.4\\n-1.5\\n-2.9\\n \\n-3.1\\n-1...</td>\n",
       "      <td>M\\n43.1\\n42.0\\n45.5\\n43.5\\n41.9\\n41.9\\n39.8\\nM...</td>\n",
       "      <td>3.0\\n3.2\\n1.8\\n2.6\\n \\n1.0\\n3.0\\n2.3\\n2.4\\n3.6...</td>\n",
       "      <td>M \\n61.0\\n58.0\\n4.8 M 58.5\\n58.9\\n58.6\\n58.6\\n...</td>\n",
       "      <td>2.0\\n0.9\\n2.5\\n0.7\\n2.2\\n0.9\\n0.3\\n4.2\\n1.6\\n0...</td>\n",
       "    </tr>\n",
       "  </tbody>\n",
       "</table>\n",
       "<p>3 rows × 27 columns</p>\n",
       "</div>"
      ],
      "text/plain": [
       "                                                  0   \\\n",
       "0                                            STATION   \n",
       "1                                                      \n",
       "2  MARYLAND\\nSOUTHERN EASTERN SHORE  01\\nPRINCESS...   \n",
       "\n",
       "                                                  1   \\\n",
       "0                                                JAN   \n",
       "1                                        TEMPERATURE   \n",
       "2  M\\n36.0\\n33.8\\n34.0\\n34.6\\n34.2\\n34.2\\n30.9M\\n...   \n",
       "\n",
       "                                                  2   \\\n",
       "0                                                      \n",
       "1                                         DEPARTURE.   \n",
       "2  -1.6\\n-3.3\\n-1.4\\n-2.1\\n-0.6\\n-3.1\\n \\n-3.1\\n-...   \n",
       "\n",
       "                                                  3   \\\n",
       "0                                                FEB   \n",
       "1                                        TEMPERATURE   \n",
       "2  M\\n47.5\\n45.6\\n44.1M\\n45.7\\n43.9\\n43.9\\n42.2\\n...   \n",
       "\n",
       "                                                  4   \\\n",
       "0                                                      \n",
       "1                                         DEPARTURE.   \n",
       "2  7.9\\n4.6\\n7.9\\n5.0\\n7.0\\n5.3\\n \\n5.3\\n6.4\\n6.0...   \n",
       "\n",
       "                                                  5   \\\n",
       "0                                                MAR   \n",
       "1                                        TEMPERATURE   \n",
       "2  M\\nM\\n41.1\\n39.8\\n40.5\\n41.8\\n41.8\\n40.0\\nMM\\n...   \n",
       "\n",
       "                                                  6   \\\n",
       "0                                                      \n",
       "1                                         DEPARTURE.   \n",
       "2  -3.6\\n-6.6\\n-4.8\\n-4.7\\n-3.5\\n-4.6\\n \\n-5.2\\n-...   \n",
       "\n",
       "                                                  7   \\\n",
       "0                                                APR   \n",
       "1                                        TEMPERATURE   \n",
       "2  M\\n54.1\\n52.1\\n51.5\\n52.6\\n53.3\\n53.3\\n51.5\\nM...   \n",
       "\n",
       "                                                  8   \\\n",
       "0                                                      \n",
       "1                                         DEPARTURE.   \n",
       "2  -1.9\\n-4.3\\n-1.5\\n-3.0\\n-1.2\\n-3.1\\n \\n-2.7\\n-...   \n",
       "\n",
       "                                                  9   ...  \\\n",
       "0                                                MAY  ...   \n",
       "1                                        TEMPERATURE  ...   \n",
       "2  M\\n71.4\\n69.0\\nM\\n70.2\\n70.9\\n70.9\\n68.6M\\nMM\\...  ...   \n",
       "\n",
       "                                                  17  \\\n",
       "0                                                SEP   \n",
       "1                                        TEMPERATURE   \n",
       "2  M\\n76.5\\n75.4\\n78.3\\n76.7\\n75.3\\n75.3\\n72.9M\\n...   \n",
       "\n",
       "                                                  18  \\\n",
       "0                                                      \n",
       "1                                         DEPARTURE.   \n",
       "2  7.2\\n8.5\\n7.4\\n5.1\\n6.1\\n6.4\\n \\n4.8\\n8.7\\n5.2...   \n",
       "\n",
       "                                                  19  \\\n",
       "0                                                OCT   \n",
       "1                                        TEMPERATURE   \n",
       "2  M\\n62.2\\n60.4\\n63.8\\n62.1\\n62.3\\n62.3\\n57.8\\nM...   \n",
       "\n",
       "                                                  20  \\\n",
       "0                                                      \n",
       "1                                         DEPARTURE.   \n",
       "2  3.2\\n4.7\\n3.8\\n2.7\\n4.1\\n2.2\\n \\n0.9\\n5.6\\n3.2...   \n",
       "\n",
       "                                                  21  \\\n",
       "0                                                NOV   \n",
       "1                                        TEMPERATURE   \n",
       "2  M\\n47.5\\n46.8\\n50.9\\n48.4\\n46.6\\n46.6\\n44.2\\nM...   \n",
       "\n",
       "                                                  22  \\\n",
       "0                                                      \n",
       "1                                         DEPARTURE.   \n",
       "2  -1.4\\n0.9\\n-0.4\\n-3.4\\n-1.5\\n-2.9\\n \\n-3.1\\n-1...   \n",
       "\n",
       "                                                  23  \\\n",
       "0                                                DEC   \n",
       "1                                        TEMPERATURE   \n",
       "2  M\\n43.1\\n42.0\\n45.5\\n43.5\\n41.9\\n41.9\\n39.8\\nM...   \n",
       "\n",
       "                                                  24  \\\n",
       "0                                                      \n",
       "1                                         DEPARTURE.   \n",
       "2  3.0\\n3.2\\n1.8\\n2.6\\n \\n1.0\\n3.0\\n2.3\\n2.4\\n3.6...   \n",
       "\n",
       "                                                  25  \\\n",
       "0                                             ANNUAL   \n",
       "1                                        TEMPERATURE   \n",
       "2  M \\n61.0\\n58.0\\n4.8 M 58.5\\n58.9\\n58.6\\n58.6\\n...   \n",
       "\n",
       "                                                  26  \n",
       "0                                                     \n",
       "1                                         DEPARTURE.  \n",
       "2  2.0\\n0.9\\n2.5\\n0.7\\n2.2\\n0.9\\n0.3\\n4.2\\n1.6\\n0...  \n",
       "\n",
       "[3 rows x 27 columns]"
      ]
     },
     "execution_count": 21,
     "metadata": {},
     "output_type": "execute_result"
    }
   ],
   "source": [
    "try1 = tables[0].df\n",
    "try1"
   ]
  },
  {
   "cell_type": "code",
   "execution_count": 22,
   "metadata": {},
   "outputs": [],
   "source": [
    "#Cleaning the first table on sixth page\n",
    "try1 = tables[0].df\n",
    "try1 = pd.DataFrame(try1.iloc[2])\n",
    "try1 = try1.transpose()\n",
    "\n",
    "i=2\n",
    "for x in try1.columns:\n",
    "    globals()['try'+str(i)] = pd.DataFrame(try1[x].str.split('\\n').tolist()).stack()\n",
    "    i=i+1\n",
    "    \n",
    "comb1 = pd.DataFrame()\n",
    "for i in range(2,29):\n",
    "    comb1 = pd.concat([comb1, globals()['try'+str(i)]], ignore_index=True, axis =1)\n",
    "    \n",
    "comb1.columns = ['Station','Jan_Temp_18','Jan_Depart_18','Feb_Temp_18','Feb_Depart_18','Mar_Temp_18','Mar_Depart_18','Apr_Temp_18','Apr_Depart_18','May_Temp_18','May_Depart_18','Jun_Temp_18','Jun_Depart_18','Jul_Temp_18','Jul_Depart_18','Aug_Temp_18','Aug_Depart_18','Sep_Temp_18','Sep_Depart_18','Oct_Temp_18','Oct_Depart_18','Nov_Temp_18','Nov_Depart_18','Dec_Temp_18','Dec_Depart_18','Ann_Temp_18','Ann_Depart_18']"
   ]
  },
  {
   "cell_type": "code",
   "execution_count": 23,
   "metadata": {},
   "outputs": [],
   "source": [
    "#Cleaning the second table on seventh page\n",
    "try1 = tables[1].df\n",
    "try1 = pd.DataFrame(try1.iloc[2])\n",
    "try1 = try1.transpose()\n",
    "\n",
    "i=2\n",
    "for x in try1.columns:\n",
    "    globals()['try'+str(i)] = pd.DataFrame(try1[x].str.split('\\n').tolist()).stack()\n",
    "    i=i+1\n",
    "    \n",
    "comb2 = pd.DataFrame()\n",
    "for i in range(2,29):\n",
    "    comb2 = pd.concat([comb2, globals()['try'+str(i)]], ignore_index=True, axis =1)\n",
    "    \n",
    "comb2.columns = ['Station','Jan_Temp_18','Jan_Depart_18','Feb_Temp_18','Feb_Depart_18','Mar_Temp_18','Mar_Depart_18','Apr_Temp_18','Apr_Depart_18','May_Temp_18','May_Depart_18','Jun_Temp_18','Jun_Depart_18','Jul_Temp_18','Jul_Depart_18','Aug_Temp_18','Aug_Depart_18','Sep_Temp_18','Sep_Depart_18','Oct_Temp_18','Oct_Depart_18','Nov_Temp_18','Nov_Depart_18','Dec_Temp_18','Dec_Depart_18','Ann_Temp_18','Ann_Depart_18']"
   ]
  },
  {
   "cell_type": "code",
   "execution_count": 24,
   "metadata": {
    "scrolled": true
   },
   "outputs": [
    {
     "name": "stdout",
     "output_type": "stream",
     "text": [
      "MD Temperature Data for 2018 cleaned and dataframe created\n",
      "\n"
     ]
    }
   ],
   "source": [
    "MDtemp2018 = pd.concat([comb1,comb2])\n",
    "MDtemp2018 = MDtemp2018.set_index('Station')\n",
    "\n",
    "for x in MDtemp2018.columns: \n",
    "    MDtemp2018[x] = MDtemp2018[x].str.split(\".\", n = 1, expand = True) \n",
    "    \n",
    "for x in MDtemp2018.columns:  \n",
    "    MDtemp2018[x] = MDtemp2018[x].str.replace(r'[A-Z]','')\n",
    "    MDtemp2018[x] = MDtemp2018[x].str.replace('      ','0')\n",
    "    MDtemp2018[x] = MDtemp2018[x].str.replace(' ','')\n",
    "    MDtemp2018[x] = MDtemp2018[x].replace(r'', np.NaN)\n",
    "    MDtemp2018[x] = MDtemp2018[x].astype('float')\n",
    "MDtemp2018 = MDtemp2018.fillna(MDtemp2018.mean())\n",
    "\n",
    "print(\"MD Temperature Data for 2018 cleaned and dataframe created\")\n",
    "print(\"\")"
   ]
  },
  {
   "cell_type": "code",
   "execution_count": 25,
   "metadata": {},
   "outputs": [
    {
     "data": {
      "text/html": [
       "<div>\n",
       "<style scoped>\n",
       "    .dataframe tbody tr th:only-of-type {\n",
       "        vertical-align: middle;\n",
       "    }\n",
       "\n",
       "    .dataframe tbody tr th {\n",
       "        vertical-align: top;\n",
       "    }\n",
       "\n",
       "    .dataframe thead th {\n",
       "        text-align: right;\n",
       "    }\n",
       "</style>\n",
       "<table border=\"1\" class=\"dataframe\">\n",
       "  <thead>\n",
       "    <tr style=\"text-align: right;\">\n",
       "      <th></th>\n",
       "      <th>Jan_Temp_18</th>\n",
       "      <th>Jan_Depart_18</th>\n",
       "      <th>Feb_Temp_18</th>\n",
       "      <th>Feb_Depart_18</th>\n",
       "      <th>Mar_Temp_18</th>\n",
       "      <th>Mar_Depart_18</th>\n",
       "      <th>Apr_Temp_18</th>\n",
       "      <th>Apr_Depart_18</th>\n",
       "      <th>May_Temp_18</th>\n",
       "      <th>May_Depart_18</th>\n",
       "      <th>...</th>\n",
       "      <th>Sep_Temp_18</th>\n",
       "      <th>Sep_Depart_18</th>\n",
       "      <th>Oct_Temp_18</th>\n",
       "      <th>Oct_Depart_18</th>\n",
       "      <th>Nov_Temp_18</th>\n",
       "      <th>Nov_Depart_18</th>\n",
       "      <th>Dec_Temp_18</th>\n",
       "      <th>Dec_Depart_18</th>\n",
       "      <th>Ann_Temp_18</th>\n",
       "      <th>Ann_Depart_18</th>\n",
       "    </tr>\n",
       "    <tr>\n",
       "      <th>Station</th>\n",
       "      <th></th>\n",
       "      <th></th>\n",
       "      <th></th>\n",
       "      <th></th>\n",
       "      <th></th>\n",
       "      <th></th>\n",
       "      <th></th>\n",
       "      <th></th>\n",
       "      <th></th>\n",
       "      <th></th>\n",
       "      <th></th>\n",
       "      <th></th>\n",
       "      <th></th>\n",
       "      <th></th>\n",
       "      <th></th>\n",
       "      <th></th>\n",
       "      <th></th>\n",
       "      <th></th>\n",
       "      <th></th>\n",
       "      <th></th>\n",
       "      <th></th>\n",
       "    </tr>\n",
       "  </thead>\n",
       "  <tbody>\n",
       "    <tr>\n",
       "      <td>MARYLAND</td>\n",
       "      <td>30.342105</td>\n",
       "      <td>-1.0</td>\n",
       "      <td>40.589744</td>\n",
       "      <td>7.0</td>\n",
       "      <td>38.205128</td>\n",
       "      <td>-3.0</td>\n",
       "      <td>50.128205</td>\n",
       "      <td>-1.0</td>\n",
       "      <td>68.0</td>\n",
       "      <td>6.000000</td>\n",
       "      <td>...</td>\n",
       "      <td>72.358974</td>\n",
       "      <td>7.0</td>\n",
       "      <td>58.45</td>\n",
       "      <td>3.0</td>\n",
       "      <td>42.85</td>\n",
       "      <td>-1.0</td>\n",
       "      <td>38.615385</td>\n",
       "      <td>3.000000</td>\n",
       "      <td>48.138889</td>\n",
       "      <td>2.0</td>\n",
       "    </tr>\n",
       "    <tr>\n",
       "      <td>SOUTHERN EASTERN SHORE  01</td>\n",
       "      <td>36.000000</td>\n",
       "      <td>-3.0</td>\n",
       "      <td>47.000000</td>\n",
       "      <td>4.0</td>\n",
       "      <td>38.205128</td>\n",
       "      <td>-6.0</td>\n",
       "      <td>54.000000</td>\n",
       "      <td>-4.0</td>\n",
       "      <td>71.0</td>\n",
       "      <td>5.628571</td>\n",
       "      <td>...</td>\n",
       "      <td>76.000000</td>\n",
       "      <td>8.0</td>\n",
       "      <td>62.00</td>\n",
       "      <td>4.0</td>\n",
       "      <td>47.00</td>\n",
       "      <td>0.0</td>\n",
       "      <td>43.000000</td>\n",
       "      <td>3.000000</td>\n",
       "      <td>61.000000</td>\n",
       "      <td>0.0</td>\n",
       "    </tr>\n",
       "    <tr>\n",
       "      <td>PRINCESS ANNE</td>\n",
       "      <td>33.000000</td>\n",
       "      <td>-1.0</td>\n",
       "      <td>45.000000</td>\n",
       "      <td>7.0</td>\n",
       "      <td>41.000000</td>\n",
       "      <td>-4.0</td>\n",
       "      <td>52.000000</td>\n",
       "      <td>-1.0</td>\n",
       "      <td>69.0</td>\n",
       "      <td>7.000000</td>\n",
       "      <td>...</td>\n",
       "      <td>75.000000</td>\n",
       "      <td>7.0</td>\n",
       "      <td>60.00</td>\n",
       "      <td>3.0</td>\n",
       "      <td>46.00</td>\n",
       "      <td>-0.0</td>\n",
       "      <td>42.000000</td>\n",
       "      <td>1.000000</td>\n",
       "      <td>58.000000</td>\n",
       "      <td>2.0</td>\n",
       "    </tr>\n",
       "    <tr>\n",
       "      <td>SALISBURY 2N</td>\n",
       "      <td>34.000000</td>\n",
       "      <td>-2.0</td>\n",
       "      <td>44.000000</td>\n",
       "      <td>5.0</td>\n",
       "      <td>39.000000</td>\n",
       "      <td>-4.0</td>\n",
       "      <td>51.000000</td>\n",
       "      <td>-3.0</td>\n",
       "      <td>68.0</td>\n",
       "      <td>5.000000</td>\n",
       "      <td>...</td>\n",
       "      <td>78.000000</td>\n",
       "      <td>5.0</td>\n",
       "      <td>63.00</td>\n",
       "      <td>2.0</td>\n",
       "      <td>50.00</td>\n",
       "      <td>-3.0</td>\n",
       "      <td>45.000000</td>\n",
       "      <td>2.000000</td>\n",
       "      <td>4.000000</td>\n",
       "      <td>0.0</td>\n",
       "    </tr>\n",
       "    <tr>\n",
       "      <td>SALISBURY-WICOMICO RGNL AP</td>\n",
       "      <td>34.000000</td>\n",
       "      <td>-0.0</td>\n",
       "      <td>45.000000</td>\n",
       "      <td>7.0</td>\n",
       "      <td>40.000000</td>\n",
       "      <td>-3.0</td>\n",
       "      <td>52.000000</td>\n",
       "      <td>-1.0</td>\n",
       "      <td>70.0</td>\n",
       "      <td>6.000000</td>\n",
       "      <td>...</td>\n",
       "      <td>76.000000</td>\n",
       "      <td>6.0</td>\n",
       "      <td>62.00</td>\n",
       "      <td>4.0</td>\n",
       "      <td>48.00</td>\n",
       "      <td>-1.0</td>\n",
       "      <td>43.000000</td>\n",
       "      <td>2.096774</td>\n",
       "      <td>58.000000</td>\n",
       "      <td>2.0</td>\n",
       "    </tr>\n",
       "  </tbody>\n",
       "</table>\n",
       "<p>5 rows × 26 columns</p>\n",
       "</div>"
      ],
      "text/plain": [
       "                            Jan_Temp_18  Jan_Depart_18  Feb_Temp_18  \\\n",
       "Station                                                               \n",
       "MARYLAND                      30.342105           -1.0    40.589744   \n",
       "SOUTHERN EASTERN SHORE  01    36.000000           -3.0    47.000000   \n",
       "PRINCESS ANNE                 33.000000           -1.0    45.000000   \n",
       "SALISBURY 2N                  34.000000           -2.0    44.000000   \n",
       "SALISBURY-WICOMICO RGNL AP    34.000000           -0.0    45.000000   \n",
       "\n",
       "                            Feb_Depart_18  Mar_Temp_18  Mar_Depart_18  \\\n",
       "Station                                                                 \n",
       "MARYLAND                              7.0    38.205128           -3.0   \n",
       "SOUTHERN EASTERN SHORE  01            4.0    38.205128           -6.0   \n",
       "PRINCESS ANNE                         7.0    41.000000           -4.0   \n",
       "SALISBURY 2N                          5.0    39.000000           -4.0   \n",
       "SALISBURY-WICOMICO RGNL AP            7.0    40.000000           -3.0   \n",
       "\n",
       "                            Apr_Temp_18  Apr_Depart_18  May_Temp_18  \\\n",
       "Station                                                               \n",
       "MARYLAND                      50.128205           -1.0         68.0   \n",
       "SOUTHERN EASTERN SHORE  01    54.000000           -4.0         71.0   \n",
       "PRINCESS ANNE                 52.000000           -1.0         69.0   \n",
       "SALISBURY 2N                  51.000000           -3.0         68.0   \n",
       "SALISBURY-WICOMICO RGNL AP    52.000000           -1.0         70.0   \n",
       "\n",
       "                            May_Depart_18  ...  Sep_Temp_18  Sep_Depart_18  \\\n",
       "Station                                    ...                               \n",
       "MARYLAND                         6.000000  ...    72.358974            7.0   \n",
       "SOUTHERN EASTERN SHORE  01       5.628571  ...    76.000000            8.0   \n",
       "PRINCESS ANNE                    7.000000  ...    75.000000            7.0   \n",
       "SALISBURY 2N                     5.000000  ...    78.000000            5.0   \n",
       "SALISBURY-WICOMICO RGNL AP       6.000000  ...    76.000000            6.0   \n",
       "\n",
       "                            Oct_Temp_18  Oct_Depart_18  Nov_Temp_18  \\\n",
       "Station                                                               \n",
       "MARYLAND                          58.45            3.0        42.85   \n",
       "SOUTHERN EASTERN SHORE  01        62.00            4.0        47.00   \n",
       "PRINCESS ANNE                     60.00            3.0        46.00   \n",
       "SALISBURY 2N                      63.00            2.0        50.00   \n",
       "SALISBURY-WICOMICO RGNL AP        62.00            4.0        48.00   \n",
       "\n",
       "                            Nov_Depart_18  Dec_Temp_18  Dec_Depart_18  \\\n",
       "Station                                                                 \n",
       "MARYLAND                             -1.0    38.615385       3.000000   \n",
       "SOUTHERN EASTERN SHORE  01            0.0    43.000000       3.000000   \n",
       "PRINCESS ANNE                        -0.0    42.000000       1.000000   \n",
       "SALISBURY 2N                         -3.0    45.000000       2.000000   \n",
       "SALISBURY-WICOMICO RGNL AP           -1.0    43.000000       2.096774   \n",
       "\n",
       "                            Ann_Temp_18  Ann_Depart_18  \n",
       "Station                                                 \n",
       "MARYLAND                      48.138889            2.0  \n",
       "SOUTHERN EASTERN SHORE  01    61.000000            0.0  \n",
       "PRINCESS ANNE                 58.000000            2.0  \n",
       "SALISBURY 2N                   4.000000            0.0  \n",
       "SALISBURY-WICOMICO RGNL AP    58.000000            2.0  \n",
       "\n",
       "[5 rows x 26 columns]"
      ]
     },
     "execution_count": 25,
     "metadata": {},
     "output_type": "execute_result"
    }
   ],
   "source": [
    "MDtemp2018.head()"
   ]
  },
  {
   "cell_type": "markdown",
   "metadata": {},
   "source": [
    "#### Same process is repeated for years 2005 - 2017"
   ]
  },
  {
   "cell_type": "code",
   "execution_count": 26,
   "metadata": {},
   "outputs": [
    {
     "name": "stdout",
     "output_type": "stream",
     "text": [
      "MD Temperature Data for 2017 cleaned and dataframe created\n",
      "\n",
      "MD Temperature Data for 2016 cleaned and dataframe created\n",
      "\n",
      "MD Temperature Data for 2015 cleaned and dataframe created\n",
      "\n",
      "MD Temperature Data for 2014 cleaned and dataframe created\n",
      "\n",
      "MD Temperature Data for 2013 cleaned and dataframe created\n",
      "\n",
      "MD Temperature Data for 2012 cleaned and dataframe created\n",
      "\n",
      "MD Temperature Data for 2011 cleaned and dataframe created\n",
      "\n",
      "MD Temperature Data for 2010 cleaned and dataframe created\n",
      "\n",
      "MD Temperature Data for 2009 cleaned and dataframe created\n",
      "\n",
      "MD Temperature Data for 2008 cleaned and dataframe created\n",
      "\n",
      "MD Temperature Data for 2007 cleaned and dataframe created\n",
      "\n",
      "MD Temperature Data for 2006 cleaned and dataframe created\n",
      "\n",
      "MD Temperature Data for 2005 cleaned and dataframe created\n",
      "\n"
     ]
    }
   ],
   "source": [
    "#MD2017\n",
    "file = path_a + 'MD2017.pdf'\n",
    "tables = camelot.read_pdf(file, pages = '6,7')\n",
    "tables\n",
    "\n",
    "try1 = tables[0].df\n",
    "try1 = pd.DataFrame(try1.iloc[2])\n",
    "try1 = try1.transpose()\n",
    "\n",
    "i=2\n",
    "for x in try1.columns:\n",
    "    globals()['try'+str(i)] = pd.DataFrame(try1[x].str.split('\\n').tolist()).stack()\n",
    "    i=i+1\n",
    "    \n",
    "comb1 = pd.DataFrame()\n",
    "for i in range(2,29):\n",
    "    comb1 = pd.concat([comb1, globals()['try'+str(i)]], ignore_index=True, axis =1)\n",
    "    \n",
    "comb1.columns = ['Station','Jan_Temp_17','Jan_Depart_17','Feb_Temp_17','Feb_Depart_17','Mar_Temp_17','Mar_Depart_17','Apr_Temp_17','Apr_Depart_17','May_Temp_17','May_Depart_17','Jun_Temp_17','Jun_Depart_17','Jul_Temp_17','Jul_Depart_17','Aug_Temp_17','Aug_Depart_17','Sep_Temp_17','Sep_Depart_17','Oct_Temp_17','Oct_Depart_17','Nov_Temp_17','Nov_Depart_17','Dec_Temp_17','Dec_Depart_17','Ann_Temp_17','Ann_Depart_17']\n",
    "\n",
    "try1 = tables[1].df\n",
    "try1 = pd.DataFrame(try1.iloc[2])\n",
    "try1 = try1.transpose()\n",
    "\n",
    "i=2\n",
    "for x in try1.columns:\n",
    "    globals()['try'+str(i)] = pd.DataFrame(try1[x].str.split('\\n').tolist()).stack()\n",
    "    i=i+1\n",
    "    \n",
    "comb2 = pd.DataFrame()\n",
    "for i in range(2,29):\n",
    "    comb2 = pd.concat([comb2, globals()['try'+str(i)]], ignore_index=True, axis =1)\n",
    "    \n",
    "comb2.columns = ['Station','Jan_Temp_17','Jan_Depart_17','Feb_Temp_17','Feb_Depart_17','Mar_Temp_17','Mar_Depart_17','Apr_Temp_17','Apr_Depart_17','May_Temp_17','May_Depart_17','Jun_Temp_17','Jun_Depart_17','Jul_Temp_17','Jul_Depart_17','Aug_Temp_17','Aug_Depart_17','Sep_Temp_17','Sep_Depart_17','Oct_Temp_17','Oct_Depart_17','Nov_Temp_17','Nov_Depart_17','Dec_Temp_17','Dec_Depart_17','Ann_Temp_17','Ann_Depart_17']\n",
    "\n",
    "MDtemp2017 = pd.concat([comb1,comb2])\n",
    "MDtemp2017 = MDtemp2017.set_index('Station')\n",
    "\n",
    "for x in MDtemp2017.columns: \n",
    "    MDtemp2017[x] = MDtemp2017[x].str.split(\".\", n = 1, expand = True) \n",
    "    \n",
    "for x in MDtemp2017.columns:  \n",
    "    MDtemp2017[x] = MDtemp2017[x].str.replace(r'[A-Z]','')\n",
    "    MDtemp2017[x] = MDtemp2017[x].str.replace('      ','0')\n",
    "    MDtemp2017[x] = MDtemp2017[x].str.replace(' ','')\n",
    "    MDtemp2017[x] = MDtemp2017[x].replace(r'', np.NaN)\n",
    "    MDtemp2017[x] = MDtemp2017[x].astype('float')\n",
    "MDtemp2017 = MDtemp2017.fillna(MDtemp2017.mean())\n",
    "\n",
    "print(\"MD Temperature Data for 2017 cleaned and dataframe created\")\n",
    "print(\"\")\n",
    "\n",
    "#MD2016\n",
    "file = path_a + 'MD2016.pdf'\n",
    "tables = camelot.read_pdf(file, pages = '6,7')\n",
    "tables\n",
    "\n",
    "try1 = tables[0].df\n",
    "try1 = pd.DataFrame(try1.iloc[2])\n",
    "try1 = try1.transpose()\n",
    "\n",
    "i=2\n",
    "for x in try1.columns:\n",
    "    globals()['try'+str(i)] = pd.DataFrame(try1[x].str.split('\\n').tolist()).stack()\n",
    "    i=i+1\n",
    "    \n",
    "comb1 = pd.DataFrame()\n",
    "for i in range(2,29):\n",
    "    comb1 = pd.concat([comb1, globals()['try'+str(i)]], ignore_index=True, axis =1)\n",
    "    \n",
    "comb1.columns = ['Station','Jan_Temp_16','Jan_Depart_16','Feb_Temp_16','Feb_Depart_16','Mar_Temp_16','Mar_Depart_16','Apr_Temp_16','Apr_Depart_16','May_Temp_16','May_Depart_16','Jun_Temp_16','Jun_Depart_16','Jul_Temp_16','Jul_Depart_16','Aug_Temp_16','Aug_Depart_16','Sep_Temp_16','Sep_Depart_16','Oct_Temp_16','Oct_Depart_16','Nov_Temp_16','Nov_Depart_16','Dec_Temp_16','Dec_Depart_16','Ann_Temp_16','Ann_Depart_16']\n",
    "\n",
    "try1 = tables[1].df\n",
    "try1 = pd.DataFrame(try1.iloc[2])\n",
    "try1 = try1.transpose()\n",
    "\n",
    "i=2\n",
    "for x in try1.columns:\n",
    "    globals()['try'+str(i)] = pd.DataFrame(try1[x].str.split('\\n').tolist()).stack()\n",
    "    i=i+1\n",
    "    \n",
    "comb2 = pd.DataFrame()\n",
    "for i in range(2,29):\n",
    "    comb2 = pd.concat([comb2, globals()['try'+str(i)]], ignore_index=True, axis =1)\n",
    "    \n",
    "comb2.columns = ['Station','Jan_Temp_16','Jan_Depart_16','Feb_Temp_16','Feb_Depart_16','Mar_Temp_16','Mar_Depart_16','Apr_Temp_16','Apr_Depart_16','May_Temp_16','May_Depart_16','Jun_Temp_16','Jun_Depart_16','Jul_Temp_16','Jul_Depart_16','Aug_Temp_16','Aug_Depart_16','Sep_Temp_16','Sep_Depart_16','Oct_Temp_16','Oct_Depart_16','Nov_Temp_16','Nov_Depart_16','Dec_Temp_16','Dec_Depart_16','Ann_Temp_16','Ann_Depart_16']\n",
    "\n",
    "MDtemp2016 = pd.concat([comb1,comb2])\n",
    "MDtemp2016 = MDtemp2016.set_index('Station')\n",
    "\n",
    "for x in MDtemp2016.columns: \n",
    "    MDtemp2016[x] = MDtemp2016[x].str.split(\".\", n = 1, expand = True) \n",
    "    \n",
    "for x in MDtemp2016.columns:  \n",
    "    MDtemp2016[x] = MDtemp2016[x].str.replace(r'[A-Z]','')\n",
    "    MDtemp2016[x] = MDtemp2016[x].str.replace('      ','0')\n",
    "    MDtemp2016[x] = MDtemp2016[x].str.replace(' ','')\n",
    "    MDtemp2016[x] = MDtemp2016[x].replace(r'', np.NaN)\n",
    "    MDtemp2016[x] = MDtemp2016[x].astype('float')\n",
    "MDtemp2016 = MDtemp2016.fillna(MDtemp2016.mean())\n",
    "print(\"MD Temperature Data for 2016 cleaned and dataframe created\")\n",
    "print(\"\")\n",
    "\n",
    "#MD2015\n",
    "file = path_a + 'MD2015.pdf'\n",
    "tables = camelot.read_pdf(file, pages = '6,7')\n",
    "tables\n",
    "\n",
    "try1 = tables[0].df\n",
    "try1 = pd.DataFrame(try1.iloc[2])\n",
    "try1 = try1.transpose()\n",
    "\n",
    "i=2\n",
    "for x in try1.columns:\n",
    "    globals()['try'+str(i)] = pd.DataFrame(try1[x].str.split('\\n').tolist()).stack()\n",
    "    i=i+1\n",
    "    \n",
    "comb1 = pd.DataFrame()\n",
    "for i in range(2,29):\n",
    "    comb1 = pd.concat([comb1, globals()['try'+str(i)]], ignore_index=True, axis =1)\n",
    "    \n",
    "comb1.columns = ['Station','Jan_Temp_15','Jan_Depart_15','Feb_Temp_15','Feb_Depart_15','Mar_Temp_15','Mar_Depart_15','Apr_Temp_15','Apr_Depart_15','May_Temp_15','May_Depart_15','Jun_Temp_15','Jun_Depart_15','Jul_Temp_15','Jul_Depart_15','Aug_Temp_15','Aug_Depart_15','Sep_Temp_15','Sep_Depart_15','Oct_Temp_15','Oct_Depart_15','Nov_Temp_15','Nov_Depart_15','Dec_Temp_15','Dec_Depart_15','Ann_Temp_15','Ann_Depart_15']\n",
    "\n",
    "try1 = tables[1].df\n",
    "try1 = pd.DataFrame(try1.iloc[2])\n",
    "try1 = try1.transpose()\n",
    "\n",
    "i=2\n",
    "for x in try1.columns:\n",
    "    globals()['try'+str(i)] = pd.DataFrame(try1[x].str.split('\\n').tolist()).stack()\n",
    "    i=i+1\n",
    "    \n",
    "comb2 = pd.DataFrame()\n",
    "for i in range(2,29):\n",
    "    comb2 = pd.concat([comb2, globals()['try'+str(i)]], ignore_index=True, axis =1)\n",
    "    \n",
    "comb2.columns = ['Station','Jan_Temp_15','Jan_Depart_15','Feb_Temp_15','Feb_Depart_15','Mar_Temp_15','Mar_Depart_15','Apr_Temp_15','Apr_Depart_15','May_Temp_15','May_Depart_15','Jun_Temp_15','Jun_Depart_15','Jul_Temp_15','Jul_Depart_15','Aug_Temp_15','Aug_Depart_15','Sep_Temp_15','Sep_Depart_15','Oct_Temp_15','Oct_Depart_15','Nov_Temp_15','Nov_Depart_15','Dec_Temp_15','Dec_Depart_15','Ann_Temp_15','Ann_Depart_15']\n",
    "\n",
    "MDtemp2015 = pd.concat([comb1,comb2])\n",
    "MDtemp2015 = MDtemp2015.set_index('Station')\n",
    "\n",
    "for x in MDtemp2015.columns: \n",
    "    MDtemp2015[x] = MDtemp2015[x].str.split(\".\", n = 1, expand = True) \n",
    "    \n",
    "for x in MDtemp2015.columns:  \n",
    "    MDtemp2015[x] = MDtemp2015[x].str.replace(r'[A-Z]','')\n",
    "    MDtemp2015[x] = MDtemp2015[x].str.replace('      ','0')\n",
    "    MDtemp2015[x] = MDtemp2015[x].str.replace(r'(?<![0-9])\\.\\.(?<![0-9])','.')\n",
    "    MDtemp2015[x] = MDtemp2015[x].str.replace(r'(?<![0-9])\\.(?<![0-9])','')\n",
    "    MDtemp2015[x] = MDtemp2015[x].str.replace(' ','')\n",
    "    MDtemp2015[x] = MDtemp2015[x].replace(r'', np.NaN)\n",
    "    MDtemp2015[x] = MDtemp2015[x].astype('float')\n",
    "MDtemp2015 = MDtemp2015.fillna(MDtemp2015.mean())\n",
    "\n",
    "print(\"MD Temperature Data for 2015 cleaned and dataframe created\")\n",
    "print(\"\")\n",
    " \n",
    "#MD2014\n",
    "file = path_a + 'MD2014.pdf'\n",
    "tables = camelot.read_pdf(file, pages = '6,7')\n",
    "tables\n",
    "\n",
    "try1 = tables[0].df\n",
    "try1 = pd.DataFrame(try1.iloc[2])\n",
    "try1 = try1.transpose()\n",
    "\n",
    "i=2\n",
    "for x in try1.columns:\n",
    "    globals()['try'+str(i)] = pd.DataFrame(try1[x].str.split('\\n').tolist()).stack()\n",
    "    i=i+1\n",
    "    \n",
    "comb1 = pd.DataFrame()\n",
    "for i in range(2,29):\n",
    "    comb1 = pd.concat([comb1, globals()['try'+str(i)]], ignore_index=True, axis =1)\n",
    "    \n",
    "comb1.columns = ['Station','Jan_Temp_14','Jan_Depart_14','Feb_Temp_14','Feb_Depart_14','Mar_Temp_14','Mar_Depart_14','Apr_Temp_14','Apr_Depart_14','May_Temp_14','May_Depart_14','Jun_Temp_14','Jun_Depart_14','Jul_Temp_14','Jul_Depart_14','Aug_Temp_14','Aug_Depart_14','Sep_Temp_14','Sep_Depart_14','Oct_Temp_14','Oct_Depart_14','Nov_Temp_14','Nov_Depart_14','Dec_Temp_14','Dec_Depart_14','Ann_Temp_14','Ann_Depart_14']\n",
    "\n",
    "try1 = tables[1].df\n",
    "try1 = pd.DataFrame(try1.iloc[2])\n",
    "try1 = try1.transpose()\n",
    "\n",
    "i=2\n",
    "for x in try1.columns:\n",
    "    globals()['try'+str(i)] = pd.DataFrame(try1[x].str.split('\\n').tolist()).stack()\n",
    "    i=i+1\n",
    "    \n",
    "comb2 = pd.DataFrame()\n",
    "for i in range(2,29):\n",
    "    comb2 = pd.concat([comb2, globals()['try'+str(i)]], ignore_index=True, axis =1)\n",
    "    \n",
    "comb2.columns = ['Station','Jan_Temp_14','Jan_Depart_14','Feb_Temp_14','Feb_Depart_14','Mar_Temp_14','Mar_Depart_14','Apr_Temp_14','Apr_Depart_14','May_Temp_14','May_Depart_14','Jun_Temp_14','Jun_Depart_14','Jul_Temp_14','Jul_Depart_14','Aug_Temp_14','Aug_Depart_14','Sep_Temp_14','Sep_Depart_14','Oct_Temp_14','Oct_Depart_14','Nov_Temp_14','Nov_Depart_14','Dec_Temp_14','Dec_Depart_14','Ann_Temp_14','Ann_Depart_14']\n",
    "\n",
    "MDtemp2014 = pd.concat([comb1,comb2])\n",
    "MDtemp2014 = MDtemp2014.set_index('Station')\n",
    "\n",
    "for x in MDtemp2014.columns: \n",
    "    MDtemp2014[x] = MDtemp2014[x].str.split(\".\", n = 1, expand = True) \n",
    "    \n",
    "for x in MDtemp2014.columns:  \n",
    "    MDtemp2014[x] = MDtemp2014[x].str.replace(r'[A-Z]','')\n",
    "    MDtemp2014[x] = MDtemp2014[x].str.replace('      ','0')\n",
    "    MDtemp2014[x] = MDtemp2014[x].str.replace(r'(?<![0-9])\\.\\.(?<![0-9])','.')\n",
    "    MDtemp2014[x] = MDtemp2014[x].str.replace(r'(?<![0-9])\\.(?<![0-9])','')\n",
    "    MDtemp2014[x] = MDtemp2014[x].str.replace(' ','')\n",
    "    MDtemp2014[x] = MDtemp2014[x].replace(r'', np.NaN)\n",
    "    MDtemp2014[x] = MDtemp2014[x].astype('float')\n",
    "MDtemp2014 = MDtemp2014.fillna(MDtemp2014.mean())\n",
    "\n",
    "print(\"MD Temperature Data for 2014 cleaned and dataframe created\")\n",
    "print(\"\")\n",
    "\n",
    "#MD2013\n",
    "file = path_a + 'MD2013.pdf'\n",
    "tables = camelot.read_pdf(file, pages = '6,7')\n",
    "tables\n",
    "\n",
    "try1 = tables[0].df\n",
    "try1 = pd.DataFrame(try1.iloc[2])\n",
    "try1 = try1.transpose()\n",
    "\n",
    "i=2\n",
    "for x in try1.columns:\n",
    "    globals()['try'+str(i)] = pd.DataFrame(try1[x].str.split('\\n').tolist()).stack()\n",
    "    i=i+1\n",
    "    \n",
    "comb1 = pd.DataFrame()\n",
    "for i in range(2,29):\n",
    "    comb1 = pd.concat([comb1, globals()['try'+str(i)]], ignore_index=True, axis =1)\n",
    "    \n",
    "comb1.columns = ['Station','Jan_Temp_13','Jan_Depart_13','Feb_Temp_13','Feb_Depart_13','Mar_Temp_13','Mar_Depart_13','Apr_Temp_13','Apr_Depart_13','May_Temp_13','May_Depart_13','Jun_Temp_13','Jun_Depart_13','Jul_Temp_13','Jul_Depart_13','Aug_Temp_13','Aug_Depart_13','Sep_Temp_13','Sep_Depart_13','Oct_Temp_13','Oct_Depart_13','Nov_Temp_13','Nov_Depart_13','Dec_Temp_13','Dec_Depart_13','Ann_Temp_13','Ann_Depart_13']\n",
    "\n",
    "try1 = tables[1].df\n",
    "try1 = pd.DataFrame(try1.iloc[2])\n",
    "try1 = try1.transpose()\n",
    "\n",
    "i=2\n",
    "for x in try1.columns:\n",
    "    globals()['try'+str(i)] = pd.DataFrame(try1[x].str.split('\\n').tolist()).stack()\n",
    "    i=i+1\n",
    "    \n",
    "comb2 = pd.DataFrame()\n",
    "for i in range(2,29):\n",
    "    comb2 = pd.concat([comb2, globals()['try'+str(i)]], ignore_index=True, axis =1)\n",
    "    \n",
    "comb2.columns = ['Station','Jan_Temp_13','Jan_Depart_13','Feb_Temp_13','Feb_Depart_13','Mar_Temp_13','Mar_Depart_13','Apr_Temp_13','Apr_Depart_13','May_Temp_13','May_Depart_13','Jun_Temp_13','Jun_Depart_13','Jul_Temp_13','Jul_Depart_13','Aug_Temp_13','Aug_Depart_13','Sep_Temp_13','Sep_Depart_13','Oct_Temp_13','Oct_Depart_13','Nov_Temp_13','Nov_Depart_13','Dec_Temp_13','Dec_Depart_13','Ann_Temp_13','Ann_Depart_13']\n",
    "\n",
    "MDtemp2013 = pd.concat([comb1,comb2])\n",
    "MDtemp2013 = MDtemp2013.set_index('Station')\n",
    "\n",
    "for x in MDtemp2013.columns: \n",
    "    MDtemp2013[x] = MDtemp2013[x].str.split(\".\", n = 1, expand = True) \n",
    "    \n",
    "for x in MDtemp2013.columns:  \n",
    "    MDtemp2013[x] = MDtemp2013[x].str.replace(r'[A-Z]','')\n",
    "    MDtemp2013[x] = MDtemp2013[x].str.replace('      ','0')\n",
    "    MDtemp2013[x] = MDtemp2013[x].str.replace(r'(?<![0-9])\\.\\.(?<![0-9])','.')\n",
    "    MDtemp2013[x] = MDtemp2013[x].str.replace(r'(?<![0-9])\\.(?<![0-9])','')\n",
    "    MDtemp2013[x] = MDtemp2013[x].str.replace(' ','')\n",
    "    MDtemp2013[x] = MDtemp2013[x].replace(r'', np.NaN)\n",
    "    MDtemp2013[x] = MDtemp2013[x].astype('float')\n",
    "MDtemp2013 = MDtemp2013.fillna(MDtemp2013.mean())\n",
    "\n",
    "print(\"MD Temperature Data for 2013 cleaned and dataframe created\")\n",
    "print(\"\")\n",
    "\n",
    "#MD2012\n",
    "file = path_a + 'MD2012.pdf'\n",
    "tables = camelot.read_pdf(file, pages = '6,7')\n",
    "tables\n",
    "\n",
    "try1 = tables[0].df\n",
    "try1 = pd.DataFrame(try1.iloc[2])\n",
    "try1 = try1.transpose()\n",
    "\n",
    "i=2\n",
    "for x in try1.columns:\n",
    "    globals()['try'+str(i)] = pd.DataFrame(try1[x].str.split('\\n').tolist()).stack()\n",
    "    i=i+1\n",
    "    \n",
    "comb1 = pd.DataFrame()\n",
    "for i in range(2,29):\n",
    "    comb1 = pd.concat([comb1, globals()['try'+str(i)]], ignore_index=True, axis =1)\n",
    "    \n",
    "comb1.columns = ['Station','Jan_Temp_12','Jan_Depart_12','Feb_Temp_12','Feb_Depart_12','Mar_Temp_12','Mar_Depart_12','Apr_Temp_12','Apr_Depart_12','May_Temp_12','May_Depart_12','Jun_Temp_12','Jun_Depart_12','Jul_Temp_12','Jul_Depart_12','Aug_Temp_12','Aug_Depart_12','Sep_Temp_12','Sep_Depart_12','Oct_Temp_12','Oct_Depart_12','Nov_Temp_12','Nov_Depart_12','Dec_Temp_12','Dec_Depart_12','Ann_Temp_12','Ann_Depart_12']\n",
    "\n",
    "try1 = tables[1].df\n",
    "try1 = pd.DataFrame(try1.iloc[2])\n",
    "try1 = try1.transpose()\n",
    "\n",
    "i=2\n",
    "for x in try1.columns:\n",
    "    globals()['try'+str(i)] = pd.DataFrame(try1[x].str.split('\\n').tolist()).stack()\n",
    "    i=i+1\n",
    "    \n",
    "comb2 = pd.DataFrame()\n",
    "for i in range(2,29):\n",
    "    comb2 = pd.concat([comb2, globals()['try'+str(i)]], ignore_index=True, axis =1)\n",
    "    \n",
    "comb2.columns = ['Station','Jan_Temp_12','Jan_Depart_12','Feb_Temp_12','Feb_Depart_12','Mar_Temp_12','Mar_Depart_12','Apr_Temp_12','Apr_Depart_12','May_Temp_12','May_Depart_12','Jun_Temp_12','Jun_Depart_12','Jul_Temp_12','Jul_Depart_12','Aug_Temp_12','Aug_Depart_12','Sep_Temp_12','Sep_Depart_12','Oct_Temp_12','Oct_Depart_12','Nov_Temp_12','Nov_Depart_12','Dec_Temp_12','Dec_Depart_12','Ann_Temp_12','Ann_Depart_12']\n",
    "\n",
    "MDtemp2012 = pd.concat([comb1,comb2])\n",
    "MDtemp2012 = MDtemp2012.set_index('Station')\n",
    "\n",
    "for x in MDtemp2012.columns: \n",
    "    MDtemp2012[x] = MDtemp2012[x].str.split(\".\", n = 1, expand = True) \n",
    "    \n",
    "for x in MDtemp2012.columns:  \n",
    "    MDtemp2012[x] = MDtemp2012[x].str.replace(r'[A-Z]','')\n",
    "    MDtemp2012[x] = MDtemp2012[x].str.replace('      ','0')\n",
    "    MDtemp2012[x] = MDtemp2012[x].str.replace(r'(?<![0-9])\\.\\.(?<![0-9])','.')\n",
    "    MDtemp2012[x] = MDtemp2012[x].str.replace(r'(?<![0-9])\\.(?<![0-9])','')\n",
    "    MDtemp2012[x] = MDtemp2012[x].str.replace(' ','')\n",
    "    MDtemp2012[x] = MDtemp2012[x].replace(r'', np.NaN)\n",
    "    MDtemp2012[x] = MDtemp2012[x].astype('float')\n",
    "MDtemp2012 = MDtemp2012.fillna(MDtemp2012.mean())\n",
    "\n",
    "print(\"MD Temperature Data for 2012 cleaned and dataframe created\")\n",
    "print(\"\")\n",
    "\n",
    "#MD2011\n",
    "file = path_a + 'MD2011.pdf'\n",
    "tables = camelot.read_pdf(file, pages = '6,7')\n",
    "tables\n",
    "\n",
    "try1 = tables[0].df\n",
    "try1 = pd.DataFrame(try1.iloc[2])\n",
    "try1 = try1.transpose()\n",
    "\n",
    "i=2\n",
    "for x in try1.columns:\n",
    "    globals()['try'+str(i)] = pd.DataFrame(try1[x].str.split('\\n').tolist()).stack()\n",
    "    i=i+1\n",
    "    \n",
    "comb1 = pd.DataFrame()\n",
    "for i in range(2,29):\n",
    "    comb1 = pd.concat([comb1, globals()['try'+str(i)]], ignore_index=True, axis =1)\n",
    "    \n",
    "comb1.columns = ['Station','Jan_Temp_11','Jan_Depart_11','Feb_Temp_11','Feb_Depart_11','Mar_Temp_11','Mar_Depart_11','Apr_Temp_11','Apr_Depart_11','May_Temp_11','May_Depart_11','Jun_Temp_11','Jun_Depart_11','Jul_Temp_11','Jul_Depart_11','Aug_Temp_11','Aug_Depart_11','Sep_Temp_11','Sep_Depart_11','Oct_Temp_11','Oct_Depart_11','Nov_Temp_11','Nov_Depart_11','Dec_Temp_11','Dec_Depart_11','Ann_Temp_11','Ann_Depart_11']\n",
    "\n",
    "try1 = tables[1].df\n",
    "try1 = pd.DataFrame(try1.iloc[2])\n",
    "try1 = try1.transpose()\n",
    "\n",
    "i=2\n",
    "for x in try1.columns:\n",
    "    globals()['try'+str(i)] = pd.DataFrame(try1[x].str.split('\\n').tolist()).stack()\n",
    "    i=i+1\n",
    "    \n",
    "comb2 = pd.DataFrame()\n",
    "for i in range(2,29):\n",
    "    comb2 = pd.concat([comb2, globals()['try'+str(i)]], ignore_index=True, axis =1)\n",
    "    \n",
    "comb2.columns = ['Station','Jan_Temp_11','Jan_Depart_11','Feb_Temp_11','Feb_Depart_11','Mar_Temp_11','Mar_Depart_11','Apr_Temp_11','Apr_Depart_11','May_Temp_11','May_Depart_11','Jun_Temp_11','Jun_Depart_11','Jul_Temp_11','Jul_Depart_11','Aug_Temp_11','Aug_Depart_11','Sep_Temp_11','Sep_Depart_11','Oct_Temp_11','Oct_Depart_11','Nov_Temp_11','Nov_Depart_11','Dec_Temp_11','Dec_Depart_11','Ann_Temp_11','Ann_Depart_11']\n",
    "\n",
    "MDtemp2011 = pd.concat([comb1,comb2])\n",
    "MDtemp2011 = MDtemp2011.set_index('Station')\n",
    "\n",
    "for x in MDtemp2011.columns: \n",
    "    MDtemp2011[x] = MDtemp2011[x].str.split(\".\", n = 1, expand = True) \n",
    "    \n",
    "for x in MDtemp2011.columns:  \n",
    "    MDtemp2011[x] = MDtemp2011[x].str.replace(r'[A-Z]','')\n",
    "    MDtemp2011[x] = MDtemp2011[x].str.replace('      ','0')\n",
    "    MDtemp2011[x] = MDtemp2011[x].str.replace(r'(?<![0-9])\\.\\.(?<![0-9])','.')\n",
    "    MDtemp2011[x] = MDtemp2011[x].str.replace(r'(?<![0-9])\\.(?<![0-9])','')\n",
    "    MDtemp2011[x] = MDtemp2011[x].str.replace(' ','')\n",
    "    MDtemp2011[x] = MDtemp2011[x].replace(r'', np.NaN)\n",
    "    MDtemp2011[x] = MDtemp2011[x].astype('float')\n",
    "MDtemp2011 = MDtemp2011.fillna(MDtemp2011.mean())\n",
    "\n",
    "print(\"MD Temperature Data for 2011 cleaned and dataframe created\")\n",
    "print(\"\")\n",
    " \n",
    "#MD2010\n",
    "file = path_a + 'MD2010.pdf'\n",
    "tables = camelot.read_pdf(file, pages = '6,7')\n",
    "tables\n",
    "\n",
    "try1 = tables[0].df\n",
    "try1 = pd.DataFrame(try1.iloc[2])\n",
    "try1 = try1.transpose()\n",
    "\n",
    "i=2\n",
    "for x in try1.columns:\n",
    "    globals()['try'+str(i)] = pd.DataFrame(try1[x].str.split('\\n').tolist()).stack()\n",
    "    i=i+1\n",
    "    \n",
    "comb1 = pd.DataFrame()\n",
    "for i in range(2,29):\n",
    "    comb1 = pd.concat([comb1, globals()['try'+str(i)]], ignore_index=True, axis =1)\n",
    "    \n",
    "comb1.columns = ['Station','Jan_Temp_10','Jan_Depart_10','Feb_Temp_10','Feb_Depart_10','Mar_Temp_10','Mar_Depart_10','Apr_Temp_10','Apr_Depart_10','May_Temp_10','May_Depart_10','Jun_Temp_10','Jun_Depart_10','Jul_Temp_10','Jul_Depart_10','Aug_Temp_10','Aug_Depart_10','Sep_Temp_10','Sep_Depart_10','Oct_Temp_10','Oct_Depart_10','Nov_Temp_10','Nov_Depart_10','Dec_Temp_10','Dec_Depart_10','Ann_Temp_10','Ann_Depart_10']\n",
    "\n",
    "try1 = tables[1].df\n",
    "try1 = pd.DataFrame(try1.iloc[2])\n",
    "try1 = try1.transpose()\n",
    "\n",
    "i=2\n",
    "for x in try1.columns:\n",
    "    globals()['try'+str(i)] = pd.DataFrame(try1[x].str.split('\\n').tolist()).stack()\n",
    "    i=i+1\n",
    "    \n",
    "comb2 = pd.DataFrame()\n",
    "for i in range(2,29):\n",
    "    comb2 = pd.concat([comb2, globals()['try'+str(i)]], ignore_index=True, axis =1)\n",
    "    \n",
    "comb2.columns = ['Station','Jan_Temp_10','Jan_Depart_10','Feb_Temp_10','Feb_Depart_10','Mar_Temp_10','Mar_Depart_10','Apr_Temp_10','Apr_Depart_10','May_Temp_10','May_Depart_10','Jun_Temp_10','Jun_Depart_10','Jul_Temp_10','Jul_Depart_10','Aug_Temp_10','Aug_Depart_10','Sep_Temp_10','Sep_Depart_10','Oct_Temp_10','Oct_Depart_10','Nov_Temp_10','Nov_Depart_10','Dec_Temp_10','Dec_Depart_10','Ann_Temp_10','Ann_Depart_10']\n",
    "\n",
    "MDtemp2010 = pd.concat([comb1,comb2])\n",
    "MDtemp2010 = MDtemp2010.set_index('Station')\n",
    "\n",
    "for x in MDtemp2010.columns: \n",
    "    MDtemp2010[x] = MDtemp2010[x].str.split(\".\", n = 1, expand = True) \n",
    "    \n",
    "for x in MDtemp2010.columns:  \n",
    "    MDtemp2010[x] = MDtemp2010[x].str.replace(r'[A-Z]','')\n",
    "    MDtemp2010[x] = MDtemp2010[x].str.replace('      ','0')\n",
    "    MDtemp2010[x] = MDtemp2010[x].str.replace('-','')\n",
    "    MDtemp2010[x] = MDtemp2010[x].str.replace(r'(?<![0-9])\\.\\.(?<![0-9])','.')\n",
    "    MDtemp2010[x] = MDtemp2010[x].str.replace(r'(?<![0-9])\\.(?<![0-9])','')\n",
    "    MDtemp2010[x] = MDtemp2010[x].str.replace(' ','')\n",
    "    MDtemp2010[x] = MDtemp2010[x].replace(r'', np.NaN)\n",
    "    MDtemp2010[x] = MDtemp2010[x].astype('float')\n",
    "MDtemp2010 = MDtemp2010.fillna(MDtemp2010.mean())\n",
    "\n",
    "print(\"MD Temperature Data for 2010 cleaned and dataframe created\")\n",
    "print(\"\")\n",
    " \n",
    "#MD2009\n",
    "file = path_a + 'MD2009.pdf'\n",
    "tables = camelot.read_pdf(file, pages = '6,7')\n",
    "tables\n",
    "\n",
    "try1 = tables[0].df\n",
    "try1 = pd.DataFrame(try1.iloc[2])\n",
    "try1 = try1.transpose()\n",
    "\n",
    "i=2\n",
    "for x in try1.columns:\n",
    "    globals()['try'+str(i)] = pd.DataFrame(try1[x].str.split('\\n').tolist()).stack()\n",
    "    i=i+1\n",
    "    \n",
    "comb1 = pd.DataFrame()\n",
    "for i in range(2,29):\n",
    "    comb1 = pd.concat([comb1, globals()['try'+str(i)]], ignore_index=True, axis =1)\n",
    "    \n",
    "comb1.columns = ['Station','Jan_Temp_09','Jan_Depart_09','Feb_Temp_09','Feb_Depart_09','Mar_Temp_09','Mar_Depart_09','Apr_Temp_09','Apr_Depart_09','May_Temp_09','May_Depart_09','Jun_Temp_09','Jun_Depart_09','Jul_Temp_09','Jul_Depart_09','Aug_Temp_09','Aug_Depart_09','Sep_Temp_09','Sep_Depart_09','Oct_Temp_09','Oct_Depart_09','Nov_Temp_09','Nov_Depart_09','Dec_Temp_09','Dec_Depart_09','Ann_Temp_09','Ann_Depart_09']\n",
    "\n",
    "try1 = tables[1].df\n",
    "try1 = pd.DataFrame(try1.iloc[2])\n",
    "try1 = try1.transpose()\n",
    "\n",
    "i=2\n",
    "for x in try1.columns:\n",
    "    globals()['try'+str(i)] = pd.DataFrame(try1[x].str.split('\\n').tolist()).stack()\n",
    "    i=i+1\n",
    "    \n",
    "comb2 = pd.DataFrame()\n",
    "for i in range(2,29):\n",
    "    comb2 = pd.concat([comb2, globals()['try'+str(i)]], ignore_index=True, axis =1)\n",
    "    \n",
    "comb2.columns = ['Station','Jan_Temp_09','Jan_Depart_09','Feb_Temp_09','Feb_Depart_09','Mar_Temp_09','Mar_Depart_09','Apr_Temp_09','Apr_Depart_09','May_Temp_09','May_Depart_09','Jun_Temp_09','Jun_Depart_09','Jul_Temp_09','Jul_Depart_09','Aug_Temp_09','Aug_Depart_09','Sep_Temp_09','Sep_Depart_09','Oct_Temp_09','Oct_Depart_09','Nov_Temp_09','Nov_Depart_09','Dec_Temp_09','Dec_Depart_09','Ann_Temp_09','Ann_Depart_09']\n",
    "\n",
    "MDtemp2009 = pd.concat([comb1,comb2])\n",
    "MDtemp2009 = MDtemp2009.set_index('Station')\n",
    "\n",
    "for x in MDtemp2009.columns: \n",
    "    MDtemp2009[x] = MDtemp2009[x].str.split(\".\", n = 1, expand = True) \n",
    "    \n",
    "for x in MDtemp2009.columns:  \n",
    "    MDtemp2009[x] = MDtemp2009[x].str.replace(r'[A-Z]','')\n",
    "    MDtemp2009[x] = MDtemp2009[x].str.replace('-','')\n",
    "    MDtemp2009[x] = MDtemp2009[x].str.replace('      ','0')\n",
    "    MDtemp2009[x] = MDtemp2009[x].str.replace(r'(?<![0-9])\\.\\.(?<![0-9])','.')\n",
    "    MDtemp2009[x] = MDtemp2009[x].str.replace(r'(?<![0-9])\\.(?<![0-9])','')\n",
    "    MDtemp2009[x] = MDtemp2009[x].str.replace(' ','')\n",
    "    MDtemp2009[x] = MDtemp2009[x].replace(r'', np.NaN)\n",
    "    MDtemp2009[x] = MDtemp2009[x].astype('float')\n",
    "MDtemp2009 = MDtemp2009.fillna(MDtemp2009.mean())\n",
    "\n",
    "print(\"MD Temperature Data for 2009 cleaned and dataframe created\")\n",
    "print(\"\")\n",
    " \n",
    "#MD2008  \n",
    "file = path_a + 'MD2008.pdf'\n",
    "tables = camelot.read_pdf(file, pages = '6,7')\n",
    "tables\n",
    "\n",
    "try1 = tables[0].df\n",
    "try1 = pd.DataFrame(try1.iloc[2])\n",
    "try1 = try1.transpose()\n",
    "\n",
    "i=2\n",
    "for x in try1.columns:\n",
    "    globals()['try'+str(i)] = pd.DataFrame(try1[x].str.split('\\n').tolist()).stack()\n",
    "    i=i+1\n",
    "    \n",
    "comb1 = pd.DataFrame()\n",
    "for i in range(2,29):\n",
    "    comb1 = pd.concat([comb1, globals()['try'+str(i)]], ignore_index=True, axis =1)\n",
    "    \n",
    "comb1.columns = ['Station','Jan_Temp_08','Jan_Depart_08','Feb_Temp_08','Feb_Depart_08','Mar_Temp_08','Mar_Depart_08','Apr_Temp_08','Apr_Depart_08','May_Temp_08','May_Depart_08','Jun_Temp_08','Jun_Depart_08','Jul_Temp_08','Jul_Depart_08','Aug_Temp_08','Aug_Depart_08','Sep_Temp_08','Sep_Depart_08','Oct_Temp_08','Oct_Depart_08','Nov_Temp_08','Nov_Depart_08','Dec_Temp_08','Dec_Depart_08','Ann_Temp_08','Ann_Depart_08']\n",
    "\n",
    "try1 = tables[1].df\n",
    "try1 = pd.DataFrame(try1.iloc[2])\n",
    "try1 = try1.transpose()\n",
    "\n",
    "i=2\n",
    "for x in try1.columns:\n",
    "    globals()['try'+str(i)] = pd.DataFrame(try1[x].str.split('\\n').tolist()).stack()\n",
    "    i=i+1\n",
    "    \n",
    "comb2 = pd.DataFrame()\n",
    "for i in range(2,29):\n",
    "    comb2 = pd.concat([comb2, globals()['try'+str(i)]], ignore_index=True, axis =1)\n",
    "    \n",
    "comb2.columns = ['Station','Jan_Temp_08','Jan_Depart_08','Feb_Temp_08','Feb_Depart_08','Mar_Temp_08','Mar_Depart_08','Apr_Temp_08','Apr_Depart_08','May_Temp_08','May_Depart_08','Jun_Temp_08','Jun_Depart_08','Jul_Temp_08','Jul_Depart_08','Aug_Temp_08','Aug_Depart_08','Sep_Temp_08','Sep_Depart_08','Oct_Temp_08','Oct_Depart_08','Nov_Temp_08','Nov_Depart_08','Dec_Temp_08','Dec_Depart_08','Ann_Temp_08','Ann_Depart_08']\n",
    "\n",
    "MDtemp2008 = pd.concat([comb1,comb2])\n",
    "MDtemp2008 = MDtemp2008.set_index('Station')\n",
    "\n",
    "for x in MDtemp2008.columns: \n",
    "    MDtemp2008[x] = MDtemp2008[x].str.split(\".\", n = 1, expand = True) \n",
    "    \n",
    "for x in MDtemp2008.columns:  \n",
    "    MDtemp2008[x] = MDtemp2008[x].str.replace(r'[A-Z]','')\n",
    "    MDtemp2008[x] = MDtemp2008[x].str.replace('-','')\n",
    "    MDtemp2008[x] = MDtemp2008[x].str.replace('      ','0')\n",
    "    MDtemp2008[x] = MDtemp2008[x].str.replace(r'(?<![0-9])\\.\\.(?<![0-9])','.')\n",
    "    MDtemp2008[x] = MDtemp2008[x].str.replace(r'(?<![0-9])\\.(?<![0-9])','')\n",
    "    MDtemp2008[x] = MDtemp2008[x].str.replace(' ','')\n",
    "    MDtemp2008[x] = MDtemp2008[x].replace(r'', np.NaN)\n",
    "    MDtemp2008[x] = MDtemp2008[x].astype('float')\n",
    "MDtemp2008 = MDtemp2008.fillna(MDtemp2008.mean())\n",
    "\n",
    "print(\"MD Temperature Data for 2008 cleaned and dataframe created\")\n",
    "print(\"\")\n",
    " \n",
    "#MD2007  \n",
    "file = path_a + 'MD2007.pdf'\n",
    "tables = camelot.read_pdf(file, pages = '6,7')\n",
    "tables\n",
    "\n",
    "try1 = tables[0].df\n",
    "try1 = pd.DataFrame(try1.iloc[2])\n",
    "try1 = try1.transpose()\n",
    "\n",
    "i=2\n",
    "for x in try1.columns:\n",
    "    globals()['try'+str(i)] = pd.DataFrame(try1[x].str.split('\\n').tolist()).stack()\n",
    "    i=i+1\n",
    "    \n",
    "comb1 = pd.DataFrame()\n",
    "for i in range(2,29):\n",
    "    comb1 = pd.concat([comb1, globals()['try'+str(i)]], ignore_index=True, axis =1)\n",
    "    \n",
    "comb1.columns = ['Station','Jan_Temp_07','Jan_Depart_07','Feb_Temp_07','Feb_Depart_07','Mar_Temp_07','Mar_Depart_07','Apr_Temp_07','Apr_Depart_07','May_Temp_07','May_Depart_07','Jun_Temp_07','Jun_Depart_07','Jul_Temp_07','Jul_Depart_07','Aug_Temp_07','Aug_Depart_07','Sep_Temp_07','Sep_Depart_07','Oct_Temp_07','Oct_Depart_07','Nov_Temp_07','Nov_Depart_07','Dec_Temp_07','Dec_Depart_07','Ann_Temp_07','Ann_Depart_07']\n",
    "try1 = tables[1].df\n",
    "try1 = pd.DataFrame(try1.iloc[2])\n",
    "try1 = try1.transpose()\n",
    "\n",
    "i=2\n",
    "for x in try1.columns:\n",
    "    globals()['try'+str(i)] = pd.DataFrame(try1[x].str.split('\\n').tolist()).stack()\n",
    "    i=i+1\n",
    "    \n",
    "comb2 = pd.DataFrame()\n",
    "for i in range(2,29):\n",
    "    comb2 = pd.concat([comb2, globals()['try'+str(i)]], ignore_index=True, axis =1)\n",
    "    \n",
    "comb2.columns = ['Station','Jan_Temp_07','Jan_Depart_07','Feb_Temp_07','Feb_Depart_07','Mar_Temp_07','Mar_Depart_07','Apr_Temp_07','Apr_Depart_07','May_Temp_07','May_Depart_07','Jun_Temp_07','Jun_Depart_07','Jul_Temp_07','Jul_Depart_07','Aug_Temp_07','Aug_Depart_07','Sep_Temp_07','Sep_Depart_07','Oct_Temp_07','Oct_Depart_07','Nov_Temp_07','Nov_Depart_07','Dec_Temp_07','Dec_Depart_07','Ann_Temp_07','Ann_Depart_07']\n",
    "\n",
    "MDtemp2007 = pd.concat([comb1,comb2])\n",
    "MDtemp2007 = MDtemp2007.set_index('Station')\n",
    "\n",
    "for x in MDtemp2007.columns: \n",
    "    MDtemp2007[x] = MDtemp2007[x].str.split(\".\", n = 1, expand = True) \n",
    "    \n",
    "for x in MDtemp2007.columns:  \n",
    "    MDtemp2007[x] = MDtemp2007[x].str.replace(r'[A-Z]','')\n",
    "    MDtemp2007[x] = MDtemp2007[x].str.replace('-','')\n",
    "    MDtemp2007[x] = MDtemp2007[x].str.replace('      ','0')\n",
    "    MDtemp2007[x] = MDtemp2007[x].str.replace(r'(?<![0-9])\\.\\.(?<![0-9])','.')\n",
    "    MDtemp2007[x] = MDtemp2007[x].str.replace(r'(?<![0-9])\\.(?<![0-9])','')\n",
    "    MDtemp2007[x] = MDtemp2007[x].str.replace(' ','')\n",
    "    MDtemp2007[x] = MDtemp2007[x].replace(r'', np.NaN)\n",
    "    MDtemp2007[x] = MDtemp2007[x].astype('float')\n",
    "MDtemp2007 = MDtemp2007.fillna(MDtemp2007.mean())\n",
    "\n",
    "print(\"MD Temperature Data for 2007 cleaned and dataframe created\")\n",
    "print(\"\")\n",
    " \n",
    "#MD2006\n",
    "file = path_a + 'MD2006.pdf'\n",
    "tables = camelot.read_pdf(file, pages = '6,7')\n",
    "tables\n",
    "\n",
    "try1 = tables[0].df\n",
    "try1 = pd.DataFrame(try1.iloc[2])\n",
    "try1 = try1.transpose()\n",
    "\n",
    "i=2\n",
    "for x in try1.columns:\n",
    "    globals()['try'+str(i)] = pd.DataFrame(try1[x].str.split('\\n').tolist()).stack()\n",
    "    i=i+1\n",
    "    \n",
    "comb1 = pd.DataFrame()\n",
    "for i in range(2,29):\n",
    "    comb1 = pd.concat([comb1, globals()['try'+str(i)]], ignore_index=True, axis =1)\n",
    "    \n",
    "comb1.columns = ['Station','Jan_Temp_06','Jan_Depart_06','Feb_Temp_06','Feb_Depart_06','Mar_Temp_06','Mar_Depart_06','Apr_Temp_06','Apr_Depart_06','May_Temp_06','May_Depart_06','Jun_Temp_06','Jun_Depart_06','Jul_Temp_06','Jul_Depart_06','Aug_Temp_06','Aug_Depart_06','Sep_Temp_06','Sep_Depart_06','Oct_Temp_06','Oct_Depart_06','Nov_Temp_06','Nov_Depart_06','Dec_Temp_06','Dec_Depart_06','Ann_Temp_06','Ann_Depart_06']\n",
    "\n",
    "try1 = tables[1].df\n",
    "try1 = pd.DataFrame(try1.iloc[2])\n",
    "try1 = try1.transpose()\n",
    "\n",
    "i=2\n",
    "for x in try1.columns:\n",
    "    globals()['try'+str(i)] = pd.DataFrame(try1[x].str.split('\\n').tolist()).stack()\n",
    "    i=i+1\n",
    "    \n",
    "comb2 = pd.DataFrame()\n",
    "for i in range(2,29):\n",
    "    comb2 = pd.concat([comb2, globals()['try'+str(i)]], ignore_index=True, axis =1)\n",
    "    \n",
    "comb2.columns = ['Station','Jan_Temp_06','Jan_Depart_06','Feb_Temp_06','Feb_Depart_06','Mar_Temp_06','Mar_Depart_06','Apr_Temp_06','Apr_Depart_06','May_Temp_06','May_Depart_06','Jun_Temp_06','Jun_Depart_06','Jul_Temp_06','Jul_Depart_06','Aug_Temp_06','Aug_Depart_06','Sep_Temp_06','Sep_Depart_06','Oct_Temp_06','Oct_Depart_06','Nov_Temp_06','Nov_Depart_06','Dec_Temp_06','Dec_Depart_06','Ann_Temp_06','Ann_Depart_06']\n",
    "\n",
    "MDtemp2006 = pd.concat([comb1,comb2])\n",
    "MDtemp2006 = MDtemp2006.set_index('Station')\n",
    "\n",
    "for x in MDtemp2006.columns: \n",
    "    MDtemp2006[x] = MDtemp2006[x].str.split(\".\", n = 1, expand = True) \n",
    "    \n",
    "for x in MDtemp2006.columns:  \n",
    "    MDtemp2006[x] = MDtemp2006[x].str.replace(r'[A-Z]','')\n",
    "    MDtemp2006[x] = MDtemp2006[x].str.replace('      ','0')\n",
    "    MDtemp2006[x] = MDtemp2006[x].str.replace('-','')\n",
    "    MDtemp2006[x] = MDtemp2006[x].str.replace(r'(?<![0-9])\\.\\.(?<![0-9])','.')\n",
    "    MDtemp2006[x] = MDtemp2006[x].str.replace(r'(?<![0-9])\\.(?<![0-9])','')\n",
    "    MDtemp2006[x] = MDtemp2006[x].str.replace(' ','')\n",
    "    MDtemp2006[x] = MDtemp2006[x].replace(r'', np.NaN)\n",
    "    MDtemp2006[x] = MDtemp2006[x].astype('float')\n",
    "MDtemp2006 = MDtemp2006.fillna(MDtemp2006.mean())\n",
    "\n",
    "print(\"MD Temperature Data for 2006 cleaned and dataframe created\")\n",
    "print(\"\")\n",
    " \n",
    "#MD2005    \n",
    "file = path_a + 'MD2005.pdf'\n",
    "tables = camelot.read_pdf(file, pages = '6,7')\n",
    "tables\n",
    "\n",
    "try1 = tables[0].df\n",
    "try1 = pd.DataFrame(try1.iloc[2])\n",
    "try1 = try1.transpose()\n",
    "\n",
    "i=2\n",
    "for x in try1.columns:\n",
    "    globals()['try'+str(i)] = pd.DataFrame(try1[x].str.split('\\n').tolist()).stack()\n",
    "    i=i+1\n",
    "    \n",
    "comb1 = pd.DataFrame()\n",
    "for i in range(2,29):\n",
    "    comb1 = pd.concat([comb1, globals()['try'+str(i)]], ignore_index=True, axis =1)\n",
    "    \n",
    "comb1.columns = ['Station','Jan_Temp_05','Jan_Depart_05','Feb_Temp_05','Feb_Depart_05','Mar_Temp_05','Mar_Depart_05','Apr_Temp_05','Apr_Depart_05','May_Temp_05','May_Depart_05','Jun_Temp_05','Jun_Depart_05','Jul_Temp_05','Jul_Depart_05','Aug_Temp_05','Aug_Depart_05','Sep_Temp_05','Sep_Depart_05','Oct_Temp_05','Oct_Depart_05','Nov_Temp_05','Nov_Depart_05','Dec_Temp_05','Dec_Depart_05','Ann_Temp_05','Ann_Depart_05']\n",
    "try1 = tables[1].df\n",
    "try1 = pd.DataFrame(try1.iloc[2])\n",
    "try1 = try1.transpose()\n",
    "\n",
    "i=2\n",
    "for x in try1.columns:\n",
    "    globals()['try'+str(i)] = pd.DataFrame(try1[x].str.split('\\n').tolist()).stack()\n",
    "    i=i+1\n",
    "    \n",
    "comb2 = pd.DataFrame()\n",
    "for i in range(2,29):\n",
    "    comb2 = pd.concat([comb2, globals()['try'+str(i)]], ignore_index=True, axis =1)\n",
    "    \n",
    "comb2.columns = ['Station','Jan_Temp_05','Jan_Depart_05','Feb_Temp_05','Feb_Depart_05','Mar_Temp_05','Mar_Depart_05','Apr_Temp_05','Apr_Depart_05','May_Temp_05','May_Depart_05','Jun_Temp_05','Jun_Depart_05','Jul_Temp_05','Jul_Depart_05','Aug_Temp_05','Aug_Depart_05','Sep_Temp_05','Sep_Depart_05','Oct_Temp_05','Oct_Depart_05','Nov_Temp_05','Nov_Depart_05','Dec_Temp_05','Dec_Depart_05','Ann_Temp_05','Ann_Depart_05']\n",
    "\n",
    "MDtemp2005 = pd.concat([comb1,comb2])\n",
    "MDtemp2005 = MDtemp2005.set_index('Station')\n",
    "\n",
    "for x in MDtemp2005.columns: \n",
    "    MDtemp2005[x] = MDtemp2005[x].str.split(\".\", n = 1, expand = True) \n",
    "    \n",
    "for x in MDtemp2005.columns:  \n",
    "    MDtemp2005[x] = MDtemp2005[x].str.replace(r'[A-Z]','')\n",
    "    MDtemp2005[x] = MDtemp2005[x].str.replace('-','')\n",
    "    MDtemp2005[x] = MDtemp2005[x].str.replace('      ','0')\n",
    "    MDtemp2005[x] = MDtemp2005[x].str.replace(r'(?<![0-9])\\.\\.(?<![0-9])','.')\n",
    "    MDtemp2005[x] = MDtemp2005[x].str.replace(r'(?<![0-9])\\.(?<![0-9])','')\n",
    "    MDtemp2005[x] = MDtemp2005[x].str.replace(' ','')\n",
    "    MDtemp2005[x] = MDtemp2005[x].replace(r'', np.NaN)\n",
    "    MDtemp2005[x] = MDtemp2005[x].astype('float')\n",
    "MDtemp2005 = MDtemp2005.fillna(MDtemp2005.mean())\n",
    "\n",
    "print(\"MD Temperature Data for 2005 cleaned and dataframe created\")\n",
    "print(\"\")"
   ]
  },
  {
   "cell_type": "markdown",
   "metadata": {},
   "source": [
    "#### Combining dataframes for years 2005 to 2018 into one dataframe"
   ]
  },
  {
   "cell_type": "code",
   "execution_count": 27,
   "metadata": {},
   "outputs": [
    {
     "name": "stdout",
     "output_type": "stream",
     "text": [
      "All dataframe combined and temperature data for MD saved as .csv\n"
     ]
    }
   ],
   "source": [
    "Station = MDtemp2005.index\n",
    "MDtemp = pd.DataFrame()\n",
    "for i in range(2005,2019):\n",
    "    MDtemp.reset_index(drop=True, inplace=True)\n",
    "    globals()['MDtemp'+str(i)].reset_index(drop=True, inplace=True)\n",
    "    MDtemp = pd.concat([MDtemp, globals()['MDtemp'+str(i)]], axis =1)\n",
    "    \n",
    "MDtemp = MDtemp.set_index(Station)\n",
    "MDtemp = MDtemp.transpose()\n",
    "MDtemp.to_csv(path_a+'\\\\MDtemp.csv')\n",
    "\n",
    "print(\"All dataframe combined and temperature data for MD saved as .csv\")"
   ]
  },
  {
   "cell_type": "code",
   "execution_count": 28,
   "metadata": {
    "scrolled": true
   },
   "outputs": [
    {
     "data": {
      "text/html": [
       "<div>\n",
       "<style scoped>\n",
       "    .dataframe tbody tr th:only-of-type {\n",
       "        vertical-align: middle;\n",
       "    }\n",
       "\n",
       "    .dataframe tbody tr th {\n",
       "        vertical-align: top;\n",
       "    }\n",
       "\n",
       "    .dataframe thead th {\n",
       "        text-align: right;\n",
       "    }\n",
       "</style>\n",
       "<table border=\"1\" class=\"dataframe\">\n",
       "  <thead>\n",
       "    <tr style=\"text-align: right;\">\n",
       "      <th>Station</th>\n",
       "      <th>MARYLAND</th>\n",
       "      <th>SOUTHERN EASTERN</th>\n",
       "      <th>SHORE              01</th>\n",
       "      <th>ASSATEAGUE</th>\n",
       "      <th>PRINCESS ANNE</th>\n",
       "      <th>SALISBURY</th>\n",
       "      <th>SALISBURY POLICE BRKS</th>\n",
       "      <th>SALISBURY FAA AP</th>\n",
       "      <th>SNOW HILL 4 N</th>\n",
       "      <th>--DIVISIONAL DATA-------&gt;</th>\n",
       "      <th>...</th>\n",
       "      <th>NEWARK UNIV FARM</th>\n",
       "      <th>WILMINGTON NEW CASTLE   R</th>\n",
       "      <th>WILMINGTON PORTER RSVR</th>\n",
       "      <th>--DIVISIONAL DATA-------&gt;</th>\n",
       "      <th>SOUTHERN           02</th>\n",
       "      <th>DOVER</th>\n",
       "      <th>GREENWOOD 2NE</th>\n",
       "      <th>LEWES</th>\n",
       "      <th>SMYRNA 1 W</th>\n",
       "      <th>--DIVISIONAL DATA-------&gt;</th>\n",
       "    </tr>\n",
       "  </thead>\n",
       "  <tbody>\n",
       "    <tr>\n",
       "      <td>Jan_Temp_05</td>\n",
       "      <td>37.000000</td>\n",
       "      <td>33.520000</td>\n",
       "      <td>37.000000</td>\n",
       "      <td>37.000000</td>\n",
       "      <td>35.000000</td>\n",
       "      <td>38.000000</td>\n",
       "      <td>37.000000</td>\n",
       "      <td>36.000000</td>\n",
       "      <td>37.000000</td>\n",
       "      <td>36.0</td>\n",
       "      <td>...</td>\n",
       "      <td>34.0</td>\n",
       "      <td>37.000000</td>\n",
       "      <td>33.520000</td>\n",
       "      <td>35.000000</td>\n",
       "      <td>33.520000</td>\n",
       "      <td>33.520000</td>\n",
       "      <td>33.520000</td>\n",
       "      <td>33.520000</td>\n",
       "      <td>33.520000</td>\n",
       "      <td>33.520000</td>\n",
       "    </tr>\n",
       "    <tr>\n",
       "      <td>Jan_Depart_05</td>\n",
       "      <td>1.000000</td>\n",
       "      <td>1.833333</td>\n",
       "      <td>1.833333</td>\n",
       "      <td>1.833333</td>\n",
       "      <td>1.833333</td>\n",
       "      <td>1.000000</td>\n",
       "      <td>1.000000</td>\n",
       "      <td>1.833333</td>\n",
       "      <td>1.000000</td>\n",
       "      <td>2.0</td>\n",
       "      <td>...</td>\n",
       "      <td>1.0</td>\n",
       "      <td>1.833333</td>\n",
       "      <td>1.833333</td>\n",
       "      <td>1.833333</td>\n",
       "      <td>1.833333</td>\n",
       "      <td>1.833333</td>\n",
       "      <td>1.833333</td>\n",
       "      <td>1.833333</td>\n",
       "      <td>1.833333</td>\n",
       "      <td>1.833333</td>\n",
       "    </tr>\n",
       "    <tr>\n",
       "      <td>Feb_Temp_05</td>\n",
       "      <td>38.000000</td>\n",
       "      <td>36.076923</td>\n",
       "      <td>40.000000</td>\n",
       "      <td>39.000000</td>\n",
       "      <td>36.000000</td>\n",
       "      <td>39.000000</td>\n",
       "      <td>39.000000</td>\n",
       "      <td>38.000000</td>\n",
       "      <td>39.000000</td>\n",
       "      <td>39.0</td>\n",
       "      <td>...</td>\n",
       "      <td>35.0</td>\n",
       "      <td>37.000000</td>\n",
       "      <td>36.076923</td>\n",
       "      <td>37.000000</td>\n",
       "      <td>36.076923</td>\n",
       "      <td>36.076923</td>\n",
       "      <td>36.076923</td>\n",
       "      <td>36.076923</td>\n",
       "      <td>36.076923</td>\n",
       "      <td>36.076923</td>\n",
       "    </tr>\n",
       "    <tr>\n",
       "      <td>Feb_Depart_05</td>\n",
       "      <td>1.571429</td>\n",
       "      <td>1.571429</td>\n",
       "      <td>1.000000</td>\n",
       "      <td>1.571429</td>\n",
       "      <td>1.000000</td>\n",
       "      <td>1.571429</td>\n",
       "      <td>1.000000</td>\n",
       "      <td>1.571429</td>\n",
       "      <td>1.000000</td>\n",
       "      <td>2.0</td>\n",
       "      <td>...</td>\n",
       "      <td>1.0</td>\n",
       "      <td>1.571429</td>\n",
       "      <td>1.571429</td>\n",
       "      <td>1.571429</td>\n",
       "      <td>1.571429</td>\n",
       "      <td>1.571429</td>\n",
       "      <td>1.571429</td>\n",
       "      <td>1.571429</td>\n",
       "      <td>1.571429</td>\n",
       "      <td>1.571429</td>\n",
       "    </tr>\n",
       "    <tr>\n",
       "      <td>Mar_Temp_05</td>\n",
       "      <td>41.000000</td>\n",
       "      <td>38.905660</td>\n",
       "      <td>43.000000</td>\n",
       "      <td>42.000000</td>\n",
       "      <td>39.000000</td>\n",
       "      <td>41.000000</td>\n",
       "      <td>41.000000</td>\n",
       "      <td>42.000000</td>\n",
       "      <td>42.000000</td>\n",
       "      <td>42.0</td>\n",
       "      <td>...</td>\n",
       "      <td>39.0</td>\n",
       "      <td>41.000000</td>\n",
       "      <td>38.905660</td>\n",
       "      <td>40.000000</td>\n",
       "      <td>38.905660</td>\n",
       "      <td>38.905660</td>\n",
       "      <td>38.905660</td>\n",
       "      <td>38.905660</td>\n",
       "      <td>38.905660</td>\n",
       "      <td>38.905660</td>\n",
       "    </tr>\n",
       "    <tr>\n",
       "      <td>...</td>\n",
       "      <td>...</td>\n",
       "      <td>...</td>\n",
       "      <td>...</td>\n",
       "      <td>...</td>\n",
       "      <td>...</td>\n",
       "      <td>...</td>\n",
       "      <td>...</td>\n",
       "      <td>...</td>\n",
       "      <td>...</td>\n",
       "      <td>...</td>\n",
       "      <td>...</td>\n",
       "      <td>...</td>\n",
       "      <td>...</td>\n",
       "      <td>...</td>\n",
       "      <td>...</td>\n",
       "      <td>...</td>\n",
       "      <td>...</td>\n",
       "      <td>...</td>\n",
       "      <td>...</td>\n",
       "      <td>...</td>\n",
       "      <td>...</td>\n",
       "    </tr>\n",
       "    <tr>\n",
       "      <td>Nov_Depart_18</td>\n",
       "      <td>-1.000000</td>\n",
       "      <td>0.000000</td>\n",
       "      <td>-0.000000</td>\n",
       "      <td>-3.000000</td>\n",
       "      <td>-1.000000</td>\n",
       "      <td>-2.000000</td>\n",
       "      <td>-2.540541</td>\n",
       "      <td>-3.000000</td>\n",
       "      <td>-1.000000</td>\n",
       "      <td>-2.0</td>\n",
       "      <td>...</td>\n",
       "      <td>NaN</td>\n",
       "      <td>NaN</td>\n",
       "      <td>NaN</td>\n",
       "      <td>NaN</td>\n",
       "      <td>NaN</td>\n",
       "      <td>NaN</td>\n",
       "      <td>NaN</td>\n",
       "      <td>NaN</td>\n",
       "      <td>NaN</td>\n",
       "      <td>NaN</td>\n",
       "    </tr>\n",
       "    <tr>\n",
       "      <td>Dec_Temp_18</td>\n",
       "      <td>38.615385</td>\n",
       "      <td>43.000000</td>\n",
       "      <td>42.000000</td>\n",
       "      <td>45.000000</td>\n",
       "      <td>43.000000</td>\n",
       "      <td>41.000000</td>\n",
       "      <td>41.000000</td>\n",
       "      <td>39.000000</td>\n",
       "      <td>38.615385</td>\n",
       "      <td>39.0</td>\n",
       "      <td>...</td>\n",
       "      <td>NaN</td>\n",
       "      <td>NaN</td>\n",
       "      <td>NaN</td>\n",
       "      <td>NaN</td>\n",
       "      <td>NaN</td>\n",
       "      <td>NaN</td>\n",
       "      <td>NaN</td>\n",
       "      <td>NaN</td>\n",
       "      <td>NaN</td>\n",
       "      <td>NaN</td>\n",
       "    </tr>\n",
       "    <tr>\n",
       "      <td>Dec_Depart_18</td>\n",
       "      <td>3.000000</td>\n",
       "      <td>3.000000</td>\n",
       "      <td>1.000000</td>\n",
       "      <td>2.000000</td>\n",
       "      <td>2.096774</td>\n",
       "      <td>1.000000</td>\n",
       "      <td>3.000000</td>\n",
       "      <td>2.000000</td>\n",
       "      <td>2.000000</td>\n",
       "      <td>3.0</td>\n",
       "      <td>...</td>\n",
       "      <td>NaN</td>\n",
       "      <td>NaN</td>\n",
       "      <td>NaN</td>\n",
       "      <td>NaN</td>\n",
       "      <td>NaN</td>\n",
       "      <td>NaN</td>\n",
       "      <td>NaN</td>\n",
       "      <td>NaN</td>\n",
       "      <td>NaN</td>\n",
       "      <td>NaN</td>\n",
       "    </tr>\n",
       "    <tr>\n",
       "      <td>Ann_Temp_18</td>\n",
       "      <td>48.138889</td>\n",
       "      <td>61.000000</td>\n",
       "      <td>58.000000</td>\n",
       "      <td>4.000000</td>\n",
       "      <td>58.000000</td>\n",
       "      <td>58.000000</td>\n",
       "      <td>58.000000</td>\n",
       "      <td>2.000000</td>\n",
       "      <td>48.138889</td>\n",
       "      <td>55.0</td>\n",
       "      <td>...</td>\n",
       "      <td>NaN</td>\n",
       "      <td>NaN</td>\n",
       "      <td>NaN</td>\n",
       "      <td>NaN</td>\n",
       "      <td>NaN</td>\n",
       "      <td>NaN</td>\n",
       "      <td>NaN</td>\n",
       "      <td>NaN</td>\n",
       "      <td>NaN</td>\n",
       "      <td>NaN</td>\n",
       "    </tr>\n",
       "    <tr>\n",
       "      <td>Ann_Depart_18</td>\n",
       "      <td>2.000000</td>\n",
       "      <td>0.000000</td>\n",
       "      <td>2.000000</td>\n",
       "      <td>0.000000</td>\n",
       "      <td>2.000000</td>\n",
       "      <td>0.000000</td>\n",
       "      <td>0.000000</td>\n",
       "      <td>4.000000</td>\n",
       "      <td>1.000000</td>\n",
       "      <td>0.0</td>\n",
       "      <td>...</td>\n",
       "      <td>NaN</td>\n",
       "      <td>NaN</td>\n",
       "      <td>NaN</td>\n",
       "      <td>NaN</td>\n",
       "      <td>NaN</td>\n",
       "      <td>NaN</td>\n",
       "      <td>NaN</td>\n",
       "      <td>NaN</td>\n",
       "      <td>NaN</td>\n",
       "      <td>NaN</td>\n",
       "    </tr>\n",
       "  </tbody>\n",
       "</table>\n",
       "<p>364 rows × 73 columns</p>\n",
       "</div>"
      ],
      "text/plain": [
       "Station         MARYLAND  SOUTHERN EASTERN  SHORE              01  \\\n",
       "Jan_Temp_05    37.000000         33.520000              37.000000   \n",
       "Jan_Depart_05   1.000000          1.833333               1.833333   \n",
       "Feb_Temp_05    38.000000         36.076923              40.000000   \n",
       "Feb_Depart_05   1.571429          1.571429               1.000000   \n",
       "Mar_Temp_05    41.000000         38.905660              43.000000   \n",
       "...                  ...               ...                    ...   \n",
       "Nov_Depart_18  -1.000000          0.000000              -0.000000   \n",
       "Dec_Temp_18    38.615385         43.000000              42.000000   \n",
       "Dec_Depart_18   3.000000          3.000000               1.000000   \n",
       "Ann_Temp_18    48.138889         61.000000              58.000000   \n",
       "Ann_Depart_18   2.000000          0.000000               2.000000   \n",
       "\n",
       "Station        ASSATEAGUE                 PRINCESS ANNE              \\\n",
       "Jan_Temp_05                    37.000000                  35.000000   \n",
       "Jan_Depart_05                   1.833333                   1.833333   \n",
       "Feb_Temp_05                    39.000000                  36.000000   \n",
       "Feb_Depart_05                   1.571429                   1.000000   \n",
       "Mar_Temp_05                    42.000000                  39.000000   \n",
       "...                                  ...                        ...   \n",
       "Nov_Depart_18                  -3.000000                  -1.000000   \n",
       "Dec_Temp_18                    45.000000                  43.000000   \n",
       "Dec_Depart_18                   2.000000                   2.096774   \n",
       "Ann_Temp_18                     4.000000                  58.000000   \n",
       "Ann_Depart_18                   0.000000                   2.000000   \n",
       "\n",
       "Station        SALISBURY                  SALISBURY POLICE BRKS      \\\n",
       "Jan_Temp_05                    38.000000                  37.000000   \n",
       "Jan_Depart_05                   1.000000                   1.000000   \n",
       "Feb_Temp_05                    39.000000                  39.000000   \n",
       "Feb_Depart_05                   1.571429                   1.000000   \n",
       "Mar_Temp_05                    41.000000                  41.000000   \n",
       "...                                  ...                        ...   \n",
       "Nov_Depart_18                  -2.000000                  -2.540541   \n",
       "Dec_Temp_18                    41.000000                  41.000000   \n",
       "Dec_Depart_18                   1.000000                   3.000000   \n",
       "Ann_Temp_18                    58.000000                  58.000000   \n",
       "Ann_Depart_18                   0.000000                   0.000000   \n",
       "\n",
       "Station        SALISBURY FAA AP           SNOW HILL 4 N              \\\n",
       "Jan_Temp_05                    36.000000                  37.000000   \n",
       "Jan_Depart_05                   1.833333                   1.000000   \n",
       "Feb_Temp_05                    38.000000                  39.000000   \n",
       "Feb_Depart_05                   1.571429                   1.000000   \n",
       "Mar_Temp_05                    42.000000                  42.000000   \n",
       "...                                  ...                        ...   \n",
       "Nov_Depart_18                  -3.000000                  -1.000000   \n",
       "Dec_Temp_18                    39.000000                  38.615385   \n",
       "Dec_Depart_18                   2.000000                   2.000000   \n",
       "Ann_Temp_18                     2.000000                  48.138889   \n",
       "Ann_Depart_18                   4.000000                   1.000000   \n",
       "\n",
       "Station        --DIVISIONAL DATA------->  ...  NEWARK UNIV FARM           \\\n",
       "Jan_Temp_05                         36.0  ...                       34.0   \n",
       "Jan_Depart_05                        2.0  ...                        1.0   \n",
       "Feb_Temp_05                         39.0  ...                       35.0   \n",
       "Feb_Depart_05                        2.0  ...                        1.0   \n",
       "Mar_Temp_05                         42.0  ...                       39.0   \n",
       "...                                  ...  ...                        ...   \n",
       "Nov_Depart_18                       -2.0  ...                        NaN   \n",
       "Dec_Temp_18                         39.0  ...                        NaN   \n",
       "Dec_Depart_18                        3.0  ...                        NaN   \n",
       "Ann_Temp_18                         55.0  ...                        NaN   \n",
       "Ann_Depart_18                        0.0  ...                        NaN   \n",
       "\n",
       "Station        WILMINGTON NEW CASTLE   R  WILMINGTON PORTER RSVR     \\\n",
       "Jan_Temp_05                    37.000000                  33.520000   \n",
       "Jan_Depart_05                   1.833333                   1.833333   \n",
       "Feb_Temp_05                    37.000000                  36.076923   \n",
       "Feb_Depart_05                   1.571429                   1.571429   \n",
       "Mar_Temp_05                    41.000000                  38.905660   \n",
       "...                                  ...                        ...   \n",
       "Nov_Depart_18                        NaN                        NaN   \n",
       "Dec_Temp_18                          NaN                        NaN   \n",
       "Dec_Depart_18                        NaN                        NaN   \n",
       "Ann_Temp_18                          NaN                        NaN   \n",
       "Ann_Depart_18                        NaN                        NaN   \n",
       "\n",
       "Station        --DIVISIONAL DATA------->  SOUTHERN           02  \\\n",
       "Jan_Temp_05                    35.000000              33.520000   \n",
       "Jan_Depart_05                   1.833333               1.833333   \n",
       "Feb_Temp_05                    37.000000              36.076923   \n",
       "Feb_Depart_05                   1.571429               1.571429   \n",
       "Mar_Temp_05                    40.000000              38.905660   \n",
       "...                                  ...                    ...   \n",
       "Nov_Depart_18                        NaN                    NaN   \n",
       "Dec_Temp_18                          NaN                    NaN   \n",
       "Dec_Depart_18                        NaN                    NaN   \n",
       "Ann_Temp_18                          NaN                    NaN   \n",
       "Ann_Depart_18                        NaN                    NaN   \n",
       "\n",
       "Station        DOVER                      GREENWOOD 2NE              \\\n",
       "Jan_Temp_05                    33.520000                  33.520000   \n",
       "Jan_Depart_05                   1.833333                   1.833333   \n",
       "Feb_Temp_05                    36.076923                  36.076923   \n",
       "Feb_Depart_05                   1.571429                   1.571429   \n",
       "Mar_Temp_05                    38.905660                  38.905660   \n",
       "...                                  ...                        ...   \n",
       "Nov_Depart_18                        NaN                        NaN   \n",
       "Dec_Temp_18                          NaN                        NaN   \n",
       "Dec_Depart_18                        NaN                        NaN   \n",
       "Ann_Temp_18                          NaN                        NaN   \n",
       "Ann_Depart_18                        NaN                        NaN   \n",
       "\n",
       "Station        LEWES                      SMYRNA 1 W                 \\\n",
       "Jan_Temp_05                    33.520000                  33.520000   \n",
       "Jan_Depart_05                   1.833333                   1.833333   \n",
       "Feb_Temp_05                    36.076923                  36.076923   \n",
       "Feb_Depart_05                   1.571429                   1.571429   \n",
       "Mar_Temp_05                    38.905660                  38.905660   \n",
       "...                                  ...                        ...   \n",
       "Nov_Depart_18                        NaN                        NaN   \n",
       "Dec_Temp_18                          NaN                        NaN   \n",
       "Dec_Depart_18                        NaN                        NaN   \n",
       "Ann_Temp_18                          NaN                        NaN   \n",
       "Ann_Depart_18                        NaN                        NaN   \n",
       "\n",
       "Station        --DIVISIONAL DATA------->  \n",
       "Jan_Temp_05                    33.520000  \n",
       "Jan_Depart_05                   1.833333  \n",
       "Feb_Temp_05                    36.076923  \n",
       "Feb_Depart_05                   1.571429  \n",
       "Mar_Temp_05                    38.905660  \n",
       "...                                  ...  \n",
       "Nov_Depart_18                        NaN  \n",
       "Dec_Temp_18                          NaN  \n",
       "Dec_Depart_18                        NaN  \n",
       "Ann_Temp_18                          NaN  \n",
       "Ann_Depart_18                        NaN  \n",
       "\n",
       "[364 rows x 73 columns]"
      ]
     },
     "execution_count": 28,
     "metadata": {},
     "output_type": "execute_result"
    }
   ],
   "source": [
    "MDtemp"
   ]
  },
  {
   "cell_type": "markdown",
   "metadata": {},
   "source": [
    "# Step 3"
   ]
  },
  {
   "cell_type": "markdown",
   "metadata": {},
   "source": [
    "# Data Visualization"
   ]
  },
  {
   "cell_type": "code",
   "execution_count": 29,
   "metadata": {},
   "outputs": [
    {
     "data": {
      "text/plain": [
       "'C:\\\\Users\\\\dharm\\\\Jupyter Workspace\\\\project\\\\MD\\\\'"
      ]
     },
     "execution_count": 29,
     "metadata": {},
     "output_type": "execute_result"
    }
   ],
   "source": [
    "path_a = os.getcwd() + '\\\\MD\\\\'\n",
    "path_a"
   ]
  },
  {
   "cell_type": "markdown",
   "metadata": {},
   "source": [
    "#### Map to show the location of weather stations accross the MD state"
   ]
  },
  {
   "cell_type": "markdown",
   "metadata": {},
   "source": [
    "Limitations: \n",
    "    We used the coordinates of the weather stations given inside the report by NOAA which were not completly accurate and hence the markers on the map are not accurate"
   ]
  },
  {
   "cell_type": "code",
   "execution_count": 30,
   "metadata": {},
   "outputs": [],
   "source": [
    "file = path_a + 'MDrain.csv'\n",
    "mdrain=pd.read_csv(file, index_col=None)"
   ]
  },
  {
   "cell_type": "code",
   "execution_count": 31,
   "metadata": {
    "scrolled": true
   },
   "outputs": [
    {
     "data": {
      "text/html": [
       "<div style=\"width:100%;\"><div style=\"position:relative;width:100%;height:0;padding-bottom:60%;\"><iframe src=\"data:text/html;charset=utf-8;base64,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\" style=\"position:absolute;width:100%;height:100%;left:0;top:0;border:none !important;\" allowfullscreen webkitallowfullscreen mozallowfullscreen></iframe></div></div>"
      ],
      "text/plain": [
       "<folium.folium.Map at 0x2460060e588>"
      ]
     },
     "execution_count": 31,
     "metadata": {},
     "output_type": "execute_result"
    }
   ],
   "source": [
    "m = folium.Map(location=[40.0458, -76.641273],\n",
    "              zoom_start=7)\n",
    "\n",
    "df=pd.read_csv(path_a+'MDCoord.csv',index_col=None)\n",
    "\n",
    "df_copy=df.copy()\n",
    "df_copy=df_copy.drop(columns=(['County','Location']))\n",
    "locList=df_copy.values.tolist()\n",
    "#print(locList)\n",
    "for point in range(0,len(locList)):\n",
    "    folium.Marker(locList[point],popup=df['Location'][point]).add_to(m)\n",
    "\n",
    "m"
   ]
  },
  {
   "cell_type": "code",
   "execution_count": 32,
   "metadata": {
    "scrolled": true
   },
   "outputs": [
    {
     "data": {
      "text/html": [
       "<div>\n",
       "<style scoped>\n",
       "    .dataframe tbody tr th:only-of-type {\n",
       "        vertical-align: middle;\n",
       "    }\n",
       "\n",
       "    .dataframe tbody tr th {\n",
       "        vertical-align: top;\n",
       "    }\n",
       "\n",
       "    .dataframe thead th {\n",
       "        text-align: right;\n",
       "    }\n",
       "</style>\n",
       "<table border=\"1\" class=\"dataframe\">\n",
       "  <thead>\n",
       "    <tr style=\"text-align: right;\">\n",
       "      <th></th>\n",
       "      <th>Month and Year</th>\n",
       "      <th>SOUTHERN EASTERN</th>\n",
       "      <th>SHORE              01</th>\n",
       "      <th>ASSATEAGUE</th>\n",
       "      <th>PRINCESS ANNE</th>\n",
       "      <th>SALISBURY</th>\n",
       "      <th>SALISBURY POLICE BRKS</th>\n",
       "      <th>SALISBURY FAA AP</th>\n",
       "      <th>SNOW HILL 4 N</th>\n",
       "      <th>--DIVISIONAL DATA-------&gt;</th>\n",
       "      <th>...</th>\n",
       "      <th>ABERDEEN PHILLIPS FLD</th>\n",
       "      <th>CATOCTIN MOUNTAIN PARK</th>\n",
       "      <th>CONOWINGO DAM</th>\n",
       "      <th>CYLBURN</th>\n",
       "      <th>DAMASCUS 3 SSW</th>\n",
       "      <th>EMMITSBURG 2 SE</th>\n",
       "      <th>FREDERICK 2 NNE</th>\n",
       "      <th>MILLERS 4 NE</th>\n",
       "      <th>PORT DEPOSIT 2 NE</th>\n",
       "      <th>POTOMAC FILTER PLANT</th>\n",
       "    </tr>\n",
       "  </thead>\n",
       "  <tbody>\n",
       "    <tr>\n",
       "      <td>0</td>\n",
       "      <td>JAN_Precip_05</td>\n",
       "      <td>4.510000</td>\n",
       "      <td>3.430000</td>\n",
       "      <td>4.88</td>\n",
       "      <td>5.04</td>\n",
       "      <td>4.04</td>\n",
       "      <td>4.19</td>\n",
       "      <td>4.370000</td>\n",
       "      <td>4.12</td>\n",
       "      <td>2.180000</td>\n",
       "      <td>...</td>\n",
       "      <td>1.520000</td>\n",
       "      <td>3.590556</td>\n",
       "      <td>3.590556</td>\n",
       "      <td>3.590556</td>\n",
       "      <td>3.590556</td>\n",
       "      <td>3.590556</td>\n",
       "      <td>3.590556</td>\n",
       "      <td>3.590556</td>\n",
       "      <td>3.590556</td>\n",
       "      <td>3.590556</td>\n",
       "    </tr>\n",
       "    <tr>\n",
       "      <td>1</td>\n",
       "      <td>JAN_Depart_05</td>\n",
       "      <td>0.860000</td>\n",
       "      <td>0.000000</td>\n",
       "      <td>-0.05</td>\n",
       "      <td>0.17</td>\n",
       "      <td>0.37</td>\n",
       "      <td>0.01</td>\n",
       "      <td>0.000000</td>\n",
       "      <td>0.14</td>\n",
       "      <td>-0.550000</td>\n",
       "      <td>...</td>\n",
       "      <td>0.131250</td>\n",
       "      <td>0.131250</td>\n",
       "      <td>0.131250</td>\n",
       "      <td>0.131250</td>\n",
       "      <td>0.131250</td>\n",
       "      <td>0.131250</td>\n",
       "      <td>0.131250</td>\n",
       "      <td>0.131250</td>\n",
       "      <td>0.131250</td>\n",
       "      <td>0.131250</td>\n",
       "    </tr>\n",
       "    <tr>\n",
       "      <td>2</td>\n",
       "      <td>FEB_Precip_05</td>\n",
       "      <td>3.090000</td>\n",
       "      <td>2.940000</td>\n",
       "      <td>2.52</td>\n",
       "      <td>2.61</td>\n",
       "      <td>3.04</td>\n",
       "      <td>2.73</td>\n",
       "      <td>2.820000</td>\n",
       "      <td>2.25</td>\n",
       "      <td>2.100000</td>\n",
       "      <td>...</td>\n",
       "      <td>1.610000</td>\n",
       "      <td>1.953333</td>\n",
       "      <td>1.953333</td>\n",
       "      <td>1.953333</td>\n",
       "      <td>1.953333</td>\n",
       "      <td>1.953333</td>\n",
       "      <td>1.953333</td>\n",
       "      <td>1.953333</td>\n",
       "      <td>1.953333</td>\n",
       "      <td>1.953333</td>\n",
       "    </tr>\n",
       "    <tr>\n",
       "      <td>3</td>\n",
       "      <td>FEB_Depart_05</td>\n",
       "      <td>-0.500000</td>\n",
       "      <td>0.000000</td>\n",
       "      <td>-0.93</td>\n",
       "      <td>0.00</td>\n",
       "      <td>-0.52</td>\n",
       "      <td>-0.68</td>\n",
       "      <td>-0.600000</td>\n",
       "      <td>-1.10</td>\n",
       "      <td>-1.230000</td>\n",
       "      <td>...</td>\n",
       "      <td>-0.970000</td>\n",
       "      <td>-0.639167</td>\n",
       "      <td>-0.639167</td>\n",
       "      <td>-0.639167</td>\n",
       "      <td>-0.639167</td>\n",
       "      <td>-0.639167</td>\n",
       "      <td>-0.639167</td>\n",
       "      <td>-0.639167</td>\n",
       "      <td>-0.639167</td>\n",
       "      <td>-0.639167</td>\n",
       "    </tr>\n",
       "    <tr>\n",
       "      <td>4</td>\n",
       "      <td>MAR_Precip_05</td>\n",
       "      <td>4.600000</td>\n",
       "      <td>3.910000</td>\n",
       "      <td>4.69</td>\n",
       "      <td>2.85</td>\n",
       "      <td>4.05</td>\n",
       "      <td>4.84</td>\n",
       "      <td>4.420000</td>\n",
       "      <td>4.43</td>\n",
       "      <td>4.440000</td>\n",
       "      <td>...</td>\n",
       "      <td>5.000000</td>\n",
       "      <td>4.570833</td>\n",
       "      <td>4.570833</td>\n",
       "      <td>4.570833</td>\n",
       "      <td>4.570833</td>\n",
       "      <td>4.570833</td>\n",
       "      <td>4.570833</td>\n",
       "      <td>4.570833</td>\n",
       "      <td>4.570833</td>\n",
       "      <td>4.570833</td>\n",
       "    </tr>\n",
       "    <tr>\n",
       "      <td>...</td>\n",
       "      <td>...</td>\n",
       "      <td>...</td>\n",
       "      <td>...</td>\n",
       "      <td>...</td>\n",
       "      <td>...</td>\n",
       "      <td>...</td>\n",
       "      <td>...</td>\n",
       "      <td>...</td>\n",
       "      <td>...</td>\n",
       "      <td>...</td>\n",
       "      <td>...</td>\n",
       "      <td>...</td>\n",
       "      <td>...</td>\n",
       "      <td>...</td>\n",
       "      <td>...</td>\n",
       "      <td>...</td>\n",
       "      <td>...</td>\n",
       "      <td>...</td>\n",
       "      <td>...</td>\n",
       "      <td>...</td>\n",
       "      <td>...</td>\n",
       "    </tr>\n",
       "    <tr>\n",
       "      <td>331</td>\n",
       "      <td>OCT_Depart_18</td>\n",
       "      <td>3.500000</td>\n",
       "      <td>0.635385</td>\n",
       "      <td>5.18</td>\n",
       "      <td>-2.04</td>\n",
       "      <td>4.61</td>\n",
       "      <td>2.19</td>\n",
       "      <td>2.670000</td>\n",
       "      <td>4.57</td>\n",
       "      <td>0.635385</td>\n",
       "      <td>...</td>\n",
       "      <td>0.635385</td>\n",
       "      <td>0.635385</td>\n",
       "      <td>0.635385</td>\n",
       "      <td>0.635385</td>\n",
       "      <td>0.635385</td>\n",
       "      <td>0.635385</td>\n",
       "      <td>0.635385</td>\n",
       "      <td>0.635385</td>\n",
       "      <td>NaN</td>\n",
       "      <td>NaN</td>\n",
       "    </tr>\n",
       "    <tr>\n",
       "      <td>332</td>\n",
       "      <td>NOV_Precip_18</td>\n",
       "      <td>5.860000</td>\n",
       "      <td>6.390000</td>\n",
       "      <td>4.50</td>\n",
       "      <td>4.50</td>\n",
       "      <td>5.13</td>\n",
       "      <td>7.82</td>\n",
       "      <td>7.203226</td>\n",
       "      <td>6.89</td>\n",
       "      <td>8.330000</td>\n",
       "      <td>...</td>\n",
       "      <td>7.203226</td>\n",
       "      <td>7.203226</td>\n",
       "      <td>7.203226</td>\n",
       "      <td>7.203226</td>\n",
       "      <td>7.203226</td>\n",
       "      <td>7.203226</td>\n",
       "      <td>7.203226</td>\n",
       "      <td>7.203226</td>\n",
       "      <td>NaN</td>\n",
       "      <td>NaN</td>\n",
       "    </tr>\n",
       "    <tr>\n",
       "      <td>333</td>\n",
       "      <td>NOV_Depart_18</td>\n",
       "      <td>2.470000</td>\n",
       "      <td>3.734000</td>\n",
       "      <td>1.07</td>\n",
       "      <td>0.98</td>\n",
       "      <td>1.95</td>\n",
       "      <td>4.17</td>\n",
       "      <td>3.734000</td>\n",
       "      <td>3.30</td>\n",
       "      <td>3.734000</td>\n",
       "      <td>...</td>\n",
       "      <td>3.734000</td>\n",
       "      <td>3.734000</td>\n",
       "      <td>3.734000</td>\n",
       "      <td>3.734000</td>\n",
       "      <td>3.734000</td>\n",
       "      <td>3.734000</td>\n",
       "      <td>3.734000</td>\n",
       "      <td>3.734000</td>\n",
       "      <td>NaN</td>\n",
       "      <td>NaN</td>\n",
       "    </tr>\n",
       "    <tr>\n",
       "      <td>334</td>\n",
       "      <td>DEC_Precip_18</td>\n",
       "      <td>5.330345</td>\n",
       "      <td>4.670000</td>\n",
       "      <td>3.53</td>\n",
       "      <td>3.29</td>\n",
       "      <td>3.83</td>\n",
       "      <td>4.61</td>\n",
       "      <td>4.610000</td>\n",
       "      <td>4.92</td>\n",
       "      <td>5.330345</td>\n",
       "      <td>...</td>\n",
       "      <td>5.330345</td>\n",
       "      <td>5.330345</td>\n",
       "      <td>5.330345</td>\n",
       "      <td>5.330345</td>\n",
       "      <td>5.330345</td>\n",
       "      <td>5.330345</td>\n",
       "      <td>5.330345</td>\n",
       "      <td>5.330345</td>\n",
       "      <td>NaN</td>\n",
       "      <td>NaN</td>\n",
       "    </tr>\n",
       "    <tr>\n",
       "      <td>335</td>\n",
       "      <td>DEC_Depart_18</td>\n",
       "      <td>-0.180000</td>\n",
       "      <td>-0.380000</td>\n",
       "      <td>0.43</td>\n",
       "      <td>0.87</td>\n",
       "      <td>1.12</td>\n",
       "      <td>1.22</td>\n",
       "      <td>1.812400</td>\n",
       "      <td>1.61</td>\n",
       "      <td>1.812400</td>\n",
       "      <td>...</td>\n",
       "      <td>1.812400</td>\n",
       "      <td>1.812400</td>\n",
       "      <td>1.812400</td>\n",
       "      <td>1.812400</td>\n",
       "      <td>1.812400</td>\n",
       "      <td>1.812400</td>\n",
       "      <td>1.812400</td>\n",
       "      <td>1.812400</td>\n",
       "      <td>NaN</td>\n",
       "      <td>NaN</td>\n",
       "    </tr>\n",
       "  </tbody>\n",
       "</table>\n",
       "<p>336 rows × 46 columns</p>\n",
       "</div>"
      ],
      "text/plain": [
       "    Month and Year  SOUTHERN EASTERN  SHORE              01  \\\n",
       "0    JAN_Precip_05          4.510000               3.430000   \n",
       "1    JAN_Depart_05          0.860000               0.000000   \n",
       "2    FEB_Precip_05          3.090000               2.940000   \n",
       "3    FEB_Depart_05         -0.500000               0.000000   \n",
       "4    MAR_Precip_05          4.600000               3.910000   \n",
       "..             ...               ...                    ...   \n",
       "331  OCT_Depart_18          3.500000               0.635385   \n",
       "332  NOV_Precip_18          5.860000               6.390000   \n",
       "333  NOV_Depart_18          2.470000               3.734000   \n",
       "334  DEC_Precip_18          5.330345               4.670000   \n",
       "335  DEC_Depart_18         -0.180000              -0.380000   \n",
       "\n",
       "     ASSATEAGUE                 PRINCESS ANNE              \\\n",
       "0                         4.88                       5.04   \n",
       "1                        -0.05                       0.17   \n",
       "2                         2.52                       2.61   \n",
       "3                        -0.93                       0.00   \n",
       "4                         4.69                       2.85   \n",
       "..                         ...                        ...   \n",
       "331                       5.18                      -2.04   \n",
       "332                       4.50                       4.50   \n",
       "333                       1.07                       0.98   \n",
       "334                       3.53                       3.29   \n",
       "335                       0.43                       0.87   \n",
       "\n",
       "     SALISBURY                  SALISBURY POLICE BRKS      \\\n",
       "0                         4.04                       4.19   \n",
       "1                         0.37                       0.01   \n",
       "2                         3.04                       2.73   \n",
       "3                        -0.52                      -0.68   \n",
       "4                         4.05                       4.84   \n",
       "..                         ...                        ...   \n",
       "331                       4.61                       2.19   \n",
       "332                       5.13                       7.82   \n",
       "333                       1.95                       4.17   \n",
       "334                       3.83                       4.61   \n",
       "335                       1.12                       1.22   \n",
       "\n",
       "     SALISBURY FAA AP           SNOW HILL 4 N              \\\n",
       "0                     4.370000                       4.12   \n",
       "1                     0.000000                       0.14   \n",
       "2                     2.820000                       2.25   \n",
       "3                    -0.600000                      -1.10   \n",
       "4                     4.420000                       4.43   \n",
       "..                         ...                        ...   \n",
       "331                   2.670000                       4.57   \n",
       "332                   7.203226                       6.89   \n",
       "333                   3.734000                       3.30   \n",
       "334                   4.610000                       4.92   \n",
       "335                   1.812400                       1.61   \n",
       "\n",
       "     --DIVISIONAL DATA------->  ...  ABERDEEN PHILLIPS FLD      \\\n",
       "0                     2.180000  ...                   1.520000   \n",
       "1                    -0.550000  ...                   0.131250   \n",
       "2                     2.100000  ...                   1.610000   \n",
       "3                    -1.230000  ...                  -0.970000   \n",
       "4                     4.440000  ...                   5.000000   \n",
       "..                         ...  ...                        ...   \n",
       "331                   0.635385  ...                   0.635385   \n",
       "332                   8.330000  ...                   7.203226   \n",
       "333                   3.734000  ...                   3.734000   \n",
       "334                   5.330345  ...                   5.330345   \n",
       "335                   1.812400  ...                   1.812400   \n",
       "\n",
       "     CATOCTIN MOUNTAIN PARK     CONOWINGO DAM              \\\n",
       "0                     3.590556                   3.590556   \n",
       "1                     0.131250                   0.131250   \n",
       "2                     1.953333                   1.953333   \n",
       "3                    -0.639167                  -0.639167   \n",
       "4                     4.570833                   4.570833   \n",
       "..                         ...                        ...   \n",
       "331                   0.635385                   0.635385   \n",
       "332                   7.203226                   7.203226   \n",
       "333                   3.734000                   3.734000   \n",
       "334                   5.330345                   5.330345   \n",
       "335                   1.812400                   1.812400   \n",
       "\n",
       "     CYLBURN                    DAMASCUS 3 SSW             \\\n",
       "0                     3.590556                   3.590556   \n",
       "1                     0.131250                   0.131250   \n",
       "2                     1.953333                   1.953333   \n",
       "3                    -0.639167                  -0.639167   \n",
       "4                     4.570833                   4.570833   \n",
       "..                         ...                        ...   \n",
       "331                   0.635385                   0.635385   \n",
       "332                   7.203226                   7.203226   \n",
       "333                   3.734000                   3.734000   \n",
       "334                   5.330345                   5.330345   \n",
       "335                   1.812400                   1.812400   \n",
       "\n",
       "     EMMITSBURG 2 SE            FREDERICK 2 NNE            \\\n",
       "0                     3.590556                   3.590556   \n",
       "1                     0.131250                   0.131250   \n",
       "2                     1.953333                   1.953333   \n",
       "3                    -0.639167                  -0.639167   \n",
       "4                     4.570833                   4.570833   \n",
       "..                         ...                        ...   \n",
       "331                   0.635385                   0.635385   \n",
       "332                   7.203226                   7.203226   \n",
       "333                   3.734000                   3.734000   \n",
       "334                   5.330345                   5.330345   \n",
       "335                   1.812400                   1.812400   \n",
       "\n",
       "     MILLERS 4 NE               PORT DEPOSIT 2 NE          \\\n",
       "0                     3.590556                   3.590556   \n",
       "1                     0.131250                   0.131250   \n",
       "2                     1.953333                   1.953333   \n",
       "3                    -0.639167                  -0.639167   \n",
       "4                     4.570833                   4.570833   \n",
       "..                         ...                        ...   \n",
       "331                   0.635385                        NaN   \n",
       "332                   7.203226                        NaN   \n",
       "333                   3.734000                        NaN   \n",
       "334                   5.330345                        NaN   \n",
       "335                   1.812400                        NaN   \n",
       "\n",
       "     POTOMAC FILTER PLANT  \n",
       "0                3.590556  \n",
       "1                0.131250  \n",
       "2                1.953333  \n",
       "3               -0.639167  \n",
       "4                4.570833  \n",
       "..                    ...  \n",
       "331                   NaN  \n",
       "332                   NaN  \n",
       "333                   NaN  \n",
       "334                   NaN  \n",
       "335                   NaN  \n",
       "\n",
       "[336 rows x 46 columns]"
      ]
     },
     "execution_count": 32,
     "metadata": {},
     "output_type": "execute_result"
    }
   ],
   "source": [
    "mdrain=mdrain.rename(columns={'Unnamed: 0':'Month and Year'})\n",
    "mdrain"
   ]
  },
  {
   "cell_type": "code",
   "execution_count": 33,
   "metadata": {},
   "outputs": [
    {
     "data": {
      "text/html": [
       "<div>\n",
       "<style scoped>\n",
       "    .dataframe tbody tr th:only-of-type {\n",
       "        vertical-align: middle;\n",
       "    }\n",
       "\n",
       "    .dataframe tbody tr th {\n",
       "        vertical-align: top;\n",
       "    }\n",
       "\n",
       "    .dataframe thead th {\n",
       "        text-align: right;\n",
       "    }\n",
       "</style>\n",
       "<table border=\"1\" class=\"dataframe\">\n",
       "  <thead>\n",
       "    <tr style=\"text-align: right;\">\n",
       "      <th></th>\n",
       "      <th>Month and Year</th>\n",
       "      <th>NORTHERN CENTRAL   06</th>\n",
       "      <th>NORTHERN EASTERN</th>\n",
       "      <th>UPPER SOUTHERN     04</th>\n",
       "      <th>LOWER SOUTHERN     03</th>\n",
       "      <th>CENTRAL EASTERN</th>\n",
       "      <th>SOUTHERN EASTERN</th>\n",
       "    </tr>\n",
       "  </thead>\n",
       "  <tbody>\n",
       "    <tr>\n",
       "      <td>0</td>\n",
       "      <td>JAN_Precip_05</td>\n",
       "      <td>4.61</td>\n",
       "      <td>4.08</td>\n",
       "      <td>4.46</td>\n",
       "      <td>3.75</td>\n",
       "      <td>4.12</td>\n",
       "      <td>4.510000</td>\n",
       "    </tr>\n",
       "    <tr>\n",
       "      <td>2</td>\n",
       "      <td>FEB_Precip_05</td>\n",
       "      <td>1.81</td>\n",
       "      <td>2.15</td>\n",
       "      <td>1.29</td>\n",
       "      <td>1.66</td>\n",
       "      <td>2.18</td>\n",
       "      <td>3.090000</td>\n",
       "    </tr>\n",
       "    <tr>\n",
       "      <td>4</td>\n",
       "      <td>MAR_Precip_05</td>\n",
       "      <td>4.20</td>\n",
       "      <td>5.03</td>\n",
       "      <td>4.01</td>\n",
       "      <td>5.13</td>\n",
       "      <td>4.44</td>\n",
       "      <td>4.600000</td>\n",
       "    </tr>\n",
       "    <tr>\n",
       "      <td>6</td>\n",
       "      <td>APR_Precip_05</td>\n",
       "      <td>4.23</td>\n",
       "      <td>4.78</td>\n",
       "      <td>4.11</td>\n",
       "      <td>3.81</td>\n",
       "      <td>4.81</td>\n",
       "      <td>2.570000</td>\n",
       "    </tr>\n",
       "    <tr>\n",
       "      <td>8</td>\n",
       "      <td>MAY_Precip_05</td>\n",
       "      <td>2.98</td>\n",
       "      <td>2.30</td>\n",
       "      <td>3.27</td>\n",
       "      <td>2.64</td>\n",
       "      <td>4.78</td>\n",
       "      <td>3.480000</td>\n",
       "    </tr>\n",
       "    <tr>\n",
       "      <td>...</td>\n",
       "      <td>...</td>\n",
       "      <td>...</td>\n",
       "      <td>...</td>\n",
       "      <td>...</td>\n",
       "      <td>...</td>\n",
       "      <td>...</td>\n",
       "      <td>...</td>\n",
       "    </tr>\n",
       "    <tr>\n",
       "      <td>326</td>\n",
       "      <td>AUG_Precip_18</td>\n",
       "      <td>6.24</td>\n",
       "      <td>6.53</td>\n",
       "      <td>5.94</td>\n",
       "      <td>6.26</td>\n",
       "      <td>4.28</td>\n",
       "      <td>3.220000</td>\n",
       "    </tr>\n",
       "    <tr>\n",
       "      <td>328</td>\n",
       "      <td>SEP_Precip_18</td>\n",
       "      <td>9.31</td>\n",
       "      <td>11.56</td>\n",
       "      <td>10.39</td>\n",
       "      <td>11.76</td>\n",
       "      <td>8.98</td>\n",
       "      <td>7.040000</td>\n",
       "    </tr>\n",
       "    <tr>\n",
       "      <td>330</td>\n",
       "      <td>OCT_Precip_18</td>\n",
       "      <td>1.63</td>\n",
       "      <td>2.44</td>\n",
       "      <td>3.16</td>\n",
       "      <td>3.76</td>\n",
       "      <td>8.27</td>\n",
       "      <td>6.800000</td>\n",
       "    </tr>\n",
       "    <tr>\n",
       "      <td>332</td>\n",
       "      <td>NOV_Precip_18</td>\n",
       "      <td>5.83</td>\n",
       "      <td>8.15</td>\n",
       "      <td>7.91</td>\n",
       "      <td>9.06</td>\n",
       "      <td>7.61</td>\n",
       "      <td>5.860000</td>\n",
       "    </tr>\n",
       "    <tr>\n",
       "      <td>334</td>\n",
       "      <td>DEC_Precip_18</td>\n",
       "      <td>4.87</td>\n",
       "      <td>5.62</td>\n",
       "      <td>5.83</td>\n",
       "      <td>5.36</td>\n",
       "      <td>4.92</td>\n",
       "      <td>5.330345</td>\n",
       "    </tr>\n",
       "  </tbody>\n",
       "</table>\n",
       "<p>168 rows × 7 columns</p>\n",
       "</div>"
      ],
      "text/plain": [
       "    Month and Year  NORTHERN CENTRAL   06  NORTHERN EASTERN  \\\n",
       "0    JAN_Precip_05                   4.61              4.08   \n",
       "2    FEB_Precip_05                   1.81              2.15   \n",
       "4    MAR_Precip_05                   4.20              5.03   \n",
       "6    APR_Precip_05                   4.23              4.78   \n",
       "8    MAY_Precip_05                   2.98              2.30   \n",
       "..             ...                    ...               ...   \n",
       "326  AUG_Precip_18                   6.24              6.53   \n",
       "328  SEP_Precip_18                   9.31             11.56   \n",
       "330  OCT_Precip_18                   1.63              2.44   \n",
       "332  NOV_Precip_18                   5.83              8.15   \n",
       "334  DEC_Precip_18                   4.87              5.62   \n",
       "\n",
       "     UPPER SOUTHERN     04  LOWER SOUTHERN     03  CENTRAL EASTERN  \\\n",
       "0                     4.46                   3.75             4.12   \n",
       "2                     1.29                   1.66             2.18   \n",
       "4                     4.01                   5.13             4.44   \n",
       "6                     4.11                   3.81             4.81   \n",
       "8                     3.27                   2.64             4.78   \n",
       "..                     ...                    ...              ...   \n",
       "326                   5.94                   6.26             4.28   \n",
       "328                  10.39                  11.76             8.98   \n",
       "330                   3.16                   3.76             8.27   \n",
       "332                   7.91                   9.06             7.61   \n",
       "334                   5.83                   5.36             4.92   \n",
       "\n",
       "     SOUTHERN EASTERN  \n",
       "0            4.510000  \n",
       "2            3.090000  \n",
       "4            4.600000  \n",
       "6            2.570000  \n",
       "8            3.480000  \n",
       "..                ...  \n",
       "326          3.220000  \n",
       "328          7.040000  \n",
       "330          6.800000  \n",
       "332          5.860000  \n",
       "334          5.330345  \n",
       "\n",
       "[168 rows x 7 columns]"
      ]
     },
     "execution_count": 33,
     "metadata": {},
     "output_type": "execute_result"
    }
   ],
   "source": [
    "mdprecip = mdrain.iloc[::2]  # even\n",
    "mdprecip = mdprecip[['Month and Year','NORTHERN CENTRAL   06','NORTHERN EASTERN','UPPER SOUTHERN     04','LOWER SOUTHERN     03','CENTRAL EASTERN','SOUTHERN EASTERN']]\n",
    "mdprecip"
   ]
  },
  {
   "cell_type": "markdown",
   "metadata": {},
   "source": [
    "#### Analyzing the change in precipitation in the Northen Central Maryland from 2005-2018"
   ]
  },
  {
   "cell_type": "code",
   "execution_count": 34,
   "metadata": {
    "scrolled": false
   },
   "outputs": [
    {
     "data": {
      "application/vnd.plotly.v1+json": {
       "config": {
        "linkText": "Export to plot.ly",
        "plotlyServerURL": "https://plot.ly",
        "showLink": true
       },
       "data": [
        {
         "line": {
          "color": "rgba(255, 153, 51, 1.0)",
          "dash": "solid",
          "shape": "linear",
          "width": 1.3
         },
         "mode": "lines",
         "name": "NORTHERN CENTRAL   06",
         "text": "",
         "type": "scatter",
         "x": [
          "JAN_Precip_05",
          "FEB_Precip_05",
          "MAR_Precip_05",
          "APR_Precip_05",
          "MAY_Precip_05",
          "JUN_Precip_05",
          "JUL_Precip_05",
          "AUG_Precip_05",
          "SEP_Precip_05",
          "OCT_Precip_05",
          "NOV_Precip_05",
          "DEC_Precip_05",
          "JAN_Precip_06",
          "FEB_Precip_06",
          "MAR_Precip_06",
          "APR_Precip_06",
          "MAY_Precip_06",
          "JUN_Precip_06",
          "JUL_Precip_06",
          "AUG_Precip_06",
          "SEP_Precip_06",
          "OCT_Precip_06",
          "NOV_Precip_06",
          "DEC_Precip_06",
          "JAN_Precip_07",
          "FEB_Precip_07",
          "MAR_Precip_07",
          "APR_Precip_07",
          "MAY_Precip_07",
          "JUN_Precip_07",
          "JUL_Precip_07",
          "AUG_Precip_07",
          "SEP_Precip_07",
          "OCT_Precip_07",
          "NOV_Precip_07",
          "DEC_Precip_07",
          "JAN_Precip_08",
          "FEB_Precip_08",
          "MAR_Precip_08",
          "APR_Precip_08",
          "MAY_Precip_08",
          "JUN_Precip_08",
          "JUL_Precip_08",
          "AUG_Precip_08",
          "SEP_Precip_08",
          "OCT_Precip_08",
          "NOV_Precip_08",
          "DEC_Precip_08",
          "JAN_Precip_09",
          "FEB_Precip_09",
          "MAR_Precip_09",
          "APR_Precip_09",
          "MAY_Precip_09",
          "JUN_Precip_09",
          "JUL_Precip_09",
          "AUG_Precip_09",
          "SEP_Precip_09",
          "OCT_Precip_09",
          "NOV_Precip_09",
          "DEC_Precip_09",
          "JAN_Precip_10",
          "FEB_Precip_10",
          "MAR_Precip_10",
          "APR_Precip_10",
          "MAY_Precip_10",
          "JUN_Precip_10",
          "JUL_Precip_10",
          "AUG_Precip_10",
          "SEP_Precip_10",
          "OCT_Precip_10",
          "NOV_Precip_10",
          "DEC_Precip_10",
          "JAN_Precip_11",
          "FEB_Precip_11",
          "MAR_Precip_11",
          "APR_Precip_11",
          "MAY_Precip_11",
          "JUN_Precip_11",
          "JUL_Precip_11",
          "AUG_Precip_11",
          "SEP_Precip_11",
          "OCT_Precip_11",
          "NOV_Precip_11",
          "DEC_Precip_11",
          "JAN_Precip_12",
          "FEB_Precip_12",
          "MAR_Precip_12",
          "APR_Precip_12",
          "MAY_Precip_12",
          "JUN_Precip_12",
          "JUL_Precip_12",
          "AUG_Precip_12",
          "SEP_Precip_12",
          "OCT_Precip_12",
          "NOV_Precip_12",
          "DEC_Precip_12",
          "JAN_Precip_13",
          "FEB_Precip_13",
          "MAR_Precip_13",
          "APR_Precip_13",
          "MAY_Precip_13",
          "JUN_Precip_13",
          "JUL_Precip_13",
          "AUG_Precip_13",
          "SEP_Precip_13",
          "OCT_Precip_13",
          "NOV_Precip_13",
          "DEC_Precip_13",
          "JAN_Precip_14",
          "FEB_Precip_14",
          "MAR_Precip_14",
          "APR_Precip_14",
          "MAY_Precip_14",
          "JUN_Precip_14",
          "JUL_Precip_14",
          "AUG_Precip_14",
          "SEP_Precip_14",
          "OCT_Precip_14",
          "NOV_Precip_14",
          "DEC_Precip_14",
          "JAN_Precip_15",
          "FEB_Precip_15",
          "MAR_Precip_15",
          "APR_Precip_15",
          "MAY_Precip_15",
          "JUN_Precip_15",
          "JUL_Precip_15",
          "AUG_Precip_15",
          "SEP_Precip_15",
          "OCT_Precip_15",
          "NOV_Precip_15",
          "DEC_Precip_15",
          "JAN_Precip_16",
          "FEB_Precip_16",
          "MAR_Precip_16",
          "APR_Precip_16",
          "MAY_Precip_16",
          "JUN_Precip_16",
          "JUL_Precip_16",
          "AUG_Precip_16",
          "SEP_Precip_16",
          "OCT_Precip_16",
          "NOV_Precip_16",
          "DEC_Precip_16",
          "JAN_Precip_17",
          "FEB_Precip_17",
          "MAR_Precip_17",
          "APR_Precip_17",
          "MAY_Precip_17",
          "JUN_Precip_17",
          "JUL_Precip_17",
          "AUG_Precip_17",
          "SEP_Precip_17",
          "OCT_Precip_17",
          "NOV_Precip_17",
          "DEC_Precip_17",
          "JAN_Precip_18",
          "FEB_Precip_18",
          "MAR_Precip_18",
          "APR_Precip_18",
          "MAY_Precip_18",
          "JUN_Precip_18",
          "JUL_Precip_18",
          "AUG_Precip_18",
          "SEP_Precip_18",
          "OCT_Precip_18",
          "NOV_Precip_18",
          "DEC_Precip_18"
         ],
         "y": [
          4.61,
          1.81,
          4.2,
          4.23,
          2.98,
          2.85,
          5.72,
          2.4,
          0.38,
          10.51,
          3.71,
          3.43,
          3.7,
          1.71,
          0.42,
          3.1,
          1.77,
          9.154411764705884,
          2.87,
          1.36,
          5.36,
          4.1,
          4.34,
          2.1,
          1.92,
          2.4,
          2.96,
          3.68,
          0.57,
          2.87,
          1.56,
          3.2867647058823524,
          1.0176470588235291,
          4.634705882352941,
          1.4529411764705882,
          3.7502941176470586,
          1.519090909090909,
          3.796969696969697,
          2.732727272727272,
          5.178787878787876,
          6.891818181818182,
          4.548787878787879,
          3.833333333333334,
          1.7742424242424246,
          5.507878787878788,
          1.5312121212121212,
          3.3739393939393936,
          4.243030303030301,
          2.73,
          0.47,
          2.32,
          4.68,
          5.81,
          5.1,
          3.9,
          6.89,
          4.35,
          6.05,
          3.01,
          6.3,
          2.44,
          3.98,
          4.63,
          2.7,
          3.46,
          1.44,
          3.99,
          4.06,
          4.79,
          5.27,
          2.27,
          2.05,
          2.18,
          2.69,
          5.78,
          7.67,
          3.51,
          1.78,
          2.78,
          7.16,
          10.7,
          4.75,
          4.65,
          3.91,
          2.26,
          1.876969696969697,
          2.3371875,
          2.75,
          5.95,
          3.41,
          4.39,
          4.64,
          5.09,
          8.78,
          1.16,
          3.33,
          2.82,
          1.41,
          1.43,
          2.51,
          2.68,
          4.13,
          3.27,
          2.86,
          2.15,
          7.67,
          2.13,
          4.87,
          1.03,
          3.61,
          2.46,
          3.12,
          5.7,
          4.44,
          4.89,
          2.72,
          1.42,
          4.03,
          1.91,
          2.17,
          6.55,
          1.47,
          3.78,
          3.4,
          2.41,
          9.02,
          2.15,
          2.14,
          4.35,
          3.76,
          2.38,
          3.38,
          3.02,
          2.37,
          1.6,
          1.31,
          5.17,
          4.07,
          3.16,
          3.71,
          3.75,
          2.16,
          0.69,
          3.35,
          5.61,
          2.19,
          5.15,
          4.37,
          8.83,
          5.31,
          7.79,
          2.1,
          1.45,
          5.84,
          2.26,
          1.13,
          2.62,
          3.88,
          1.96,
          4.12,
          4.64,
          4.97,
          5.96,
          6.24,
          9.31,
          1.63,
          5.83,
          4.87
         ]
        }
       ],
       "layout": {
        "legend": {
         "bgcolor": "#F5F6F9",
         "font": {
          "color": "#4D5663"
         }
        },
        "paper_bgcolor": "#F5F6F9",
        "plot_bgcolor": "#F5F6F9",
        "template": {
         "data": {
          "bar": [
           {
            "error_x": {
             "color": "#2a3f5f"
            },
            "error_y": {
             "color": "#2a3f5f"
            },
            "marker": {
             "line": {
              "color": "#E5ECF6",
              "width": 0.5
             }
            },
            "type": "bar"
           }
          ],
          "barpolar": [
           {
            "marker": {
             "line": {
              "color": "#E5ECF6",
              "width": 0.5
             }
            },
            "type": "barpolar"
           }
          ],
          "carpet": [
           {
            "aaxis": {
             "endlinecolor": "#2a3f5f",
             "gridcolor": "white",
             "linecolor": "white",
             "minorgridcolor": "white",
             "startlinecolor": "#2a3f5f"
            },
            "baxis": {
             "endlinecolor": "#2a3f5f",
             "gridcolor": "white",
             "linecolor": "white",
             "minorgridcolor": "white",
             "startlinecolor": "#2a3f5f"
            },
            "type": "carpet"
           }
          ],
          "choropleth": [
           {
            "colorbar": {
             "outlinewidth": 0,
             "ticks": ""
            },
            "type": "choropleth"
           }
          ],
          "contour": [
           {
            "colorbar": {
             "outlinewidth": 0,
             "ticks": ""
            },
            "colorscale": [
             [
              0,
              "#0d0887"
             ],
             [
              0.1111111111111111,
              "#46039f"
             ],
             [
              0.2222222222222222,
              "#7201a8"
             ],
             [
              0.3333333333333333,
              "#9c179e"
             ],
             [
              0.4444444444444444,
              "#bd3786"
             ],
             [
              0.5555555555555556,
              "#d8576b"
             ],
             [
              0.6666666666666666,
              "#ed7953"
             ],
             [
              0.7777777777777778,
              "#fb9f3a"
             ],
             [
              0.8888888888888888,
              "#fdca26"
             ],
             [
              1,
              "#f0f921"
             ]
            ],
            "type": "contour"
           }
          ],
          "contourcarpet": [
           {
            "colorbar": {
             "outlinewidth": 0,
             "ticks": ""
            },
            "type": "contourcarpet"
           }
          ],
          "heatmap": [
           {
            "colorbar": {
             "outlinewidth": 0,
             "ticks": ""
            },
            "colorscale": [
             [
              0,
              "#0d0887"
             ],
             [
              0.1111111111111111,
              "#46039f"
             ],
             [
              0.2222222222222222,
              "#7201a8"
             ],
             [
              0.3333333333333333,
              "#9c179e"
             ],
             [
              0.4444444444444444,
              "#bd3786"
             ],
             [
              0.5555555555555556,
              "#d8576b"
             ],
             [
              0.6666666666666666,
              "#ed7953"
             ],
             [
              0.7777777777777778,
              "#fb9f3a"
             ],
             [
              0.8888888888888888,
              "#fdca26"
             ],
             [
              1,
              "#f0f921"
             ]
            ],
            "type": "heatmap"
           }
          ],
          "heatmapgl": [
           {
            "colorbar": {
             "outlinewidth": 0,
             "ticks": ""
            },
            "colorscale": [
             [
              0,
              "#0d0887"
             ],
             [
              0.1111111111111111,
              "#46039f"
             ],
             [
              0.2222222222222222,
              "#7201a8"
             ],
             [
              0.3333333333333333,
              "#9c179e"
             ],
             [
              0.4444444444444444,
              "#bd3786"
             ],
             [
              0.5555555555555556,
              "#d8576b"
             ],
             [
              0.6666666666666666,
              "#ed7953"
             ],
             [
              0.7777777777777778,
              "#fb9f3a"
             ],
             [
              0.8888888888888888,
              "#fdca26"
             ],
             [
              1,
              "#f0f921"
             ]
            ],
            "type": "heatmapgl"
           }
          ],
          "histogram": [
           {
            "marker": {
             "colorbar": {
              "outlinewidth": 0,
              "ticks": ""
             }
            },
            "type": "histogram"
           }
          ],
          "histogram2d": [
           {
            "colorbar": {
             "outlinewidth": 0,
             "ticks": ""
            },
            "colorscale": [
             [
              0,
              "#0d0887"
             ],
             [
              0.1111111111111111,
              "#46039f"
             ],
             [
              0.2222222222222222,
              "#7201a8"
             ],
             [
              0.3333333333333333,
              "#9c179e"
             ],
             [
              0.4444444444444444,
              "#bd3786"
             ],
             [
              0.5555555555555556,
              "#d8576b"
             ],
             [
              0.6666666666666666,
              "#ed7953"
             ],
             [
              0.7777777777777778,
              "#fb9f3a"
             ],
             [
              0.8888888888888888,
              "#fdca26"
             ],
             [
              1,
              "#f0f921"
             ]
            ],
            "type": "histogram2d"
           }
          ],
          "histogram2dcontour": [
           {
            "colorbar": {
             "outlinewidth": 0,
             "ticks": ""
            },
            "colorscale": [
             [
              0,
              "#0d0887"
             ],
             [
              0.1111111111111111,
              "#46039f"
             ],
             [
              0.2222222222222222,
              "#7201a8"
             ],
             [
              0.3333333333333333,
              "#9c179e"
             ],
             [
              0.4444444444444444,
              "#bd3786"
             ],
             [
              0.5555555555555556,
              "#d8576b"
             ],
             [
              0.6666666666666666,
              "#ed7953"
             ],
             [
              0.7777777777777778,
              "#fb9f3a"
             ],
             [
              0.8888888888888888,
              "#fdca26"
             ],
             [
              1,
              "#f0f921"
             ]
            ],
            "type": "histogram2dcontour"
           }
          ],
          "mesh3d": [
           {
            "colorbar": {
             "outlinewidth": 0,
             "ticks": ""
            },
            "type": "mesh3d"
           }
          ],
          "parcoords": [
           {
            "line": {
             "colorbar": {
              "outlinewidth": 0,
              "ticks": ""
             }
            },
            "type": "parcoords"
           }
          ],
          "scatter": [
           {
            "marker": {
             "colorbar": {
              "outlinewidth": 0,
              "ticks": ""
             }
            },
            "type": "scatter"
           }
          ],
          "scatter3d": [
           {
            "line": {
             "colorbar": {
              "outlinewidth": 0,
              "ticks": ""
             }
            },
            "marker": {
             "colorbar": {
              "outlinewidth": 0,
              "ticks": ""
             }
            },
            "type": "scatter3d"
           }
          ],
          "scattercarpet": [
           {
            "marker": {
             "colorbar": {
              "outlinewidth": 0,
              "ticks": ""
             }
            },
            "type": "scattercarpet"
           }
          ],
          "scattergeo": [
           {
            "marker": {
             "colorbar": {
              "outlinewidth": 0,
              "ticks": ""
             }
            },
            "type": "scattergeo"
           }
          ],
          "scattergl": [
           {
            "marker": {
             "colorbar": {
              "outlinewidth": 0,
              "ticks": ""
             }
            },
            "type": "scattergl"
           }
          ],
          "scattermapbox": [
           {
            "marker": {
             "colorbar": {
              "outlinewidth": 0,
              "ticks": ""
             }
            },
            "type": "scattermapbox"
           }
          ],
          "scatterpolar": [
           {
            "marker": {
             "colorbar": {
              "outlinewidth": 0,
              "ticks": ""
             }
            },
            "type": "scatterpolar"
           }
          ],
          "scatterpolargl": [
           {
            "marker": {
             "colorbar": {
              "outlinewidth": 0,
              "ticks": ""
             }
            },
            "type": "scatterpolargl"
           }
          ],
          "scatterternary": [
           {
            "marker": {
             "colorbar": {
              "outlinewidth": 0,
              "ticks": ""
             }
            },
            "type": "scatterternary"
           }
          ],
          "surface": [
           {
            "colorbar": {
             "outlinewidth": 0,
             "ticks": ""
            },
            "colorscale": [
             [
              0,
              "#0d0887"
             ],
             [
              0.1111111111111111,
              "#46039f"
             ],
             [
              0.2222222222222222,
              "#7201a8"
             ],
             [
              0.3333333333333333,
              "#9c179e"
             ],
             [
              0.4444444444444444,
              "#bd3786"
             ],
             [
              0.5555555555555556,
              "#d8576b"
             ],
             [
              0.6666666666666666,
              "#ed7953"
             ],
             [
              0.7777777777777778,
              "#fb9f3a"
             ],
             [
              0.8888888888888888,
              "#fdca26"
             ],
             [
              1,
              "#f0f921"
             ]
            ],
            "type": "surface"
           }
          ],
          "table": [
           {
            "cells": {
             "fill": {
              "color": "#EBF0F8"
             },
             "line": {
              "color": "white"
             }
            },
            "header": {
             "fill": {
              "color": "#C8D4E3"
             },
             "line": {
              "color": "white"
             }
            },
            "type": "table"
           }
          ]
         },
         "layout": {
          "annotationdefaults": {
           "arrowcolor": "#2a3f5f",
           "arrowhead": 0,
           "arrowwidth": 1
          },
          "colorscale": {
           "diverging": [
            [
             0,
             "#8e0152"
            ],
            [
             0.1,
             "#c51b7d"
            ],
            [
             0.2,
             "#de77ae"
            ],
            [
             0.3,
             "#f1b6da"
            ],
            [
             0.4,
             "#fde0ef"
            ],
            [
             0.5,
             "#f7f7f7"
            ],
            [
             0.6,
             "#e6f5d0"
            ],
            [
             0.7,
             "#b8e186"
            ],
            [
             0.8,
             "#7fbc41"
            ],
            [
             0.9,
             "#4d9221"
            ],
            [
             1,
             "#276419"
            ]
           ],
           "sequential": [
            [
             0,
             "#0d0887"
            ],
            [
             0.1111111111111111,
             "#46039f"
            ],
            [
             0.2222222222222222,
             "#7201a8"
            ],
            [
             0.3333333333333333,
             "#9c179e"
            ],
            [
             0.4444444444444444,
             "#bd3786"
            ],
            [
             0.5555555555555556,
             "#d8576b"
            ],
            [
             0.6666666666666666,
             "#ed7953"
            ],
            [
             0.7777777777777778,
             "#fb9f3a"
            ],
            [
             0.8888888888888888,
             "#fdca26"
            ],
            [
             1,
             "#f0f921"
            ]
           ],
           "sequentialminus": [
            [
             0,
             "#0d0887"
            ],
            [
             0.1111111111111111,
             "#46039f"
            ],
            [
             0.2222222222222222,
             "#7201a8"
            ],
            [
             0.3333333333333333,
             "#9c179e"
            ],
            [
             0.4444444444444444,
             "#bd3786"
            ],
            [
             0.5555555555555556,
             "#d8576b"
            ],
            [
             0.6666666666666666,
             "#ed7953"
            ],
            [
             0.7777777777777778,
             "#fb9f3a"
            ],
            [
             0.8888888888888888,
             "#fdca26"
            ],
            [
             1,
             "#f0f921"
            ]
           ]
          },
          "colorway": [
           "#636efa",
           "#EF553B",
           "#00cc96",
           "#ab63fa",
           "#FFA15A",
           "#19d3f3",
           "#FF6692",
           "#B6E880",
           "#FF97FF",
           "#FECB52"
          ],
          "font": {
           "color": "#2a3f5f"
          },
          "geo": {
           "bgcolor": "white",
           "lakecolor": "white",
           "landcolor": "#E5ECF6",
           "showlakes": true,
           "showland": true,
           "subunitcolor": "white"
          },
          "hoverlabel": {
           "align": "left"
          },
          "hovermode": "closest",
          "mapbox": {
           "style": "light"
          },
          "paper_bgcolor": "white",
          "plot_bgcolor": "#E5ECF6",
          "polar": {
           "angularaxis": {
            "gridcolor": "white",
            "linecolor": "white",
            "ticks": ""
           },
           "bgcolor": "#E5ECF6",
           "radialaxis": {
            "gridcolor": "white",
            "linecolor": "white",
            "ticks": ""
           }
          },
          "scene": {
           "xaxis": {
            "backgroundcolor": "#E5ECF6",
            "gridcolor": "white",
            "gridwidth": 2,
            "linecolor": "white",
            "showbackground": true,
            "ticks": "",
            "zerolinecolor": "white"
           },
           "yaxis": {
            "backgroundcolor": "#E5ECF6",
            "gridcolor": "white",
            "gridwidth": 2,
            "linecolor": "white",
            "showbackground": true,
            "ticks": "",
            "zerolinecolor": "white"
           },
           "zaxis": {
            "backgroundcolor": "#E5ECF6",
            "gridcolor": "white",
            "gridwidth": 2,
            "linecolor": "white",
            "showbackground": true,
            "ticks": "",
            "zerolinecolor": "white"
           }
          },
          "shapedefaults": {
           "line": {
            "color": "#2a3f5f"
           }
          },
          "ternary": {
           "aaxis": {
            "gridcolor": "white",
            "linecolor": "white",
            "ticks": ""
           },
           "baxis": {
            "gridcolor": "white",
            "linecolor": "white",
            "ticks": ""
           },
           "bgcolor": "#E5ECF6",
           "caxis": {
            "gridcolor": "white",
            "linecolor": "white",
            "ticks": ""
           }
          },
          "title": {
           "x": 0.05
          },
          "xaxis": {
           "automargin": true,
           "gridcolor": "white",
           "linecolor": "white",
           "ticks": "",
           "zerolinecolor": "white",
           "zerolinewidth": 2
          },
          "yaxis": {
           "automargin": true,
           "gridcolor": "white",
           "linecolor": "white",
           "ticks": "",
           "zerolinecolor": "white",
           "zerolinewidth": 2
          }
         }
        },
        "title": {
         "font": {
          "color": "#4D5663"
         },
         "text": "Precipitation in Northen Central Maryland over years 2005-2018"
        },
        "xaxis": {
         "gridcolor": "#E1E5ED",
         "showgrid": false,
         "tickfont": {
          "color": "#4D5663"
         },
         "title": {
          "font": {
           "color": "#4D5663"
          },
          "text": "Month and Year"
         },
         "zerolinecolor": "#E1E5ED"
        },
        "yaxis": {
         "gridcolor": "#E1E5ED",
         "showgrid": false,
         "tickfont": {
          "color": "#4D5663"
         },
         "title": {
          "font": {
           "color": "#4D5663"
          },
          "text": "Precipitation"
         },
         "zerolinecolor": "#E1E5ED"
        }
       }
      },
      "text/html": [
       "<div>\n",
       "        \n",
       "        \n",
       "            <div id=\"e59aa02e-ef4b-46f3-9f81-eb785767edb7\" class=\"plotly-graph-div\" style=\"height:525px; width:100%;\"></div>\n",
       "            <script type=\"text/javascript\">\n",
       "                require([\"plotly\"], function(Plotly) {\n",
       "                    window.PLOTLYENV=window.PLOTLYENV || {};\n",
       "                    window.PLOTLYENV.BASE_URL='https://plot.ly';\n",
       "                    \n",
       "                if (document.getElementById(\"e59aa02e-ef4b-46f3-9f81-eb785767edb7\")) {\n",
       "                    Plotly.newPlot(\n",
       "                        'e59aa02e-ef4b-46f3-9f81-eb785767edb7',\n",
       "                        [{\"line\": {\"color\": \"rgba(255, 153, 51, 1.0)\", \"dash\": \"solid\", \"shape\": \"linear\", \"width\": 1.3}, \"mode\": \"lines\", \"name\": \"NORTHERN CENTRAL   06\", \"text\": \"\", \"type\": \"scatter\", \"x\": [\"JAN_Precip_05\", \"FEB_Precip_05\", \"MAR_Precip_05\", \"APR_Precip_05\", \"MAY_Precip_05\", \"JUN_Precip_05\", \"JUL_Precip_05\", \"AUG_Precip_05\", \"SEP_Precip_05\", \"OCT_Precip_05\", \"NOV_Precip_05\", \"DEC_Precip_05\", \"JAN_Precip_06\", \"FEB_Precip_06\", \"MAR_Precip_06\", \"APR_Precip_06\", \"MAY_Precip_06\", \"JUN_Precip_06\", \"JUL_Precip_06\", \"AUG_Precip_06\", \"SEP_Precip_06\", \"OCT_Precip_06\", \"NOV_Precip_06\", \"DEC_Precip_06\", \"JAN_Precip_07\", \"FEB_Precip_07\", \"MAR_Precip_07\", \"APR_Precip_07\", \"MAY_Precip_07\", \"JUN_Precip_07\", \"JUL_Precip_07\", \"AUG_Precip_07\", \"SEP_Precip_07\", \"OCT_Precip_07\", \"NOV_Precip_07\", \"DEC_Precip_07\", \"JAN_Precip_08\", \"FEB_Precip_08\", \"MAR_Precip_08\", \"APR_Precip_08\", \"MAY_Precip_08\", \"JUN_Precip_08\", \"JUL_Precip_08\", \"AUG_Precip_08\", \"SEP_Precip_08\", \"OCT_Precip_08\", \"NOV_Precip_08\", \"DEC_Precip_08\", \"JAN_Precip_09\", \"FEB_Precip_09\", \"MAR_Precip_09\", \"APR_Precip_09\", \"MAY_Precip_09\", \"JUN_Precip_09\", \"JUL_Precip_09\", \"AUG_Precip_09\", \"SEP_Precip_09\", \"OCT_Precip_09\", \"NOV_Precip_09\", \"DEC_Precip_09\", \"JAN_Precip_10\", \"FEB_Precip_10\", \"MAR_Precip_10\", \"APR_Precip_10\", \"MAY_Precip_10\", \"JUN_Precip_10\", \"JUL_Precip_10\", \"AUG_Precip_10\", \"SEP_Precip_10\", \"OCT_Precip_10\", \"NOV_Precip_10\", \"DEC_Precip_10\", \"JAN_Precip_11\", \"FEB_Precip_11\", \"MAR_Precip_11\", \"APR_Precip_11\", \"MAY_Precip_11\", \"JUN_Precip_11\", \"JUL_Precip_11\", \"AUG_Precip_11\", \"SEP_Precip_11\", \"OCT_Precip_11\", \"NOV_Precip_11\", \"DEC_Precip_11\", \"JAN_Precip_12\", \"FEB_Precip_12\", \"MAR_Precip_12\", \"APR_Precip_12\", \"MAY_Precip_12\", \"JUN_Precip_12\", \"JUL_Precip_12\", \"AUG_Precip_12\", \"SEP_Precip_12\", \"OCT_Precip_12\", \"NOV_Precip_12\", \"DEC_Precip_12\", \"JAN_Precip_13\", \"FEB_Precip_13\", \"MAR_Precip_13\", \"APR_Precip_13\", \"MAY_Precip_13\", \"JUN_Precip_13\", \"JUL_Precip_13\", \"AUG_Precip_13\", \"SEP_Precip_13\", \"OCT_Precip_13\", \"NOV_Precip_13\", \"DEC_Precip_13\", \"JAN_Precip_14\", \"FEB_Precip_14\", \"MAR_Precip_14\", \"APR_Precip_14\", \"MAY_Precip_14\", \"JUN_Precip_14\", \"JUL_Precip_14\", \"AUG_Precip_14\", \"SEP_Precip_14\", \"OCT_Precip_14\", \"NOV_Precip_14\", \"DEC_Precip_14\", \"JAN_Precip_15\", \"FEB_Precip_15\", \"MAR_Precip_15\", \"APR_Precip_15\", \"MAY_Precip_15\", \"JUN_Precip_15\", \"JUL_Precip_15\", \"AUG_Precip_15\", \"SEP_Precip_15\", \"OCT_Precip_15\", \"NOV_Precip_15\", \"DEC_Precip_15\", \"JAN_Precip_16\", \"FEB_Precip_16\", \"MAR_Precip_16\", \"APR_Precip_16\", \"MAY_Precip_16\", \"JUN_Precip_16\", \"JUL_Precip_16\", \"AUG_Precip_16\", \"SEP_Precip_16\", \"OCT_Precip_16\", \"NOV_Precip_16\", \"DEC_Precip_16\", \"JAN_Precip_17\", \"FEB_Precip_17\", \"MAR_Precip_17\", \"APR_Precip_17\", \"MAY_Precip_17\", \"JUN_Precip_17\", \"JUL_Precip_17\", \"AUG_Precip_17\", \"SEP_Precip_17\", \"OCT_Precip_17\", \"NOV_Precip_17\", \"DEC_Precip_17\", \"JAN_Precip_18\", \"FEB_Precip_18\", \"MAR_Precip_18\", \"APR_Precip_18\", \"MAY_Precip_18\", \"JUN_Precip_18\", \"JUL_Precip_18\", \"AUG_Precip_18\", \"SEP_Precip_18\", \"OCT_Precip_18\", \"NOV_Precip_18\", \"DEC_Precip_18\"], \"y\": [4.61, 1.81, 4.2, 4.23, 2.98, 2.85, 5.72, 2.4, 0.38, 10.51, 3.71, 3.43, 3.7, 1.71, 0.42, 3.1, 1.77, 9.154411764705884, 2.87, 1.36, 5.36, 4.1, 4.34, 2.1, 1.92, 2.4, 2.96, 3.68, 0.57, 2.87, 1.56, 3.2867647058823524, 1.0176470588235291, 4.634705882352941, 1.4529411764705882, 3.7502941176470586, 1.519090909090909, 3.796969696969697, 2.732727272727272, 5.178787878787876, 6.891818181818182, 4.548787878787879, 3.833333333333334, 1.7742424242424246, 5.507878787878788, 1.5312121212121212, 3.3739393939393936, 4.243030303030301, 2.73, 0.47, 2.32, 4.68, 5.81, 5.1, 3.9, 6.89, 4.35, 6.05, 3.01, 6.3, 2.44, 3.98, 4.63, 2.7, 3.46, 1.44, 3.99, 4.06, 4.79, 5.27, 2.27, 2.05, 2.18, 2.69, 5.78, 7.67, 3.51, 1.78, 2.78, 7.16, 10.7, 4.75, 4.65, 3.91, 2.26, 1.876969696969697, 2.3371875, 2.75, 5.95, 3.41, 4.39, 4.64, 5.09, 8.78, 1.16, 3.33, 2.82, 1.41, 1.43, 2.51, 2.68, 4.13, 3.27, 2.86, 2.15, 7.67, 2.13, 4.87, 1.03, 3.61, 2.46, 3.12, 5.7, 4.44, 4.89, 2.72, 1.42, 4.03, 1.91, 2.17, 6.55, 1.47, 3.78, 3.4, 2.41, 9.02, 2.15, 2.14, 4.35, 3.76, 2.38, 3.38, 3.02, 2.37, 1.6, 1.31, 5.17, 4.07, 3.16, 3.71, 3.75, 2.16, 0.69, 3.35, 5.61, 2.19, 5.15, 4.37, 8.83, 5.31, 7.79, 2.1, 1.45, 5.84, 2.26, 1.13, 2.62, 3.88, 1.96, 4.12, 4.64, 4.97, 5.96, 6.24, 9.31, 1.63, 5.83, 4.87]}],\n",
       "                        {\"legend\": {\"bgcolor\": \"#F5F6F9\", \"font\": {\"color\": \"#4D5663\"}}, \"paper_bgcolor\": \"#F5F6F9\", \"plot_bgcolor\": \"#F5F6F9\", \"template\": {\"data\": {\"bar\": [{\"error_x\": {\"color\": \"#2a3f5f\"}, \"error_y\": {\"color\": \"#2a3f5f\"}, \"marker\": {\"line\": {\"color\": \"#E5ECF6\", \"width\": 0.5}}, \"type\": \"bar\"}], \"barpolar\": [{\"marker\": {\"line\": {\"color\": \"#E5ECF6\", \"width\": 0.5}}, \"type\": \"barpolar\"}], \"carpet\": [{\"aaxis\": {\"endlinecolor\": \"#2a3f5f\", \"gridcolor\": \"white\", \"linecolor\": \"white\", \"minorgridcolor\": \"white\", \"startlinecolor\": \"#2a3f5f\"}, \"baxis\": {\"endlinecolor\": \"#2a3f5f\", \"gridcolor\": \"white\", \"linecolor\": \"white\", \"minorgridcolor\": \"white\", \"startlinecolor\": \"#2a3f5f\"}, \"type\": \"carpet\"}], \"choropleth\": [{\"colorbar\": {\"outlinewidth\": 0, \"ticks\": \"\"}, \"type\": \"choropleth\"}], \"contour\": [{\"colorbar\": {\"outlinewidth\": 0, \"ticks\": \"\"}, \"colorscale\": [[0.0, \"#0d0887\"], [0.1111111111111111, \"#46039f\"], [0.2222222222222222, \"#7201a8\"], [0.3333333333333333, \"#9c179e\"], [0.4444444444444444, \"#bd3786\"], [0.5555555555555556, \"#d8576b\"], [0.6666666666666666, \"#ed7953\"], [0.7777777777777778, \"#fb9f3a\"], [0.8888888888888888, \"#fdca26\"], [1.0, \"#f0f921\"]], \"type\": \"contour\"}], \"contourcarpet\": [{\"colorbar\": {\"outlinewidth\": 0, \"ticks\": \"\"}, \"type\": \"contourcarpet\"}], \"heatmap\": [{\"colorbar\": {\"outlinewidth\": 0, \"ticks\": \"\"}, \"colorscale\": [[0.0, \"#0d0887\"], [0.1111111111111111, \"#46039f\"], [0.2222222222222222, \"#7201a8\"], [0.3333333333333333, \"#9c179e\"], [0.4444444444444444, \"#bd3786\"], [0.5555555555555556, \"#d8576b\"], [0.6666666666666666, \"#ed7953\"], [0.7777777777777778, \"#fb9f3a\"], [0.8888888888888888, \"#fdca26\"], [1.0, \"#f0f921\"]], \"type\": \"heatmap\"}], \"heatmapgl\": [{\"colorbar\": {\"outlinewidth\": 0, \"ticks\": \"\"}, \"colorscale\": [[0.0, \"#0d0887\"], [0.1111111111111111, \"#46039f\"], [0.2222222222222222, \"#7201a8\"], [0.3333333333333333, \"#9c179e\"], [0.4444444444444444, \"#bd3786\"], [0.5555555555555556, \"#d8576b\"], [0.6666666666666666, \"#ed7953\"], [0.7777777777777778, \"#fb9f3a\"], [0.8888888888888888, \"#fdca26\"], [1.0, \"#f0f921\"]], \"type\": \"heatmapgl\"}], \"histogram\": [{\"marker\": {\"colorbar\": {\"outlinewidth\": 0, \"ticks\": \"\"}}, \"type\": \"histogram\"}], \"histogram2d\": [{\"colorbar\": {\"outlinewidth\": 0, \"ticks\": \"\"}, \"colorscale\": [[0.0, \"#0d0887\"], [0.1111111111111111, \"#46039f\"], [0.2222222222222222, \"#7201a8\"], [0.3333333333333333, \"#9c179e\"], [0.4444444444444444, \"#bd3786\"], [0.5555555555555556, \"#d8576b\"], [0.6666666666666666, \"#ed7953\"], [0.7777777777777778, \"#fb9f3a\"], [0.8888888888888888, \"#fdca26\"], [1.0, \"#f0f921\"]], \"type\": \"histogram2d\"}], \"histogram2dcontour\": [{\"colorbar\": {\"outlinewidth\": 0, \"ticks\": \"\"}, \"colorscale\": [[0.0, \"#0d0887\"], [0.1111111111111111, \"#46039f\"], [0.2222222222222222, \"#7201a8\"], [0.3333333333333333, \"#9c179e\"], [0.4444444444444444, \"#bd3786\"], [0.5555555555555556, \"#d8576b\"], [0.6666666666666666, \"#ed7953\"], [0.7777777777777778, \"#fb9f3a\"], [0.8888888888888888, \"#fdca26\"], [1.0, \"#f0f921\"]], \"type\": \"histogram2dcontour\"}], \"mesh3d\": [{\"colorbar\": {\"outlinewidth\": 0, \"ticks\": \"\"}, \"type\": \"mesh3d\"}], \"parcoords\": [{\"line\": {\"colorbar\": {\"outlinewidth\": 0, \"ticks\": \"\"}}, \"type\": \"parcoords\"}], \"scatter\": [{\"marker\": {\"colorbar\": {\"outlinewidth\": 0, \"ticks\": \"\"}}, \"type\": \"scatter\"}], \"scatter3d\": [{\"line\": {\"colorbar\": {\"outlinewidth\": 0, \"ticks\": \"\"}}, \"marker\": {\"colorbar\": {\"outlinewidth\": 0, \"ticks\": \"\"}}, \"type\": \"scatter3d\"}], \"scattercarpet\": [{\"marker\": {\"colorbar\": {\"outlinewidth\": 0, \"ticks\": \"\"}}, \"type\": \"scattercarpet\"}], \"scattergeo\": [{\"marker\": {\"colorbar\": {\"outlinewidth\": 0, \"ticks\": \"\"}}, \"type\": \"scattergeo\"}], \"scattergl\": [{\"marker\": {\"colorbar\": {\"outlinewidth\": 0, \"ticks\": \"\"}}, \"type\": \"scattergl\"}], \"scattermapbox\": [{\"marker\": {\"colorbar\": {\"outlinewidth\": 0, \"ticks\": \"\"}}, \"type\": \"scattermapbox\"}], \"scatterpolar\": [{\"marker\": {\"colorbar\": {\"outlinewidth\": 0, \"ticks\": \"\"}}, \"type\": \"scatterpolar\"}], \"scatterpolargl\": [{\"marker\": {\"colorbar\": {\"outlinewidth\": 0, \"ticks\": \"\"}}, \"type\": \"scatterpolargl\"}], \"scatterternary\": [{\"marker\": {\"colorbar\": {\"outlinewidth\": 0, \"ticks\": \"\"}}, \"type\": \"scatterternary\"}], \"surface\": [{\"colorbar\": {\"outlinewidth\": 0, \"ticks\": \"\"}, \"colorscale\": [[0.0, \"#0d0887\"], [0.1111111111111111, \"#46039f\"], [0.2222222222222222, \"#7201a8\"], [0.3333333333333333, \"#9c179e\"], [0.4444444444444444, \"#bd3786\"], [0.5555555555555556, \"#d8576b\"], [0.6666666666666666, \"#ed7953\"], [0.7777777777777778, \"#fb9f3a\"], [0.8888888888888888, \"#fdca26\"], [1.0, \"#f0f921\"]], \"type\": \"surface\"}], \"table\": [{\"cells\": {\"fill\": {\"color\": \"#EBF0F8\"}, \"line\": {\"color\": \"white\"}}, \"header\": {\"fill\": {\"color\": \"#C8D4E3\"}, \"line\": {\"color\": \"white\"}}, \"type\": \"table\"}]}, \"layout\": {\"annotationdefaults\": {\"arrowcolor\": \"#2a3f5f\", \"arrowhead\": 0, \"arrowwidth\": 1}, \"colorscale\": {\"diverging\": [[0, \"#8e0152\"], [0.1, \"#c51b7d\"], [0.2, \"#de77ae\"], [0.3, \"#f1b6da\"], [0.4, \"#fde0ef\"], [0.5, \"#f7f7f7\"], [0.6, \"#e6f5d0\"], [0.7, \"#b8e186\"], [0.8, \"#7fbc41\"], [0.9, \"#4d9221\"], [1, \"#276419\"]], \"sequential\": [[0.0, \"#0d0887\"], [0.1111111111111111, \"#46039f\"], [0.2222222222222222, \"#7201a8\"], [0.3333333333333333, \"#9c179e\"], [0.4444444444444444, \"#bd3786\"], [0.5555555555555556, \"#d8576b\"], [0.6666666666666666, \"#ed7953\"], [0.7777777777777778, \"#fb9f3a\"], [0.8888888888888888, \"#fdca26\"], [1.0, \"#f0f921\"]], \"sequentialminus\": [[0.0, \"#0d0887\"], [0.1111111111111111, \"#46039f\"], [0.2222222222222222, \"#7201a8\"], [0.3333333333333333, \"#9c179e\"], [0.4444444444444444, \"#bd3786\"], [0.5555555555555556, \"#d8576b\"], [0.6666666666666666, \"#ed7953\"], [0.7777777777777778, \"#fb9f3a\"], [0.8888888888888888, \"#fdca26\"], [1.0, \"#f0f921\"]]}, \"colorway\": [\"#636efa\", \"#EF553B\", \"#00cc96\", \"#ab63fa\", \"#FFA15A\", \"#19d3f3\", \"#FF6692\", \"#B6E880\", \"#FF97FF\", \"#FECB52\"], \"font\": {\"color\": \"#2a3f5f\"}, \"geo\": {\"bgcolor\": \"white\", \"lakecolor\": \"white\", \"landcolor\": \"#E5ECF6\", \"showlakes\": true, \"showland\": true, \"subunitcolor\": \"white\"}, \"hoverlabel\": {\"align\": \"left\"}, \"hovermode\": \"closest\", \"mapbox\": {\"style\": \"light\"}, \"paper_bgcolor\": \"white\", \"plot_bgcolor\": \"#E5ECF6\", \"polar\": {\"angularaxis\": {\"gridcolor\": \"white\", \"linecolor\": \"white\", \"ticks\": \"\"}, \"bgcolor\": \"#E5ECF6\", \"radialaxis\": {\"gridcolor\": \"white\", \"linecolor\": \"white\", \"ticks\": \"\"}}, \"scene\": {\"xaxis\": {\"backgroundcolor\": \"#E5ECF6\", \"gridcolor\": \"white\", \"gridwidth\": 2, \"linecolor\": \"white\", \"showbackground\": true, \"ticks\": \"\", \"zerolinecolor\": \"white\"}, \"yaxis\": {\"backgroundcolor\": \"#E5ECF6\", \"gridcolor\": \"white\", \"gridwidth\": 2, \"linecolor\": \"white\", \"showbackground\": true, \"ticks\": \"\", \"zerolinecolor\": \"white\"}, \"zaxis\": {\"backgroundcolor\": \"#E5ECF6\", \"gridcolor\": \"white\", \"gridwidth\": 2, \"linecolor\": \"white\", \"showbackground\": true, \"ticks\": \"\", \"zerolinecolor\": \"white\"}}, \"shapedefaults\": {\"line\": {\"color\": \"#2a3f5f\"}}, \"ternary\": {\"aaxis\": {\"gridcolor\": \"white\", \"linecolor\": \"white\", \"ticks\": \"\"}, \"baxis\": {\"gridcolor\": \"white\", \"linecolor\": \"white\", \"ticks\": \"\"}, \"bgcolor\": \"#E5ECF6\", \"caxis\": {\"gridcolor\": \"white\", \"linecolor\": \"white\", \"ticks\": \"\"}}, \"title\": {\"x\": 0.05}, \"xaxis\": {\"automargin\": true, \"gridcolor\": \"white\", \"linecolor\": \"white\", \"ticks\": \"\", \"zerolinecolor\": \"white\", \"zerolinewidth\": 2}, \"yaxis\": {\"automargin\": true, \"gridcolor\": \"white\", \"linecolor\": \"white\", \"ticks\": \"\", \"zerolinecolor\": \"white\", \"zerolinewidth\": 2}}}, \"title\": {\"font\": {\"color\": \"#4D5663\"}, \"text\": \"Precipitation in Northen Central Maryland over years 2005-2018\"}, \"xaxis\": {\"gridcolor\": \"#E1E5ED\", \"showgrid\": false, \"tickfont\": {\"color\": \"#4D5663\"}, \"title\": {\"font\": {\"color\": \"#4D5663\"}, \"text\": \"Month and Year\"}, \"zerolinecolor\": \"#E1E5ED\"}, \"yaxis\": {\"gridcolor\": \"#E1E5ED\", \"showgrid\": false, \"tickfont\": {\"color\": \"#4D5663\"}, \"title\": {\"font\": {\"color\": \"#4D5663\"}, \"text\": \"Precipitation\"}, \"zerolinecolor\": \"#E1E5ED\"}},\n",
       "                        {\"showLink\": true, \"linkText\": \"Export to plot.ly\", \"plotlyServerURL\": \"https://plot.ly\", \"responsive\": true}\n",
       "                    ).then(function(){\n",
       "                            \n",
       "var gd = document.getElementById('e59aa02e-ef4b-46f3-9f81-eb785767edb7');\n",
       "var x = new MutationObserver(function (mutations, observer) {{\n",
       "        var display = window.getComputedStyle(gd).display;\n",
       "        if (!display || display === 'none') {{\n",
       "            console.log([gd, 'removed!']);\n",
       "            Plotly.purge(gd);\n",
       "            observer.disconnect();\n",
       "        }}\n",
       "}});\n",
       "\n",
       "// Listen for the removal of the full notebook cells\n",
       "var notebookContainer = gd.closest('#notebook-container');\n",
       "if (notebookContainer) {{\n",
       "    x.observe(notebookContainer, {childList: true});\n",
       "}}\n",
       "\n",
       "// Listen for the clearing of the current output cell\n",
       "var outputEl = gd.closest('.output');\n",
       "if (outputEl) {{\n",
       "    x.observe(outputEl, {childList: true});\n",
       "}}\n",
       "\n",
       "                        })\n",
       "                };\n",
       "                });\n",
       "            </script>\n",
       "        </div>"
      ]
     },
     "metadata": {},
     "output_type": "display_data"
    }
   ],
   "source": [
    "mdprecip1 = mdprecip[['Month and Year','NORTHERN CENTRAL   06']]\n",
    "\n",
    "mdprecip1.iplot(\n",
    "    x='Month and Year',\n",
    "    y='NORTHERN CENTRAL   06',\n",
    "    # Specify the category\n",
    "    #categories='publication',\n",
    "    xTitle='Month and Year',\n",
    "    yTitle='Precipitation',\n",
    "    title='Precipitation in Northen Central Maryland over years 2005-2018',\n",
    "    showgrid = False)"
   ]
  },
  {
   "cell_type": "markdown",
   "metadata": {},
   "source": [
    "Inference: We see a normal trend across seasons in the Northen Central region of Maryland. We looked for changes in rainfall patterns, but it is difficult to differentiate with this amount of data between natural variability and variability due to climate change."
   ]
  },
  {
   "cell_type": "markdown",
   "metadata": {},
   "source": [
    "#### Comparing the average precipitation over years with different regions of Maryland"
   ]
  },
  {
   "cell_type": "code",
   "execution_count": 35,
   "metadata": {},
   "outputs": [],
   "source": [
    "avg = pd.DataFrame(columns = ['Year','NORTHERN CENTRAL','NORTHERN EASTERN','UPPER SOUTHERN','LOWER SOUTHERN','CENTRAL EASTERN','SOUTHERN EASTERN'])"
   ]
  },
  {
   "cell_type": "code",
   "execution_count": 36,
   "metadata": {},
   "outputs": [
    {
     "data": {
      "text/html": [
       "<div>\n",
       "<style scoped>\n",
       "    .dataframe tbody tr th:only-of-type {\n",
       "        vertical-align: middle;\n",
       "    }\n",
       "\n",
       "    .dataframe tbody tr th {\n",
       "        vertical-align: top;\n",
       "    }\n",
       "\n",
       "    .dataframe thead th {\n",
       "        text-align: right;\n",
       "    }\n",
       "</style>\n",
       "<table border=\"1\" class=\"dataframe\">\n",
       "  <thead>\n",
       "    <tr style=\"text-align: right;\">\n",
       "      <th></th>\n",
       "      <th>NORTHERN CENTRAL</th>\n",
       "      <th>NORTHERN EASTERN</th>\n",
       "      <th>UPPER SOUTHERN</th>\n",
       "      <th>LOWER SOUTHERN</th>\n",
       "      <th>CENTRAL EASTERN</th>\n",
       "      <th>SOUTHERN EASTERN</th>\n",
       "    </tr>\n",
       "    <tr>\n",
       "      <th>Year</th>\n",
       "      <th></th>\n",
       "      <th></th>\n",
       "      <th></th>\n",
       "      <th></th>\n",
       "      <th></th>\n",
       "      <th></th>\n",
       "    </tr>\n",
       "  </thead>\n",
       "  <tbody>\n",
       "    <tr>\n",
       "      <td>2005</td>\n",
       "      <td>3.9025</td>\n",
       "      <td>3.70917</td>\n",
       "      <td>4.0275</td>\n",
       "      <td>4.09417</td>\n",
       "      <td>4.01833</td>\n",
       "      <td>3.27333</td>\n",
       "    </tr>\n",
       "    <tr>\n",
       "      <td>2006</td>\n",
       "      <td>3.33203</td>\n",
       "      <td>3.59583</td>\n",
       "      <td>3.79</td>\n",
       "      <td>4.16583</td>\n",
       "      <td>4.03583</td>\n",
       "      <td>3.36583</td>\n",
       "    </tr>\n",
       "    <tr>\n",
       "      <td>2007</td>\n",
       "      <td>2.50853</td>\n",
       "      <td>0.899167</td>\n",
       "      <td>3.18</td>\n",
       "      <td>2.9475</td>\n",
       "      <td>2.61</td>\n",
       "      <td>2.5475</td>\n",
       "    </tr>\n",
       "    <tr>\n",
       "      <td>2008</td>\n",
       "      <td>3.74432</td>\n",
       "      <td>3.98583</td>\n",
       "      <td>4.69</td>\n",
       "      <td>4.23917</td>\n",
       "      <td>3.7225</td>\n",
       "      <td>4.085</td>\n",
       "    </tr>\n",
       "    <tr>\n",
       "      <td>2009</td>\n",
       "      <td>4.30083</td>\n",
       "      <td>3.81</td>\n",
       "      <td>4.98333</td>\n",
       "      <td>4.95667</td>\n",
       "      <td>4.6775</td>\n",
       "      <td>4.64333</td>\n",
       "    </tr>\n",
       "    <tr>\n",
       "      <td>2010</td>\n",
       "      <td>3.42333</td>\n",
       "      <td>2.92917</td>\n",
       "      <td>3.46667</td>\n",
       "      <td>3.96167</td>\n",
       "      <td>3.50083</td>\n",
       "      <td>3.04</td>\n",
       "    </tr>\n",
       "    <tr>\n",
       "      <td>2011</td>\n",
       "      <td>4.79667</td>\n",
       "      <td>5.29</td>\n",
       "      <td>4.60917</td>\n",
       "      <td>4.64889</td>\n",
       "      <td>4.2625</td>\n",
       "      <td>3.26197</td>\n",
       "    </tr>\n",
       "    <tr>\n",
       "      <td>2012</td>\n",
       "      <td>3.83118</td>\n",
       "      <td>3.26291</td>\n",
       "      <td>2.84</td>\n",
       "      <td>3.32833</td>\n",
       "      <td>3.5275</td>\n",
       "      <td>3.57219</td>\n",
       "    </tr>\n",
       "    <tr>\n",
       "      <td>2013</td>\n",
       "      <td>3.16083</td>\n",
       "      <td>4.07</td>\n",
       "      <td>4.11083</td>\n",
       "      <td>3.41917</td>\n",
       "      <td>4.07667</td>\n",
       "      <td>3.81196</td>\n",
       "    </tr>\n",
       "    <tr>\n",
       "      <td>2014</td>\n",
       "      <td>3.125</td>\n",
       "      <td>2.94333</td>\n",
       "      <td>3.8075</td>\n",
       "      <td>4.6125</td>\n",
       "      <td>3.34619</td>\n",
       "      <td>3.78941</td>\n",
       "    </tr>\n",
       "    <tr>\n",
       "      <td>2015</td>\n",
       "      <td>3.7325</td>\n",
       "      <td>3.37966</td>\n",
       "      <td>3.7525</td>\n",
       "      <td>4.02938</td>\n",
       "      <td>4.2125</td>\n",
       "      <td>4.03422</td>\n",
       "    </tr>\n",
       "    <tr>\n",
       "      <td>2016</td>\n",
       "      <td>2.86333</td>\n",
       "      <td>3.89833</td>\n",
       "      <td>3.39021</td>\n",
       "      <td>3.09333</td>\n",
       "      <td>3.47333</td>\n",
       "      <td>3.63722</td>\n",
       "    </tr>\n",
       "    <tr>\n",
       "      <td>2017</td>\n",
       "      <td>4.33583</td>\n",
       "      <td>3.34583</td>\n",
       "      <td>3.29833</td>\n",
       "      <td>3.6825</td>\n",
       "      <td>3.08492</td>\n",
       "      <td>3.44984</td>\n",
       "    </tr>\n",
       "    <tr>\n",
       "      <td>2018</td>\n",
       "      <td>4.66917</td>\n",
       "      <td>5.86583</td>\n",
       "      <td>5.72</td>\n",
       "      <td>6.175</td>\n",
       "      <td>6.79583</td>\n",
       "      <td>5.15266</td>\n",
       "    </tr>\n",
       "  </tbody>\n",
       "</table>\n",
       "</div>"
      ],
      "text/plain": [
       "     NORTHERN CENTRAL NORTHERN EASTERN UPPER SOUTHERN LOWER SOUTHERN  \\\n",
       "Year                                                                   \n",
       "2005           3.9025          3.70917         4.0275        4.09417   \n",
       "2006          3.33203          3.59583           3.79        4.16583   \n",
       "2007          2.50853         0.899167           3.18         2.9475   \n",
       "2008          3.74432          3.98583           4.69        4.23917   \n",
       "2009          4.30083             3.81        4.98333        4.95667   \n",
       "2010          3.42333          2.92917        3.46667        3.96167   \n",
       "2011          4.79667             5.29        4.60917        4.64889   \n",
       "2012          3.83118          3.26291           2.84        3.32833   \n",
       "2013          3.16083             4.07        4.11083        3.41917   \n",
       "2014            3.125          2.94333         3.8075         4.6125   \n",
       "2015           3.7325          3.37966         3.7525        4.02938   \n",
       "2016          2.86333          3.89833        3.39021        3.09333   \n",
       "2017          4.33583          3.34583        3.29833         3.6825   \n",
       "2018          4.66917          5.86583           5.72          6.175   \n",
       "\n",
       "     CENTRAL EASTERN SOUTHERN EASTERN  \n",
       "Year                                   \n",
       "2005         4.01833          3.27333  \n",
       "2006         4.03583          3.36583  \n",
       "2007            2.61           2.5475  \n",
       "2008          3.7225            4.085  \n",
       "2009          4.6775          4.64333  \n",
       "2010         3.50083             3.04  \n",
       "2011          4.2625          3.26197  \n",
       "2012          3.5275          3.57219  \n",
       "2013         4.07667          3.81196  \n",
       "2014         3.34619          3.78941  \n",
       "2015          4.2125          4.03422  \n",
       "2016         3.47333          3.63722  \n",
       "2017         3.08492          3.44984  \n",
       "2018         6.79583          5.15266  "
      ]
     },
     "execution_count": 36,
     "metadata": {},
     "output_type": "execute_result"
    }
   ],
   "source": [
    "seprecip = mdprecip[['Month and Year','NORTHERN CENTRAL   06','NORTHERN EASTERN','UPPER SOUTHERN     04','LOWER SOUTHERN     03','CENTRAL EASTERN','SOUTHERN EASTERN']]\n",
    "seprecip = seprecip.reset_index()\n",
    "seprecip = seprecip.drop(columns='index')\n",
    "avg = pd.DataFrame(columns = ['Year','NORTHERN CENTRAL','NORTHERN EASTERN','UPPER SOUTHERN','LOWER SOUTHERN','CENTRAL EASTERN','SOUTHERN EASTERN'])\n",
    "avg['Year'] = [i for i in range(2005,2019)]\n",
    "x = 2005\n",
    "z = 0\n",
    "for i in range(-1,167,12):\n",
    "    y = seprecip.loc[i+1:i+12].mean()\n",
    "    avg.iloc[z,1] = y[0]\n",
    "    avg.iloc[z,2] = y[1]\n",
    "    avg.iloc[z,3] = y[2]\n",
    "    avg.iloc[z,4] = y[3]\n",
    "    avg.iloc[z,5] = y[4]\n",
    "    avg.iloc[z,6] = y[5]\n",
    "    z = z+1\n",
    "\n",
    "avg=avg.set_index('Year')\n",
    "avg"
   ]
  },
  {
   "cell_type": "code",
   "execution_count": 37,
   "metadata": {},
   "outputs": [
    {
     "data": {
      "application/vnd.plotly.v1+json": {
       "config": {
        "linkText": "Export to plot.ly",
        "plotlyServerURL": "https://plot.ly",
        "showLink": true
       },
       "data": [
        {
         "marker": {
          "color": "rgba(255, 153, 51, 0.6)",
          "line": {
           "color": "rgba(255, 153, 51, 1.0)",
           "width": 1
          }
         },
         "name": "NORTHERN CENTRAL",
         "orientation": "v",
         "text": "",
         "type": "bar",
         "x": [
          2005,
          2006,
          2007,
          2008,
          2009,
          2010,
          2011,
          2012,
          2013,
          2014,
          2015,
          2016,
          2017,
          2018
         ],
         "y": [
          3.9025,
          3.3320343137254906,
          2.5085294117647057,
          3.7443181818181817,
          4.300833333333332,
          3.4233333333333333,
          4.796666666666667,
          3.8311797664141416,
          3.1608333333333327,
          3.125,
          3.7325,
          2.8633333333333333,
          4.335833333333333,
          4.6691666666666665
         ]
        },
        {
         "marker": {
          "color": "rgba(55, 128, 191, 0.6)",
          "line": {
           "color": "rgba(55, 128, 191, 1.0)",
           "width": 1
          }
         },
         "name": "NORTHERN EASTERN",
         "orientation": "v",
         "text": "",
         "type": "bar",
         "x": [
          2005,
          2006,
          2007,
          2008,
          2009,
          2010,
          2011,
          2012,
          2013,
          2014,
          2015,
          2016,
          2017,
          2018
         ],
         "y": [
          3.709166666666668,
          3.5958333333333328,
          0.8991666666666666,
          3.9858333333333333,
          3.81,
          2.9291666666666667,
          5.29,
          3.2629065860215056,
          4.069999999999999,
          2.9433333333333334,
          3.379663382594417,
          3.8983333333333334,
          3.345833333333333,
          5.865833333333335
         ]
        },
        {
         "marker": {
          "color": "rgba(50, 171, 96, 0.6)",
          "line": {
           "color": "rgba(50, 171, 96, 1.0)",
           "width": 1
          }
         },
         "name": "UPPER SOUTHERN",
         "orientation": "v",
         "text": "",
         "type": "bar",
         "x": [
          2005,
          2006,
          2007,
          2008,
          2009,
          2010,
          2011,
          2012,
          2013,
          2014,
          2015,
          2016,
          2017,
          2018
         ],
         "y": [
          4.0275,
          3.7900000000000005,
          3.1799999999999997,
          4.6899999999999995,
          4.983333333333333,
          3.466666666666667,
          4.609166666666666,
          2.8399999999999994,
          4.110833333333333,
          3.8074999999999997,
          3.7525,
          3.3902051971326173,
          3.2983333333333325,
          5.719999999999999
         ]
        },
        {
         "marker": {
          "color": "rgba(128, 0, 128, 0.6)",
          "line": {
           "color": "rgba(128, 0, 128, 1.0)",
           "width": 1
          }
         },
         "name": "LOWER SOUTHERN",
         "orientation": "v",
         "text": "",
         "type": "bar",
         "x": [
          2005,
          2006,
          2007,
          2008,
          2009,
          2010,
          2011,
          2012,
          2013,
          2014,
          2015,
          2016,
          2017,
          2018
         ],
         "y": [
          4.094166666666666,
          4.1658333333333335,
          2.9475,
          4.239166666666667,
          4.956666666666668,
          3.9616666666666656,
          4.648894546545408,
          3.328333333333333,
          3.419166666666667,
          4.612500000000001,
          4.029384240591398,
          3.0933333333333337,
          3.6825000000000006,
          6.175
         ]
        },
        {
         "marker": {
          "color": "rgba(219, 64, 82, 0.6)",
          "line": {
           "color": "rgba(219, 64, 82, 1.0)",
           "width": 1
          }
         },
         "name": "CENTRAL EASTERN",
         "orientation": "v",
         "text": "",
         "type": "bar",
         "x": [
          2005,
          2006,
          2007,
          2008,
          2009,
          2010,
          2011,
          2012,
          2013,
          2014,
          2015,
          2016,
          2017,
          2018
         ],
         "y": [
          4.0183333333333335,
          4.035833333333334,
          2.6100000000000003,
          3.7225,
          4.677499999999999,
          3.500833333333333,
          4.2625,
          3.5275,
          4.076666666666667,
          3.3461944444444445,
          4.2124999999999995,
          3.4733333333333327,
          3.0849223416965352,
          6.795833333333333
         ]
        },
        {
         "marker": {
          "color": "rgba(0, 128, 128, 0.6)",
          "line": {
           "color": "rgba(0, 128, 128, 1.0)",
           "width": 1
          }
         },
         "name": "SOUTHERN EASTERN",
         "orientation": "v",
         "text": "",
         "type": "bar",
         "x": [
          2005,
          2006,
          2007,
          2008,
          2009,
          2010,
          2011,
          2012,
          2013,
          2014,
          2015,
          2016,
          2017,
          2018
         ],
         "y": [
          3.2733333333333334,
          3.3658333333333332,
          2.5475,
          4.085,
          4.6433333333333335,
          3.039999999999999,
          3.2619714696223316,
          3.572192830822456,
          3.8119580889112736,
          3.789405409946237,
          4.0342151859098285,
          3.63722406261587,
          3.4498445323531013,
          5.152660029276356
         ]
        }
       ],
       "layout": {
        "legend": {
         "bgcolor": "#F5F6F9",
         "font": {
          "color": "#4D5663"
         }
        },
        "paper_bgcolor": "#F5F6F9",
        "plot_bgcolor": "#F5F6F9",
        "template": {
         "data": {
          "bar": [
           {
            "error_x": {
             "color": "#2a3f5f"
            },
            "error_y": {
             "color": "#2a3f5f"
            },
            "marker": {
             "line": {
              "color": "#E5ECF6",
              "width": 0.5
             }
            },
            "type": "bar"
           }
          ],
          "barpolar": [
           {
            "marker": {
             "line": {
              "color": "#E5ECF6",
              "width": 0.5
             }
            },
            "type": "barpolar"
           }
          ],
          "carpet": [
           {
            "aaxis": {
             "endlinecolor": "#2a3f5f",
             "gridcolor": "white",
             "linecolor": "white",
             "minorgridcolor": "white",
             "startlinecolor": "#2a3f5f"
            },
            "baxis": {
             "endlinecolor": "#2a3f5f",
             "gridcolor": "white",
             "linecolor": "white",
             "minorgridcolor": "white",
             "startlinecolor": "#2a3f5f"
            },
            "type": "carpet"
           }
          ],
          "choropleth": [
           {
            "colorbar": {
             "outlinewidth": 0,
             "ticks": ""
            },
            "type": "choropleth"
           }
          ],
          "contour": [
           {
            "colorbar": {
             "outlinewidth": 0,
             "ticks": ""
            },
            "colorscale": [
             [
              0,
              "#0d0887"
             ],
             [
              0.1111111111111111,
              "#46039f"
             ],
             [
              0.2222222222222222,
              "#7201a8"
             ],
             [
              0.3333333333333333,
              "#9c179e"
             ],
             [
              0.4444444444444444,
              "#bd3786"
             ],
             [
              0.5555555555555556,
              "#d8576b"
             ],
             [
              0.6666666666666666,
              "#ed7953"
             ],
             [
              0.7777777777777778,
              "#fb9f3a"
             ],
             [
              0.8888888888888888,
              "#fdca26"
             ],
             [
              1,
              "#f0f921"
             ]
            ],
            "type": "contour"
           }
          ],
          "contourcarpet": [
           {
            "colorbar": {
             "outlinewidth": 0,
             "ticks": ""
            },
            "type": "contourcarpet"
           }
          ],
          "heatmap": [
           {
            "colorbar": {
             "outlinewidth": 0,
             "ticks": ""
            },
            "colorscale": [
             [
              0,
              "#0d0887"
             ],
             [
              0.1111111111111111,
              "#46039f"
             ],
             [
              0.2222222222222222,
              "#7201a8"
             ],
             [
              0.3333333333333333,
              "#9c179e"
             ],
             [
              0.4444444444444444,
              "#bd3786"
             ],
             [
              0.5555555555555556,
              "#d8576b"
             ],
             [
              0.6666666666666666,
              "#ed7953"
             ],
             [
              0.7777777777777778,
              "#fb9f3a"
             ],
             [
              0.8888888888888888,
              "#fdca26"
             ],
             [
              1,
              "#f0f921"
             ]
            ],
            "type": "heatmap"
           }
          ],
          "heatmapgl": [
           {
            "colorbar": {
             "outlinewidth": 0,
             "ticks": ""
            },
            "colorscale": [
             [
              0,
              "#0d0887"
             ],
             [
              0.1111111111111111,
              "#46039f"
             ],
             [
              0.2222222222222222,
              "#7201a8"
             ],
             [
              0.3333333333333333,
              "#9c179e"
             ],
             [
              0.4444444444444444,
              "#bd3786"
             ],
             [
              0.5555555555555556,
              "#d8576b"
             ],
             [
              0.6666666666666666,
              "#ed7953"
             ],
             [
              0.7777777777777778,
              "#fb9f3a"
             ],
             [
              0.8888888888888888,
              "#fdca26"
             ],
             [
              1,
              "#f0f921"
             ]
            ],
            "type": "heatmapgl"
           }
          ],
          "histogram": [
           {
            "marker": {
             "colorbar": {
              "outlinewidth": 0,
              "ticks": ""
             }
            },
            "type": "histogram"
           }
          ],
          "histogram2d": [
           {
            "colorbar": {
             "outlinewidth": 0,
             "ticks": ""
            },
            "colorscale": [
             [
              0,
              "#0d0887"
             ],
             [
              0.1111111111111111,
              "#46039f"
             ],
             [
              0.2222222222222222,
              "#7201a8"
             ],
             [
              0.3333333333333333,
              "#9c179e"
             ],
             [
              0.4444444444444444,
              "#bd3786"
             ],
             [
              0.5555555555555556,
              "#d8576b"
             ],
             [
              0.6666666666666666,
              "#ed7953"
             ],
             [
              0.7777777777777778,
              "#fb9f3a"
             ],
             [
              0.8888888888888888,
              "#fdca26"
             ],
             [
              1,
              "#f0f921"
             ]
            ],
            "type": "histogram2d"
           }
          ],
          "histogram2dcontour": [
           {
            "colorbar": {
             "outlinewidth": 0,
             "ticks": ""
            },
            "colorscale": [
             [
              0,
              "#0d0887"
             ],
             [
              0.1111111111111111,
              "#46039f"
             ],
             [
              0.2222222222222222,
              "#7201a8"
             ],
             [
              0.3333333333333333,
              "#9c179e"
             ],
             [
              0.4444444444444444,
              "#bd3786"
             ],
             [
              0.5555555555555556,
              "#d8576b"
             ],
             [
              0.6666666666666666,
              "#ed7953"
             ],
             [
              0.7777777777777778,
              "#fb9f3a"
             ],
             [
              0.8888888888888888,
              "#fdca26"
             ],
             [
              1,
              "#f0f921"
             ]
            ],
            "type": "histogram2dcontour"
           }
          ],
          "mesh3d": [
           {
            "colorbar": {
             "outlinewidth": 0,
             "ticks": ""
            },
            "type": "mesh3d"
           }
          ],
          "parcoords": [
           {
            "line": {
             "colorbar": {
              "outlinewidth": 0,
              "ticks": ""
             }
            },
            "type": "parcoords"
           }
          ],
          "scatter": [
           {
            "marker": {
             "colorbar": {
              "outlinewidth": 0,
              "ticks": ""
             }
            },
            "type": "scatter"
           }
          ],
          "scatter3d": [
           {
            "line": {
             "colorbar": {
              "outlinewidth": 0,
              "ticks": ""
             }
            },
            "marker": {
             "colorbar": {
              "outlinewidth": 0,
              "ticks": ""
             }
            },
            "type": "scatter3d"
           }
          ],
          "scattercarpet": [
           {
            "marker": {
             "colorbar": {
              "outlinewidth": 0,
              "ticks": ""
             }
            },
            "type": "scattercarpet"
           }
          ],
          "scattergeo": [
           {
            "marker": {
             "colorbar": {
              "outlinewidth": 0,
              "ticks": ""
             }
            },
            "type": "scattergeo"
           }
          ],
          "scattergl": [
           {
            "marker": {
             "colorbar": {
              "outlinewidth": 0,
              "ticks": ""
             }
            },
            "type": "scattergl"
           }
          ],
          "scattermapbox": [
           {
            "marker": {
             "colorbar": {
              "outlinewidth": 0,
              "ticks": ""
             }
            },
            "type": "scattermapbox"
           }
          ],
          "scatterpolar": [
           {
            "marker": {
             "colorbar": {
              "outlinewidth": 0,
              "ticks": ""
             }
            },
            "type": "scatterpolar"
           }
          ],
          "scatterpolargl": [
           {
            "marker": {
             "colorbar": {
              "outlinewidth": 0,
              "ticks": ""
             }
            },
            "type": "scatterpolargl"
           }
          ],
          "scatterternary": [
           {
            "marker": {
             "colorbar": {
              "outlinewidth": 0,
              "ticks": ""
             }
            },
            "type": "scatterternary"
           }
          ],
          "surface": [
           {
            "colorbar": {
             "outlinewidth": 0,
             "ticks": ""
            },
            "colorscale": [
             [
              0,
              "#0d0887"
             ],
             [
              0.1111111111111111,
              "#46039f"
             ],
             [
              0.2222222222222222,
              "#7201a8"
             ],
             [
              0.3333333333333333,
              "#9c179e"
             ],
             [
              0.4444444444444444,
              "#bd3786"
             ],
             [
              0.5555555555555556,
              "#d8576b"
             ],
             [
              0.6666666666666666,
              "#ed7953"
             ],
             [
              0.7777777777777778,
              "#fb9f3a"
             ],
             [
              0.8888888888888888,
              "#fdca26"
             ],
             [
              1,
              "#f0f921"
             ]
            ],
            "type": "surface"
           }
          ],
          "table": [
           {
            "cells": {
             "fill": {
              "color": "#EBF0F8"
             },
             "line": {
              "color": "white"
             }
            },
            "header": {
             "fill": {
              "color": "#C8D4E3"
             },
             "line": {
              "color": "white"
             }
            },
            "type": "table"
           }
          ]
         },
         "layout": {
          "annotationdefaults": {
           "arrowcolor": "#2a3f5f",
           "arrowhead": 0,
           "arrowwidth": 1
          },
          "colorscale": {
           "diverging": [
            [
             0,
             "#8e0152"
            ],
            [
             0.1,
             "#c51b7d"
            ],
            [
             0.2,
             "#de77ae"
            ],
            [
             0.3,
             "#f1b6da"
            ],
            [
             0.4,
             "#fde0ef"
            ],
            [
             0.5,
             "#f7f7f7"
            ],
            [
             0.6,
             "#e6f5d0"
            ],
            [
             0.7,
             "#b8e186"
            ],
            [
             0.8,
             "#7fbc41"
            ],
            [
             0.9,
             "#4d9221"
            ],
            [
             1,
             "#276419"
            ]
           ],
           "sequential": [
            [
             0,
             "#0d0887"
            ],
            [
             0.1111111111111111,
             "#46039f"
            ],
            [
             0.2222222222222222,
             "#7201a8"
            ],
            [
             0.3333333333333333,
             "#9c179e"
            ],
            [
             0.4444444444444444,
             "#bd3786"
            ],
            [
             0.5555555555555556,
             "#d8576b"
            ],
            [
             0.6666666666666666,
             "#ed7953"
            ],
            [
             0.7777777777777778,
             "#fb9f3a"
            ],
            [
             0.8888888888888888,
             "#fdca26"
            ],
            [
             1,
             "#f0f921"
            ]
           ],
           "sequentialminus": [
            [
             0,
             "#0d0887"
            ],
            [
             0.1111111111111111,
             "#46039f"
            ],
            [
             0.2222222222222222,
             "#7201a8"
            ],
            [
             0.3333333333333333,
             "#9c179e"
            ],
            [
             0.4444444444444444,
             "#bd3786"
            ],
            [
             0.5555555555555556,
             "#d8576b"
            ],
            [
             0.6666666666666666,
             "#ed7953"
            ],
            [
             0.7777777777777778,
             "#fb9f3a"
            ],
            [
             0.8888888888888888,
             "#fdca26"
            ],
            [
             1,
             "#f0f921"
            ]
           ]
          },
          "colorway": [
           "#636efa",
           "#EF553B",
           "#00cc96",
           "#ab63fa",
           "#FFA15A",
           "#19d3f3",
           "#FF6692",
           "#B6E880",
           "#FF97FF",
           "#FECB52"
          ],
          "font": {
           "color": "#2a3f5f"
          },
          "geo": {
           "bgcolor": "white",
           "lakecolor": "white",
           "landcolor": "#E5ECF6",
           "showlakes": true,
           "showland": true,
           "subunitcolor": "white"
          },
          "hoverlabel": {
           "align": "left"
          },
          "hovermode": "closest",
          "mapbox": {
           "style": "light"
          },
          "paper_bgcolor": "white",
          "plot_bgcolor": "#E5ECF6",
          "polar": {
           "angularaxis": {
            "gridcolor": "white",
            "linecolor": "white",
            "ticks": ""
           },
           "bgcolor": "#E5ECF6",
           "radialaxis": {
            "gridcolor": "white",
            "linecolor": "white",
            "ticks": ""
           }
          },
          "scene": {
           "xaxis": {
            "backgroundcolor": "#E5ECF6",
            "gridcolor": "white",
            "gridwidth": 2,
            "linecolor": "white",
            "showbackground": true,
            "ticks": "",
            "zerolinecolor": "white"
           },
           "yaxis": {
            "backgroundcolor": "#E5ECF6",
            "gridcolor": "white",
            "gridwidth": 2,
            "linecolor": "white",
            "showbackground": true,
            "ticks": "",
            "zerolinecolor": "white"
           },
           "zaxis": {
            "backgroundcolor": "#E5ECF6",
            "gridcolor": "white",
            "gridwidth": 2,
            "linecolor": "white",
            "showbackground": true,
            "ticks": "",
            "zerolinecolor": "white"
           }
          },
          "shapedefaults": {
           "line": {
            "color": "#2a3f5f"
           }
          },
          "ternary": {
           "aaxis": {
            "gridcolor": "white",
            "linecolor": "white",
            "ticks": ""
           },
           "baxis": {
            "gridcolor": "white",
            "linecolor": "white",
            "ticks": ""
           },
           "bgcolor": "#E5ECF6",
           "caxis": {
            "gridcolor": "white",
            "linecolor": "white",
            "ticks": ""
           }
          },
          "title": {
           "x": 0.05
          },
          "xaxis": {
           "automargin": true,
           "gridcolor": "white",
           "linecolor": "white",
           "ticks": "",
           "zerolinecolor": "white",
           "zerolinewidth": 2
          },
          "yaxis": {
           "automargin": true,
           "gridcolor": "white",
           "linecolor": "white",
           "ticks": "",
           "zerolinecolor": "white",
           "zerolinewidth": 2
          }
         }
        },
        "title": {
         "font": {
          "color": "#4D5663"
         },
         "text": "Yearly Average Precipition of Maryland over years 2005-2018"
        },
        "xaxis": {
         "gridcolor": "#E1E5ED",
         "showgrid": false,
         "tickfont": {
          "color": "#4D5663"
         },
         "title": {
          "font": {
           "color": "#4D5663"
          },
          "text": "Year"
         },
         "zerolinecolor": "#E1E5ED"
        },
        "yaxis": {
         "gridcolor": "#E1E5ED",
         "showgrid": false,
         "tickfont": {
          "color": "#4D5663"
         },
         "title": {
          "font": {
           "color": "#4D5663"
          },
          "text": "Average Precipitation"
         },
         "zerolinecolor": "#E1E5ED"
        }
       }
      },
      "text/html": [
       "<div>\n",
       "        \n",
       "        \n",
       "            <div id=\"26f967c7-0590-4680-bd4c-eca227d37f4c\" class=\"plotly-graph-div\" style=\"height:525px; width:100%;\"></div>\n",
       "            <script type=\"text/javascript\">\n",
       "                require([\"plotly\"], function(Plotly) {\n",
       "                    window.PLOTLYENV=window.PLOTLYENV || {};\n",
       "                    window.PLOTLYENV.BASE_URL='https://plot.ly';\n",
       "                    \n",
       "                if (document.getElementById(\"26f967c7-0590-4680-bd4c-eca227d37f4c\")) {\n",
       "                    Plotly.newPlot(\n",
       "                        '26f967c7-0590-4680-bd4c-eca227d37f4c',\n",
       "                        [{\"marker\": {\"color\": \"rgba(255, 153, 51, 0.6)\", \"line\": {\"color\": \"rgba(255, 153, 51, 1.0)\", \"width\": 1}}, \"name\": \"NORTHERN CENTRAL\", \"orientation\": \"v\", \"text\": \"\", \"type\": \"bar\", \"x\": [2005, 2006, 2007, 2008, 2009, 2010, 2011, 2012, 2013, 2014, 2015, 2016, 2017, 2018], \"y\": [3.9025, 3.3320343137254906, 2.5085294117647057, 3.7443181818181817, 4.300833333333332, 3.4233333333333333, 4.796666666666667, 3.8311797664141416, 3.1608333333333327, 3.125, 3.7325, 2.8633333333333333, 4.335833333333333, 4.6691666666666665]}, {\"marker\": {\"color\": \"rgba(55, 128, 191, 0.6)\", \"line\": {\"color\": \"rgba(55, 128, 191, 1.0)\", \"width\": 1}}, \"name\": \"NORTHERN EASTERN\", \"orientation\": \"v\", \"text\": \"\", \"type\": \"bar\", \"x\": [2005, 2006, 2007, 2008, 2009, 2010, 2011, 2012, 2013, 2014, 2015, 2016, 2017, 2018], \"y\": [3.709166666666668, 3.5958333333333328, 0.8991666666666666, 3.9858333333333333, 3.81, 2.9291666666666667, 5.29, 3.2629065860215056, 4.069999999999999, 2.9433333333333334, 3.379663382594417, 3.8983333333333334, 3.345833333333333, 5.865833333333335]}, {\"marker\": {\"color\": \"rgba(50, 171, 96, 0.6)\", \"line\": {\"color\": \"rgba(50, 171, 96, 1.0)\", \"width\": 1}}, \"name\": \"UPPER SOUTHERN\", \"orientation\": \"v\", \"text\": \"\", \"type\": \"bar\", \"x\": [2005, 2006, 2007, 2008, 2009, 2010, 2011, 2012, 2013, 2014, 2015, 2016, 2017, 2018], \"y\": [4.0275, 3.7900000000000005, 3.1799999999999997, 4.6899999999999995, 4.983333333333333, 3.466666666666667, 4.609166666666666, 2.8399999999999994, 4.110833333333333, 3.8074999999999997, 3.7525, 3.3902051971326173, 3.2983333333333325, 5.719999999999999]}, {\"marker\": {\"color\": \"rgba(128, 0, 128, 0.6)\", \"line\": {\"color\": \"rgba(128, 0, 128, 1.0)\", \"width\": 1}}, \"name\": \"LOWER SOUTHERN\", \"orientation\": \"v\", \"text\": \"\", \"type\": \"bar\", \"x\": [2005, 2006, 2007, 2008, 2009, 2010, 2011, 2012, 2013, 2014, 2015, 2016, 2017, 2018], \"y\": [4.094166666666666, 4.1658333333333335, 2.9475, 4.239166666666667, 4.956666666666668, 3.9616666666666656, 4.648894546545408, 3.328333333333333, 3.419166666666667, 4.612500000000001, 4.029384240591398, 3.0933333333333337, 3.6825000000000006, 6.175]}, {\"marker\": {\"color\": \"rgba(219, 64, 82, 0.6)\", \"line\": {\"color\": \"rgba(219, 64, 82, 1.0)\", \"width\": 1}}, \"name\": \"CENTRAL EASTERN\", \"orientation\": \"v\", \"text\": \"\", \"type\": \"bar\", \"x\": [2005, 2006, 2007, 2008, 2009, 2010, 2011, 2012, 2013, 2014, 2015, 2016, 2017, 2018], \"y\": [4.0183333333333335, 4.035833333333334, 2.6100000000000003, 3.7225, 4.677499999999999, 3.500833333333333, 4.2625, 3.5275, 4.076666666666667, 3.3461944444444445, 4.2124999999999995, 3.4733333333333327, 3.0849223416965352, 6.795833333333333]}, {\"marker\": {\"color\": \"rgba(0, 128, 128, 0.6)\", \"line\": {\"color\": \"rgba(0, 128, 128, 1.0)\", \"width\": 1}}, \"name\": \"SOUTHERN EASTERN\", \"orientation\": \"v\", \"text\": \"\", \"type\": \"bar\", \"x\": [2005, 2006, 2007, 2008, 2009, 2010, 2011, 2012, 2013, 2014, 2015, 2016, 2017, 2018], \"y\": [3.2733333333333334, 3.3658333333333332, 2.5475, 4.085, 4.6433333333333335, 3.039999999999999, 3.2619714696223316, 3.572192830822456, 3.8119580889112736, 3.789405409946237, 4.0342151859098285, 3.63722406261587, 3.4498445323531013, 5.152660029276356]}],\n",
       "                        {\"legend\": {\"bgcolor\": \"#F5F6F9\", \"font\": {\"color\": \"#4D5663\"}}, \"paper_bgcolor\": \"#F5F6F9\", \"plot_bgcolor\": \"#F5F6F9\", \"template\": {\"data\": {\"bar\": [{\"error_x\": {\"color\": \"#2a3f5f\"}, \"error_y\": {\"color\": \"#2a3f5f\"}, \"marker\": {\"line\": {\"color\": \"#E5ECF6\", \"width\": 0.5}}, \"type\": \"bar\"}], \"barpolar\": [{\"marker\": {\"line\": {\"color\": \"#E5ECF6\", \"width\": 0.5}}, \"type\": \"barpolar\"}], \"carpet\": [{\"aaxis\": {\"endlinecolor\": \"#2a3f5f\", \"gridcolor\": \"white\", \"linecolor\": \"white\", \"minorgridcolor\": \"white\", \"startlinecolor\": \"#2a3f5f\"}, \"baxis\": {\"endlinecolor\": \"#2a3f5f\", \"gridcolor\": \"white\", \"linecolor\": \"white\", \"minorgridcolor\": \"white\", \"startlinecolor\": \"#2a3f5f\"}, \"type\": \"carpet\"}], \"choropleth\": [{\"colorbar\": {\"outlinewidth\": 0, \"ticks\": \"\"}, \"type\": \"choropleth\"}], \"contour\": [{\"colorbar\": {\"outlinewidth\": 0, \"ticks\": \"\"}, \"colorscale\": [[0.0, \"#0d0887\"], [0.1111111111111111, \"#46039f\"], [0.2222222222222222, \"#7201a8\"], [0.3333333333333333, \"#9c179e\"], [0.4444444444444444, \"#bd3786\"], [0.5555555555555556, \"#d8576b\"], [0.6666666666666666, \"#ed7953\"], [0.7777777777777778, \"#fb9f3a\"], [0.8888888888888888, \"#fdca26\"], [1.0, \"#f0f921\"]], \"type\": \"contour\"}], \"contourcarpet\": [{\"colorbar\": {\"outlinewidth\": 0, \"ticks\": \"\"}, \"type\": \"contourcarpet\"}], \"heatmap\": [{\"colorbar\": {\"outlinewidth\": 0, \"ticks\": \"\"}, \"colorscale\": [[0.0, \"#0d0887\"], [0.1111111111111111, \"#46039f\"], [0.2222222222222222, \"#7201a8\"], [0.3333333333333333, \"#9c179e\"], [0.4444444444444444, \"#bd3786\"], [0.5555555555555556, \"#d8576b\"], [0.6666666666666666, \"#ed7953\"], [0.7777777777777778, \"#fb9f3a\"], [0.8888888888888888, \"#fdca26\"], [1.0, \"#f0f921\"]], \"type\": \"heatmap\"}], \"heatmapgl\": [{\"colorbar\": {\"outlinewidth\": 0, \"ticks\": \"\"}, \"colorscale\": [[0.0, \"#0d0887\"], [0.1111111111111111, \"#46039f\"], [0.2222222222222222, \"#7201a8\"], [0.3333333333333333, \"#9c179e\"], [0.4444444444444444, \"#bd3786\"], [0.5555555555555556, \"#d8576b\"], [0.6666666666666666, \"#ed7953\"], [0.7777777777777778, \"#fb9f3a\"], [0.8888888888888888, \"#fdca26\"], [1.0, \"#f0f921\"]], \"type\": \"heatmapgl\"}], \"histogram\": [{\"marker\": {\"colorbar\": {\"outlinewidth\": 0, \"ticks\": \"\"}}, \"type\": \"histogram\"}], \"histogram2d\": [{\"colorbar\": {\"outlinewidth\": 0, \"ticks\": \"\"}, \"colorscale\": [[0.0, \"#0d0887\"], [0.1111111111111111, \"#46039f\"], [0.2222222222222222, \"#7201a8\"], [0.3333333333333333, \"#9c179e\"], [0.4444444444444444, \"#bd3786\"], [0.5555555555555556, \"#d8576b\"], [0.6666666666666666, \"#ed7953\"], [0.7777777777777778, \"#fb9f3a\"], [0.8888888888888888, \"#fdca26\"], [1.0, \"#f0f921\"]], \"type\": \"histogram2d\"}], \"histogram2dcontour\": [{\"colorbar\": {\"outlinewidth\": 0, \"ticks\": \"\"}, \"colorscale\": [[0.0, \"#0d0887\"], [0.1111111111111111, \"#46039f\"], [0.2222222222222222, \"#7201a8\"], [0.3333333333333333, \"#9c179e\"], [0.4444444444444444, \"#bd3786\"], [0.5555555555555556, \"#d8576b\"], [0.6666666666666666, \"#ed7953\"], [0.7777777777777778, \"#fb9f3a\"], [0.8888888888888888, \"#fdca26\"], [1.0, \"#f0f921\"]], \"type\": \"histogram2dcontour\"}], \"mesh3d\": [{\"colorbar\": {\"outlinewidth\": 0, \"ticks\": \"\"}, \"type\": \"mesh3d\"}], \"parcoords\": [{\"line\": {\"colorbar\": {\"outlinewidth\": 0, \"ticks\": \"\"}}, \"type\": \"parcoords\"}], \"scatter\": [{\"marker\": {\"colorbar\": {\"outlinewidth\": 0, \"ticks\": \"\"}}, \"type\": \"scatter\"}], \"scatter3d\": [{\"line\": {\"colorbar\": {\"outlinewidth\": 0, \"ticks\": \"\"}}, \"marker\": {\"colorbar\": {\"outlinewidth\": 0, \"ticks\": \"\"}}, \"type\": \"scatter3d\"}], \"scattercarpet\": [{\"marker\": {\"colorbar\": {\"outlinewidth\": 0, \"ticks\": \"\"}}, \"type\": \"scattercarpet\"}], \"scattergeo\": [{\"marker\": {\"colorbar\": {\"outlinewidth\": 0, \"ticks\": \"\"}}, \"type\": \"scattergeo\"}], \"scattergl\": [{\"marker\": {\"colorbar\": {\"outlinewidth\": 0, \"ticks\": \"\"}}, \"type\": \"scattergl\"}], \"scattermapbox\": [{\"marker\": {\"colorbar\": {\"outlinewidth\": 0, \"ticks\": \"\"}}, \"type\": \"scattermapbox\"}], \"scatterpolar\": [{\"marker\": {\"colorbar\": {\"outlinewidth\": 0, \"ticks\": \"\"}}, \"type\": \"scatterpolar\"}], \"scatterpolargl\": [{\"marker\": {\"colorbar\": {\"outlinewidth\": 0, \"ticks\": \"\"}}, \"type\": \"scatterpolargl\"}], \"scatterternary\": [{\"marker\": {\"colorbar\": {\"outlinewidth\": 0, \"ticks\": \"\"}}, \"type\": \"scatterternary\"}], \"surface\": [{\"colorbar\": {\"outlinewidth\": 0, \"ticks\": \"\"}, \"colorscale\": [[0.0, \"#0d0887\"], [0.1111111111111111, \"#46039f\"], [0.2222222222222222, \"#7201a8\"], [0.3333333333333333, \"#9c179e\"], [0.4444444444444444, \"#bd3786\"], [0.5555555555555556, \"#d8576b\"], [0.6666666666666666, \"#ed7953\"], [0.7777777777777778, \"#fb9f3a\"], [0.8888888888888888, \"#fdca26\"], [1.0, \"#f0f921\"]], \"type\": \"surface\"}], \"table\": [{\"cells\": {\"fill\": {\"color\": \"#EBF0F8\"}, \"line\": {\"color\": \"white\"}}, \"header\": {\"fill\": {\"color\": \"#C8D4E3\"}, \"line\": {\"color\": \"white\"}}, \"type\": \"table\"}]}, \"layout\": {\"annotationdefaults\": {\"arrowcolor\": \"#2a3f5f\", \"arrowhead\": 0, \"arrowwidth\": 1}, \"colorscale\": {\"diverging\": [[0, \"#8e0152\"], [0.1, \"#c51b7d\"], [0.2, \"#de77ae\"], [0.3, \"#f1b6da\"], [0.4, \"#fde0ef\"], [0.5, \"#f7f7f7\"], [0.6, \"#e6f5d0\"], [0.7, \"#b8e186\"], [0.8, \"#7fbc41\"], [0.9, \"#4d9221\"], [1, \"#276419\"]], \"sequential\": [[0.0, \"#0d0887\"], [0.1111111111111111, \"#46039f\"], [0.2222222222222222, \"#7201a8\"], [0.3333333333333333, \"#9c179e\"], [0.4444444444444444, \"#bd3786\"], [0.5555555555555556, \"#d8576b\"], [0.6666666666666666, \"#ed7953\"], [0.7777777777777778, \"#fb9f3a\"], [0.8888888888888888, \"#fdca26\"], [1.0, \"#f0f921\"]], \"sequentialminus\": [[0.0, \"#0d0887\"], [0.1111111111111111, \"#46039f\"], [0.2222222222222222, \"#7201a8\"], [0.3333333333333333, \"#9c179e\"], [0.4444444444444444, \"#bd3786\"], [0.5555555555555556, \"#d8576b\"], [0.6666666666666666, \"#ed7953\"], [0.7777777777777778, \"#fb9f3a\"], [0.8888888888888888, \"#fdca26\"], [1.0, \"#f0f921\"]]}, \"colorway\": [\"#636efa\", \"#EF553B\", \"#00cc96\", \"#ab63fa\", \"#FFA15A\", \"#19d3f3\", \"#FF6692\", \"#B6E880\", \"#FF97FF\", \"#FECB52\"], \"font\": {\"color\": \"#2a3f5f\"}, \"geo\": {\"bgcolor\": \"white\", \"lakecolor\": \"white\", \"landcolor\": \"#E5ECF6\", \"showlakes\": true, \"showland\": true, \"subunitcolor\": \"white\"}, \"hoverlabel\": {\"align\": \"left\"}, \"hovermode\": \"closest\", \"mapbox\": {\"style\": \"light\"}, \"paper_bgcolor\": \"white\", \"plot_bgcolor\": \"#E5ECF6\", \"polar\": {\"angularaxis\": {\"gridcolor\": \"white\", \"linecolor\": \"white\", \"ticks\": \"\"}, \"bgcolor\": \"#E5ECF6\", \"radialaxis\": {\"gridcolor\": \"white\", \"linecolor\": \"white\", \"ticks\": \"\"}}, \"scene\": {\"xaxis\": {\"backgroundcolor\": \"#E5ECF6\", \"gridcolor\": \"white\", \"gridwidth\": 2, \"linecolor\": \"white\", \"showbackground\": true, \"ticks\": \"\", \"zerolinecolor\": \"white\"}, \"yaxis\": {\"backgroundcolor\": \"#E5ECF6\", \"gridcolor\": \"white\", \"gridwidth\": 2, \"linecolor\": \"white\", \"showbackground\": true, \"ticks\": \"\", \"zerolinecolor\": \"white\"}, \"zaxis\": {\"backgroundcolor\": \"#E5ECF6\", \"gridcolor\": \"white\", \"gridwidth\": 2, \"linecolor\": \"white\", \"showbackground\": true, \"ticks\": \"\", \"zerolinecolor\": \"white\"}}, \"shapedefaults\": {\"line\": {\"color\": \"#2a3f5f\"}}, \"ternary\": {\"aaxis\": {\"gridcolor\": \"white\", \"linecolor\": \"white\", \"ticks\": \"\"}, \"baxis\": {\"gridcolor\": \"white\", \"linecolor\": \"white\", \"ticks\": \"\"}, \"bgcolor\": \"#E5ECF6\", \"caxis\": {\"gridcolor\": \"white\", \"linecolor\": \"white\", \"ticks\": \"\"}}, \"title\": {\"x\": 0.05}, \"xaxis\": {\"automargin\": true, \"gridcolor\": \"white\", \"linecolor\": \"white\", \"ticks\": \"\", \"zerolinecolor\": \"white\", \"zerolinewidth\": 2}, \"yaxis\": {\"automargin\": true, \"gridcolor\": \"white\", \"linecolor\": \"white\", \"ticks\": \"\", \"zerolinecolor\": \"white\", \"zerolinewidth\": 2}}}, \"title\": {\"font\": {\"color\": \"#4D5663\"}, \"text\": \"Yearly Average Precipition of Maryland over years 2005-2018\"}, \"xaxis\": {\"gridcolor\": \"#E1E5ED\", \"showgrid\": false, \"tickfont\": {\"color\": \"#4D5663\"}, \"title\": {\"font\": {\"color\": \"#4D5663\"}, \"text\": \"Year\"}, \"zerolinecolor\": \"#E1E5ED\"}, \"yaxis\": {\"gridcolor\": \"#E1E5ED\", \"showgrid\": false, \"tickfont\": {\"color\": \"#4D5663\"}, \"title\": {\"font\": {\"color\": \"#4D5663\"}, \"text\": \"Average Precipitation\"}, \"zerolinecolor\": \"#E1E5ED\"}},\n",
       "                        {\"showLink\": true, \"linkText\": \"Export to plot.ly\", \"plotlyServerURL\": \"https://plot.ly\", \"responsive\": true}\n",
       "                    ).then(function(){\n",
       "                            \n",
       "var gd = document.getElementById('26f967c7-0590-4680-bd4c-eca227d37f4c');\n",
       "var x = new MutationObserver(function (mutations, observer) {{\n",
       "        var display = window.getComputedStyle(gd).display;\n",
       "        if (!display || display === 'none') {{\n",
       "            console.log([gd, 'removed!']);\n",
       "            Plotly.purge(gd);\n",
       "            observer.disconnect();\n",
       "        }}\n",
       "}});\n",
       "\n",
       "// Listen for the removal of the full notebook cells\n",
       "var notebookContainer = gd.closest('#notebook-container');\n",
       "if (notebookContainer) {{\n",
       "    x.observe(notebookContainer, {childList: true});\n",
       "}}\n",
       "\n",
       "// Listen for the clearing of the current output cell\n",
       "var outputEl = gd.closest('.output');\n",
       "if (outputEl) {{\n",
       "    x.observe(outputEl, {childList: true});\n",
       "}}\n",
       "\n",
       "                        })\n",
       "                };\n",
       "                });\n",
       "            </script>\n",
       "        </div>"
      ]
     },
     "metadata": {},
     "output_type": "display_data"
    }
   ],
   "source": [
    "avg.iplot(kind='bar', xTitle='Year', yTitle='Average Precipitation',\n",
    "    title='Yearly Average Precipition of Maryland over years 2005-2018', showgrid = False)"
   ]
  },
  {
   "cell_type": "markdown",
   "metadata": {},
   "source": [
    "Inference: We see a huge increase in the average rainfall in all the regions of Maryland in 2018, but the factors responsible for this behaviour are unclear and still a quesiton of research."
   ]
  },
  {
   "cell_type": "markdown",
   "metadata": {},
   "source": [
    "#### Comparing precipitation in different geographical regions of Maryland "
   ]
  },
  {
   "cell_type": "code",
   "execution_count": 38,
   "metadata": {},
   "outputs": [
    {
     "data": {
      "application/vnd.plotly.v1+json": {
       "config": {
        "plotlyServerURL": "https://plot.ly"
       },
       "data": [
        {
         "name": "NORTHERN CENTRAL",
         "type": "scatter",
         "x": [
          "JAN_Precip_05",
          "FEB_Precip_05",
          "MAR_Precip_05",
          "APR_Precip_05",
          "MAY_Precip_05",
          "JUN_Precip_05",
          "JUL_Precip_05",
          "AUG_Precip_05",
          "SEP_Precip_05",
          "OCT_Precip_05",
          "NOV_Precip_05",
          "DEC_Precip_05",
          "JAN_Precip_06",
          "FEB_Precip_06",
          "MAR_Precip_06",
          "APR_Precip_06",
          "MAY_Precip_06",
          "JUN_Precip_06",
          "JUL_Precip_06",
          "AUG_Precip_06",
          "SEP_Precip_06",
          "OCT_Precip_06",
          "NOV_Precip_06",
          "DEC_Precip_06",
          "JAN_Precip_07",
          "FEB_Precip_07",
          "MAR_Precip_07",
          "APR_Precip_07",
          "MAY_Precip_07",
          "JUN_Precip_07",
          "JUL_Precip_07",
          "AUG_Precip_07",
          "SEP_Precip_07",
          "OCT_Precip_07",
          "NOV_Precip_07",
          "DEC_Precip_07",
          "JAN_Precip_08",
          "FEB_Precip_08",
          "MAR_Precip_08",
          "APR_Precip_08",
          "MAY_Precip_08",
          "JUN_Precip_08",
          "JUL_Precip_08",
          "AUG_Precip_08",
          "SEP_Precip_08",
          "OCT_Precip_08",
          "NOV_Precip_08",
          "DEC_Precip_08",
          "JAN_Precip_09",
          "FEB_Precip_09",
          "MAR_Precip_09",
          "APR_Precip_09",
          "MAY_Precip_09",
          "JUN_Precip_09",
          "JUL_Precip_09",
          "AUG_Precip_09",
          "SEP_Precip_09",
          "OCT_Precip_09",
          "NOV_Precip_09",
          "DEC_Precip_09",
          "JAN_Precip_10",
          "FEB_Precip_10",
          "MAR_Precip_10",
          "APR_Precip_10",
          "MAY_Precip_10",
          "JUN_Precip_10",
          "JUL_Precip_10",
          "AUG_Precip_10",
          "SEP_Precip_10",
          "OCT_Precip_10",
          "NOV_Precip_10",
          "DEC_Precip_10",
          "JAN_Precip_11",
          "FEB_Precip_11",
          "MAR_Precip_11",
          "APR_Precip_11",
          "MAY_Precip_11",
          "JUN_Precip_11",
          "JUL_Precip_11",
          "AUG_Precip_11",
          "SEP_Precip_11",
          "OCT_Precip_11",
          "NOV_Precip_11",
          "DEC_Precip_11",
          "JAN_Precip_12",
          "FEB_Precip_12",
          "MAR_Precip_12",
          "APR_Precip_12",
          "MAY_Precip_12",
          "JUN_Precip_12",
          "JUL_Precip_12",
          "AUG_Precip_12",
          "SEP_Precip_12",
          "OCT_Precip_12",
          "NOV_Precip_12",
          "DEC_Precip_12",
          "JAN_Precip_13",
          "FEB_Precip_13",
          "MAR_Precip_13",
          "APR_Precip_13",
          "MAY_Precip_13",
          "JUN_Precip_13",
          "JUL_Precip_13",
          "AUG_Precip_13",
          "SEP_Precip_13",
          "OCT_Precip_13",
          "NOV_Precip_13",
          "DEC_Precip_13",
          "JAN_Precip_14",
          "FEB_Precip_14",
          "MAR_Precip_14",
          "APR_Precip_14",
          "MAY_Precip_14",
          "JUN_Precip_14",
          "JUL_Precip_14",
          "AUG_Precip_14",
          "SEP_Precip_14",
          "OCT_Precip_14",
          "NOV_Precip_14",
          "DEC_Precip_14",
          "JAN_Precip_15",
          "FEB_Precip_15",
          "MAR_Precip_15",
          "APR_Precip_15",
          "MAY_Precip_15",
          "JUN_Precip_15",
          "JUL_Precip_15",
          "AUG_Precip_15",
          "SEP_Precip_15",
          "OCT_Precip_15",
          "NOV_Precip_15",
          "DEC_Precip_15",
          "JAN_Precip_16",
          "FEB_Precip_16",
          "MAR_Precip_16",
          "APR_Precip_16",
          "MAY_Precip_16",
          "JUN_Precip_16",
          "JUL_Precip_16",
          "AUG_Precip_16",
          "SEP_Precip_16",
          "OCT_Precip_16",
          "NOV_Precip_16",
          "DEC_Precip_16",
          "JAN_Precip_17",
          "FEB_Precip_17",
          "MAR_Precip_17",
          "APR_Precip_17",
          "MAY_Precip_17",
          "JUN_Precip_17",
          "JUL_Precip_17",
          "AUG_Precip_17",
          "SEP_Precip_17",
          "OCT_Precip_17",
          "NOV_Precip_17",
          "DEC_Precip_17",
          "JAN_Precip_18",
          "FEB_Precip_18",
          "MAR_Precip_18",
          "APR_Precip_18",
          "MAY_Precip_18",
          "JUN_Precip_18",
          "JUL_Precip_18",
          "AUG_Precip_18",
          "SEP_Precip_18",
          "OCT_Precip_18",
          "NOV_Precip_18",
          "DEC_Precip_18"
         ],
         "y": [
          4.61,
          1.81,
          4.2,
          4.23,
          2.98,
          2.85,
          5.72,
          2.4,
          0.38,
          10.51,
          3.71,
          3.43,
          3.7,
          1.71,
          0.42,
          3.1,
          1.77,
          9.154411764705884,
          2.87,
          1.36,
          5.36,
          4.1,
          4.34,
          2.1,
          1.92,
          2.4,
          2.96,
          3.68,
          0.57,
          2.87,
          1.56,
          3.2867647058823524,
          1.0176470588235291,
          4.634705882352941,
          1.4529411764705882,
          3.7502941176470586,
          1.519090909090909,
          3.796969696969697,
          2.732727272727272,
          5.178787878787876,
          6.891818181818182,
          4.548787878787879,
          3.833333333333334,
          1.7742424242424246,
          5.507878787878788,
          1.5312121212121212,
          3.3739393939393936,
          4.243030303030301,
          2.73,
          0.47,
          2.32,
          4.68,
          5.81,
          5.1,
          3.9,
          6.89,
          4.35,
          6.05,
          3.01,
          6.3,
          2.44,
          3.98,
          4.63,
          2.7,
          3.46,
          1.44,
          3.99,
          4.06,
          4.79,
          5.27,
          2.27,
          2.05,
          2.18,
          2.69,
          5.78,
          7.67,
          3.51,
          1.78,
          2.78,
          7.16,
          10.7,
          4.75,
          4.65,
          3.91,
          2.26,
          1.876969696969697,
          2.3371875,
          2.75,
          5.95,
          3.41,
          4.39,
          4.64,
          5.09,
          8.78,
          1.16,
          3.33,
          2.82,
          1.41,
          1.43,
          2.51,
          2.68,
          4.13,
          3.27,
          2.86,
          2.15,
          7.67,
          2.13,
          4.87,
          1.03,
          3.61,
          2.46,
          3.12,
          5.7,
          4.44,
          4.89,
          2.72,
          1.42,
          4.03,
          1.91,
          2.17,
          6.55,
          1.47,
          3.78,
          3.4,
          2.41,
          9.02,
          2.15,
          2.14,
          4.35,
          3.76,
          2.38,
          3.38,
          3.02,
          2.37,
          1.6,
          1.31,
          5.17,
          4.07,
          3.16,
          3.71,
          3.75,
          2.16,
          0.69,
          3.35,
          5.61,
          2.19,
          5.15,
          4.37,
          8.83,
          5.31,
          7.79,
          2.1,
          1.45,
          5.84,
          2.26,
          1.13,
          2.62,
          3.88,
          1.96,
          4.12,
          4.64,
          4.97,
          5.96,
          6.24,
          9.31,
          1.63,
          5.83,
          4.87
         ]
        },
        {
         "name": "NORTHERN EASTERN",
         "type": "scatter",
         "x": [
          "JAN_Precip_05",
          "FEB_Precip_05",
          "MAR_Precip_05",
          "APR_Precip_05",
          "MAY_Precip_05",
          "JUN_Precip_05",
          "JUL_Precip_05",
          "AUG_Precip_05",
          "SEP_Precip_05",
          "OCT_Precip_05",
          "NOV_Precip_05",
          "DEC_Precip_05",
          "JAN_Precip_06",
          "FEB_Precip_06",
          "MAR_Precip_06",
          "APR_Precip_06",
          "MAY_Precip_06",
          "JUN_Precip_06",
          "JUL_Precip_06",
          "AUG_Precip_06",
          "SEP_Precip_06",
          "OCT_Precip_06",
          "NOV_Precip_06",
          "DEC_Precip_06",
          "JAN_Precip_07",
          "FEB_Precip_07",
          "MAR_Precip_07",
          "APR_Precip_07",
          "MAY_Precip_07",
          "JUN_Precip_07",
          "JUL_Precip_07",
          "AUG_Precip_07",
          "SEP_Precip_07",
          "OCT_Precip_07",
          "NOV_Precip_07",
          "DEC_Precip_07",
          "JAN_Precip_08",
          "FEB_Precip_08",
          "MAR_Precip_08",
          "APR_Precip_08",
          "MAY_Precip_08",
          "JUN_Precip_08",
          "JUL_Precip_08",
          "AUG_Precip_08",
          "SEP_Precip_08",
          "OCT_Precip_08",
          "NOV_Precip_08",
          "DEC_Precip_08",
          "JAN_Precip_09",
          "FEB_Precip_09",
          "MAR_Precip_09",
          "APR_Precip_09",
          "MAY_Precip_09",
          "JUN_Precip_09",
          "JUL_Precip_09",
          "AUG_Precip_09",
          "SEP_Precip_09",
          "OCT_Precip_09",
          "NOV_Precip_09",
          "DEC_Precip_09",
          "JAN_Precip_10",
          "FEB_Precip_10",
          "MAR_Precip_10",
          "APR_Precip_10",
          "MAY_Precip_10",
          "JUN_Precip_10",
          "JUL_Precip_10",
          "AUG_Precip_10",
          "SEP_Precip_10",
          "OCT_Precip_10",
          "NOV_Precip_10",
          "DEC_Precip_10",
          "JAN_Precip_11",
          "FEB_Precip_11",
          "MAR_Precip_11",
          "APR_Precip_11",
          "MAY_Precip_11",
          "JUN_Precip_11",
          "JUL_Precip_11",
          "AUG_Precip_11",
          "SEP_Precip_11",
          "OCT_Precip_11",
          "NOV_Precip_11",
          "DEC_Precip_11",
          "JAN_Precip_12",
          "FEB_Precip_12",
          "MAR_Precip_12",
          "APR_Precip_12",
          "MAY_Precip_12",
          "JUN_Precip_12",
          "JUL_Precip_12",
          "AUG_Precip_12",
          "SEP_Precip_12",
          "OCT_Precip_12",
          "NOV_Precip_12",
          "DEC_Precip_12",
          "JAN_Precip_13",
          "FEB_Precip_13",
          "MAR_Precip_13",
          "APR_Precip_13",
          "MAY_Precip_13",
          "JUN_Precip_13",
          "JUL_Precip_13",
          "AUG_Precip_13",
          "SEP_Precip_13",
          "OCT_Precip_13",
          "NOV_Precip_13",
          "DEC_Precip_13",
          "JAN_Precip_14",
          "FEB_Precip_14",
          "MAR_Precip_14",
          "APR_Precip_14",
          "MAY_Precip_14",
          "JUN_Precip_14",
          "JUL_Precip_14",
          "AUG_Precip_14",
          "SEP_Precip_14",
          "OCT_Precip_14",
          "NOV_Precip_14",
          "DEC_Precip_14",
          "JAN_Precip_15",
          "FEB_Precip_15",
          "MAR_Precip_15",
          "APR_Precip_15",
          "MAY_Precip_15",
          "JUN_Precip_15",
          "JUL_Precip_15",
          "AUG_Precip_15",
          "SEP_Precip_15",
          "OCT_Precip_15",
          "NOV_Precip_15",
          "DEC_Precip_15",
          "JAN_Precip_16",
          "FEB_Precip_16",
          "MAR_Precip_16",
          "APR_Precip_16",
          "MAY_Precip_16",
          "JUN_Precip_16",
          "JUL_Precip_16",
          "AUG_Precip_16",
          "SEP_Precip_16",
          "OCT_Precip_16",
          "NOV_Precip_16",
          "DEC_Precip_16",
          "JAN_Precip_17",
          "FEB_Precip_17",
          "MAR_Precip_17",
          "APR_Precip_17",
          "MAY_Precip_17",
          "JUN_Precip_17",
          "JUL_Precip_17",
          "AUG_Precip_17",
          "SEP_Precip_17",
          "OCT_Precip_17",
          "NOV_Precip_17",
          "DEC_Precip_17",
          "JAN_Precip_18",
          "FEB_Precip_18",
          "MAR_Precip_18",
          "APR_Precip_18",
          "MAY_Precip_18",
          "JUN_Precip_18",
          "JUL_Precip_18",
          "AUG_Precip_18",
          "SEP_Precip_18",
          "OCT_Precip_18",
          "NOV_Precip_18",
          "DEC_Precip_18"
         ],
         "y": [
          4.08,
          2.15,
          5.03,
          4.78,
          2.3,
          2.92,
          7.37,
          1.43,
          0.36,
          8.19,
          3.02,
          2.88,
          5.05,
          2.7,
          0.44,
          4.63,
          2.27,
          5.86,
          3.42,
          1.15,
          5.39,
          4.54,
          5.3,
          2.4,
          0,
          0,
          0,
          0,
          0,
          0,
          0,
          0,
          0,
          3.15,
          2.45,
          5.19,
          1.67,
          3.87,
          3.08,
          7.53,
          7.17,
          5.11,
          2.45,
          2.65,
          10.04,
          1.79,
          2.47,
          0,
          2.21,
          0.45,
          1.75,
          4.05,
          7.69,
          5.29,
          3.97,
          3.59,
          2.1,
          6.18,
          2.85,
          5.59,
          2.49,
          0,
          4.54,
          3.58,
          3.87,
          1.01,
          2.59,
          3.78,
          4.34,
          4.55,
          2.32,
          2.08,
          2.77,
          3,
          6.31,
          7.78,
          4.65,
          1.87,
          1.99,
          9.86,
          11.64,
          4.66,
          5.23,
          3.72,
          2.26,
          0.94,
          1.89,
          1.88,
          3.53,
          3.86,
          5.27,
          2.15,
          4.12875,
          8.546129032258062,
          1.02,
          3.68,
          5.02,
          2.05,
          2.89,
          2.48,
          3.54,
          7.61,
          5.03,
          4.58,
          1.44,
          6.33,
          2.87,
          5,
          0.81,
          3.53,
          1.59,
          2.97,
          4.75,
          5.57,
          5.5,
          2.28,
          0.83,
          3.75,
          1.82,
          1.92,
          3.9431034482758616,
          2.222857142857143,
          2.9,
          2.05,
          2.46,
          7,
          4.18,
          3.55,
          3.84,
          2.53,
          1.97,
          3.91,
          4.77,
          4.92,
          1.75,
          2.71,
          5.41,
          3.91,
          5.49,
          3.89,
          6.86,
          1.56,
          1.94,
          3.57,
          3.61,
          1.23,
          1.81,
          3.97,
          5.38,
          2.67,
          6.56,
          4.81,
          1.87,
          5.63,
          1.75,
          0.86,
          2.41,
          4.94,
          2.71,
          3.84,
          6.26,
          5.27,
          10.66,
          6.53,
          11.56,
          2.44,
          8.15,
          5.62
         ]
        },
        {
         "name": "Central Eastern",
         "type": "scatter",
         "x": [
          "JAN_Precip_05",
          "FEB_Precip_05",
          "MAR_Precip_05",
          "APR_Precip_05",
          "MAY_Precip_05",
          "JUN_Precip_05",
          "JUL_Precip_05",
          "AUG_Precip_05",
          "SEP_Precip_05",
          "OCT_Precip_05",
          "NOV_Precip_05",
          "DEC_Precip_05",
          "JAN_Precip_06",
          "FEB_Precip_06",
          "MAR_Precip_06",
          "APR_Precip_06",
          "MAY_Precip_06",
          "JUN_Precip_06",
          "JUL_Precip_06",
          "AUG_Precip_06",
          "SEP_Precip_06",
          "OCT_Precip_06",
          "NOV_Precip_06",
          "DEC_Precip_06",
          "JAN_Precip_07",
          "FEB_Precip_07",
          "MAR_Precip_07",
          "APR_Precip_07",
          "MAY_Precip_07",
          "JUN_Precip_07",
          "JUL_Precip_07",
          "AUG_Precip_07",
          "SEP_Precip_07",
          "OCT_Precip_07",
          "NOV_Precip_07",
          "DEC_Precip_07",
          "JAN_Precip_08",
          "FEB_Precip_08",
          "MAR_Precip_08",
          "APR_Precip_08",
          "MAY_Precip_08",
          "JUN_Precip_08",
          "JUL_Precip_08",
          "AUG_Precip_08",
          "SEP_Precip_08",
          "OCT_Precip_08",
          "NOV_Precip_08",
          "DEC_Precip_08",
          "JAN_Precip_09",
          "FEB_Precip_09",
          "MAR_Precip_09",
          "APR_Precip_09",
          "MAY_Precip_09",
          "JUN_Precip_09",
          "JUL_Precip_09",
          "AUG_Precip_09",
          "SEP_Precip_09",
          "OCT_Precip_09",
          "NOV_Precip_09",
          "DEC_Precip_09",
          "JAN_Precip_10",
          "FEB_Precip_10",
          "MAR_Precip_10",
          "APR_Precip_10",
          "MAY_Precip_10",
          "JUN_Precip_10",
          "JUL_Precip_10",
          "AUG_Precip_10",
          "SEP_Precip_10",
          "OCT_Precip_10",
          "NOV_Precip_10",
          "DEC_Precip_10",
          "JAN_Precip_11",
          "FEB_Precip_11",
          "MAR_Precip_11",
          "APR_Precip_11",
          "MAY_Precip_11",
          "JUN_Precip_11",
          "JUL_Precip_11",
          "AUG_Precip_11",
          "SEP_Precip_11",
          "OCT_Precip_11",
          "NOV_Precip_11",
          "DEC_Precip_11",
          "JAN_Precip_12",
          "FEB_Precip_12",
          "MAR_Precip_12",
          "APR_Precip_12",
          "MAY_Precip_12",
          "JUN_Precip_12",
          "JUL_Precip_12",
          "AUG_Precip_12",
          "SEP_Precip_12",
          "OCT_Precip_12",
          "NOV_Precip_12",
          "DEC_Precip_12",
          "JAN_Precip_13",
          "FEB_Precip_13",
          "MAR_Precip_13",
          "APR_Precip_13",
          "MAY_Precip_13",
          "JUN_Precip_13",
          "JUL_Precip_13",
          "AUG_Precip_13",
          "SEP_Precip_13",
          "OCT_Precip_13",
          "NOV_Precip_13",
          "DEC_Precip_13",
          "JAN_Precip_14",
          "FEB_Precip_14",
          "MAR_Precip_14",
          "APR_Precip_14",
          "MAY_Precip_14",
          "JUN_Precip_14",
          "JUL_Precip_14",
          "AUG_Precip_14",
          "SEP_Precip_14",
          "OCT_Precip_14",
          "NOV_Precip_14",
          "DEC_Precip_14",
          "JAN_Precip_15",
          "FEB_Precip_15",
          "MAR_Precip_15",
          "APR_Precip_15",
          "MAY_Precip_15",
          "JUN_Precip_15",
          "JUL_Precip_15",
          "AUG_Precip_15",
          "SEP_Precip_15",
          "OCT_Precip_15",
          "NOV_Precip_15",
          "DEC_Precip_15",
          "JAN_Precip_16",
          "FEB_Precip_16",
          "MAR_Precip_16",
          "APR_Precip_16",
          "MAY_Precip_16",
          "JUN_Precip_16",
          "JUL_Precip_16",
          "AUG_Precip_16",
          "SEP_Precip_16",
          "OCT_Precip_16",
          "NOV_Precip_16",
          "DEC_Precip_16",
          "JAN_Precip_17",
          "FEB_Precip_17",
          "MAR_Precip_17",
          "APR_Precip_17",
          "MAY_Precip_17",
          "JUN_Precip_17",
          "JUL_Precip_17",
          "AUG_Precip_17",
          "SEP_Precip_17",
          "OCT_Precip_17",
          "NOV_Precip_17",
          "DEC_Precip_17",
          "JAN_Precip_18",
          "FEB_Precip_18",
          "MAR_Precip_18",
          "APR_Precip_18",
          "MAY_Precip_18",
          "JUN_Precip_18",
          "JUL_Precip_18",
          "AUG_Precip_18",
          "SEP_Precip_18",
          "OCT_Precip_18",
          "NOV_Precip_18",
          "DEC_Precip_18"
         ],
         "y": [
          4.12,
          2.18,
          4.44,
          4.81,
          4.78,
          2.98,
          4.78,
          4.77,
          0.77,
          7.96,
          3.01,
          3.62,
          3.43,
          1.73,
          0.06,
          3.51,
          1.87,
          6.7,
          4.25,
          1.14,
          13.56,
          5.1,
          5.65,
          1.43,
          3.89,
          3.43,
          3.14,
          3.59,
          1.23,
          1.46,
          1.97,
          1.96,
          1.35,
          4.79,
          1.64,
          2.87,
          1.27,
          3.05,
          2.58,
          3.92,
          10.68,
          6.12,
          1.89,
          1.06,
          4.14,
          1.17,
          2.86,
          5.93,
          2.39,
          0.35,
          3.19,
          4.93,
          4.65,
          4.38,
          2.22,
          6.49,
          3.65,
          6.92,
          6.91,
          10.05,
          2.5,
          4.27,
          4.91,
          1.84,
          2.36,
          1.46,
          1.79,
          5.61,
          8.63,
          3.15,
          2.13,
          3.36,
          1.99,
          0.92,
          5.94,
          3.84,
          3.41,
          8,
          4.02,
          11.16,
          5.11,
          0.77,
          3.3,
          2.69,
          1.39,
          2.05,
          3.13,
          3.47,
          2.61,
          1.39,
          1.98,
          7.52,
          3.81,
          10.27,
          0.57,
          4.14,
          3.64,
          1.7,
          3.25,
          4.5,
          2.59,
          7.12,
          8.11,
          3.94,
          1.15,
          4.63,
          2.86,
          5.43,
          2.93,
          3.73,
          3.8843333333333354,
          3.26,
          4.68,
          3.67,
          3.24,
          2.51,
          3.04,
          2.67,
          3.19,
          3.35,
          4.41,
          3.01,
          3.11,
          4.96,
          1.91,
          11.61,
          3.9,
          3.54,
          2.49,
          3.08,
          4.43,
          4.1,
          2.75,
          2.68,
          1.41,
          2.51,
          6.8,
          2.89,
          3.3,
          2.36,
          8.45,
          4.01,
          0.69,
          3.83,
          2.48,
          1.27,
          4.46,
          2.21,
          4.78,
          0.52,
          7.741290322580645,
          5.46,
          1.66,
          3.58,
          1.97,
          0.8877777777777779,
          3.5,
          5.43,
          3.07,
          3.96,
          11.59,
          7.06,
          12.88,
          4.28,
          8.98,
          8.27,
          7.61,
          4.92
         ]
        },
        {
         "name": "UPPER SOUTHERN",
         "type": "scatter",
         "x": [
          "JAN_Precip_05",
          "FEB_Precip_05",
          "MAR_Precip_05",
          "APR_Precip_05",
          "MAY_Precip_05",
          "JUN_Precip_05",
          "JUL_Precip_05",
          "AUG_Precip_05",
          "SEP_Precip_05",
          "OCT_Precip_05",
          "NOV_Precip_05",
          "DEC_Precip_05",
          "JAN_Precip_06",
          "FEB_Precip_06",
          "MAR_Precip_06",
          "APR_Precip_06",
          "MAY_Precip_06",
          "JUN_Precip_06",
          "JUL_Precip_06",
          "AUG_Precip_06",
          "SEP_Precip_06",
          "OCT_Precip_06",
          "NOV_Precip_06",
          "DEC_Precip_06",
          "JAN_Precip_07",
          "FEB_Precip_07",
          "MAR_Precip_07",
          "APR_Precip_07",
          "MAY_Precip_07",
          "JUN_Precip_07",
          "JUL_Precip_07",
          "AUG_Precip_07",
          "SEP_Precip_07",
          "OCT_Precip_07",
          "NOV_Precip_07",
          "DEC_Precip_07",
          "JAN_Precip_08",
          "FEB_Precip_08",
          "MAR_Precip_08",
          "APR_Precip_08",
          "MAY_Precip_08",
          "JUN_Precip_08",
          "JUL_Precip_08",
          "AUG_Precip_08",
          "SEP_Precip_08",
          "OCT_Precip_08",
          "NOV_Precip_08",
          "DEC_Precip_08",
          "JAN_Precip_09",
          "FEB_Precip_09",
          "MAR_Precip_09",
          "APR_Precip_09",
          "MAY_Precip_09",
          "JUN_Precip_09",
          "JUL_Precip_09",
          "AUG_Precip_09",
          "SEP_Precip_09",
          "OCT_Precip_09",
          "NOV_Precip_09",
          "DEC_Precip_09",
          "JAN_Precip_10",
          "FEB_Precip_10",
          "MAR_Precip_10",
          "APR_Precip_10",
          "MAY_Precip_10",
          "JUN_Precip_10",
          "JUL_Precip_10",
          "AUG_Precip_10",
          "SEP_Precip_10",
          "OCT_Precip_10",
          "NOV_Precip_10",
          "DEC_Precip_10",
          "JAN_Precip_11",
          "FEB_Precip_11",
          "MAR_Precip_11",
          "APR_Precip_11",
          "MAY_Precip_11",
          "JUN_Precip_11",
          "JUL_Precip_11",
          "AUG_Precip_11",
          "SEP_Precip_11",
          "OCT_Precip_11",
          "NOV_Precip_11",
          "DEC_Precip_11",
          "JAN_Precip_12",
          "FEB_Precip_12",
          "MAR_Precip_12",
          "APR_Precip_12",
          "MAY_Precip_12",
          "JUN_Precip_12",
          "JUL_Precip_12",
          "AUG_Precip_12",
          "SEP_Precip_12",
          "OCT_Precip_12",
          "NOV_Precip_12",
          "DEC_Precip_12",
          "JAN_Precip_13",
          "FEB_Precip_13",
          "MAR_Precip_13",
          "APR_Precip_13",
          "MAY_Precip_13",
          "JUN_Precip_13",
          "JUL_Precip_13",
          "AUG_Precip_13",
          "SEP_Precip_13",
          "OCT_Precip_13",
          "NOV_Precip_13",
          "DEC_Precip_13",
          "JAN_Precip_14",
          "FEB_Precip_14",
          "MAR_Precip_14",
          "APR_Precip_14",
          "MAY_Precip_14",
          "JUN_Precip_14",
          "JUL_Precip_14",
          "AUG_Precip_14",
          "SEP_Precip_14",
          "OCT_Precip_14",
          "NOV_Precip_14",
          "DEC_Precip_14",
          "JAN_Precip_15",
          "FEB_Precip_15",
          "MAR_Precip_15",
          "APR_Precip_15",
          "MAY_Precip_15",
          "JUN_Precip_15",
          "JUL_Precip_15",
          "AUG_Precip_15",
          "SEP_Precip_15",
          "OCT_Precip_15",
          "NOV_Precip_15",
          "DEC_Precip_15",
          "JAN_Precip_16",
          "FEB_Precip_16",
          "MAR_Precip_16",
          "APR_Precip_16",
          "MAY_Precip_16",
          "JUN_Precip_16",
          "JUL_Precip_16",
          "AUG_Precip_16",
          "SEP_Precip_16",
          "OCT_Precip_16",
          "NOV_Precip_16",
          "DEC_Precip_16",
          "JAN_Precip_17",
          "FEB_Precip_17",
          "MAR_Precip_17",
          "APR_Precip_17",
          "MAY_Precip_17",
          "JUN_Precip_17",
          "JUL_Precip_17",
          "AUG_Precip_17",
          "SEP_Precip_17",
          "OCT_Precip_17",
          "NOV_Precip_17",
          "DEC_Precip_17",
          "JAN_Precip_18",
          "FEB_Precip_18",
          "MAR_Precip_18",
          "APR_Precip_18",
          "MAY_Precip_18",
          "JUN_Precip_18",
          "JUL_Precip_18",
          "AUG_Precip_18",
          "SEP_Precip_18",
          "OCT_Precip_18",
          "NOV_Precip_18",
          "DEC_Precip_18"
         ],
         "y": [
          4.46,
          1.29,
          4.01,
          4.11,
          3.27,
          2.63,
          8.32,
          2.96,
          0.2,
          10.73,
          2.87,
          3.48,
          2,
          2.47,
          0.08,
          3.34,
          2.01,
          13.01,
          3.9,
          0.6,
          6.79,
          5.06,
          5.56,
          0.66,
          2.58,
          2.5,
          3.69,
          4.83,
          1.55,
          1.98,
          4.37,
          3.74,
          0.73,
          7.1,
          1.58,
          3.51,
          1.77,
          4.61,
          2.58,
          6.99,
          10.91,
          9.28,
          5.42,
          2.33,
          5.19,
          1.57,
          2.05,
          3.58,
          3.06,
          0.45,
          2.45,
          4.84,
          8.96,
          6.43,
          3.22,
          8.17,
          3.54,
          6.29,
          5.03,
          7.36,
          2.14,
          3.56,
          4.11,
          2.25,
          2.77,
          2.73,
          5.64,
          4.39,
          2.89,
          6.84,
          2.18,
          2.1,
          2.04,
          1.64,
          5.33,
          3.95,
          2.58,
          1.74,
          3.31,
          9.9,
          13.89,
          3.58,
          2.34,
          5.01,
          2.21,
          1.17,
          2.51,
          1.98,
          2.59,
          2.26,
          3.57,
          2.33,
          3.16,
          8.35,
          0.24,
          3.71,
          2.7,
          1.68,
          2.99,
          2.77,
          2.4,
          9.05,
          7.74,
          2.43,
          2.73,
          7.33,
          2.73,
          4.78,
          2.21,
          4.17,
          3.87,
          4.63,
          5.7,
          3.29,
          4.31,
          4.44,
          2.57,
          3.34,
          3.01,
          4.15,
          4.02,
          1.67,
          4.3,
          3.54,
          2.6,
          10.39,
          2.11,
          1.76,
          3.14,
          5.04,
          2.3,
          4.16,
          3.31,
          3.1,
          0.78,
          1.2,
          6.257333333333333,
          4.21774193548387,
          5.3916666666666675,
          3.0243333333333333,
          7.197000000000001,
          2.006,
          0.8870967741935485,
          3.311290322580645,
          2.85,
          0.94,
          3.22,
          3.96,
          6.31,
          1.11,
          8.01,
          5.54,
          1.91,
          2.91,
          2.09,
          0.73,
          1,
          5.38,
          2.29,
          3.67,
          7.82,
          5.39,
          9.86,
          5.94,
          10.39,
          3.16,
          7.91,
          5.83
         ]
        },
        {
         "name": "LOWER SOUTHERN",
         "type": "scatter",
         "x": [
          "JAN_Precip_05",
          "FEB_Precip_05",
          "MAR_Precip_05",
          "APR_Precip_05",
          "MAY_Precip_05",
          "JUN_Precip_05",
          "JUL_Precip_05",
          "AUG_Precip_05",
          "SEP_Precip_05",
          "OCT_Precip_05",
          "NOV_Precip_05",
          "DEC_Precip_05",
          "JAN_Precip_06",
          "FEB_Precip_06",
          "MAR_Precip_06",
          "APR_Precip_06",
          "MAY_Precip_06",
          "JUN_Precip_06",
          "JUL_Precip_06",
          "AUG_Precip_06",
          "SEP_Precip_06",
          "OCT_Precip_06",
          "NOV_Precip_06",
          "DEC_Precip_06",
          "JAN_Precip_07",
          "FEB_Precip_07",
          "MAR_Precip_07",
          "APR_Precip_07",
          "MAY_Precip_07",
          "JUN_Precip_07",
          "JUL_Precip_07",
          "AUG_Precip_07",
          "SEP_Precip_07",
          "OCT_Precip_07",
          "NOV_Precip_07",
          "DEC_Precip_07",
          "JAN_Precip_08",
          "FEB_Precip_08",
          "MAR_Precip_08",
          "APR_Precip_08",
          "MAY_Precip_08",
          "JUN_Precip_08",
          "JUL_Precip_08",
          "AUG_Precip_08",
          "SEP_Precip_08",
          "OCT_Precip_08",
          "NOV_Precip_08",
          "DEC_Precip_08",
          "JAN_Precip_09",
          "FEB_Precip_09",
          "MAR_Precip_09",
          "APR_Precip_09",
          "MAY_Precip_09",
          "JUN_Precip_09",
          "JUL_Precip_09",
          "AUG_Precip_09",
          "SEP_Precip_09",
          "OCT_Precip_09",
          "NOV_Precip_09",
          "DEC_Precip_09",
          "JAN_Precip_10",
          "FEB_Precip_10",
          "MAR_Precip_10",
          "APR_Precip_10",
          "MAY_Precip_10",
          "JUN_Precip_10",
          "JUL_Precip_10",
          "AUG_Precip_10",
          "SEP_Precip_10",
          "OCT_Precip_10",
          "NOV_Precip_10",
          "DEC_Precip_10",
          "JAN_Precip_11",
          "FEB_Precip_11",
          "MAR_Precip_11",
          "APR_Precip_11",
          "MAY_Precip_11",
          "JUN_Precip_11",
          "JUL_Precip_11",
          "AUG_Precip_11",
          "SEP_Precip_11",
          "OCT_Precip_11",
          "NOV_Precip_11",
          "DEC_Precip_11",
          "JAN_Precip_12",
          "FEB_Precip_12",
          "MAR_Precip_12",
          "APR_Precip_12",
          "MAY_Precip_12",
          "JUN_Precip_12",
          "JUL_Precip_12",
          "AUG_Precip_12",
          "SEP_Precip_12",
          "OCT_Precip_12",
          "NOV_Precip_12",
          "DEC_Precip_12",
          "JAN_Precip_13",
          "FEB_Precip_13",
          "MAR_Precip_13",
          "APR_Precip_13",
          "MAY_Precip_13",
          "JUN_Precip_13",
          "JUL_Precip_13",
          "AUG_Precip_13",
          "SEP_Precip_13",
          "OCT_Precip_13",
          "NOV_Precip_13",
          "DEC_Precip_13",
          "JAN_Precip_14",
          "FEB_Precip_14",
          "MAR_Precip_14",
          "APR_Precip_14",
          "MAY_Precip_14",
          "JUN_Precip_14",
          "JUL_Precip_14",
          "AUG_Precip_14",
          "SEP_Precip_14",
          "OCT_Precip_14",
          "NOV_Precip_14",
          "DEC_Precip_14",
          "JAN_Precip_15",
          "FEB_Precip_15",
          "MAR_Precip_15",
          "APR_Precip_15",
          "MAY_Precip_15",
          "JUN_Precip_15",
          "JUL_Precip_15",
          "AUG_Precip_15",
          "SEP_Precip_15",
          "OCT_Precip_15",
          "NOV_Precip_15",
          "DEC_Precip_15",
          "JAN_Precip_16",
          "FEB_Precip_16",
          "MAR_Precip_16",
          "APR_Precip_16",
          "MAY_Precip_16",
          "JUN_Precip_16",
          "JUL_Precip_16",
          "AUG_Precip_16",
          "SEP_Precip_16",
          "OCT_Precip_16",
          "NOV_Precip_16",
          "DEC_Precip_16",
          "JAN_Precip_17",
          "FEB_Precip_17",
          "MAR_Precip_17",
          "APR_Precip_17",
          "MAY_Precip_17",
          "JUN_Precip_17",
          "JUL_Precip_17",
          "AUG_Precip_17",
          "SEP_Precip_17",
          "OCT_Precip_17",
          "NOV_Precip_17",
          "DEC_Precip_17",
          "JAN_Precip_18",
          "FEB_Precip_18",
          "MAR_Precip_18",
          "APR_Precip_18",
          "MAY_Precip_18",
          "JUN_Precip_18",
          "JUL_Precip_18",
          "AUG_Precip_18",
          "SEP_Precip_18",
          "OCT_Precip_18",
          "NOV_Precip_18",
          "DEC_Precip_18"
         ],
         "y": [
          3.75,
          1.66,
          5.13,
          3.81,
          2.64,
          3.74,
          8.77,
          3.71,
          0.67,
          9.23,
          2.12,
          3.9,
          3.57,
          2.04,
          0.15,
          3.57,
          2,
          14.26,
          1.83,
          1.18,
          7.37,
          5.24,
          6.94,
          1.84,
          2.37,
          2.55,
          3.27,
          5.28,
          0.74,
          3.71,
          2.66,
          3.48,
          0.47,
          5.16,
          1.99,
          3.69,
          1.55,
          4.72,
          4.09,
          5.74,
          6.77,
          5.57,
          4.8,
          1.23,
          8.39,
          2.19,
          1.85,
          3.97,
          3.25,
          0.17,
          2.24,
          5.25,
          8.22,
          7.28,
          5.9,
          7.7,
          2.67,
          5.71,
          4.53,
          6.56,
          1.85,
          4.92,
          4.16,
          1.44,
          3.35,
          1.61,
          6.4,
          7.06,
          3.25,
          6.27,
          5.01,
          2.22,
          2.3575862068965523,
          2.1530000000000005,
          5.198666666666666,
          4.873333333333334,
          2.7360714285714285,
          2.126923076923077,
          3.3011538461538463,
          11.43,
          10.87,
          4.26,
          2.61,
          3.87,
          1.75,
          2.39,
          1.17,
          2.25,
          2.44,
          1.88,
          5.98,
          5.89,
          3,
          9.36,
          0.64,
          3.19,
          4.38,
          1.34,
          3.04,
          2.77,
          3.89,
          5.76,
          3.18,
          1.96,
          1.73,
          5.69,
          2.01,
          5.28,
          4.67,
          4.77,
          4.88,
          8.88,
          5.82,
          4.45,
          3.16,
          4.97,
          3.24,
          4.03,
          2.61,
          3.87,
          3.81,
          1.86,
          4.62,
          4.35,
          3,
          11.48,
          2.43,
          1.12,
          3.9640625,
          4.173548387096774,
          2.5825,
          4.9625,
          1.12,
          5.09,
          1.42,
          2.21,
          6.75,
          3.22,
          5.73,
          2.18,
          4.4,
          0.77,
          0.39,
          3.84,
          3.24,
          0.5,
          2.76,
          4.46,
          7.79,
          0.98,
          8.12,
          8.04,
          2.17,
          3.03,
          2.33,
          0.77,
          1.08,
          5.46,
          2.01,
          5.27,
          8.06,
          6.22,
          9.8,
          6.26,
          11.76,
          3.76,
          9.06,
          5.36
         ]
        },
        {
         "name": "SOUTHERN EASTERN",
         "type": "scatter",
         "x": [
          "JAN_Precip_05",
          "FEB_Precip_05",
          "MAR_Precip_05",
          "APR_Precip_05",
          "MAY_Precip_05",
          "JUN_Precip_05",
          "JUL_Precip_05",
          "AUG_Precip_05",
          "SEP_Precip_05",
          "OCT_Precip_05",
          "NOV_Precip_05",
          "DEC_Precip_05",
          "JAN_Precip_06",
          "FEB_Precip_06",
          "MAR_Precip_06",
          "APR_Precip_06",
          "MAY_Precip_06",
          "JUN_Precip_06",
          "JUL_Precip_06",
          "AUG_Precip_06",
          "SEP_Precip_06",
          "OCT_Precip_06",
          "NOV_Precip_06",
          "DEC_Precip_06",
          "JAN_Precip_07",
          "FEB_Precip_07",
          "MAR_Precip_07",
          "APR_Precip_07",
          "MAY_Precip_07",
          "JUN_Precip_07",
          "JUL_Precip_07",
          "AUG_Precip_07",
          "SEP_Precip_07",
          "OCT_Precip_07",
          "NOV_Precip_07",
          "DEC_Precip_07",
          "JAN_Precip_08",
          "FEB_Precip_08",
          "MAR_Precip_08",
          "APR_Precip_08",
          "MAY_Precip_08",
          "JUN_Precip_08",
          "JUL_Precip_08",
          "AUG_Precip_08",
          "SEP_Precip_08",
          "OCT_Precip_08",
          "NOV_Precip_08",
          "DEC_Precip_08",
          "JAN_Precip_09",
          "FEB_Precip_09",
          "MAR_Precip_09",
          "APR_Precip_09",
          "MAY_Precip_09",
          "JUN_Precip_09",
          "JUL_Precip_09",
          "AUG_Precip_09",
          "SEP_Precip_09",
          "OCT_Precip_09",
          "NOV_Precip_09",
          "DEC_Precip_09",
          "JAN_Precip_10",
          "FEB_Precip_10",
          "MAR_Precip_10",
          "APR_Precip_10",
          "MAY_Precip_10",
          "JUN_Precip_10",
          "JUL_Precip_10",
          "AUG_Precip_10",
          "SEP_Precip_10",
          "OCT_Precip_10",
          "NOV_Precip_10",
          "DEC_Precip_10",
          "JAN_Precip_11",
          "FEB_Precip_11",
          "MAR_Precip_11",
          "APR_Precip_11",
          "MAY_Precip_11",
          "JUN_Precip_11",
          "JUL_Precip_11",
          "AUG_Precip_11",
          "SEP_Precip_11",
          "OCT_Precip_11",
          "NOV_Precip_11",
          "DEC_Precip_11",
          "JAN_Precip_12",
          "FEB_Precip_12",
          "MAR_Precip_12",
          "APR_Precip_12",
          "MAY_Precip_12",
          "JUN_Precip_12",
          "JUL_Precip_12",
          "AUG_Precip_12",
          "SEP_Precip_12",
          "OCT_Precip_12",
          "NOV_Precip_12",
          "DEC_Precip_12",
          "JAN_Precip_13",
          "FEB_Precip_13",
          "MAR_Precip_13",
          "APR_Precip_13",
          "MAY_Precip_13",
          "JUN_Precip_13",
          "JUL_Precip_13",
          "AUG_Precip_13",
          "SEP_Precip_13",
          "OCT_Precip_13",
          "NOV_Precip_13",
          "DEC_Precip_13",
          "JAN_Precip_14",
          "FEB_Precip_14",
          "MAR_Precip_14",
          "APR_Precip_14",
          "MAY_Precip_14",
          "JUN_Precip_14",
          "JUL_Precip_14",
          "AUG_Precip_14",
          "SEP_Precip_14",
          "OCT_Precip_14",
          "NOV_Precip_14",
          "DEC_Precip_14",
          "JAN_Precip_15",
          "FEB_Precip_15",
          "MAR_Precip_15",
          "APR_Precip_15",
          "MAY_Precip_15",
          "JUN_Precip_15",
          "JUL_Precip_15",
          "AUG_Precip_15",
          "SEP_Precip_15",
          "OCT_Precip_15",
          "NOV_Precip_15",
          "DEC_Precip_15",
          "JAN_Precip_16",
          "FEB_Precip_16",
          "MAR_Precip_16",
          "APR_Precip_16",
          "MAY_Precip_16",
          "JUN_Precip_16",
          "JUL_Precip_16",
          "AUG_Precip_16",
          "SEP_Precip_16",
          "OCT_Precip_16",
          "NOV_Precip_16",
          "DEC_Precip_16",
          "JAN_Precip_17",
          "FEB_Precip_17",
          "MAR_Precip_17",
          "APR_Precip_17",
          "MAY_Precip_17",
          "JUN_Precip_17",
          "JUL_Precip_17",
          "AUG_Precip_17",
          "SEP_Precip_17",
          "OCT_Precip_17",
          "NOV_Precip_17",
          "DEC_Precip_17",
          "JAN_Precip_18",
          "FEB_Precip_18",
          "MAR_Precip_18",
          "APR_Precip_18",
          "MAY_Precip_18",
          "JUN_Precip_18",
          "JUL_Precip_18",
          "AUG_Precip_18",
          "SEP_Precip_18",
          "OCT_Precip_18",
          "NOV_Precip_18",
          "DEC_Precip_18"
         ],
         "y": [
          4.51,
          3.09,
          4.6,
          2.57,
          3.48,
          4.87,
          1.67,
          2.1,
          0.4,
          4.47,
          3.5,
          4.02,
          2.96,
          0.68,
          0.29,
          2.11,
          1.73,
          6.07,
          4.6,
          0.97,
          7.69,
          6.33,
          4.08,
          2.88,
          2.21,
          2.38,
          1.97,
          3.35,
          1.2,
          2.29,
          0.75,
          5.21,
          1.09,
          4.02,
          0.8,
          5.3,
          1.49,
          3.66,
          2.04,
          5.81,
          6.66,
          5.05,
          2.71,
          3.84,
          4.83,
          0,
          7.63,
          5.3,
          2.1,
          0.52,
          4.37,
          0,
          3,
          5.43,
          5.67,
          0,
          11.08,
          6.19,
          8.28,
          9.08,
          2.41,
          5.05,
          7.95,
          1.09,
          2.06,
          1.84,
          0,
          5.54,
          3.58,
          4.44,
          0.79,
          1.73,
          2.3575862068965523,
          1.73,
          3.95,
          2.03,
          2.7360714285714285,
          1.98,
          5.08,
          9.67,
          3.99,
          2.01,
          2.43,
          1.18,
          2.26,
          1.876969696969697,
          1.87,
          4.66,
          3.6336363636363633,
          2.78,
          3.779090909090909,
          4.8426470588235295,
          4.12875,
          8.546129032258062,
          0.7815151515151517,
          3.707575757575758,
          3.5851428571428565,
          2.256764705882353,
          3.1265625000000004,
          2.9834375000000013,
          3.2453124999999994,
          7.286060606060609,
          4.2973333333333334,
          4.0415625,
          1.5822580645161286,
          5.608437499999999,
          2.7,
          5.0306250000000015,
          2.7,
          4.152903225806451,
          3.8843333333333354,
          4.994999999999999,
          5.763870967741934,
          3.645333333333333,
          3.5521875000000014,
          4.1290625,
          2.7159375,
          3.5429032258064512,
          2.901333333333333,
          3.4899999999999998,
          3.9431034482758616,
          2.222857142857143,
          4.379333333333333,
          3.609,
          2.47741935483871,
          9.620645161290323,
          3.8116129032258064,
          2.664,
          3.9640625,
          4.173548387096774,
          2.5825,
          4.9625,
          3.316206896551724,
          4.227666666666667,
          1.6890625,
          2.121290322580646,
          6.257333333333333,
          4.21774193548387,
          5.3916666666666675,
          3.0243333333333333,
          7.197000000000001,
          2.006,
          0.8870967741935485,
          3.311290322580645,
          3.1553124999999995,
          0.9809375,
          3.6621875,
          3.4196875,
          5.855000000000001,
          1.8624242424242428,
          7.741290322580645,
          6.086969696969699,
          1.9918181818181813,
          3.7940625,
          1.960666666666666,
          0.8877777777777779,
          2.405625,
          5.004062500000002,
          2.642666666666666,
          3.6583870967741934,
          7.767931034482758,
          5.042903225806452,
          7.06,
          3.22,
          7.04,
          6.8,
          5.86,
          5.330344827586206
         ]
        }
       ],
       "layout": {
        "template": {
         "data": {
          "bar": [
           {
            "error_x": {
             "color": "#2a3f5f"
            },
            "error_y": {
             "color": "#2a3f5f"
            },
            "marker": {
             "line": {
              "color": "#E5ECF6",
              "width": 0.5
             }
            },
            "type": "bar"
           }
          ],
          "barpolar": [
           {
            "marker": {
             "line": {
              "color": "#E5ECF6",
              "width": 0.5
             }
            },
            "type": "barpolar"
           }
          ],
          "carpet": [
           {
            "aaxis": {
             "endlinecolor": "#2a3f5f",
             "gridcolor": "white",
             "linecolor": "white",
             "minorgridcolor": "white",
             "startlinecolor": "#2a3f5f"
            },
            "baxis": {
             "endlinecolor": "#2a3f5f",
             "gridcolor": "white",
             "linecolor": "white",
             "minorgridcolor": "white",
             "startlinecolor": "#2a3f5f"
            },
            "type": "carpet"
           }
          ],
          "choropleth": [
           {
            "colorbar": {
             "outlinewidth": 0,
             "ticks": ""
            },
            "type": "choropleth"
           }
          ],
          "contour": [
           {
            "colorbar": {
             "outlinewidth": 0,
             "ticks": ""
            },
            "colorscale": [
             [
              0,
              "#0d0887"
             ],
             [
              0.1111111111111111,
              "#46039f"
             ],
             [
              0.2222222222222222,
              "#7201a8"
             ],
             [
              0.3333333333333333,
              "#9c179e"
             ],
             [
              0.4444444444444444,
              "#bd3786"
             ],
             [
              0.5555555555555556,
              "#d8576b"
             ],
             [
              0.6666666666666666,
              "#ed7953"
             ],
             [
              0.7777777777777778,
              "#fb9f3a"
             ],
             [
              0.8888888888888888,
              "#fdca26"
             ],
             [
              1,
              "#f0f921"
             ]
            ],
            "type": "contour"
           }
          ],
          "contourcarpet": [
           {
            "colorbar": {
             "outlinewidth": 0,
             "ticks": ""
            },
            "type": "contourcarpet"
           }
          ],
          "heatmap": [
           {
            "colorbar": {
             "outlinewidth": 0,
             "ticks": ""
            },
            "colorscale": [
             [
              0,
              "#0d0887"
             ],
             [
              0.1111111111111111,
              "#46039f"
             ],
             [
              0.2222222222222222,
              "#7201a8"
             ],
             [
              0.3333333333333333,
              "#9c179e"
             ],
             [
              0.4444444444444444,
              "#bd3786"
             ],
             [
              0.5555555555555556,
              "#d8576b"
             ],
             [
              0.6666666666666666,
              "#ed7953"
             ],
             [
              0.7777777777777778,
              "#fb9f3a"
             ],
             [
              0.8888888888888888,
              "#fdca26"
             ],
             [
              1,
              "#f0f921"
             ]
            ],
            "type": "heatmap"
           }
          ],
          "heatmapgl": [
           {
            "colorbar": {
             "outlinewidth": 0,
             "ticks": ""
            },
            "colorscale": [
             [
              0,
              "#0d0887"
             ],
             [
              0.1111111111111111,
              "#46039f"
             ],
             [
              0.2222222222222222,
              "#7201a8"
             ],
             [
              0.3333333333333333,
              "#9c179e"
             ],
             [
              0.4444444444444444,
              "#bd3786"
             ],
             [
              0.5555555555555556,
              "#d8576b"
             ],
             [
              0.6666666666666666,
              "#ed7953"
             ],
             [
              0.7777777777777778,
              "#fb9f3a"
             ],
             [
              0.8888888888888888,
              "#fdca26"
             ],
             [
              1,
              "#f0f921"
             ]
            ],
            "type": "heatmapgl"
           }
          ],
          "histogram": [
           {
            "marker": {
             "colorbar": {
              "outlinewidth": 0,
              "ticks": ""
             }
            },
            "type": "histogram"
           }
          ],
          "histogram2d": [
           {
            "colorbar": {
             "outlinewidth": 0,
             "ticks": ""
            },
            "colorscale": [
             [
              0,
              "#0d0887"
             ],
             [
              0.1111111111111111,
              "#46039f"
             ],
             [
              0.2222222222222222,
              "#7201a8"
             ],
             [
              0.3333333333333333,
              "#9c179e"
             ],
             [
              0.4444444444444444,
              "#bd3786"
             ],
             [
              0.5555555555555556,
              "#d8576b"
             ],
             [
              0.6666666666666666,
              "#ed7953"
             ],
             [
              0.7777777777777778,
              "#fb9f3a"
             ],
             [
              0.8888888888888888,
              "#fdca26"
             ],
             [
              1,
              "#f0f921"
             ]
            ],
            "type": "histogram2d"
           }
          ],
          "histogram2dcontour": [
           {
            "colorbar": {
             "outlinewidth": 0,
             "ticks": ""
            },
            "colorscale": [
             [
              0,
              "#0d0887"
             ],
             [
              0.1111111111111111,
              "#46039f"
             ],
             [
              0.2222222222222222,
              "#7201a8"
             ],
             [
              0.3333333333333333,
              "#9c179e"
             ],
             [
              0.4444444444444444,
              "#bd3786"
             ],
             [
              0.5555555555555556,
              "#d8576b"
             ],
             [
              0.6666666666666666,
              "#ed7953"
             ],
             [
              0.7777777777777778,
              "#fb9f3a"
             ],
             [
              0.8888888888888888,
              "#fdca26"
             ],
             [
              1,
              "#f0f921"
             ]
            ],
            "type": "histogram2dcontour"
           }
          ],
          "mesh3d": [
           {
            "colorbar": {
             "outlinewidth": 0,
             "ticks": ""
            },
            "type": "mesh3d"
           }
          ],
          "parcoords": [
           {
            "line": {
             "colorbar": {
              "outlinewidth": 0,
              "ticks": ""
             }
            },
            "type": "parcoords"
           }
          ],
          "scatter": [
           {
            "marker": {
             "colorbar": {
              "outlinewidth": 0,
              "ticks": ""
             }
            },
            "type": "scatter"
           }
          ],
          "scatter3d": [
           {
            "line": {
             "colorbar": {
              "outlinewidth": 0,
              "ticks": ""
             }
            },
            "marker": {
             "colorbar": {
              "outlinewidth": 0,
              "ticks": ""
             }
            },
            "type": "scatter3d"
           }
          ],
          "scattercarpet": [
           {
            "marker": {
             "colorbar": {
              "outlinewidth": 0,
              "ticks": ""
             }
            },
            "type": "scattercarpet"
           }
          ],
          "scattergeo": [
           {
            "marker": {
             "colorbar": {
              "outlinewidth": 0,
              "ticks": ""
             }
            },
            "type": "scattergeo"
           }
          ],
          "scattergl": [
           {
            "marker": {
             "colorbar": {
              "outlinewidth": 0,
              "ticks": ""
             }
            },
            "type": "scattergl"
           }
          ],
          "scattermapbox": [
           {
            "marker": {
             "colorbar": {
              "outlinewidth": 0,
              "ticks": ""
             }
            },
            "type": "scattermapbox"
           }
          ],
          "scatterpolar": [
           {
            "marker": {
             "colorbar": {
              "outlinewidth": 0,
              "ticks": ""
             }
            },
            "type": "scatterpolar"
           }
          ],
          "scatterpolargl": [
           {
            "marker": {
             "colorbar": {
              "outlinewidth": 0,
              "ticks": ""
             }
            },
            "type": "scatterpolargl"
           }
          ],
          "scatterternary": [
           {
            "marker": {
             "colorbar": {
              "outlinewidth": 0,
              "ticks": ""
             }
            },
            "type": "scatterternary"
           }
          ],
          "surface": [
           {
            "colorbar": {
             "outlinewidth": 0,
             "ticks": ""
            },
            "colorscale": [
             [
              0,
              "#0d0887"
             ],
             [
              0.1111111111111111,
              "#46039f"
             ],
             [
              0.2222222222222222,
              "#7201a8"
             ],
             [
              0.3333333333333333,
              "#9c179e"
             ],
             [
              0.4444444444444444,
              "#bd3786"
             ],
             [
              0.5555555555555556,
              "#d8576b"
             ],
             [
              0.6666666666666666,
              "#ed7953"
             ],
             [
              0.7777777777777778,
              "#fb9f3a"
             ],
             [
              0.8888888888888888,
              "#fdca26"
             ],
             [
              1,
              "#f0f921"
             ]
            ],
            "type": "surface"
           }
          ],
          "table": [
           {
            "cells": {
             "fill": {
              "color": "#EBF0F8"
             },
             "line": {
              "color": "white"
             }
            },
            "header": {
             "fill": {
              "color": "#C8D4E3"
             },
             "line": {
              "color": "white"
             }
            },
            "type": "table"
           }
          ]
         },
         "layout": {
          "annotationdefaults": {
           "arrowcolor": "#2a3f5f",
           "arrowhead": 0,
           "arrowwidth": 1
          },
          "colorscale": {
           "diverging": [
            [
             0,
             "#8e0152"
            ],
            [
             0.1,
             "#c51b7d"
            ],
            [
             0.2,
             "#de77ae"
            ],
            [
             0.3,
             "#f1b6da"
            ],
            [
             0.4,
             "#fde0ef"
            ],
            [
             0.5,
             "#f7f7f7"
            ],
            [
             0.6,
             "#e6f5d0"
            ],
            [
             0.7,
             "#b8e186"
            ],
            [
             0.8,
             "#7fbc41"
            ],
            [
             0.9,
             "#4d9221"
            ],
            [
             1,
             "#276419"
            ]
           ],
           "sequential": [
            [
             0,
             "#0d0887"
            ],
            [
             0.1111111111111111,
             "#46039f"
            ],
            [
             0.2222222222222222,
             "#7201a8"
            ],
            [
             0.3333333333333333,
             "#9c179e"
            ],
            [
             0.4444444444444444,
             "#bd3786"
            ],
            [
             0.5555555555555556,
             "#d8576b"
            ],
            [
             0.6666666666666666,
             "#ed7953"
            ],
            [
             0.7777777777777778,
             "#fb9f3a"
            ],
            [
             0.8888888888888888,
             "#fdca26"
            ],
            [
             1,
             "#f0f921"
            ]
           ],
           "sequentialminus": [
            [
             0,
             "#0d0887"
            ],
            [
             0.1111111111111111,
             "#46039f"
            ],
            [
             0.2222222222222222,
             "#7201a8"
            ],
            [
             0.3333333333333333,
             "#9c179e"
            ],
            [
             0.4444444444444444,
             "#bd3786"
            ],
            [
             0.5555555555555556,
             "#d8576b"
            ],
            [
             0.6666666666666666,
             "#ed7953"
            ],
            [
             0.7777777777777778,
             "#fb9f3a"
            ],
            [
             0.8888888888888888,
             "#fdca26"
            ],
            [
             1,
             "#f0f921"
            ]
           ]
          },
          "colorway": [
           "#636efa",
           "#EF553B",
           "#00cc96",
           "#ab63fa",
           "#FFA15A",
           "#19d3f3",
           "#FF6692",
           "#B6E880",
           "#FF97FF",
           "#FECB52"
          ],
          "font": {
           "color": "#2a3f5f"
          },
          "geo": {
           "bgcolor": "white",
           "lakecolor": "white",
           "landcolor": "#E5ECF6",
           "showlakes": true,
           "showland": true,
           "subunitcolor": "white"
          },
          "hoverlabel": {
           "align": "left"
          },
          "hovermode": "closest",
          "mapbox": {
           "style": "light"
          },
          "paper_bgcolor": "white",
          "plot_bgcolor": "#E5ECF6",
          "polar": {
           "angularaxis": {
            "gridcolor": "white",
            "linecolor": "white",
            "ticks": ""
           },
           "bgcolor": "#E5ECF6",
           "radialaxis": {
            "gridcolor": "white",
            "linecolor": "white",
            "ticks": ""
           }
          },
          "scene": {
           "xaxis": {
            "backgroundcolor": "#E5ECF6",
            "gridcolor": "white",
            "gridwidth": 2,
            "linecolor": "white",
            "showbackground": true,
            "ticks": "",
            "zerolinecolor": "white"
           },
           "yaxis": {
            "backgroundcolor": "#E5ECF6",
            "gridcolor": "white",
            "gridwidth": 2,
            "linecolor": "white",
            "showbackground": true,
            "ticks": "",
            "zerolinecolor": "white"
           },
           "zaxis": {
            "backgroundcolor": "#E5ECF6",
            "gridcolor": "white",
            "gridwidth": 2,
            "linecolor": "white",
            "showbackground": true,
            "ticks": "",
            "zerolinecolor": "white"
           }
          },
          "shapedefaults": {
           "line": {
            "color": "#2a3f5f"
           }
          },
          "ternary": {
           "aaxis": {
            "gridcolor": "white",
            "linecolor": "white",
            "ticks": ""
           },
           "baxis": {
            "gridcolor": "white",
            "linecolor": "white",
            "ticks": ""
           },
           "bgcolor": "#E5ECF6",
           "caxis": {
            "gridcolor": "white",
            "linecolor": "white",
            "ticks": ""
           }
          },
          "title": {
           "x": 0.05
          },
          "xaxis": {
           "automargin": true,
           "gridcolor": "white",
           "linecolor": "white",
           "ticks": "",
           "zerolinecolor": "white",
           "zerolinewidth": 2
          },
          "yaxis": {
           "automargin": true,
           "gridcolor": "white",
           "linecolor": "white",
           "ticks": "",
           "zerolinecolor": "white",
           "zerolinewidth": 2
          }
         }
        },
        "title": {
         "text": "Precipation of Different Regions in Maryland from 2005-2018"
        },
        "xaxis": {
         "rangeslider": {
          "visible": true
         }
        }
       }
      },
      "text/html": [
       "<div>\n",
       "        \n",
       "        \n",
       "            <div id=\"d2a78183-dafa-4798-a651-560fb81781cf\" class=\"plotly-graph-div\" style=\"height:525px; width:100%;\"></div>\n",
       "            <script type=\"text/javascript\">\n",
       "                require([\"plotly\"], function(Plotly) {\n",
       "                    window.PLOTLYENV=window.PLOTLYENV || {};\n",
       "                    \n",
       "                if (document.getElementById(\"d2a78183-dafa-4798-a651-560fb81781cf\")) {\n",
       "                    Plotly.newPlot(\n",
       "                        'd2a78183-dafa-4798-a651-560fb81781cf',\n",
       "                        [{\"name\": \"NORTHERN CENTRAL\", \"type\": \"scatter\", \"x\": [\"JAN_Precip_05\", \"FEB_Precip_05\", \"MAR_Precip_05\", \"APR_Precip_05\", \"MAY_Precip_05\", \"JUN_Precip_05\", \"JUL_Precip_05\", \"AUG_Precip_05\", \"SEP_Precip_05\", \"OCT_Precip_05\", \"NOV_Precip_05\", \"DEC_Precip_05\", \"JAN_Precip_06\", \"FEB_Precip_06\", \"MAR_Precip_06\", \"APR_Precip_06\", \"MAY_Precip_06\", \"JUN_Precip_06\", \"JUL_Precip_06\", \"AUG_Precip_06\", \"SEP_Precip_06\", \"OCT_Precip_06\", \"NOV_Precip_06\", \"DEC_Precip_06\", \"JAN_Precip_07\", \"FEB_Precip_07\", \"MAR_Precip_07\", \"APR_Precip_07\", \"MAY_Precip_07\", \"JUN_Precip_07\", \"JUL_Precip_07\", \"AUG_Precip_07\", \"SEP_Precip_07\", \"OCT_Precip_07\", \"NOV_Precip_07\", \"DEC_Precip_07\", \"JAN_Precip_08\", \"FEB_Precip_08\", \"MAR_Precip_08\", \"APR_Precip_08\", \"MAY_Precip_08\", \"JUN_Precip_08\", \"JUL_Precip_08\", \"AUG_Precip_08\", \"SEP_Precip_08\", \"OCT_Precip_08\", \"NOV_Precip_08\", \"DEC_Precip_08\", \"JAN_Precip_09\", \"FEB_Precip_09\", \"MAR_Precip_09\", \"APR_Precip_09\", \"MAY_Precip_09\", \"JUN_Precip_09\", \"JUL_Precip_09\", \"AUG_Precip_09\", \"SEP_Precip_09\", \"OCT_Precip_09\", \"NOV_Precip_09\", \"DEC_Precip_09\", \"JAN_Precip_10\", \"FEB_Precip_10\", \"MAR_Precip_10\", \"APR_Precip_10\", \"MAY_Precip_10\", \"JUN_Precip_10\", \"JUL_Precip_10\", \"AUG_Precip_10\", \"SEP_Precip_10\", \"OCT_Precip_10\", \"NOV_Precip_10\", \"DEC_Precip_10\", \"JAN_Precip_11\", \"FEB_Precip_11\", \"MAR_Precip_11\", \"APR_Precip_11\", \"MAY_Precip_11\", \"JUN_Precip_11\", \"JUL_Precip_11\", \"AUG_Precip_11\", \"SEP_Precip_11\", \"OCT_Precip_11\", \"NOV_Precip_11\", \"DEC_Precip_11\", \"JAN_Precip_12\", \"FEB_Precip_12\", \"MAR_Precip_12\", \"APR_Precip_12\", \"MAY_Precip_12\", \"JUN_Precip_12\", \"JUL_Precip_12\", \"AUG_Precip_12\", \"SEP_Precip_12\", \"OCT_Precip_12\", \"NOV_Precip_12\", \"DEC_Precip_12\", \"JAN_Precip_13\", \"FEB_Precip_13\", \"MAR_Precip_13\", \"APR_Precip_13\", \"MAY_Precip_13\", \"JUN_Precip_13\", \"JUL_Precip_13\", \"AUG_Precip_13\", \"SEP_Precip_13\", \"OCT_Precip_13\", \"NOV_Precip_13\", \"DEC_Precip_13\", \"JAN_Precip_14\", \"FEB_Precip_14\", \"MAR_Precip_14\", \"APR_Precip_14\", \"MAY_Precip_14\", \"JUN_Precip_14\", \"JUL_Precip_14\", \"AUG_Precip_14\", \"SEP_Precip_14\", \"OCT_Precip_14\", \"NOV_Precip_14\", \"DEC_Precip_14\", \"JAN_Precip_15\", \"FEB_Precip_15\", \"MAR_Precip_15\", \"APR_Precip_15\", \"MAY_Precip_15\", \"JUN_Precip_15\", \"JUL_Precip_15\", \"AUG_Precip_15\", \"SEP_Precip_15\", \"OCT_Precip_15\", \"NOV_Precip_15\", \"DEC_Precip_15\", \"JAN_Precip_16\", \"FEB_Precip_16\", \"MAR_Precip_16\", \"APR_Precip_16\", \"MAY_Precip_16\", \"JUN_Precip_16\", \"JUL_Precip_16\", \"AUG_Precip_16\", \"SEP_Precip_16\", \"OCT_Precip_16\", \"NOV_Precip_16\", \"DEC_Precip_16\", \"JAN_Precip_17\", \"FEB_Precip_17\", \"MAR_Precip_17\", \"APR_Precip_17\", \"MAY_Precip_17\", \"JUN_Precip_17\", \"JUL_Precip_17\", \"AUG_Precip_17\", \"SEP_Precip_17\", \"OCT_Precip_17\", \"NOV_Precip_17\", \"DEC_Precip_17\", \"JAN_Precip_18\", \"FEB_Precip_18\", \"MAR_Precip_18\", \"APR_Precip_18\", \"MAY_Precip_18\", \"JUN_Precip_18\", \"JUL_Precip_18\", \"AUG_Precip_18\", \"SEP_Precip_18\", \"OCT_Precip_18\", \"NOV_Precip_18\", \"DEC_Precip_18\"], \"y\": [4.61, 1.81, 4.2, 4.23, 2.98, 2.85, 5.72, 2.4, 0.38, 10.51, 3.71, 3.43, 3.7, 1.71, 0.42, 3.1, 1.77, 9.154411764705884, 2.87, 1.36, 5.36, 4.1, 4.34, 2.1, 1.92, 2.4, 2.96, 3.68, 0.57, 2.87, 1.56, 3.2867647058823524, 1.0176470588235291, 4.634705882352941, 1.4529411764705882, 3.7502941176470586, 1.519090909090909, 3.796969696969697, 2.732727272727272, 5.178787878787876, 6.891818181818182, 4.548787878787879, 3.833333333333334, 1.7742424242424246, 5.507878787878788, 1.5312121212121212, 3.3739393939393936, 4.243030303030301, 2.73, 0.47, 2.32, 4.68, 5.81, 5.1, 3.9, 6.89, 4.35, 6.05, 3.01, 6.3, 2.44, 3.98, 4.63, 2.7, 3.46, 1.44, 3.99, 4.06, 4.79, 5.27, 2.27, 2.05, 2.18, 2.69, 5.78, 7.67, 3.51, 1.78, 2.78, 7.16, 10.7, 4.75, 4.65, 3.91, 2.26, 1.876969696969697, 2.3371875, 2.75, 5.95, 3.41, 4.39, 4.64, 5.09, 8.78, 1.16, 3.33, 2.82, 1.41, 1.43, 2.51, 2.68, 4.13, 3.27, 2.86, 2.15, 7.67, 2.13, 4.87, 1.03, 3.61, 2.46, 3.12, 5.7, 4.44, 4.89, 2.72, 1.42, 4.03, 1.91, 2.17, 6.55, 1.47, 3.78, 3.4, 2.41, 9.02, 2.15, 2.14, 4.35, 3.76, 2.38, 3.38, 3.02, 2.37, 1.6, 1.31, 5.17, 4.07, 3.16, 3.71, 3.75, 2.16, 0.69, 3.35, 5.61, 2.19, 5.15, 4.37, 8.83, 5.31, 7.79, 2.1, 1.45, 5.84, 2.26, 1.13, 2.62, 3.88, 1.96, 4.12, 4.64, 4.97, 5.96, 6.24, 9.31, 1.63, 5.83, 4.87]}, {\"name\": \"NORTHERN EASTERN\", \"type\": \"scatter\", \"x\": [\"JAN_Precip_05\", \"FEB_Precip_05\", \"MAR_Precip_05\", \"APR_Precip_05\", \"MAY_Precip_05\", \"JUN_Precip_05\", \"JUL_Precip_05\", \"AUG_Precip_05\", \"SEP_Precip_05\", \"OCT_Precip_05\", \"NOV_Precip_05\", \"DEC_Precip_05\", \"JAN_Precip_06\", \"FEB_Precip_06\", \"MAR_Precip_06\", \"APR_Precip_06\", \"MAY_Precip_06\", \"JUN_Precip_06\", \"JUL_Precip_06\", \"AUG_Precip_06\", \"SEP_Precip_06\", \"OCT_Precip_06\", \"NOV_Precip_06\", \"DEC_Precip_06\", \"JAN_Precip_07\", \"FEB_Precip_07\", \"MAR_Precip_07\", \"APR_Precip_07\", \"MAY_Precip_07\", \"JUN_Precip_07\", \"JUL_Precip_07\", \"AUG_Precip_07\", \"SEP_Precip_07\", \"OCT_Precip_07\", \"NOV_Precip_07\", \"DEC_Precip_07\", \"JAN_Precip_08\", \"FEB_Precip_08\", \"MAR_Precip_08\", \"APR_Precip_08\", \"MAY_Precip_08\", \"JUN_Precip_08\", \"JUL_Precip_08\", \"AUG_Precip_08\", \"SEP_Precip_08\", \"OCT_Precip_08\", \"NOV_Precip_08\", \"DEC_Precip_08\", \"JAN_Precip_09\", \"FEB_Precip_09\", \"MAR_Precip_09\", \"APR_Precip_09\", \"MAY_Precip_09\", \"JUN_Precip_09\", \"JUL_Precip_09\", \"AUG_Precip_09\", \"SEP_Precip_09\", \"OCT_Precip_09\", \"NOV_Precip_09\", \"DEC_Precip_09\", \"JAN_Precip_10\", \"FEB_Precip_10\", \"MAR_Precip_10\", \"APR_Precip_10\", \"MAY_Precip_10\", \"JUN_Precip_10\", \"JUL_Precip_10\", \"AUG_Precip_10\", \"SEP_Precip_10\", \"OCT_Precip_10\", \"NOV_Precip_10\", \"DEC_Precip_10\", \"JAN_Precip_11\", \"FEB_Precip_11\", \"MAR_Precip_11\", \"APR_Precip_11\", \"MAY_Precip_11\", \"JUN_Precip_11\", \"JUL_Precip_11\", \"AUG_Precip_11\", \"SEP_Precip_11\", \"OCT_Precip_11\", \"NOV_Precip_11\", \"DEC_Precip_11\", \"JAN_Precip_12\", \"FEB_Precip_12\", \"MAR_Precip_12\", \"APR_Precip_12\", \"MAY_Precip_12\", \"JUN_Precip_12\", \"JUL_Precip_12\", \"AUG_Precip_12\", \"SEP_Precip_12\", \"OCT_Precip_12\", \"NOV_Precip_12\", \"DEC_Precip_12\", \"JAN_Precip_13\", \"FEB_Precip_13\", \"MAR_Precip_13\", \"APR_Precip_13\", \"MAY_Precip_13\", \"JUN_Precip_13\", \"JUL_Precip_13\", \"AUG_Precip_13\", \"SEP_Precip_13\", \"OCT_Precip_13\", \"NOV_Precip_13\", \"DEC_Precip_13\", \"JAN_Precip_14\", \"FEB_Precip_14\", \"MAR_Precip_14\", \"APR_Precip_14\", \"MAY_Precip_14\", \"JUN_Precip_14\", \"JUL_Precip_14\", \"AUG_Precip_14\", \"SEP_Precip_14\", \"OCT_Precip_14\", \"NOV_Precip_14\", \"DEC_Precip_14\", \"JAN_Precip_15\", \"FEB_Precip_15\", \"MAR_Precip_15\", \"APR_Precip_15\", \"MAY_Precip_15\", \"JUN_Precip_15\", \"JUL_Precip_15\", \"AUG_Precip_15\", \"SEP_Precip_15\", \"OCT_Precip_15\", \"NOV_Precip_15\", \"DEC_Precip_15\", \"JAN_Precip_16\", \"FEB_Precip_16\", \"MAR_Precip_16\", \"APR_Precip_16\", \"MAY_Precip_16\", \"JUN_Precip_16\", \"JUL_Precip_16\", \"AUG_Precip_16\", \"SEP_Precip_16\", \"OCT_Precip_16\", \"NOV_Precip_16\", \"DEC_Precip_16\", \"JAN_Precip_17\", \"FEB_Precip_17\", \"MAR_Precip_17\", \"APR_Precip_17\", \"MAY_Precip_17\", \"JUN_Precip_17\", \"JUL_Precip_17\", \"AUG_Precip_17\", \"SEP_Precip_17\", \"OCT_Precip_17\", \"NOV_Precip_17\", \"DEC_Precip_17\", \"JAN_Precip_18\", \"FEB_Precip_18\", \"MAR_Precip_18\", \"APR_Precip_18\", \"MAY_Precip_18\", \"JUN_Precip_18\", \"JUL_Precip_18\", \"AUG_Precip_18\", \"SEP_Precip_18\", \"OCT_Precip_18\", \"NOV_Precip_18\", \"DEC_Precip_18\"], \"y\": [4.08, 2.15, 5.03, 4.78, 2.3, 2.92, 7.37, 1.43, 0.36, 8.19, 3.02, 2.88, 5.05, 2.7, 0.44, 4.63, 2.27, 5.86, 3.42, 1.15, 5.39, 4.54, 5.3, 2.4, 0.0, 0.0, 0.0, 0.0, 0.0, 0.0, 0.0, 0.0, 0.0, 3.15, 2.45, 5.19, 1.67, 3.87, 3.08, 7.53, 7.17, 5.11, 2.45, 2.65, 10.04, 1.79, 2.47, 0.0, 2.21, 0.45, 1.75, 4.05, 7.69, 5.29, 3.97, 3.59, 2.1, 6.18, 2.85, 5.59, 2.49, 0.0, 4.54, 3.58, 3.87, 1.01, 2.59, 3.78, 4.34, 4.55, 2.32, 2.08, 2.77, 3.0, 6.31, 7.78, 4.65, 1.87, 1.99, 9.86, 11.64, 4.66, 5.23, 3.72, 2.26, 0.94, 1.89, 1.88, 3.53, 3.86, 5.27, 2.15, 4.12875, 8.546129032258062, 1.02, 3.68, 5.02, 2.05, 2.89, 2.48, 3.54, 7.61, 5.03, 4.58, 1.44, 6.33, 2.87, 5.0, 0.81, 3.53, 1.59, 2.97, 4.75, 5.57, 5.5, 2.28, 0.83, 3.75, 1.82, 1.92, 3.9431034482758616, 2.222857142857143, 2.9, 2.05, 2.46, 7.0, 4.18, 3.55, 3.84, 2.53, 1.97, 3.91, 4.77, 4.92, 1.75, 2.71, 5.41, 3.91, 5.49, 3.89, 6.86, 1.56, 1.94, 3.57, 3.61, 1.23, 1.81, 3.97, 5.38, 2.67, 6.56, 4.81, 1.87, 5.63, 1.75, 0.86, 2.41, 4.94, 2.71, 3.84, 6.26, 5.27, 10.66, 6.53, 11.56, 2.44, 8.15, 5.62]}, {\"name\": \"Central Eastern\", \"type\": \"scatter\", \"x\": [\"JAN_Precip_05\", \"FEB_Precip_05\", \"MAR_Precip_05\", \"APR_Precip_05\", \"MAY_Precip_05\", \"JUN_Precip_05\", \"JUL_Precip_05\", \"AUG_Precip_05\", \"SEP_Precip_05\", \"OCT_Precip_05\", \"NOV_Precip_05\", \"DEC_Precip_05\", \"JAN_Precip_06\", \"FEB_Precip_06\", \"MAR_Precip_06\", \"APR_Precip_06\", \"MAY_Precip_06\", \"JUN_Precip_06\", \"JUL_Precip_06\", \"AUG_Precip_06\", \"SEP_Precip_06\", \"OCT_Precip_06\", \"NOV_Precip_06\", \"DEC_Precip_06\", \"JAN_Precip_07\", \"FEB_Precip_07\", \"MAR_Precip_07\", \"APR_Precip_07\", \"MAY_Precip_07\", \"JUN_Precip_07\", \"JUL_Precip_07\", \"AUG_Precip_07\", \"SEP_Precip_07\", \"OCT_Precip_07\", \"NOV_Precip_07\", \"DEC_Precip_07\", \"JAN_Precip_08\", \"FEB_Precip_08\", \"MAR_Precip_08\", \"APR_Precip_08\", \"MAY_Precip_08\", \"JUN_Precip_08\", \"JUL_Precip_08\", \"AUG_Precip_08\", \"SEP_Precip_08\", \"OCT_Precip_08\", \"NOV_Precip_08\", \"DEC_Precip_08\", \"JAN_Precip_09\", \"FEB_Precip_09\", \"MAR_Precip_09\", \"APR_Precip_09\", \"MAY_Precip_09\", \"JUN_Precip_09\", \"JUL_Precip_09\", \"AUG_Precip_09\", \"SEP_Precip_09\", \"OCT_Precip_09\", \"NOV_Precip_09\", \"DEC_Precip_09\", \"JAN_Precip_10\", \"FEB_Precip_10\", \"MAR_Precip_10\", \"APR_Precip_10\", \"MAY_Precip_10\", \"JUN_Precip_10\", \"JUL_Precip_10\", \"AUG_Precip_10\", \"SEP_Precip_10\", \"OCT_Precip_10\", \"NOV_Precip_10\", \"DEC_Precip_10\", \"JAN_Precip_11\", \"FEB_Precip_11\", \"MAR_Precip_11\", \"APR_Precip_11\", \"MAY_Precip_11\", \"JUN_Precip_11\", \"JUL_Precip_11\", \"AUG_Precip_11\", \"SEP_Precip_11\", \"OCT_Precip_11\", \"NOV_Precip_11\", \"DEC_Precip_11\", \"JAN_Precip_12\", \"FEB_Precip_12\", \"MAR_Precip_12\", \"APR_Precip_12\", \"MAY_Precip_12\", \"JUN_Precip_12\", \"JUL_Precip_12\", \"AUG_Precip_12\", \"SEP_Precip_12\", \"OCT_Precip_12\", \"NOV_Precip_12\", \"DEC_Precip_12\", \"JAN_Precip_13\", \"FEB_Precip_13\", \"MAR_Precip_13\", \"APR_Precip_13\", \"MAY_Precip_13\", \"JUN_Precip_13\", \"JUL_Precip_13\", \"AUG_Precip_13\", \"SEP_Precip_13\", \"OCT_Precip_13\", \"NOV_Precip_13\", \"DEC_Precip_13\", \"JAN_Precip_14\", \"FEB_Precip_14\", \"MAR_Precip_14\", \"APR_Precip_14\", \"MAY_Precip_14\", \"JUN_Precip_14\", \"JUL_Precip_14\", \"AUG_Precip_14\", \"SEP_Precip_14\", \"OCT_Precip_14\", \"NOV_Precip_14\", \"DEC_Precip_14\", \"JAN_Precip_15\", \"FEB_Precip_15\", \"MAR_Precip_15\", \"APR_Precip_15\", \"MAY_Precip_15\", \"JUN_Precip_15\", \"JUL_Precip_15\", \"AUG_Precip_15\", \"SEP_Precip_15\", \"OCT_Precip_15\", \"NOV_Precip_15\", \"DEC_Precip_15\", \"JAN_Precip_16\", \"FEB_Precip_16\", \"MAR_Precip_16\", \"APR_Precip_16\", \"MAY_Precip_16\", \"JUN_Precip_16\", \"JUL_Precip_16\", \"AUG_Precip_16\", \"SEP_Precip_16\", \"OCT_Precip_16\", \"NOV_Precip_16\", \"DEC_Precip_16\", \"JAN_Precip_17\", \"FEB_Precip_17\", \"MAR_Precip_17\", \"APR_Precip_17\", \"MAY_Precip_17\", \"JUN_Precip_17\", \"JUL_Precip_17\", \"AUG_Precip_17\", \"SEP_Precip_17\", \"OCT_Precip_17\", \"NOV_Precip_17\", \"DEC_Precip_17\", \"JAN_Precip_18\", \"FEB_Precip_18\", \"MAR_Precip_18\", \"APR_Precip_18\", \"MAY_Precip_18\", \"JUN_Precip_18\", \"JUL_Precip_18\", \"AUG_Precip_18\", \"SEP_Precip_18\", \"OCT_Precip_18\", \"NOV_Precip_18\", \"DEC_Precip_18\"], \"y\": [4.12, 2.18, 4.44, 4.81, 4.78, 2.98, 4.78, 4.77, 0.77, 7.96, 3.01, 3.62, 3.43, 1.73, 0.06, 3.51, 1.87, 6.7, 4.25, 1.14, 13.56, 5.1, 5.65, 1.43, 3.89, 3.43, 3.14, 3.59, 1.23, 1.46, 1.97, 1.96, 1.35, 4.79, 1.64, 2.87, 1.27, 3.05, 2.58, 3.92, 10.68, 6.12, 1.89, 1.06, 4.14, 1.17, 2.86, 5.93, 2.39, 0.35, 3.19, 4.93, 4.65, 4.38, 2.22, 6.49, 3.65, 6.92, 6.91, 10.05, 2.5, 4.27, 4.91, 1.84, 2.36, 1.46, 1.79, 5.61, 8.63, 3.15, 2.13, 3.36, 1.99, 0.92, 5.94, 3.84, 3.41, 8.0, 4.02, 11.16, 5.11, 0.77, 3.3, 2.69, 1.39, 2.05, 3.13, 3.47, 2.61, 1.39, 1.98, 7.52, 3.81, 10.27, 0.57, 4.14, 3.64, 1.7, 3.25, 4.5, 2.59, 7.12, 8.11, 3.94, 1.15, 4.63, 2.86, 5.43, 2.93, 3.73, 3.8843333333333354, 3.26, 4.68, 3.67, 3.24, 2.51, 3.04, 2.67, 3.19, 3.35, 4.41, 3.01, 3.11, 4.96, 1.91, 11.61, 3.9, 3.54, 2.49, 3.08, 4.43, 4.1, 2.75, 2.68, 1.41, 2.51, 6.8, 2.89, 3.3, 2.36, 8.45, 4.01, 0.69, 3.83, 2.48, 1.27, 4.46, 2.21, 4.78, 0.52, 7.741290322580645, 5.46, 1.66, 3.58, 1.97, 0.8877777777777779, 3.5, 5.43, 3.07, 3.96, 11.59, 7.06, 12.88, 4.28, 8.98, 8.27, 7.61, 4.92]}, {\"name\": \"UPPER SOUTHERN\", \"type\": \"scatter\", \"x\": [\"JAN_Precip_05\", \"FEB_Precip_05\", \"MAR_Precip_05\", \"APR_Precip_05\", \"MAY_Precip_05\", \"JUN_Precip_05\", \"JUL_Precip_05\", \"AUG_Precip_05\", \"SEP_Precip_05\", \"OCT_Precip_05\", \"NOV_Precip_05\", \"DEC_Precip_05\", \"JAN_Precip_06\", \"FEB_Precip_06\", \"MAR_Precip_06\", \"APR_Precip_06\", \"MAY_Precip_06\", \"JUN_Precip_06\", \"JUL_Precip_06\", \"AUG_Precip_06\", \"SEP_Precip_06\", \"OCT_Precip_06\", \"NOV_Precip_06\", \"DEC_Precip_06\", \"JAN_Precip_07\", \"FEB_Precip_07\", \"MAR_Precip_07\", \"APR_Precip_07\", \"MAY_Precip_07\", \"JUN_Precip_07\", \"JUL_Precip_07\", \"AUG_Precip_07\", \"SEP_Precip_07\", \"OCT_Precip_07\", \"NOV_Precip_07\", \"DEC_Precip_07\", \"JAN_Precip_08\", \"FEB_Precip_08\", \"MAR_Precip_08\", \"APR_Precip_08\", \"MAY_Precip_08\", \"JUN_Precip_08\", \"JUL_Precip_08\", \"AUG_Precip_08\", \"SEP_Precip_08\", \"OCT_Precip_08\", \"NOV_Precip_08\", \"DEC_Precip_08\", \"JAN_Precip_09\", \"FEB_Precip_09\", \"MAR_Precip_09\", \"APR_Precip_09\", \"MAY_Precip_09\", \"JUN_Precip_09\", \"JUL_Precip_09\", \"AUG_Precip_09\", \"SEP_Precip_09\", \"OCT_Precip_09\", \"NOV_Precip_09\", \"DEC_Precip_09\", \"JAN_Precip_10\", \"FEB_Precip_10\", \"MAR_Precip_10\", \"APR_Precip_10\", \"MAY_Precip_10\", \"JUN_Precip_10\", \"JUL_Precip_10\", \"AUG_Precip_10\", \"SEP_Precip_10\", \"OCT_Precip_10\", \"NOV_Precip_10\", \"DEC_Precip_10\", \"JAN_Precip_11\", \"FEB_Precip_11\", \"MAR_Precip_11\", \"APR_Precip_11\", \"MAY_Precip_11\", \"JUN_Precip_11\", \"JUL_Precip_11\", \"AUG_Precip_11\", \"SEP_Precip_11\", \"OCT_Precip_11\", \"NOV_Precip_11\", \"DEC_Precip_11\", \"JAN_Precip_12\", \"FEB_Precip_12\", \"MAR_Precip_12\", \"APR_Precip_12\", \"MAY_Precip_12\", \"JUN_Precip_12\", \"JUL_Precip_12\", \"AUG_Precip_12\", \"SEP_Precip_12\", \"OCT_Precip_12\", \"NOV_Precip_12\", \"DEC_Precip_12\", \"JAN_Precip_13\", \"FEB_Precip_13\", \"MAR_Precip_13\", \"APR_Precip_13\", \"MAY_Precip_13\", \"JUN_Precip_13\", \"JUL_Precip_13\", \"AUG_Precip_13\", \"SEP_Precip_13\", \"OCT_Precip_13\", \"NOV_Precip_13\", \"DEC_Precip_13\", \"JAN_Precip_14\", \"FEB_Precip_14\", \"MAR_Precip_14\", \"APR_Precip_14\", \"MAY_Precip_14\", \"JUN_Precip_14\", \"JUL_Precip_14\", \"AUG_Precip_14\", \"SEP_Precip_14\", \"OCT_Precip_14\", \"NOV_Precip_14\", \"DEC_Precip_14\", \"JAN_Precip_15\", \"FEB_Precip_15\", \"MAR_Precip_15\", \"APR_Precip_15\", \"MAY_Precip_15\", \"JUN_Precip_15\", \"JUL_Precip_15\", \"AUG_Precip_15\", \"SEP_Precip_15\", \"OCT_Precip_15\", \"NOV_Precip_15\", \"DEC_Precip_15\", \"JAN_Precip_16\", \"FEB_Precip_16\", \"MAR_Precip_16\", \"APR_Precip_16\", \"MAY_Precip_16\", \"JUN_Precip_16\", \"JUL_Precip_16\", \"AUG_Precip_16\", \"SEP_Precip_16\", \"OCT_Precip_16\", \"NOV_Precip_16\", \"DEC_Precip_16\", \"JAN_Precip_17\", \"FEB_Precip_17\", \"MAR_Precip_17\", \"APR_Precip_17\", \"MAY_Precip_17\", \"JUN_Precip_17\", \"JUL_Precip_17\", \"AUG_Precip_17\", \"SEP_Precip_17\", \"OCT_Precip_17\", \"NOV_Precip_17\", \"DEC_Precip_17\", \"JAN_Precip_18\", \"FEB_Precip_18\", \"MAR_Precip_18\", \"APR_Precip_18\", \"MAY_Precip_18\", \"JUN_Precip_18\", \"JUL_Precip_18\", \"AUG_Precip_18\", \"SEP_Precip_18\", \"OCT_Precip_18\", \"NOV_Precip_18\", \"DEC_Precip_18\"], \"y\": [4.46, 1.29, 4.01, 4.11, 3.27, 2.63, 8.32, 2.96, 0.2, 10.73, 2.87, 3.48, 2.0, 2.47, 0.08, 3.34, 2.01, 13.01, 3.9, 0.6, 6.79, 5.06, 5.56, 0.66, 2.58, 2.5, 3.69, 4.83, 1.55, 1.98, 4.37, 3.74, 0.73, 7.1, 1.58, 3.51, 1.77, 4.61, 2.58, 6.99, 10.91, 9.28, 5.42, 2.33, 5.19, 1.57, 2.05, 3.58, 3.06, 0.45, 2.45, 4.84, 8.96, 6.43, 3.22, 8.17, 3.54, 6.29, 5.03, 7.36, 2.14, 3.56, 4.11, 2.25, 2.77, 2.73, 5.64, 4.39, 2.89, 6.84, 2.18, 2.1, 2.04, 1.64, 5.33, 3.95, 2.58, 1.74, 3.31, 9.9, 13.89, 3.58, 2.34, 5.01, 2.21, 1.17, 2.51, 1.98, 2.59, 2.26, 3.57, 2.33, 3.16, 8.35, 0.24, 3.71, 2.7, 1.68, 2.99, 2.77, 2.4, 9.05, 7.74, 2.43, 2.73, 7.33, 2.73, 4.78, 2.21, 4.17, 3.87, 4.63, 5.7, 3.29, 4.31, 4.44, 2.57, 3.34, 3.01, 4.15, 4.02, 1.67, 4.3, 3.54, 2.6, 10.39, 2.11, 1.76, 3.14, 5.04, 2.3, 4.16, 3.31, 3.1, 0.78, 1.2, 6.257333333333333, 4.21774193548387, 5.3916666666666675, 3.0243333333333333, 7.197000000000001, 2.006, 0.8870967741935485, 3.311290322580645, 2.85, 0.94, 3.22, 3.96, 6.31, 1.11, 8.01, 5.54, 1.91, 2.91, 2.09, 0.73, 1.0, 5.38, 2.29, 3.67, 7.82, 5.39, 9.86, 5.94, 10.39, 3.16, 7.91, 5.83]}, {\"name\": \"LOWER SOUTHERN\", \"type\": \"scatter\", \"x\": [\"JAN_Precip_05\", \"FEB_Precip_05\", \"MAR_Precip_05\", \"APR_Precip_05\", \"MAY_Precip_05\", \"JUN_Precip_05\", \"JUL_Precip_05\", \"AUG_Precip_05\", \"SEP_Precip_05\", \"OCT_Precip_05\", \"NOV_Precip_05\", \"DEC_Precip_05\", \"JAN_Precip_06\", \"FEB_Precip_06\", \"MAR_Precip_06\", \"APR_Precip_06\", \"MAY_Precip_06\", \"JUN_Precip_06\", \"JUL_Precip_06\", \"AUG_Precip_06\", \"SEP_Precip_06\", \"OCT_Precip_06\", \"NOV_Precip_06\", \"DEC_Precip_06\", \"JAN_Precip_07\", \"FEB_Precip_07\", \"MAR_Precip_07\", \"APR_Precip_07\", \"MAY_Precip_07\", \"JUN_Precip_07\", \"JUL_Precip_07\", \"AUG_Precip_07\", \"SEP_Precip_07\", \"OCT_Precip_07\", \"NOV_Precip_07\", \"DEC_Precip_07\", \"JAN_Precip_08\", \"FEB_Precip_08\", \"MAR_Precip_08\", \"APR_Precip_08\", \"MAY_Precip_08\", \"JUN_Precip_08\", \"JUL_Precip_08\", \"AUG_Precip_08\", \"SEP_Precip_08\", \"OCT_Precip_08\", \"NOV_Precip_08\", \"DEC_Precip_08\", \"JAN_Precip_09\", \"FEB_Precip_09\", \"MAR_Precip_09\", \"APR_Precip_09\", \"MAY_Precip_09\", \"JUN_Precip_09\", \"JUL_Precip_09\", \"AUG_Precip_09\", \"SEP_Precip_09\", \"OCT_Precip_09\", \"NOV_Precip_09\", \"DEC_Precip_09\", \"JAN_Precip_10\", \"FEB_Precip_10\", \"MAR_Precip_10\", \"APR_Precip_10\", \"MAY_Precip_10\", \"JUN_Precip_10\", \"JUL_Precip_10\", \"AUG_Precip_10\", \"SEP_Precip_10\", \"OCT_Precip_10\", \"NOV_Precip_10\", \"DEC_Precip_10\", \"JAN_Precip_11\", \"FEB_Precip_11\", \"MAR_Precip_11\", \"APR_Precip_11\", \"MAY_Precip_11\", \"JUN_Precip_11\", \"JUL_Precip_11\", \"AUG_Precip_11\", \"SEP_Precip_11\", \"OCT_Precip_11\", \"NOV_Precip_11\", \"DEC_Precip_11\", \"JAN_Precip_12\", \"FEB_Precip_12\", \"MAR_Precip_12\", \"APR_Precip_12\", \"MAY_Precip_12\", \"JUN_Precip_12\", \"JUL_Precip_12\", \"AUG_Precip_12\", \"SEP_Precip_12\", \"OCT_Precip_12\", \"NOV_Precip_12\", \"DEC_Precip_12\", \"JAN_Precip_13\", \"FEB_Precip_13\", \"MAR_Precip_13\", \"APR_Precip_13\", \"MAY_Precip_13\", \"JUN_Precip_13\", \"JUL_Precip_13\", \"AUG_Precip_13\", \"SEP_Precip_13\", \"OCT_Precip_13\", \"NOV_Precip_13\", \"DEC_Precip_13\", \"JAN_Precip_14\", \"FEB_Precip_14\", \"MAR_Precip_14\", \"APR_Precip_14\", \"MAY_Precip_14\", \"JUN_Precip_14\", \"JUL_Precip_14\", \"AUG_Precip_14\", \"SEP_Precip_14\", \"OCT_Precip_14\", \"NOV_Precip_14\", \"DEC_Precip_14\", \"JAN_Precip_15\", \"FEB_Precip_15\", \"MAR_Precip_15\", \"APR_Precip_15\", \"MAY_Precip_15\", \"JUN_Precip_15\", \"JUL_Precip_15\", \"AUG_Precip_15\", \"SEP_Precip_15\", \"OCT_Precip_15\", \"NOV_Precip_15\", \"DEC_Precip_15\", \"JAN_Precip_16\", \"FEB_Precip_16\", \"MAR_Precip_16\", \"APR_Precip_16\", \"MAY_Precip_16\", \"JUN_Precip_16\", \"JUL_Precip_16\", \"AUG_Precip_16\", \"SEP_Precip_16\", \"OCT_Precip_16\", \"NOV_Precip_16\", \"DEC_Precip_16\", \"JAN_Precip_17\", \"FEB_Precip_17\", \"MAR_Precip_17\", \"APR_Precip_17\", \"MAY_Precip_17\", \"JUN_Precip_17\", \"JUL_Precip_17\", \"AUG_Precip_17\", \"SEP_Precip_17\", \"OCT_Precip_17\", \"NOV_Precip_17\", \"DEC_Precip_17\", \"JAN_Precip_18\", \"FEB_Precip_18\", \"MAR_Precip_18\", \"APR_Precip_18\", \"MAY_Precip_18\", \"JUN_Precip_18\", \"JUL_Precip_18\", \"AUG_Precip_18\", \"SEP_Precip_18\", \"OCT_Precip_18\", \"NOV_Precip_18\", \"DEC_Precip_18\"], \"y\": [3.75, 1.66, 5.13, 3.81, 2.64, 3.74, 8.77, 3.71, 0.67, 9.23, 2.12, 3.9, 3.57, 2.04, 0.15, 3.57, 2.0, 14.26, 1.83, 1.18, 7.37, 5.24, 6.94, 1.84, 2.37, 2.55, 3.27, 5.28, 0.74, 3.71, 2.66, 3.48, 0.47, 5.16, 1.99, 3.69, 1.55, 4.72, 4.09, 5.74, 6.77, 5.57, 4.8, 1.23, 8.39, 2.19, 1.85, 3.97, 3.25, 0.17, 2.24, 5.25, 8.22, 7.28, 5.9, 7.7, 2.67, 5.71, 4.53, 6.56, 1.85, 4.92, 4.16, 1.44, 3.35, 1.61, 6.4, 7.06, 3.25, 6.27, 5.01, 2.22, 2.3575862068965523, 2.1530000000000005, 5.198666666666666, 4.873333333333334, 2.7360714285714285, 2.126923076923077, 3.3011538461538463, 11.43, 10.87, 4.26, 2.61, 3.87, 1.75, 2.39, 1.17, 2.25, 2.44, 1.88, 5.98, 5.89, 3.0, 9.36, 0.64, 3.19, 4.38, 1.34, 3.04, 2.77, 3.89, 5.76, 3.18, 1.96, 1.73, 5.69, 2.01, 5.28, 4.67, 4.77, 4.88, 8.88, 5.82, 4.45, 3.16, 4.97, 3.24, 4.03, 2.61, 3.87, 3.81, 1.86, 4.62, 4.35, 3.0, 11.48, 2.43, 1.12, 3.9640625, 4.173548387096774, 2.5825, 4.9625, 1.12, 5.09, 1.42, 2.21, 6.75, 3.22, 5.73, 2.18, 4.4, 0.77, 0.39, 3.84, 3.24, 0.5, 2.76, 4.46, 7.79, 0.98, 8.12, 8.04, 2.17, 3.03, 2.33, 0.77, 1.08, 5.46, 2.01, 5.27, 8.06, 6.22, 9.8, 6.26, 11.76, 3.76, 9.06, 5.36]}, {\"name\": \"SOUTHERN EASTERN\", \"type\": \"scatter\", \"x\": [\"JAN_Precip_05\", \"FEB_Precip_05\", \"MAR_Precip_05\", \"APR_Precip_05\", \"MAY_Precip_05\", \"JUN_Precip_05\", \"JUL_Precip_05\", \"AUG_Precip_05\", \"SEP_Precip_05\", \"OCT_Precip_05\", \"NOV_Precip_05\", \"DEC_Precip_05\", \"JAN_Precip_06\", \"FEB_Precip_06\", \"MAR_Precip_06\", \"APR_Precip_06\", \"MAY_Precip_06\", \"JUN_Precip_06\", \"JUL_Precip_06\", \"AUG_Precip_06\", \"SEP_Precip_06\", \"OCT_Precip_06\", \"NOV_Precip_06\", \"DEC_Precip_06\", \"JAN_Precip_07\", \"FEB_Precip_07\", \"MAR_Precip_07\", \"APR_Precip_07\", \"MAY_Precip_07\", \"JUN_Precip_07\", \"JUL_Precip_07\", \"AUG_Precip_07\", \"SEP_Precip_07\", \"OCT_Precip_07\", \"NOV_Precip_07\", \"DEC_Precip_07\", \"JAN_Precip_08\", \"FEB_Precip_08\", \"MAR_Precip_08\", \"APR_Precip_08\", \"MAY_Precip_08\", \"JUN_Precip_08\", \"JUL_Precip_08\", \"AUG_Precip_08\", \"SEP_Precip_08\", \"OCT_Precip_08\", \"NOV_Precip_08\", \"DEC_Precip_08\", \"JAN_Precip_09\", \"FEB_Precip_09\", \"MAR_Precip_09\", \"APR_Precip_09\", \"MAY_Precip_09\", \"JUN_Precip_09\", \"JUL_Precip_09\", \"AUG_Precip_09\", \"SEP_Precip_09\", \"OCT_Precip_09\", \"NOV_Precip_09\", \"DEC_Precip_09\", \"JAN_Precip_10\", \"FEB_Precip_10\", \"MAR_Precip_10\", \"APR_Precip_10\", \"MAY_Precip_10\", \"JUN_Precip_10\", \"JUL_Precip_10\", \"AUG_Precip_10\", \"SEP_Precip_10\", \"OCT_Precip_10\", \"NOV_Precip_10\", \"DEC_Precip_10\", \"JAN_Precip_11\", \"FEB_Precip_11\", \"MAR_Precip_11\", \"APR_Precip_11\", \"MAY_Precip_11\", \"JUN_Precip_11\", \"JUL_Precip_11\", \"AUG_Precip_11\", \"SEP_Precip_11\", \"OCT_Precip_11\", \"NOV_Precip_11\", \"DEC_Precip_11\", \"JAN_Precip_12\", \"FEB_Precip_12\", \"MAR_Precip_12\", \"APR_Precip_12\", \"MAY_Precip_12\", \"JUN_Precip_12\", \"JUL_Precip_12\", \"AUG_Precip_12\", \"SEP_Precip_12\", \"OCT_Precip_12\", \"NOV_Precip_12\", \"DEC_Precip_12\", \"JAN_Precip_13\", \"FEB_Precip_13\", \"MAR_Precip_13\", \"APR_Precip_13\", \"MAY_Precip_13\", \"JUN_Precip_13\", \"JUL_Precip_13\", \"AUG_Precip_13\", \"SEP_Precip_13\", \"OCT_Precip_13\", \"NOV_Precip_13\", \"DEC_Precip_13\", \"JAN_Precip_14\", \"FEB_Precip_14\", \"MAR_Precip_14\", \"APR_Precip_14\", \"MAY_Precip_14\", \"JUN_Precip_14\", \"JUL_Precip_14\", \"AUG_Precip_14\", \"SEP_Precip_14\", \"OCT_Precip_14\", \"NOV_Precip_14\", \"DEC_Precip_14\", \"JAN_Precip_15\", \"FEB_Precip_15\", \"MAR_Precip_15\", \"APR_Precip_15\", \"MAY_Precip_15\", \"JUN_Precip_15\", \"JUL_Precip_15\", \"AUG_Precip_15\", \"SEP_Precip_15\", \"OCT_Precip_15\", \"NOV_Precip_15\", \"DEC_Precip_15\", \"JAN_Precip_16\", \"FEB_Precip_16\", \"MAR_Precip_16\", \"APR_Precip_16\", \"MAY_Precip_16\", \"JUN_Precip_16\", \"JUL_Precip_16\", \"AUG_Precip_16\", \"SEP_Precip_16\", \"OCT_Precip_16\", \"NOV_Precip_16\", \"DEC_Precip_16\", \"JAN_Precip_17\", \"FEB_Precip_17\", \"MAR_Precip_17\", \"APR_Precip_17\", \"MAY_Precip_17\", \"JUN_Precip_17\", \"JUL_Precip_17\", \"AUG_Precip_17\", \"SEP_Precip_17\", \"OCT_Precip_17\", \"NOV_Precip_17\", \"DEC_Precip_17\", \"JAN_Precip_18\", \"FEB_Precip_18\", \"MAR_Precip_18\", \"APR_Precip_18\", \"MAY_Precip_18\", \"JUN_Precip_18\", \"JUL_Precip_18\", \"AUG_Precip_18\", \"SEP_Precip_18\", \"OCT_Precip_18\", \"NOV_Precip_18\", \"DEC_Precip_18\"], \"y\": [4.51, 3.09, 4.6, 2.57, 3.48, 4.87, 1.67, 2.1, 0.4, 4.47, 3.5, 4.02, 2.96, 0.68, 0.29, 2.11, 1.73, 6.07, 4.6, 0.97, 7.69, 6.33, 4.08, 2.88, 2.21, 2.38, 1.97, 3.35, 1.2, 2.29, 0.75, 5.21, 1.09, 4.02, 0.8, 5.3, 1.49, 3.66, 2.04, 5.81, 6.66, 5.05, 2.71, 3.84, 4.83, 0.0, 7.63, 5.3, 2.1, 0.52, 4.37, 0.0, 3.0, 5.43, 5.67, 0.0, 11.08, 6.19, 8.28, 9.08, 2.41, 5.05, 7.95, 1.09, 2.06, 1.84, 0.0, 5.54, 3.58, 4.44, 0.79, 1.73, 2.3575862068965523, 1.73, 3.95, 2.03, 2.7360714285714285, 1.98, 5.08, 9.67, 3.99, 2.01, 2.43, 1.18, 2.26, 1.876969696969697, 1.87, 4.66, 3.6336363636363633, 2.78, 3.779090909090909, 4.8426470588235295, 4.12875, 8.546129032258062, 0.7815151515151517, 3.707575757575758, 3.5851428571428565, 2.256764705882353, 3.1265625000000004, 2.9834375000000013, 3.2453124999999994, 7.286060606060609, 4.2973333333333334, 4.0415625, 1.5822580645161286, 5.608437499999999, 2.7, 5.0306250000000015, 2.7, 4.152903225806451, 3.8843333333333354, 4.994999999999999, 5.763870967741934, 3.645333333333333, 3.5521875000000014, 4.1290625, 2.7159375, 3.5429032258064512, 2.901333333333333, 3.4899999999999998, 3.9431034482758616, 2.222857142857143, 4.379333333333333, 3.609, 2.47741935483871, 9.620645161290323, 3.8116129032258064, 2.664, 3.9640625, 4.173548387096774, 2.5825, 4.9625, 3.316206896551724, 4.227666666666667, 1.6890625, 2.121290322580646, 6.257333333333333, 4.21774193548387, 5.3916666666666675, 3.0243333333333333, 7.197000000000001, 2.006, 0.8870967741935485, 3.311290322580645, 3.1553124999999995, 0.9809375, 3.6621875, 3.4196875, 5.855000000000001, 1.8624242424242428, 7.741290322580645, 6.086969696969699, 1.9918181818181813, 3.7940625, 1.960666666666666, 0.8877777777777779, 2.405625, 5.004062500000002, 2.642666666666666, 3.6583870967741934, 7.767931034482758, 5.042903225806452, 7.06, 3.22, 7.04, 6.8, 5.86, 5.330344827586206]}],\n",
       "                        {\"template\": {\"data\": {\"bar\": [{\"error_x\": {\"color\": \"#2a3f5f\"}, \"error_y\": {\"color\": \"#2a3f5f\"}, \"marker\": {\"line\": {\"color\": \"#E5ECF6\", \"width\": 0.5}}, \"type\": \"bar\"}], \"barpolar\": [{\"marker\": {\"line\": {\"color\": \"#E5ECF6\", \"width\": 0.5}}, \"type\": \"barpolar\"}], \"carpet\": [{\"aaxis\": {\"endlinecolor\": \"#2a3f5f\", \"gridcolor\": \"white\", \"linecolor\": \"white\", \"minorgridcolor\": \"white\", \"startlinecolor\": \"#2a3f5f\"}, \"baxis\": {\"endlinecolor\": \"#2a3f5f\", \"gridcolor\": \"white\", \"linecolor\": \"white\", \"minorgridcolor\": \"white\", \"startlinecolor\": \"#2a3f5f\"}, \"type\": \"carpet\"}], \"choropleth\": [{\"colorbar\": {\"outlinewidth\": 0, \"ticks\": \"\"}, \"type\": \"choropleth\"}], \"contour\": [{\"colorbar\": {\"outlinewidth\": 0, \"ticks\": \"\"}, \"colorscale\": [[0.0, \"#0d0887\"], [0.1111111111111111, \"#46039f\"], [0.2222222222222222, \"#7201a8\"], [0.3333333333333333, \"#9c179e\"], [0.4444444444444444, \"#bd3786\"], [0.5555555555555556, \"#d8576b\"], [0.6666666666666666, \"#ed7953\"], [0.7777777777777778, \"#fb9f3a\"], [0.8888888888888888, \"#fdca26\"], [1.0, \"#f0f921\"]], \"type\": \"contour\"}], \"contourcarpet\": [{\"colorbar\": {\"outlinewidth\": 0, \"ticks\": \"\"}, \"type\": \"contourcarpet\"}], \"heatmap\": [{\"colorbar\": {\"outlinewidth\": 0, \"ticks\": \"\"}, \"colorscale\": [[0.0, \"#0d0887\"], [0.1111111111111111, \"#46039f\"], [0.2222222222222222, \"#7201a8\"], [0.3333333333333333, \"#9c179e\"], [0.4444444444444444, \"#bd3786\"], [0.5555555555555556, \"#d8576b\"], [0.6666666666666666, \"#ed7953\"], [0.7777777777777778, \"#fb9f3a\"], [0.8888888888888888, \"#fdca26\"], [1.0, \"#f0f921\"]], \"type\": \"heatmap\"}], \"heatmapgl\": [{\"colorbar\": {\"outlinewidth\": 0, \"ticks\": \"\"}, \"colorscale\": [[0.0, \"#0d0887\"], [0.1111111111111111, \"#46039f\"], [0.2222222222222222, \"#7201a8\"], [0.3333333333333333, \"#9c179e\"], [0.4444444444444444, \"#bd3786\"], [0.5555555555555556, \"#d8576b\"], [0.6666666666666666, \"#ed7953\"], [0.7777777777777778, \"#fb9f3a\"], [0.8888888888888888, \"#fdca26\"], [1.0, \"#f0f921\"]], \"type\": \"heatmapgl\"}], \"histogram\": [{\"marker\": {\"colorbar\": {\"outlinewidth\": 0, \"ticks\": \"\"}}, \"type\": \"histogram\"}], \"histogram2d\": [{\"colorbar\": {\"outlinewidth\": 0, \"ticks\": \"\"}, \"colorscale\": [[0.0, \"#0d0887\"], [0.1111111111111111, \"#46039f\"], [0.2222222222222222, \"#7201a8\"], [0.3333333333333333, \"#9c179e\"], [0.4444444444444444, \"#bd3786\"], [0.5555555555555556, \"#d8576b\"], [0.6666666666666666, \"#ed7953\"], [0.7777777777777778, \"#fb9f3a\"], [0.8888888888888888, \"#fdca26\"], [1.0, \"#f0f921\"]], \"type\": \"histogram2d\"}], \"histogram2dcontour\": [{\"colorbar\": {\"outlinewidth\": 0, \"ticks\": \"\"}, \"colorscale\": [[0.0, \"#0d0887\"], [0.1111111111111111, \"#46039f\"], [0.2222222222222222, \"#7201a8\"], [0.3333333333333333, \"#9c179e\"], [0.4444444444444444, \"#bd3786\"], [0.5555555555555556, \"#d8576b\"], [0.6666666666666666, \"#ed7953\"], [0.7777777777777778, \"#fb9f3a\"], [0.8888888888888888, \"#fdca26\"], [1.0, \"#f0f921\"]], \"type\": \"histogram2dcontour\"}], \"mesh3d\": [{\"colorbar\": {\"outlinewidth\": 0, \"ticks\": \"\"}, \"type\": \"mesh3d\"}], \"parcoords\": [{\"line\": {\"colorbar\": {\"outlinewidth\": 0, \"ticks\": \"\"}}, \"type\": \"parcoords\"}], \"scatter\": [{\"marker\": {\"colorbar\": {\"outlinewidth\": 0, \"ticks\": \"\"}}, \"type\": \"scatter\"}], \"scatter3d\": [{\"line\": {\"colorbar\": {\"outlinewidth\": 0, \"ticks\": \"\"}}, \"marker\": {\"colorbar\": {\"outlinewidth\": 0, \"ticks\": \"\"}}, \"type\": \"scatter3d\"}], \"scattercarpet\": [{\"marker\": {\"colorbar\": {\"outlinewidth\": 0, \"ticks\": \"\"}}, \"type\": \"scattercarpet\"}], \"scattergeo\": [{\"marker\": {\"colorbar\": {\"outlinewidth\": 0, \"ticks\": \"\"}}, \"type\": \"scattergeo\"}], \"scattergl\": [{\"marker\": {\"colorbar\": {\"outlinewidth\": 0, \"ticks\": \"\"}}, \"type\": \"scattergl\"}], \"scattermapbox\": [{\"marker\": {\"colorbar\": {\"outlinewidth\": 0, \"ticks\": \"\"}}, \"type\": \"scattermapbox\"}], \"scatterpolar\": [{\"marker\": {\"colorbar\": {\"outlinewidth\": 0, \"ticks\": \"\"}}, \"type\": \"scatterpolar\"}], \"scatterpolargl\": [{\"marker\": {\"colorbar\": {\"outlinewidth\": 0, \"ticks\": \"\"}}, \"type\": \"scatterpolargl\"}], \"scatterternary\": [{\"marker\": {\"colorbar\": {\"outlinewidth\": 0, \"ticks\": \"\"}}, \"type\": \"scatterternary\"}], \"surface\": [{\"colorbar\": {\"outlinewidth\": 0, \"ticks\": \"\"}, \"colorscale\": [[0.0, \"#0d0887\"], [0.1111111111111111, \"#46039f\"], [0.2222222222222222, \"#7201a8\"], [0.3333333333333333, \"#9c179e\"], [0.4444444444444444, \"#bd3786\"], [0.5555555555555556, \"#d8576b\"], [0.6666666666666666, \"#ed7953\"], [0.7777777777777778, \"#fb9f3a\"], [0.8888888888888888, \"#fdca26\"], [1.0, \"#f0f921\"]], \"type\": \"surface\"}], \"table\": [{\"cells\": {\"fill\": {\"color\": \"#EBF0F8\"}, \"line\": {\"color\": \"white\"}}, \"header\": {\"fill\": {\"color\": \"#C8D4E3\"}, \"line\": {\"color\": \"white\"}}, \"type\": \"table\"}]}, \"layout\": {\"annotationdefaults\": {\"arrowcolor\": \"#2a3f5f\", \"arrowhead\": 0, \"arrowwidth\": 1}, \"colorscale\": {\"diverging\": [[0, \"#8e0152\"], [0.1, \"#c51b7d\"], [0.2, \"#de77ae\"], [0.3, \"#f1b6da\"], [0.4, \"#fde0ef\"], [0.5, \"#f7f7f7\"], [0.6, \"#e6f5d0\"], [0.7, \"#b8e186\"], [0.8, \"#7fbc41\"], [0.9, \"#4d9221\"], [1, \"#276419\"]], \"sequential\": [[0.0, \"#0d0887\"], [0.1111111111111111, \"#46039f\"], [0.2222222222222222, \"#7201a8\"], [0.3333333333333333, \"#9c179e\"], [0.4444444444444444, \"#bd3786\"], [0.5555555555555556, \"#d8576b\"], [0.6666666666666666, \"#ed7953\"], [0.7777777777777778, \"#fb9f3a\"], [0.8888888888888888, \"#fdca26\"], [1.0, \"#f0f921\"]], \"sequentialminus\": [[0.0, \"#0d0887\"], [0.1111111111111111, \"#46039f\"], [0.2222222222222222, \"#7201a8\"], [0.3333333333333333, \"#9c179e\"], [0.4444444444444444, \"#bd3786\"], [0.5555555555555556, \"#d8576b\"], [0.6666666666666666, \"#ed7953\"], [0.7777777777777778, \"#fb9f3a\"], [0.8888888888888888, \"#fdca26\"], [1.0, \"#f0f921\"]]}, \"colorway\": [\"#636efa\", \"#EF553B\", \"#00cc96\", \"#ab63fa\", \"#FFA15A\", \"#19d3f3\", \"#FF6692\", \"#B6E880\", \"#FF97FF\", \"#FECB52\"], \"font\": {\"color\": \"#2a3f5f\"}, \"geo\": {\"bgcolor\": \"white\", \"lakecolor\": \"white\", \"landcolor\": \"#E5ECF6\", \"showlakes\": true, \"showland\": true, \"subunitcolor\": \"white\"}, \"hoverlabel\": {\"align\": \"left\"}, \"hovermode\": \"closest\", \"mapbox\": {\"style\": \"light\"}, \"paper_bgcolor\": \"white\", \"plot_bgcolor\": \"#E5ECF6\", \"polar\": {\"angularaxis\": {\"gridcolor\": \"white\", \"linecolor\": \"white\", \"ticks\": \"\"}, \"bgcolor\": \"#E5ECF6\", \"radialaxis\": {\"gridcolor\": \"white\", \"linecolor\": \"white\", \"ticks\": \"\"}}, \"scene\": {\"xaxis\": {\"backgroundcolor\": \"#E5ECF6\", \"gridcolor\": \"white\", \"gridwidth\": 2, \"linecolor\": \"white\", \"showbackground\": true, \"ticks\": \"\", \"zerolinecolor\": \"white\"}, \"yaxis\": {\"backgroundcolor\": \"#E5ECF6\", \"gridcolor\": \"white\", \"gridwidth\": 2, \"linecolor\": \"white\", \"showbackground\": true, \"ticks\": \"\", \"zerolinecolor\": \"white\"}, \"zaxis\": {\"backgroundcolor\": \"#E5ECF6\", \"gridcolor\": \"white\", \"gridwidth\": 2, \"linecolor\": \"white\", \"showbackground\": true, \"ticks\": \"\", \"zerolinecolor\": \"white\"}}, \"shapedefaults\": {\"line\": {\"color\": \"#2a3f5f\"}}, \"ternary\": {\"aaxis\": {\"gridcolor\": \"white\", \"linecolor\": \"white\", \"ticks\": \"\"}, \"baxis\": {\"gridcolor\": \"white\", \"linecolor\": \"white\", \"ticks\": \"\"}, \"bgcolor\": \"#E5ECF6\", \"caxis\": {\"gridcolor\": \"white\", \"linecolor\": \"white\", \"ticks\": \"\"}}, \"title\": {\"x\": 0.05}, \"xaxis\": {\"automargin\": true, \"gridcolor\": \"white\", \"linecolor\": \"white\", \"ticks\": \"\", \"zerolinecolor\": \"white\", \"zerolinewidth\": 2}, \"yaxis\": {\"automargin\": true, \"gridcolor\": \"white\", \"linecolor\": \"white\", \"ticks\": \"\", \"zerolinecolor\": \"white\", \"zerolinewidth\": 2}}}, \"title\": {\"text\": \"Precipation of Different Regions in Maryland from 2005-2018\"}, \"xaxis\": {\"rangeslider\": {\"visible\": true}}},\n",
       "                        {\"responsive\": true}\n",
       "                    ).then(function(){\n",
       "                            \n",
       "var gd = document.getElementById('d2a78183-dafa-4798-a651-560fb81781cf');\n",
       "var x = new MutationObserver(function (mutations, observer) {{\n",
       "        var display = window.getComputedStyle(gd).display;\n",
       "        if (!display || display === 'none') {{\n",
       "            console.log([gd, 'removed!']);\n",
       "            Plotly.purge(gd);\n",
       "            observer.disconnect();\n",
       "        }}\n",
       "}});\n",
       "\n",
       "// Listen for the removal of the full notebook cells\n",
       "var notebookContainer = gd.closest('#notebook-container');\n",
       "if (notebookContainer) {{\n",
       "    x.observe(notebookContainer, {childList: true});\n",
       "}}\n",
       "\n",
       "// Listen for the clearing of the current output cell\n",
       "var outputEl = gd.closest('.output');\n",
       "if (outputEl) {{\n",
       "    x.observe(outputEl, {childList: true});\n",
       "}}\n",
       "\n",
       "                        })\n",
       "                };\n",
       "                });\n",
       "            </script>\n",
       "        </div>"
      ]
     },
     "metadata": {},
     "output_type": "display_data"
    }
   ],
   "source": [
    "fig3 = go.Figure()\n",
    "\n",
    "fig3.add_trace(go.Scatter(x=mdprecip['Month and Year'], y=mdprecip['NORTHERN CENTRAL   06'], name=\"NORTHERN CENTRAL\"))\n",
    "fig3.add_trace(go.Scatter(x=mdprecip['Month and Year'], y=mdprecip['NORTHERN EASTERN'], name=\"NORTHERN EASTERN\"))\n",
    "fig3.add_trace(go.Scatter(x=mdprecip['Month and Year'], y=mdprecip['CENTRAL EASTERN'], name=\"Central Eastern\"))\n",
    "fig3.add_trace(go.Scatter(x=mdprecip['Month and Year'], y=mdprecip['UPPER SOUTHERN     04'], name=\"UPPER SOUTHERN\"))\n",
    "fig3.add_trace(go.Scatter(x=mdprecip['Month and Year'], y=mdprecip['LOWER SOUTHERN     03'], name=\"LOWER SOUTHERN\"))\n",
    "fig3.add_trace(go.Scatter(x=mdprecip['Month and Year'], y=mdprecip['SOUTHERN EASTERN'], name=\"SOUTHERN EASTERN\"))\n",
    "\n",
    "fig3.update_layout(title_text='Precipation of Different Regions in Maryland from 2005-2018',\n",
    "                  xaxis_rangeslider_visible=True)\n",
    "fig3.show(showgrid = False)"
   ]
  },
  {
   "cell_type": "markdown",
   "metadata": {},
   "source": [
    "Inference: From 2005 to 2015 we see that all the regions of Maryland have received nearly same amount of rainfall, but from 2016 all the regions show a different amount of rainfall and do not behave the same way."
   ]
  },
  {
   "cell_type": "code",
   "execution_count": 39,
   "metadata": {},
   "outputs": [
    {
     "data": {
      "text/html": [
       "<div>\n",
       "<style scoped>\n",
       "    .dataframe tbody tr th:only-of-type {\n",
       "        vertical-align: middle;\n",
       "    }\n",
       "\n",
       "    .dataframe tbody tr th {\n",
       "        vertical-align: top;\n",
       "    }\n",
       "\n",
       "    .dataframe thead th {\n",
       "        text-align: right;\n",
       "    }\n",
       "</style>\n",
       "<table border=\"1\" class=\"dataframe\">\n",
       "  <thead>\n",
       "    <tr style=\"text-align: right;\">\n",
       "      <th></th>\n",
       "      <th>Month and Year</th>\n",
       "      <th>MARYLAND</th>\n",
       "      <th>SOUTHERN EASTERN</th>\n",
       "      <th>SHORE              01</th>\n",
       "      <th>ASSATEAGUE</th>\n",
       "      <th>PRINCESS ANNE</th>\n",
       "      <th>SALISBURY</th>\n",
       "      <th>SALISBURY POLICE BRKS</th>\n",
       "      <th>SALISBURY FAA AP</th>\n",
       "      <th>SNOW HILL 4 N</th>\n",
       "      <th>...</th>\n",
       "      <th>NEWARK UNIV FARM</th>\n",
       "      <th>WILMINGTON NEW CASTLE   R</th>\n",
       "      <th>WILMINGTON PORTER RSVR</th>\n",
       "      <th>--DIVISIONAL DATA-------&gt;.8</th>\n",
       "      <th>SOUTHERN           02</th>\n",
       "      <th>DOVER</th>\n",
       "      <th>GREENWOOD 2NE</th>\n",
       "      <th>LEWES</th>\n",
       "      <th>SMYRNA 1 W</th>\n",
       "      <th>--DIVISIONAL DATA-------&gt;.9</th>\n",
       "    </tr>\n",
       "  </thead>\n",
       "  <tbody>\n",
       "    <tr>\n",
       "      <td>0</td>\n",
       "      <td>Jan_Temp_05</td>\n",
       "      <td>37.000000</td>\n",
       "      <td>33.520000</td>\n",
       "      <td>37.000000</td>\n",
       "      <td>37.000000</td>\n",
       "      <td>35.000000</td>\n",
       "      <td>38.000000</td>\n",
       "      <td>37.000000</td>\n",
       "      <td>36.000000</td>\n",
       "      <td>37.000000</td>\n",
       "      <td>...</td>\n",
       "      <td>34.0</td>\n",
       "      <td>37.000000</td>\n",
       "      <td>33.520000</td>\n",
       "      <td>35.000000</td>\n",
       "      <td>33.520000</td>\n",
       "      <td>33.520000</td>\n",
       "      <td>33.520000</td>\n",
       "      <td>33.520000</td>\n",
       "      <td>33.520000</td>\n",
       "      <td>33.520000</td>\n",
       "    </tr>\n",
       "    <tr>\n",
       "      <td>1</td>\n",
       "      <td>Jan_Depart_05</td>\n",
       "      <td>1.000000</td>\n",
       "      <td>1.833333</td>\n",
       "      <td>1.833333</td>\n",
       "      <td>1.833333</td>\n",
       "      <td>1.833333</td>\n",
       "      <td>1.000000</td>\n",
       "      <td>1.000000</td>\n",
       "      <td>1.833333</td>\n",
       "      <td>1.000000</td>\n",
       "      <td>...</td>\n",
       "      <td>1.0</td>\n",
       "      <td>1.833333</td>\n",
       "      <td>1.833333</td>\n",
       "      <td>1.833333</td>\n",
       "      <td>1.833333</td>\n",
       "      <td>1.833333</td>\n",
       "      <td>1.833333</td>\n",
       "      <td>1.833333</td>\n",
       "      <td>1.833333</td>\n",
       "      <td>1.833333</td>\n",
       "    </tr>\n",
       "    <tr>\n",
       "      <td>2</td>\n",
       "      <td>Feb_Temp_05</td>\n",
       "      <td>38.000000</td>\n",
       "      <td>36.076923</td>\n",
       "      <td>40.000000</td>\n",
       "      <td>39.000000</td>\n",
       "      <td>36.000000</td>\n",
       "      <td>39.000000</td>\n",
       "      <td>39.000000</td>\n",
       "      <td>38.000000</td>\n",
       "      <td>39.000000</td>\n",
       "      <td>...</td>\n",
       "      <td>35.0</td>\n",
       "      <td>37.000000</td>\n",
       "      <td>36.076923</td>\n",
       "      <td>37.000000</td>\n",
       "      <td>36.076923</td>\n",
       "      <td>36.076923</td>\n",
       "      <td>36.076923</td>\n",
       "      <td>36.076923</td>\n",
       "      <td>36.076923</td>\n",
       "      <td>36.076923</td>\n",
       "    </tr>\n",
       "    <tr>\n",
       "      <td>3</td>\n",
       "      <td>Feb_Depart_05</td>\n",
       "      <td>1.571429</td>\n",
       "      <td>1.571429</td>\n",
       "      <td>1.000000</td>\n",
       "      <td>1.571429</td>\n",
       "      <td>1.000000</td>\n",
       "      <td>1.571429</td>\n",
       "      <td>1.000000</td>\n",
       "      <td>1.571429</td>\n",
       "      <td>1.000000</td>\n",
       "      <td>...</td>\n",
       "      <td>1.0</td>\n",
       "      <td>1.571429</td>\n",
       "      <td>1.571429</td>\n",
       "      <td>1.571429</td>\n",
       "      <td>1.571429</td>\n",
       "      <td>1.571429</td>\n",
       "      <td>1.571429</td>\n",
       "      <td>1.571429</td>\n",
       "      <td>1.571429</td>\n",
       "      <td>1.571429</td>\n",
       "    </tr>\n",
       "    <tr>\n",
       "      <td>4</td>\n",
       "      <td>Mar_Temp_05</td>\n",
       "      <td>41.000000</td>\n",
       "      <td>38.905660</td>\n",
       "      <td>43.000000</td>\n",
       "      <td>42.000000</td>\n",
       "      <td>39.000000</td>\n",
       "      <td>41.000000</td>\n",
       "      <td>41.000000</td>\n",
       "      <td>42.000000</td>\n",
       "      <td>42.000000</td>\n",
       "      <td>...</td>\n",
       "      <td>39.0</td>\n",
       "      <td>41.000000</td>\n",
       "      <td>38.905660</td>\n",
       "      <td>40.000000</td>\n",
       "      <td>38.905660</td>\n",
       "      <td>38.905660</td>\n",
       "      <td>38.905660</td>\n",
       "      <td>38.905660</td>\n",
       "      <td>38.905660</td>\n",
       "      <td>38.905660</td>\n",
       "    </tr>\n",
       "    <tr>\n",
       "      <td>...</td>\n",
       "      <td>...</td>\n",
       "      <td>...</td>\n",
       "      <td>...</td>\n",
       "      <td>...</td>\n",
       "      <td>...</td>\n",
       "      <td>...</td>\n",
       "      <td>...</td>\n",
       "      <td>...</td>\n",
       "      <td>...</td>\n",
       "      <td>...</td>\n",
       "      <td>...</td>\n",
       "      <td>...</td>\n",
       "      <td>...</td>\n",
       "      <td>...</td>\n",
       "      <td>...</td>\n",
       "      <td>...</td>\n",
       "      <td>...</td>\n",
       "      <td>...</td>\n",
       "      <td>...</td>\n",
       "      <td>...</td>\n",
       "      <td>...</td>\n",
       "    </tr>\n",
       "    <tr>\n",
       "      <td>359</td>\n",
       "      <td>Nov_Depart_18</td>\n",
       "      <td>-1.000000</td>\n",
       "      <td>0.000000</td>\n",
       "      <td>-0.000000</td>\n",
       "      <td>-3.000000</td>\n",
       "      <td>-1.000000</td>\n",
       "      <td>-2.000000</td>\n",
       "      <td>-2.540541</td>\n",
       "      <td>-3.000000</td>\n",
       "      <td>-1.000000</td>\n",
       "      <td>...</td>\n",
       "      <td>NaN</td>\n",
       "      <td>NaN</td>\n",
       "      <td>NaN</td>\n",
       "      <td>NaN</td>\n",
       "      <td>NaN</td>\n",
       "      <td>NaN</td>\n",
       "      <td>NaN</td>\n",
       "      <td>NaN</td>\n",
       "      <td>NaN</td>\n",
       "      <td>NaN</td>\n",
       "    </tr>\n",
       "    <tr>\n",
       "      <td>360</td>\n",
       "      <td>Dec_Temp_18</td>\n",
       "      <td>38.615385</td>\n",
       "      <td>43.000000</td>\n",
       "      <td>42.000000</td>\n",
       "      <td>45.000000</td>\n",
       "      <td>43.000000</td>\n",
       "      <td>41.000000</td>\n",
       "      <td>41.000000</td>\n",
       "      <td>39.000000</td>\n",
       "      <td>38.615385</td>\n",
       "      <td>...</td>\n",
       "      <td>NaN</td>\n",
       "      <td>NaN</td>\n",
       "      <td>NaN</td>\n",
       "      <td>NaN</td>\n",
       "      <td>NaN</td>\n",
       "      <td>NaN</td>\n",
       "      <td>NaN</td>\n",
       "      <td>NaN</td>\n",
       "      <td>NaN</td>\n",
       "      <td>NaN</td>\n",
       "    </tr>\n",
       "    <tr>\n",
       "      <td>361</td>\n",
       "      <td>Dec_Depart_18</td>\n",
       "      <td>3.000000</td>\n",
       "      <td>3.000000</td>\n",
       "      <td>1.000000</td>\n",
       "      <td>2.000000</td>\n",
       "      <td>2.096774</td>\n",
       "      <td>1.000000</td>\n",
       "      <td>3.000000</td>\n",
       "      <td>2.000000</td>\n",
       "      <td>2.000000</td>\n",
       "      <td>...</td>\n",
       "      <td>NaN</td>\n",
       "      <td>NaN</td>\n",
       "      <td>NaN</td>\n",
       "      <td>NaN</td>\n",
       "      <td>NaN</td>\n",
       "      <td>NaN</td>\n",
       "      <td>NaN</td>\n",
       "      <td>NaN</td>\n",
       "      <td>NaN</td>\n",
       "      <td>NaN</td>\n",
       "    </tr>\n",
       "    <tr>\n",
       "      <td>362</td>\n",
       "      <td>Ann_Temp_18</td>\n",
       "      <td>48.138889</td>\n",
       "      <td>61.000000</td>\n",
       "      <td>58.000000</td>\n",
       "      <td>4.000000</td>\n",
       "      <td>58.000000</td>\n",
       "      <td>58.000000</td>\n",
       "      <td>58.000000</td>\n",
       "      <td>2.000000</td>\n",
       "      <td>48.138889</td>\n",
       "      <td>...</td>\n",
       "      <td>NaN</td>\n",
       "      <td>NaN</td>\n",
       "      <td>NaN</td>\n",
       "      <td>NaN</td>\n",
       "      <td>NaN</td>\n",
       "      <td>NaN</td>\n",
       "      <td>NaN</td>\n",
       "      <td>NaN</td>\n",
       "      <td>NaN</td>\n",
       "      <td>NaN</td>\n",
       "    </tr>\n",
       "    <tr>\n",
       "      <td>363</td>\n",
       "      <td>Ann_Depart_18</td>\n",
       "      <td>2.000000</td>\n",
       "      <td>0.000000</td>\n",
       "      <td>2.000000</td>\n",
       "      <td>0.000000</td>\n",
       "      <td>2.000000</td>\n",
       "      <td>0.000000</td>\n",
       "      <td>0.000000</td>\n",
       "      <td>4.000000</td>\n",
       "      <td>1.000000</td>\n",
       "      <td>...</td>\n",
       "      <td>NaN</td>\n",
       "      <td>NaN</td>\n",
       "      <td>NaN</td>\n",
       "      <td>NaN</td>\n",
       "      <td>NaN</td>\n",
       "      <td>NaN</td>\n",
       "      <td>NaN</td>\n",
       "      <td>NaN</td>\n",
       "      <td>NaN</td>\n",
       "      <td>NaN</td>\n",
       "    </tr>\n",
       "  </tbody>\n",
       "</table>\n",
       "<p>364 rows × 74 columns</p>\n",
       "</div>"
      ],
      "text/plain": [
       "    Month and Year   MARYLAND  SOUTHERN EASTERN  SHORE              01  \\\n",
       "0      Jan_Temp_05  37.000000         33.520000              37.000000   \n",
       "1    Jan_Depart_05   1.000000          1.833333               1.833333   \n",
       "2      Feb_Temp_05  38.000000         36.076923              40.000000   \n",
       "3    Feb_Depart_05   1.571429          1.571429               1.000000   \n",
       "4      Mar_Temp_05  41.000000         38.905660              43.000000   \n",
       "..             ...        ...               ...                    ...   \n",
       "359  Nov_Depart_18  -1.000000          0.000000              -0.000000   \n",
       "360    Dec_Temp_18  38.615385         43.000000              42.000000   \n",
       "361  Dec_Depart_18   3.000000          3.000000               1.000000   \n",
       "362    Ann_Temp_18  48.138889         61.000000              58.000000   \n",
       "363  Ann_Depart_18   2.000000          0.000000               2.000000   \n",
       "\n",
       "     ASSATEAGUE                 PRINCESS ANNE              \\\n",
       "0                    37.000000                  35.000000   \n",
       "1                     1.833333                   1.833333   \n",
       "2                    39.000000                  36.000000   \n",
       "3                     1.571429                   1.000000   \n",
       "4                    42.000000                  39.000000   \n",
       "..                         ...                        ...   \n",
       "359                  -3.000000                  -1.000000   \n",
       "360                  45.000000                  43.000000   \n",
       "361                   2.000000                   2.096774   \n",
       "362                   4.000000                  58.000000   \n",
       "363                   0.000000                   2.000000   \n",
       "\n",
       "     SALISBURY                  SALISBURY POLICE BRKS      \\\n",
       "0                    38.000000                  37.000000   \n",
       "1                     1.000000                   1.000000   \n",
       "2                    39.000000                  39.000000   \n",
       "3                     1.571429                   1.000000   \n",
       "4                    41.000000                  41.000000   \n",
       "..                         ...                        ...   \n",
       "359                  -2.000000                  -2.540541   \n",
       "360                  41.000000                  41.000000   \n",
       "361                   1.000000                   3.000000   \n",
       "362                  58.000000                  58.000000   \n",
       "363                   0.000000                   0.000000   \n",
       "\n",
       "     SALISBURY FAA AP           SNOW HILL 4 N              ...  \\\n",
       "0                    36.000000                  37.000000  ...   \n",
       "1                     1.833333                   1.000000  ...   \n",
       "2                    38.000000                  39.000000  ...   \n",
       "3                     1.571429                   1.000000  ...   \n",
       "4                    42.000000                  42.000000  ...   \n",
       "..                         ...                        ...  ...   \n",
       "359                  -3.000000                  -1.000000  ...   \n",
       "360                  39.000000                  38.615385  ...   \n",
       "361                   2.000000                   2.000000  ...   \n",
       "362                   2.000000                  48.138889  ...   \n",
       "363                   4.000000                   1.000000  ...   \n",
       "\n",
       "     NEWARK UNIV FARM           WILMINGTON NEW CASTLE   R  \\\n",
       "0                         34.0                  37.000000   \n",
       "1                          1.0                   1.833333   \n",
       "2                         35.0                  37.000000   \n",
       "3                          1.0                   1.571429   \n",
       "4                         39.0                  41.000000   \n",
       "..                         ...                        ...   \n",
       "359                        NaN                        NaN   \n",
       "360                        NaN                        NaN   \n",
       "361                        NaN                        NaN   \n",
       "362                        NaN                        NaN   \n",
       "363                        NaN                        NaN   \n",
       "\n",
       "     WILMINGTON PORTER RSVR     --DIVISIONAL DATA------->.8  \\\n",
       "0                    33.520000                    35.000000   \n",
       "1                     1.833333                     1.833333   \n",
       "2                    36.076923                    37.000000   \n",
       "3                     1.571429                     1.571429   \n",
       "4                    38.905660                    40.000000   \n",
       "..                         ...                          ...   \n",
       "359                        NaN                          NaN   \n",
       "360                        NaN                          NaN   \n",
       "361                        NaN                          NaN   \n",
       "362                        NaN                          NaN   \n",
       "363                        NaN                          NaN   \n",
       "\n",
       "     SOUTHERN           02  DOVER                      \\\n",
       "0                33.520000                  33.520000   \n",
       "1                 1.833333                   1.833333   \n",
       "2                36.076923                  36.076923   \n",
       "3                 1.571429                   1.571429   \n",
       "4                38.905660                  38.905660   \n",
       "..                     ...                        ...   \n",
       "359                    NaN                        NaN   \n",
       "360                    NaN                        NaN   \n",
       "361                    NaN                        NaN   \n",
       "362                    NaN                        NaN   \n",
       "363                    NaN                        NaN   \n",
       "\n",
       "     GREENWOOD 2NE              LEWES                      \\\n",
       "0                    33.520000                  33.520000   \n",
       "1                     1.833333                   1.833333   \n",
       "2                    36.076923                  36.076923   \n",
       "3                     1.571429                   1.571429   \n",
       "4                    38.905660                  38.905660   \n",
       "..                         ...                        ...   \n",
       "359                        NaN                        NaN   \n",
       "360                        NaN                        NaN   \n",
       "361                        NaN                        NaN   \n",
       "362                        NaN                        NaN   \n",
       "363                        NaN                        NaN   \n",
       "\n",
       "     SMYRNA 1 W                 --DIVISIONAL DATA------->.9  \n",
       "0                    33.520000                    33.520000  \n",
       "1                     1.833333                     1.833333  \n",
       "2                    36.076923                    36.076923  \n",
       "3                     1.571429                     1.571429  \n",
       "4                    38.905660                    38.905660  \n",
       "..                         ...                          ...  \n",
       "359                        NaN                          NaN  \n",
       "360                        NaN                          NaN  \n",
       "361                        NaN                          NaN  \n",
       "362                        NaN                          NaN  \n",
       "363                        NaN                          NaN  \n",
       "\n",
       "[364 rows x 74 columns]"
      ]
     },
     "execution_count": 39,
     "metadata": {},
     "output_type": "execute_result"
    }
   ],
   "source": [
    "file = path_a + 'MDtemp.csv'\n",
    "mdtemp=pd.read_csv(file, index_col=None)\n",
    "mdtemp=mdtemp.rename(columns={'Unnamed: 0':'Month and Year'})\n",
    "mdtemp"
   ]
  },
  {
   "cell_type": "code",
   "execution_count": 40,
   "metadata": {},
   "outputs": [
    {
     "data": {
      "text/html": [
       "<div>\n",
       "<style scoped>\n",
       "    .dataframe tbody tr th:only-of-type {\n",
       "        vertical-align: middle;\n",
       "    }\n",
       "\n",
       "    .dataframe tbody tr th {\n",
       "        vertical-align: top;\n",
       "    }\n",
       "\n",
       "    .dataframe thead th {\n",
       "        text-align: right;\n",
       "    }\n",
       "</style>\n",
       "<table border=\"1\" class=\"dataframe\">\n",
       "  <thead>\n",
       "    <tr style=\"text-align: right;\">\n",
       "      <th></th>\n",
       "      <th>Month and Year</th>\n",
       "      <th>NORTHERN CENTRAL   06</th>\n",
       "      <th>NORTHERN EASTERN</th>\n",
       "      <th>UPPER SOUTHERN     04</th>\n",
       "      <th>LOWER SOUTHERN     03</th>\n",
       "      <th>CENTRAL EASTERN</th>\n",
       "      <th>SOUTHERN EASTERN</th>\n",
       "    </tr>\n",
       "  </thead>\n",
       "  <tbody>\n",
       "    <tr>\n",
       "      <td>0</td>\n",
       "      <td>Jan_Temp_05</td>\n",
       "      <td>33.520000</td>\n",
       "      <td>32.0</td>\n",
       "      <td>35.0</td>\n",
       "      <td>33.0</td>\n",
       "      <td>34.000000</td>\n",
       "      <td>33.520000</td>\n",
       "    </tr>\n",
       "    <tr>\n",
       "      <td>2</td>\n",
       "      <td>Feb_Temp_05</td>\n",
       "      <td>36.076923</td>\n",
       "      <td>34.0</td>\n",
       "      <td>39.0</td>\n",
       "      <td>37.0</td>\n",
       "      <td>36.000000</td>\n",
       "      <td>36.076923</td>\n",
       "    </tr>\n",
       "    <tr>\n",
       "      <td>4</td>\n",
       "      <td>Mar_Temp_05</td>\n",
       "      <td>38.905660</td>\n",
       "      <td>38.0</td>\n",
       "      <td>42.0</td>\n",
       "      <td>40.0</td>\n",
       "      <td>40.000000</td>\n",
       "      <td>38.905660</td>\n",
       "    </tr>\n",
       "    <tr>\n",
       "      <td>6</td>\n",
       "      <td>Apr_Temp_05</td>\n",
       "      <td>54.132075</td>\n",
       "      <td>55.0</td>\n",
       "      <td>56.0</td>\n",
       "      <td>54.0</td>\n",
       "      <td>54.000000</td>\n",
       "      <td>54.132075</td>\n",
       "    </tr>\n",
       "    <tr>\n",
       "      <td>8</td>\n",
       "      <td>May_Temp_05</td>\n",
       "      <td>58.096154</td>\n",
       "      <td>58.0</td>\n",
       "      <td>61.0</td>\n",
       "      <td>59.0</td>\n",
       "      <td>57.000000</td>\n",
       "      <td>58.096154</td>\n",
       "    </tr>\n",
       "    <tr>\n",
       "      <td>...</td>\n",
       "      <td>...</td>\n",
       "      <td>...</td>\n",
       "      <td>...</td>\n",
       "      <td>...</td>\n",
       "      <td>...</td>\n",
       "      <td>...</td>\n",
       "      <td>...</td>\n",
       "    </tr>\n",
       "    <tr>\n",
       "      <td>354</td>\n",
       "      <td>Sep_Temp_18</td>\n",
       "      <td>72.358974</td>\n",
       "      <td>71.0</td>\n",
       "      <td>75.0</td>\n",
       "      <td>75.0</td>\n",
       "      <td>78.000000</td>\n",
       "      <td>76.000000</td>\n",
       "    </tr>\n",
       "    <tr>\n",
       "      <td>356</td>\n",
       "      <td>Oct_Temp_18</td>\n",
       "      <td>58.450000</td>\n",
       "      <td>57.0</td>\n",
       "      <td>61.0</td>\n",
       "      <td>61.0</td>\n",
       "      <td>64.000000</td>\n",
       "      <td>62.000000</td>\n",
       "    </tr>\n",
       "    <tr>\n",
       "      <td>358</td>\n",
       "      <td>Nov_Temp_18</td>\n",
       "      <td>42.850000</td>\n",
       "      <td>40.0</td>\n",
       "      <td>45.0</td>\n",
       "      <td>45.0</td>\n",
       "      <td>47.000000</td>\n",
       "      <td>47.000000</td>\n",
       "    </tr>\n",
       "    <tr>\n",
       "      <td>360</td>\n",
       "      <td>Dec_Temp_18</td>\n",
       "      <td>38.615385</td>\n",
       "      <td>35.0</td>\n",
       "      <td>40.0</td>\n",
       "      <td>41.0</td>\n",
       "      <td>38.615385</td>\n",
       "      <td>43.000000</td>\n",
       "    </tr>\n",
       "    <tr>\n",
       "      <td>362</td>\n",
       "      <td>Ann_Temp_18</td>\n",
       "      <td>48.138889</td>\n",
       "      <td>53.0</td>\n",
       "      <td>57.0</td>\n",
       "      <td>2.0</td>\n",
       "      <td>61.000000</td>\n",
       "      <td>61.000000</td>\n",
       "    </tr>\n",
       "  </tbody>\n",
       "</table>\n",
       "<p>182 rows × 7 columns</p>\n",
       "</div>"
      ],
      "text/plain": [
       "    Month and Year  NORTHERN CENTRAL   06  NORTHERN EASTERN  \\\n",
       "0      Jan_Temp_05              33.520000              32.0   \n",
       "2      Feb_Temp_05              36.076923              34.0   \n",
       "4      Mar_Temp_05              38.905660              38.0   \n",
       "6      Apr_Temp_05              54.132075              55.0   \n",
       "8      May_Temp_05              58.096154              58.0   \n",
       "..             ...                    ...               ...   \n",
       "354    Sep_Temp_18              72.358974              71.0   \n",
       "356    Oct_Temp_18              58.450000              57.0   \n",
       "358    Nov_Temp_18              42.850000              40.0   \n",
       "360    Dec_Temp_18              38.615385              35.0   \n",
       "362    Ann_Temp_18              48.138889              53.0   \n",
       "\n",
       "     UPPER SOUTHERN     04  LOWER SOUTHERN     03  CENTRAL EASTERN  \\\n",
       "0                     35.0                   33.0        34.000000   \n",
       "2                     39.0                   37.0        36.000000   \n",
       "4                     42.0                   40.0        40.000000   \n",
       "6                     56.0                   54.0        54.000000   \n",
       "8                     61.0                   59.0        57.000000   \n",
       "..                     ...                    ...              ...   \n",
       "354                   75.0                   75.0        78.000000   \n",
       "356                   61.0                   61.0        64.000000   \n",
       "358                   45.0                   45.0        47.000000   \n",
       "360                   40.0                   41.0        38.615385   \n",
       "362                   57.0                    2.0        61.000000   \n",
       "\n",
       "     SOUTHERN EASTERN  \n",
       "0           33.520000  \n",
       "2           36.076923  \n",
       "4           38.905660  \n",
       "6           54.132075  \n",
       "8           58.096154  \n",
       "..                ...  \n",
       "354         76.000000  \n",
       "356         62.000000  \n",
       "358         47.000000  \n",
       "360         43.000000  \n",
       "362         61.000000  \n",
       "\n",
       "[182 rows x 7 columns]"
      ]
     },
     "execution_count": 40,
     "metadata": {},
     "output_type": "execute_result"
    }
   ],
   "source": [
    "mdtem = mdtemp.iloc[::2]  # even\n",
    "mdtem = mdtem[['Month and Year','NORTHERN CENTRAL   06','NORTHERN EASTERN','UPPER SOUTHERN     04','LOWER SOUTHERN     03','CENTRAL EASTERN','SOUTHERN EASTERN']]\n",
    "mdtem"
   ]
  },
  {
   "cell_type": "markdown",
   "metadata": {},
   "source": [
    "#### Analyzing the change in temperature in the Northen Central of Maryland from 2005-2018"
   ]
  },
  {
   "cell_type": "code",
   "execution_count": 41,
   "metadata": {},
   "outputs": [
    {
     "data": {
      "text/html": [
       "<div>\n",
       "<style scoped>\n",
       "    .dataframe tbody tr th:only-of-type {\n",
       "        vertical-align: middle;\n",
       "    }\n",
       "\n",
       "    .dataframe tbody tr th {\n",
       "        vertical-align: top;\n",
       "    }\n",
       "\n",
       "    .dataframe thead th {\n",
       "        text-align: right;\n",
       "    }\n",
       "</style>\n",
       "<table border=\"1\" class=\"dataframe\">\n",
       "  <thead>\n",
       "    <tr style=\"text-align: right;\">\n",
       "      <th></th>\n",
       "      <th>2005</th>\n",
       "      <th>2006</th>\n",
       "      <th>2007</th>\n",
       "      <th>2008</th>\n",
       "      <th>2009</th>\n",
       "      <th>2010</th>\n",
       "      <th>2011</th>\n",
       "      <th>2012</th>\n",
       "      <th>2013</th>\n",
       "      <th>2014</th>\n",
       "      <th>2015</th>\n",
       "      <th>2016</th>\n",
       "      <th>2017</th>\n",
       "      <th>2018</th>\n",
       "    </tr>\n",
       "  </thead>\n",
       "  <tbody>\n",
       "    <tr>\n",
       "      <td>0</td>\n",
       "      <td>33.520000</td>\n",
       "      <td>40.478261</td>\n",
       "      <td>36.510204</td>\n",
       "      <td>34.978261</td>\n",
       "      <td>28.217391</td>\n",
       "      <td>31.476190</td>\n",
       "      <td>28.418605</td>\n",
       "      <td>36.000000</td>\n",
       "      <td>33</td>\n",
       "      <td>22</td>\n",
       "      <td>29.921053</td>\n",
       "      <td>31.236842</td>\n",
       "      <td>37.461538</td>\n",
       "      <td>30.342105</td>\n",
       "    </tr>\n",
       "    <tr>\n",
       "      <td>1</td>\n",
       "      <td>36.076923</td>\n",
       "      <td>35.531915</td>\n",
       "      <td>27.604167</td>\n",
       "      <td>36.437500</td>\n",
       "      <td>36.369565</td>\n",
       "      <td>29.977778</td>\n",
       "      <td>36.181818</td>\n",
       "      <td>39.857143</td>\n",
       "      <td>32</td>\n",
       "      <td>28</td>\n",
       "      <td>24.550000</td>\n",
       "      <td>35.025641</td>\n",
       "      <td>42.714286</td>\n",
       "      <td>40.589744</td>\n",
       "    </tr>\n",
       "    <tr>\n",
       "      <td>2</td>\n",
       "      <td>38.905660</td>\n",
       "      <td>43.510204</td>\n",
       "      <td>44.204545</td>\n",
       "      <td>43.760870</td>\n",
       "      <td>42.326087</td>\n",
       "      <td>46.813953</td>\n",
       "      <td>41.744186</td>\n",
       "      <td>49.000000</td>\n",
       "      <td>38</td>\n",
       "      <td>35</td>\n",
       "      <td>37.125000</td>\n",
       "      <td>48.775000</td>\n",
       "      <td>41.692308</td>\n",
       "      <td>38.205128</td>\n",
       "    </tr>\n",
       "    <tr>\n",
       "      <td>3</td>\n",
       "      <td>54.132075</td>\n",
       "      <td>55.875000</td>\n",
       "      <td>50.173913</td>\n",
       "      <td>54.787234</td>\n",
       "      <td>53.978261</td>\n",
       "      <td>56.760870</td>\n",
       "      <td>55.700000</td>\n",
       "      <td>50.000000</td>\n",
       "      <td>53</td>\n",
       "      <td>50</td>\n",
       "      <td>53.589744</td>\n",
       "      <td>52.275000</td>\n",
       "      <td>58.736842</td>\n",
       "      <td>50.128205</td>\n",
       "    </tr>\n",
       "    <tr>\n",
       "      <td>4</td>\n",
       "      <td>58.096154</td>\n",
       "      <td>61.693878</td>\n",
       "      <td>64.159091</td>\n",
       "      <td>59.422222</td>\n",
       "      <td>62.851064</td>\n",
       "      <td>65.066667</td>\n",
       "      <td>65.095238</td>\n",
       "      <td>66.000000</td>\n",
       "      <td>60</td>\n",
       "      <td>61</td>\n",
       "      <td>65.307692</td>\n",
       "      <td>60.170732</td>\n",
       "      <td>61.125000</td>\n",
       "      <td>68.000000</td>\n",
       "    </tr>\n",
       "    <tr>\n",
       "      <td>5</td>\n",
       "      <td>72.627451</td>\n",
       "      <td>71.108696</td>\n",
       "      <td>72.369565</td>\n",
       "      <td>73.723404</td>\n",
       "      <td>70.250000</td>\n",
       "      <td>75.630435</td>\n",
       "      <td>71.384615</td>\n",
       "      <td>68.000000</td>\n",
       "      <td>72</td>\n",
       "      <td>70</td>\n",
       "      <td>72.375000</td>\n",
       "      <td>71.641026</td>\n",
       "      <td>71.650000</td>\n",
       "      <td>71.410256</td>\n",
       "    </tr>\n",
       "    <tr>\n",
       "      <td>6</td>\n",
       "      <td>77.428571</td>\n",
       "      <td>77.304348</td>\n",
       "      <td>74.978723</td>\n",
       "      <td>75.744681</td>\n",
       "      <td>72.936170</td>\n",
       "      <td>78.555556</td>\n",
       "      <td>77.076923</td>\n",
       "      <td>76.000000</td>\n",
       "      <td>76</td>\n",
       "      <td>72</td>\n",
       "      <td>75.121951</td>\n",
       "      <td>77.500000</td>\n",
       "      <td>76.763158</td>\n",
       "      <td>75.947368</td>\n",
       "    </tr>\n",
       "    <tr>\n",
       "      <td>7</td>\n",
       "      <td>77.058824</td>\n",
       "      <td>76.687500</td>\n",
       "      <td>76.066667</td>\n",
       "      <td>72.127660</td>\n",
       "      <td>75.750000</td>\n",
       "      <td>75.931818</td>\n",
       "      <td>74.292683</td>\n",
       "      <td>73.000000</td>\n",
       "      <td>71</td>\n",
       "      <td>69</td>\n",
       "      <td>73.666667</td>\n",
       "      <td>77.225000</td>\n",
       "      <td>72.128205</td>\n",
       "      <td>76.775000</td>\n",
       "    </tr>\n",
       "    <tr>\n",
       "      <td>8</td>\n",
       "      <td>71.039216</td>\n",
       "      <td>65.040816</td>\n",
       "      <td>69.521739</td>\n",
       "      <td>68.361702</td>\n",
       "      <td>66.102041</td>\n",
       "      <td>69.760870</td>\n",
       "      <td>66.761905</td>\n",
       "      <td>65.000000</td>\n",
       "      <td>65</td>\n",
       "      <td>64</td>\n",
       "      <td>70.461538</td>\n",
       "      <td>70.894737</td>\n",
       "      <td>67.948718</td>\n",
       "      <td>72.358974</td>\n",
       "    </tr>\n",
       "    <tr>\n",
       "      <td>9</td>\n",
       "      <td>57.380000</td>\n",
       "      <td>54.638298</td>\n",
       "      <td>62.739130</td>\n",
       "      <td>54.466667</td>\n",
       "      <td>54.812500</td>\n",
       "      <td>57.162791</td>\n",
       "      <td>55.000000</td>\n",
       "      <td>54.000000</td>\n",
       "      <td>57</td>\n",
       "      <td>54</td>\n",
       "      <td>55.000000</td>\n",
       "      <td>58.500000</td>\n",
       "      <td>60.473684</td>\n",
       "      <td>58.450000</td>\n",
       "    </tr>\n",
       "    <tr>\n",
       "      <td>10</td>\n",
       "      <td>48.312500</td>\n",
       "      <td>48.893617</td>\n",
       "      <td>44.978261</td>\n",
       "      <td>44.085106</td>\n",
       "      <td>49.227273</td>\n",
       "      <td>45.522727</td>\n",
       "      <td>47.476190</td>\n",
       "      <td>39.000000</td>\n",
       "      <td>42</td>\n",
       "      <td>38</td>\n",
       "      <td>50.230769</td>\n",
       "      <td>47.200000</td>\n",
       "      <td>44.918919</td>\n",
       "      <td>42.850000</td>\n",
       "    </tr>\n",
       "    <tr>\n",
       "      <td>11</td>\n",
       "      <td>33.382979</td>\n",
       "      <td>42.408163</td>\n",
       "      <td>37.574468</td>\n",
       "      <td>38.000000</td>\n",
       "      <td>34.750000</td>\n",
       "      <td>30.244444</td>\n",
       "      <td>40.690476</td>\n",
       "      <td>38.000000</td>\n",
       "      <td>36</td>\n",
       "      <td>35</td>\n",
       "      <td>46.736842</td>\n",
       "      <td>37.230769</td>\n",
       "      <td>34.361111</td>\n",
       "      <td>38.615385</td>\n",
       "    </tr>\n",
       "  </tbody>\n",
       "</table>\n",
       "</div>"
      ],
      "text/plain": [
       "         2005       2006       2007       2008       2009       2010  \\\n",
       "0   33.520000  40.478261  36.510204  34.978261  28.217391  31.476190   \n",
       "1   36.076923  35.531915  27.604167  36.437500  36.369565  29.977778   \n",
       "2   38.905660  43.510204  44.204545  43.760870  42.326087  46.813953   \n",
       "3   54.132075  55.875000  50.173913  54.787234  53.978261  56.760870   \n",
       "4   58.096154  61.693878  64.159091  59.422222  62.851064  65.066667   \n",
       "5   72.627451  71.108696  72.369565  73.723404  70.250000  75.630435   \n",
       "6   77.428571  77.304348  74.978723  75.744681  72.936170  78.555556   \n",
       "7   77.058824  76.687500  76.066667  72.127660  75.750000  75.931818   \n",
       "8   71.039216  65.040816  69.521739  68.361702  66.102041  69.760870   \n",
       "9   57.380000  54.638298  62.739130  54.466667  54.812500  57.162791   \n",
       "10  48.312500  48.893617  44.978261  44.085106  49.227273  45.522727   \n",
       "11  33.382979  42.408163  37.574468  38.000000  34.750000  30.244444   \n",
       "\n",
       "         2011       2012  2013  2014       2015       2016       2017  \\\n",
       "0   28.418605  36.000000    33    22  29.921053  31.236842  37.461538   \n",
       "1   36.181818  39.857143    32    28  24.550000  35.025641  42.714286   \n",
       "2   41.744186  49.000000    38    35  37.125000  48.775000  41.692308   \n",
       "3   55.700000  50.000000    53    50  53.589744  52.275000  58.736842   \n",
       "4   65.095238  66.000000    60    61  65.307692  60.170732  61.125000   \n",
       "5   71.384615  68.000000    72    70  72.375000  71.641026  71.650000   \n",
       "6   77.076923  76.000000    76    72  75.121951  77.500000  76.763158   \n",
       "7   74.292683  73.000000    71    69  73.666667  77.225000  72.128205   \n",
       "8   66.761905  65.000000    65    64  70.461538  70.894737  67.948718   \n",
       "9   55.000000  54.000000    57    54  55.000000  58.500000  60.473684   \n",
       "10  47.476190  39.000000    42    38  50.230769  47.200000  44.918919   \n",
       "11  40.690476  38.000000    36    35  46.736842  37.230769  34.361111   \n",
       "\n",
       "         2018  \n",
       "0   30.342105  \n",
       "1   40.589744  \n",
       "2   38.205128  \n",
       "3   50.128205  \n",
       "4   68.000000  \n",
       "5   71.410256  \n",
       "6   75.947368  \n",
       "7   76.775000  \n",
       "8   72.358974  \n",
       "9   58.450000  \n",
       "10  42.850000  \n",
       "11  38.615385  "
      ]
     },
     "execution_count": 41,
     "metadata": {},
     "output_type": "execute_result"
    }
   ],
   "source": [
    "year_nc = pd.read_csv(path_a+\"Year_NC.csv\")\n",
    "year_nc"
   ]
  },
  {
   "cell_type": "code",
   "execution_count": 42,
   "metadata": {
    "scrolled": true
   },
   "outputs": [
    {
     "data": {
      "application/vnd.plotly.v1+json": {
       "config": {
        "plotlyServerURL": "https://plot.ly"
       },
       "data": [
        {
         "name": "2006",
         "type": "box",
         "y": [
          40.47826087,
          35.53191489,
          43.51020408,
          55.875,
          61.69387755,
          71.10869565,
          77.30434783,
          76.6875,
          65.04081633,
          54.63829787,
          48.89361702,
          42.40816327
         ]
        },
        {
         "name": "2007",
         "type": "box",
         "y": [
          36.51020408,
          27.60416667,
          44.20454545,
          50.17391304,
          64.15909091,
          72.36956522,
          74.9787234,
          76.06666667,
          69.52173913,
          62.73913043,
          44.97826087,
          37.57446809
         ]
        },
        {
         "name": "2008",
         "type": "box",
         "y": [
          34.97826087,
          36.4375,
          43.76086957,
          54.78723404,
          59.42222222,
          73.72340426,
          75.74468085,
          72.12765957,
          68.36170213,
          54.46666667,
          44.08510638,
          38
         ]
        },
        {
         "name": "2009",
         "type": "box",
         "y": [
          28.2173913,
          36.36956522,
          42.32608696,
          53.97826087,
          62.85106383,
          70.25,
          72.93617021,
          75.75,
          66.10204082,
          54.8125,
          49.22727273,
          34.75
         ]
        },
        {
         "name": "2010",
         "type": "box",
         "y": [
          31.47619048,
          29.97777778,
          46.81395349,
          56.76086957,
          65.06666667,
          75.63043478,
          78.55555556,
          75.93181818,
          69.76086957,
          57.1627907,
          45.52272727,
          30.24444444
         ]
        },
        {
         "name": "2011",
         "type": "box",
         "y": [
          28.41860465,
          36.18181818,
          41.74418605,
          55.7,
          65.0952381,
          71.38461538,
          77.07692308,
          74.29268293,
          66.76190476,
          55,
          47.47619048,
          40.69047619
         ]
        },
        {
         "name": "2012",
         "type": "box",
         "y": [
          36,
          39.85714286,
          49,
          50,
          66,
          68,
          76,
          73,
          65,
          54,
          39,
          38
         ]
        },
        {
         "name": "2013",
         "type": "box",
         "y": [
          33,
          32,
          38,
          53,
          60,
          72,
          76,
          71,
          65,
          57,
          42,
          36
         ]
        },
        {
         "name": "2014",
         "type": "box",
         "y": [
          22,
          28,
          35,
          50,
          61,
          70,
          72,
          69,
          64,
          54,
          38,
          35
         ]
        },
        {
         "name": "2015",
         "type": "box",
         "y": [
          29.92105263,
          24.55,
          37.125,
          53.58974359,
          65.30769231,
          72.375,
          75.12195122,
          73.66666667,
          70.46153846,
          55,
          50.23076923,
          46.73684211
         ]
        },
        {
         "name": "2016",
         "type": "box",
         "y": [
          31.23684211,
          35.02564103,
          48.775,
          52.275,
          60.17073171,
          71.64102564,
          77.5,
          77.225,
          70.89473684,
          58.5,
          47.2,
          37.23076923
         ]
        },
        {
         "name": "2017",
         "type": "box",
         "y": [
          37.46153846,
          42.71428571,
          41.69230769,
          58.73684211,
          61.125,
          71.65,
          76.76315789,
          72.12820513,
          67.94871795,
          60.47368421,
          44.91891892,
          34.36111111
         ]
        },
        {
         "name": "2018",
         "type": "box",
         "y": [
          30.34210526,
          40.58974359,
          38.20512821,
          50.12820513,
          68,
          71.41025641,
          75.94736842,
          76.775,
          72.35897436,
          58.45,
          42.85,
          38.61538462
         ]
        }
       ],
       "layout": {
        "template": {
         "data": {
          "bar": [
           {
            "error_x": {
             "color": "#2a3f5f"
            },
            "error_y": {
             "color": "#2a3f5f"
            },
            "marker": {
             "line": {
              "color": "#E5ECF6",
              "width": 0.5
             }
            },
            "type": "bar"
           }
          ],
          "barpolar": [
           {
            "marker": {
             "line": {
              "color": "#E5ECF6",
              "width": 0.5
             }
            },
            "type": "barpolar"
           }
          ],
          "carpet": [
           {
            "aaxis": {
             "endlinecolor": "#2a3f5f",
             "gridcolor": "white",
             "linecolor": "white",
             "minorgridcolor": "white",
             "startlinecolor": "#2a3f5f"
            },
            "baxis": {
             "endlinecolor": "#2a3f5f",
             "gridcolor": "white",
             "linecolor": "white",
             "minorgridcolor": "white",
             "startlinecolor": "#2a3f5f"
            },
            "type": "carpet"
           }
          ],
          "choropleth": [
           {
            "colorbar": {
             "outlinewidth": 0,
             "ticks": ""
            },
            "type": "choropleth"
           }
          ],
          "contour": [
           {
            "colorbar": {
             "outlinewidth": 0,
             "ticks": ""
            },
            "colorscale": [
             [
              0,
              "#0d0887"
             ],
             [
              0.1111111111111111,
              "#46039f"
             ],
             [
              0.2222222222222222,
              "#7201a8"
             ],
             [
              0.3333333333333333,
              "#9c179e"
             ],
             [
              0.4444444444444444,
              "#bd3786"
             ],
             [
              0.5555555555555556,
              "#d8576b"
             ],
             [
              0.6666666666666666,
              "#ed7953"
             ],
             [
              0.7777777777777778,
              "#fb9f3a"
             ],
             [
              0.8888888888888888,
              "#fdca26"
             ],
             [
              1,
              "#f0f921"
             ]
            ],
            "type": "contour"
           }
          ],
          "contourcarpet": [
           {
            "colorbar": {
             "outlinewidth": 0,
             "ticks": ""
            },
            "type": "contourcarpet"
           }
          ],
          "heatmap": [
           {
            "colorbar": {
             "outlinewidth": 0,
             "ticks": ""
            },
            "colorscale": [
             [
              0,
              "#0d0887"
             ],
             [
              0.1111111111111111,
              "#46039f"
             ],
             [
              0.2222222222222222,
              "#7201a8"
             ],
             [
              0.3333333333333333,
              "#9c179e"
             ],
             [
              0.4444444444444444,
              "#bd3786"
             ],
             [
              0.5555555555555556,
              "#d8576b"
             ],
             [
              0.6666666666666666,
              "#ed7953"
             ],
             [
              0.7777777777777778,
              "#fb9f3a"
             ],
             [
              0.8888888888888888,
              "#fdca26"
             ],
             [
              1,
              "#f0f921"
             ]
            ],
            "type": "heatmap"
           }
          ],
          "heatmapgl": [
           {
            "colorbar": {
             "outlinewidth": 0,
             "ticks": ""
            },
            "colorscale": [
             [
              0,
              "#0d0887"
             ],
             [
              0.1111111111111111,
              "#46039f"
             ],
             [
              0.2222222222222222,
              "#7201a8"
             ],
             [
              0.3333333333333333,
              "#9c179e"
             ],
             [
              0.4444444444444444,
              "#bd3786"
             ],
             [
              0.5555555555555556,
              "#d8576b"
             ],
             [
              0.6666666666666666,
              "#ed7953"
             ],
             [
              0.7777777777777778,
              "#fb9f3a"
             ],
             [
              0.8888888888888888,
              "#fdca26"
             ],
             [
              1,
              "#f0f921"
             ]
            ],
            "type": "heatmapgl"
           }
          ],
          "histogram": [
           {
            "marker": {
             "colorbar": {
              "outlinewidth": 0,
              "ticks": ""
             }
            },
            "type": "histogram"
           }
          ],
          "histogram2d": [
           {
            "colorbar": {
             "outlinewidth": 0,
             "ticks": ""
            },
            "colorscale": [
             [
              0,
              "#0d0887"
             ],
             [
              0.1111111111111111,
              "#46039f"
             ],
             [
              0.2222222222222222,
              "#7201a8"
             ],
             [
              0.3333333333333333,
              "#9c179e"
             ],
             [
              0.4444444444444444,
              "#bd3786"
             ],
             [
              0.5555555555555556,
              "#d8576b"
             ],
             [
              0.6666666666666666,
              "#ed7953"
             ],
             [
              0.7777777777777778,
              "#fb9f3a"
             ],
             [
              0.8888888888888888,
              "#fdca26"
             ],
             [
              1,
              "#f0f921"
             ]
            ],
            "type": "histogram2d"
           }
          ],
          "histogram2dcontour": [
           {
            "colorbar": {
             "outlinewidth": 0,
             "ticks": ""
            },
            "colorscale": [
             [
              0,
              "#0d0887"
             ],
             [
              0.1111111111111111,
              "#46039f"
             ],
             [
              0.2222222222222222,
              "#7201a8"
             ],
             [
              0.3333333333333333,
              "#9c179e"
             ],
             [
              0.4444444444444444,
              "#bd3786"
             ],
             [
              0.5555555555555556,
              "#d8576b"
             ],
             [
              0.6666666666666666,
              "#ed7953"
             ],
             [
              0.7777777777777778,
              "#fb9f3a"
             ],
             [
              0.8888888888888888,
              "#fdca26"
             ],
             [
              1,
              "#f0f921"
             ]
            ],
            "type": "histogram2dcontour"
           }
          ],
          "mesh3d": [
           {
            "colorbar": {
             "outlinewidth": 0,
             "ticks": ""
            },
            "type": "mesh3d"
           }
          ],
          "parcoords": [
           {
            "line": {
             "colorbar": {
              "outlinewidth": 0,
              "ticks": ""
             }
            },
            "type": "parcoords"
           }
          ],
          "scatter": [
           {
            "marker": {
             "colorbar": {
              "outlinewidth": 0,
              "ticks": ""
             }
            },
            "type": "scatter"
           }
          ],
          "scatter3d": [
           {
            "line": {
             "colorbar": {
              "outlinewidth": 0,
              "ticks": ""
             }
            },
            "marker": {
             "colorbar": {
              "outlinewidth": 0,
              "ticks": ""
             }
            },
            "type": "scatter3d"
           }
          ],
          "scattercarpet": [
           {
            "marker": {
             "colorbar": {
              "outlinewidth": 0,
              "ticks": ""
             }
            },
            "type": "scattercarpet"
           }
          ],
          "scattergeo": [
           {
            "marker": {
             "colorbar": {
              "outlinewidth": 0,
              "ticks": ""
             }
            },
            "type": "scattergeo"
           }
          ],
          "scattergl": [
           {
            "marker": {
             "colorbar": {
              "outlinewidth": 0,
              "ticks": ""
             }
            },
            "type": "scattergl"
           }
          ],
          "scattermapbox": [
           {
            "marker": {
             "colorbar": {
              "outlinewidth": 0,
              "ticks": ""
             }
            },
            "type": "scattermapbox"
           }
          ],
          "scatterpolar": [
           {
            "marker": {
             "colorbar": {
              "outlinewidth": 0,
              "ticks": ""
             }
            },
            "type": "scatterpolar"
           }
          ],
          "scatterpolargl": [
           {
            "marker": {
             "colorbar": {
              "outlinewidth": 0,
              "ticks": ""
             }
            },
            "type": "scatterpolargl"
           }
          ],
          "scatterternary": [
           {
            "marker": {
             "colorbar": {
              "outlinewidth": 0,
              "ticks": ""
             }
            },
            "type": "scatterternary"
           }
          ],
          "surface": [
           {
            "colorbar": {
             "outlinewidth": 0,
             "ticks": ""
            },
            "colorscale": [
             [
              0,
              "#0d0887"
             ],
             [
              0.1111111111111111,
              "#46039f"
             ],
             [
              0.2222222222222222,
              "#7201a8"
             ],
             [
              0.3333333333333333,
              "#9c179e"
             ],
             [
              0.4444444444444444,
              "#bd3786"
             ],
             [
              0.5555555555555556,
              "#d8576b"
             ],
             [
              0.6666666666666666,
              "#ed7953"
             ],
             [
              0.7777777777777778,
              "#fb9f3a"
             ],
             [
              0.8888888888888888,
              "#fdca26"
             ],
             [
              1,
              "#f0f921"
             ]
            ],
            "type": "surface"
           }
          ],
          "table": [
           {
            "cells": {
             "fill": {
              "color": "#EBF0F8"
             },
             "line": {
              "color": "white"
             }
            },
            "header": {
             "fill": {
              "color": "#C8D4E3"
             },
             "line": {
              "color": "white"
             }
            },
            "type": "table"
           }
          ]
         },
         "layout": {
          "annotationdefaults": {
           "arrowcolor": "#2a3f5f",
           "arrowhead": 0,
           "arrowwidth": 1
          },
          "colorscale": {
           "diverging": [
            [
             0,
             "#8e0152"
            ],
            [
             0.1,
             "#c51b7d"
            ],
            [
             0.2,
             "#de77ae"
            ],
            [
             0.3,
             "#f1b6da"
            ],
            [
             0.4,
             "#fde0ef"
            ],
            [
             0.5,
             "#f7f7f7"
            ],
            [
             0.6,
             "#e6f5d0"
            ],
            [
             0.7,
             "#b8e186"
            ],
            [
             0.8,
             "#7fbc41"
            ],
            [
             0.9,
             "#4d9221"
            ],
            [
             1,
             "#276419"
            ]
           ],
           "sequential": [
            [
             0,
             "#0d0887"
            ],
            [
             0.1111111111111111,
             "#46039f"
            ],
            [
             0.2222222222222222,
             "#7201a8"
            ],
            [
             0.3333333333333333,
             "#9c179e"
            ],
            [
             0.4444444444444444,
             "#bd3786"
            ],
            [
             0.5555555555555556,
             "#d8576b"
            ],
            [
             0.6666666666666666,
             "#ed7953"
            ],
            [
             0.7777777777777778,
             "#fb9f3a"
            ],
            [
             0.8888888888888888,
             "#fdca26"
            ],
            [
             1,
             "#f0f921"
            ]
           ],
           "sequentialminus": [
            [
             0,
             "#0d0887"
            ],
            [
             0.1111111111111111,
             "#46039f"
            ],
            [
             0.2222222222222222,
             "#7201a8"
            ],
            [
             0.3333333333333333,
             "#9c179e"
            ],
            [
             0.4444444444444444,
             "#bd3786"
            ],
            [
             0.5555555555555556,
             "#d8576b"
            ],
            [
             0.6666666666666666,
             "#ed7953"
            ],
            [
             0.7777777777777778,
             "#fb9f3a"
            ],
            [
             0.8888888888888888,
             "#fdca26"
            ],
            [
             1,
             "#f0f921"
            ]
           ]
          },
          "colorway": [
           "#636efa",
           "#EF553B",
           "#00cc96",
           "#ab63fa",
           "#FFA15A",
           "#19d3f3",
           "#FF6692",
           "#B6E880",
           "#FF97FF",
           "#FECB52"
          ],
          "font": {
           "color": "#2a3f5f"
          },
          "geo": {
           "bgcolor": "white",
           "lakecolor": "white",
           "landcolor": "#E5ECF6",
           "showlakes": true,
           "showland": true,
           "subunitcolor": "white"
          },
          "hoverlabel": {
           "align": "left"
          },
          "hovermode": "closest",
          "mapbox": {
           "style": "light"
          },
          "paper_bgcolor": "white",
          "plot_bgcolor": "#E5ECF6",
          "polar": {
           "angularaxis": {
            "gridcolor": "white",
            "linecolor": "white",
            "ticks": ""
           },
           "bgcolor": "#E5ECF6",
           "radialaxis": {
            "gridcolor": "white",
            "linecolor": "white",
            "ticks": ""
           }
          },
          "scene": {
           "xaxis": {
            "backgroundcolor": "#E5ECF6",
            "gridcolor": "white",
            "gridwidth": 2,
            "linecolor": "white",
            "showbackground": true,
            "ticks": "",
            "zerolinecolor": "white"
           },
           "yaxis": {
            "backgroundcolor": "#E5ECF6",
            "gridcolor": "white",
            "gridwidth": 2,
            "linecolor": "white",
            "showbackground": true,
            "ticks": "",
            "zerolinecolor": "white"
           },
           "zaxis": {
            "backgroundcolor": "#E5ECF6",
            "gridcolor": "white",
            "gridwidth": 2,
            "linecolor": "white",
            "showbackground": true,
            "ticks": "",
            "zerolinecolor": "white"
           }
          },
          "shapedefaults": {
           "line": {
            "color": "#2a3f5f"
           }
          },
          "ternary": {
           "aaxis": {
            "gridcolor": "white",
            "linecolor": "white",
            "ticks": ""
           },
           "baxis": {
            "gridcolor": "white",
            "linecolor": "white",
            "ticks": ""
           },
           "bgcolor": "#E5ECF6",
           "caxis": {
            "gridcolor": "white",
            "linecolor": "white",
            "ticks": ""
           }
          },
          "title": {
           "x": 0.05
          },
          "xaxis": {
           "automargin": true,
           "gridcolor": "white",
           "linecolor": "white",
           "ticks": "",
           "zerolinecolor": "white",
           "zerolinewidth": 2
          },
          "yaxis": {
           "automargin": true,
           "gridcolor": "white",
           "linecolor": "white",
           "ticks": "",
           "zerolinecolor": "white",
           "zerolinewidth": 2
          }
         }
        },
        "title": {
         "text": "Analysing temperature statistics of Northern Central Maryland"
        }
       }
      },
      "text/html": [
       "<div>\n",
       "        \n",
       "        \n",
       "            <div id=\"9197ccca-5236-4dc0-8c5d-4c20f5542fbf\" class=\"plotly-graph-div\" style=\"height:525px; width:100%;\"></div>\n",
       "            <script type=\"text/javascript\">\n",
       "                require([\"plotly\"], function(Plotly) {\n",
       "                    window.PLOTLYENV=window.PLOTLYENV || {};\n",
       "                    \n",
       "                if (document.getElementById(\"9197ccca-5236-4dc0-8c5d-4c20f5542fbf\")) {\n",
       "                    Plotly.newPlot(\n",
       "                        '9197ccca-5236-4dc0-8c5d-4c20f5542fbf',\n",
       "                        [{\"name\": \"2006\", \"type\": \"box\", \"y\": [40.47826087, 35.53191489, 43.51020408, 55.875, 61.69387755, 71.10869565, 77.30434783, 76.6875, 65.04081633, 54.63829787, 48.89361702, 42.40816327]}, {\"name\": \"2007\", \"type\": \"box\", \"y\": [36.51020408, 27.60416667, 44.20454545, 50.17391304, 64.15909091, 72.36956522, 74.9787234, 76.06666667, 69.52173913, 62.73913043, 44.97826087, 37.57446809]}, {\"name\": \"2008\", \"type\": \"box\", \"y\": [34.97826087, 36.4375, 43.76086957, 54.78723404, 59.42222222, 73.72340426, 75.74468085, 72.12765957, 68.36170213, 54.46666667, 44.08510638, 38.0]}, {\"name\": \"2009\", \"type\": \"box\", \"y\": [28.2173913, 36.36956522, 42.32608696, 53.97826087, 62.85106383, 70.25, 72.93617021, 75.75, 66.10204082, 54.8125, 49.22727273, 34.75]}, {\"name\": \"2010\", \"type\": \"box\", \"y\": [31.47619048, 29.97777778, 46.81395349, 56.76086957, 65.06666667, 75.63043478, 78.55555556, 75.93181818, 69.76086957, 57.1627907, 45.52272727, 30.24444444]}, {\"name\": \"2011\", \"type\": \"box\", \"y\": [28.41860465, 36.18181818, 41.74418605, 55.7, 65.0952381, 71.38461538, 77.07692308, 74.29268293, 66.76190476, 55.0, 47.47619048, 40.69047619]}, {\"name\": \"2012\", \"type\": \"box\", \"y\": [36.0, 39.85714286, 49.0, 50.0, 66.0, 68.0, 76.0, 73.0, 65.0, 54.0, 39.0, 38.0]}, {\"name\": \"2013\", \"type\": \"box\", \"y\": [33, 32, 38, 53, 60, 72, 76, 71, 65, 57, 42, 36]}, {\"name\": \"2014\", \"type\": \"box\", \"y\": [22, 28, 35, 50, 61, 70, 72, 69, 64, 54, 38, 35]}, {\"name\": \"2015\", \"type\": \"box\", \"y\": [29.92105263, 24.55, 37.125, 53.58974359, 65.30769231, 72.375, 75.12195122, 73.66666667, 70.46153846, 55.0, 50.23076923, 46.73684211]}, {\"name\": \"2016\", \"type\": \"box\", \"y\": [31.23684211, 35.02564103, 48.775, 52.275, 60.17073171, 71.64102564, 77.5, 77.225, 70.89473684, 58.5, 47.2, 37.23076923]}, {\"name\": \"2017\", \"type\": \"box\", \"y\": [37.46153846, 42.71428571, 41.69230769, 58.73684211, 61.125, 71.65, 76.76315789, 72.12820513, 67.94871795, 60.47368421, 44.91891892, 34.36111111]}, {\"name\": \"2018\", \"type\": \"box\", \"y\": [30.34210526, 40.58974359, 38.20512821, 50.12820513, 68.0, 71.41025641, 75.94736842, 76.775, 72.35897436, 58.45, 42.85, 38.61538462]}],\n",
       "                        {\"template\": {\"data\": {\"bar\": [{\"error_x\": {\"color\": \"#2a3f5f\"}, \"error_y\": {\"color\": \"#2a3f5f\"}, \"marker\": {\"line\": {\"color\": \"#E5ECF6\", \"width\": 0.5}}, \"type\": \"bar\"}], \"barpolar\": [{\"marker\": {\"line\": {\"color\": \"#E5ECF6\", \"width\": 0.5}}, \"type\": \"barpolar\"}], \"carpet\": [{\"aaxis\": {\"endlinecolor\": \"#2a3f5f\", \"gridcolor\": \"white\", \"linecolor\": \"white\", \"minorgridcolor\": \"white\", \"startlinecolor\": \"#2a3f5f\"}, \"baxis\": {\"endlinecolor\": \"#2a3f5f\", \"gridcolor\": \"white\", \"linecolor\": \"white\", \"minorgridcolor\": \"white\", \"startlinecolor\": \"#2a3f5f\"}, \"type\": \"carpet\"}], \"choropleth\": [{\"colorbar\": {\"outlinewidth\": 0, \"ticks\": \"\"}, \"type\": \"choropleth\"}], \"contour\": [{\"colorbar\": {\"outlinewidth\": 0, \"ticks\": \"\"}, \"colorscale\": [[0.0, \"#0d0887\"], [0.1111111111111111, \"#46039f\"], [0.2222222222222222, \"#7201a8\"], [0.3333333333333333, \"#9c179e\"], [0.4444444444444444, \"#bd3786\"], [0.5555555555555556, \"#d8576b\"], [0.6666666666666666, \"#ed7953\"], [0.7777777777777778, \"#fb9f3a\"], [0.8888888888888888, \"#fdca26\"], [1.0, \"#f0f921\"]], \"type\": \"contour\"}], \"contourcarpet\": [{\"colorbar\": {\"outlinewidth\": 0, \"ticks\": \"\"}, \"type\": \"contourcarpet\"}], \"heatmap\": [{\"colorbar\": {\"outlinewidth\": 0, \"ticks\": \"\"}, \"colorscale\": [[0.0, \"#0d0887\"], [0.1111111111111111, \"#46039f\"], [0.2222222222222222, \"#7201a8\"], [0.3333333333333333, \"#9c179e\"], [0.4444444444444444, \"#bd3786\"], [0.5555555555555556, \"#d8576b\"], [0.6666666666666666, \"#ed7953\"], [0.7777777777777778, \"#fb9f3a\"], [0.8888888888888888, \"#fdca26\"], [1.0, \"#f0f921\"]], \"type\": \"heatmap\"}], \"heatmapgl\": [{\"colorbar\": {\"outlinewidth\": 0, \"ticks\": \"\"}, \"colorscale\": [[0.0, \"#0d0887\"], [0.1111111111111111, \"#46039f\"], [0.2222222222222222, \"#7201a8\"], [0.3333333333333333, \"#9c179e\"], [0.4444444444444444, \"#bd3786\"], [0.5555555555555556, \"#d8576b\"], [0.6666666666666666, \"#ed7953\"], [0.7777777777777778, \"#fb9f3a\"], [0.8888888888888888, \"#fdca26\"], [1.0, \"#f0f921\"]], \"type\": \"heatmapgl\"}], \"histogram\": [{\"marker\": {\"colorbar\": {\"outlinewidth\": 0, \"ticks\": \"\"}}, \"type\": \"histogram\"}], \"histogram2d\": [{\"colorbar\": {\"outlinewidth\": 0, \"ticks\": \"\"}, \"colorscale\": [[0.0, \"#0d0887\"], [0.1111111111111111, \"#46039f\"], [0.2222222222222222, \"#7201a8\"], [0.3333333333333333, \"#9c179e\"], [0.4444444444444444, \"#bd3786\"], [0.5555555555555556, \"#d8576b\"], [0.6666666666666666, \"#ed7953\"], [0.7777777777777778, \"#fb9f3a\"], [0.8888888888888888, \"#fdca26\"], [1.0, \"#f0f921\"]], \"type\": \"histogram2d\"}], \"histogram2dcontour\": [{\"colorbar\": {\"outlinewidth\": 0, \"ticks\": \"\"}, \"colorscale\": [[0.0, \"#0d0887\"], [0.1111111111111111, \"#46039f\"], [0.2222222222222222, \"#7201a8\"], [0.3333333333333333, \"#9c179e\"], [0.4444444444444444, \"#bd3786\"], [0.5555555555555556, \"#d8576b\"], [0.6666666666666666, \"#ed7953\"], [0.7777777777777778, \"#fb9f3a\"], [0.8888888888888888, \"#fdca26\"], [1.0, \"#f0f921\"]], \"type\": \"histogram2dcontour\"}], \"mesh3d\": [{\"colorbar\": {\"outlinewidth\": 0, \"ticks\": \"\"}, \"type\": \"mesh3d\"}], \"parcoords\": [{\"line\": {\"colorbar\": {\"outlinewidth\": 0, \"ticks\": \"\"}}, \"type\": \"parcoords\"}], \"scatter\": [{\"marker\": {\"colorbar\": {\"outlinewidth\": 0, \"ticks\": \"\"}}, \"type\": \"scatter\"}], \"scatter3d\": [{\"line\": {\"colorbar\": {\"outlinewidth\": 0, \"ticks\": \"\"}}, \"marker\": {\"colorbar\": {\"outlinewidth\": 0, \"ticks\": \"\"}}, \"type\": \"scatter3d\"}], \"scattercarpet\": [{\"marker\": {\"colorbar\": {\"outlinewidth\": 0, \"ticks\": \"\"}}, \"type\": \"scattercarpet\"}], \"scattergeo\": [{\"marker\": {\"colorbar\": {\"outlinewidth\": 0, \"ticks\": \"\"}}, \"type\": \"scattergeo\"}], \"scattergl\": [{\"marker\": {\"colorbar\": {\"outlinewidth\": 0, \"ticks\": \"\"}}, \"type\": \"scattergl\"}], \"scattermapbox\": [{\"marker\": {\"colorbar\": {\"outlinewidth\": 0, \"ticks\": \"\"}}, \"type\": \"scattermapbox\"}], \"scatterpolar\": [{\"marker\": {\"colorbar\": {\"outlinewidth\": 0, \"ticks\": \"\"}}, \"type\": \"scatterpolar\"}], \"scatterpolargl\": [{\"marker\": {\"colorbar\": {\"outlinewidth\": 0, \"ticks\": \"\"}}, \"type\": \"scatterpolargl\"}], \"scatterternary\": [{\"marker\": {\"colorbar\": {\"outlinewidth\": 0, \"ticks\": \"\"}}, \"type\": \"scatterternary\"}], \"surface\": [{\"colorbar\": {\"outlinewidth\": 0, \"ticks\": \"\"}, \"colorscale\": [[0.0, \"#0d0887\"], [0.1111111111111111, \"#46039f\"], [0.2222222222222222, \"#7201a8\"], [0.3333333333333333, \"#9c179e\"], [0.4444444444444444, \"#bd3786\"], [0.5555555555555556, \"#d8576b\"], [0.6666666666666666, \"#ed7953\"], [0.7777777777777778, \"#fb9f3a\"], [0.8888888888888888, \"#fdca26\"], [1.0, \"#f0f921\"]], \"type\": \"surface\"}], \"table\": [{\"cells\": {\"fill\": {\"color\": \"#EBF0F8\"}, \"line\": {\"color\": \"white\"}}, \"header\": {\"fill\": {\"color\": \"#C8D4E3\"}, \"line\": {\"color\": \"white\"}}, \"type\": \"table\"}]}, \"layout\": {\"annotationdefaults\": {\"arrowcolor\": \"#2a3f5f\", \"arrowhead\": 0, \"arrowwidth\": 1}, \"colorscale\": {\"diverging\": [[0, \"#8e0152\"], [0.1, \"#c51b7d\"], [0.2, \"#de77ae\"], [0.3, \"#f1b6da\"], [0.4, \"#fde0ef\"], [0.5, \"#f7f7f7\"], [0.6, \"#e6f5d0\"], [0.7, \"#b8e186\"], [0.8, \"#7fbc41\"], [0.9, \"#4d9221\"], [1, \"#276419\"]], \"sequential\": [[0.0, \"#0d0887\"], [0.1111111111111111, \"#46039f\"], [0.2222222222222222, \"#7201a8\"], [0.3333333333333333, \"#9c179e\"], [0.4444444444444444, \"#bd3786\"], [0.5555555555555556, \"#d8576b\"], [0.6666666666666666, \"#ed7953\"], [0.7777777777777778, \"#fb9f3a\"], [0.8888888888888888, \"#fdca26\"], [1.0, \"#f0f921\"]], \"sequentialminus\": [[0.0, \"#0d0887\"], [0.1111111111111111, \"#46039f\"], [0.2222222222222222, \"#7201a8\"], [0.3333333333333333, \"#9c179e\"], [0.4444444444444444, \"#bd3786\"], [0.5555555555555556, \"#d8576b\"], [0.6666666666666666, \"#ed7953\"], [0.7777777777777778, \"#fb9f3a\"], [0.8888888888888888, \"#fdca26\"], [1.0, \"#f0f921\"]]}, \"colorway\": [\"#636efa\", \"#EF553B\", \"#00cc96\", \"#ab63fa\", \"#FFA15A\", \"#19d3f3\", \"#FF6692\", \"#B6E880\", \"#FF97FF\", \"#FECB52\"], \"font\": {\"color\": \"#2a3f5f\"}, \"geo\": {\"bgcolor\": \"white\", \"lakecolor\": \"white\", \"landcolor\": \"#E5ECF6\", \"showlakes\": true, \"showland\": true, \"subunitcolor\": \"white\"}, \"hoverlabel\": {\"align\": \"left\"}, \"hovermode\": \"closest\", \"mapbox\": {\"style\": \"light\"}, \"paper_bgcolor\": \"white\", \"plot_bgcolor\": \"#E5ECF6\", \"polar\": {\"angularaxis\": {\"gridcolor\": \"white\", \"linecolor\": \"white\", \"ticks\": \"\"}, \"bgcolor\": \"#E5ECF6\", \"radialaxis\": {\"gridcolor\": \"white\", \"linecolor\": \"white\", \"ticks\": \"\"}}, \"scene\": {\"xaxis\": {\"backgroundcolor\": \"#E5ECF6\", \"gridcolor\": \"white\", \"gridwidth\": 2, \"linecolor\": \"white\", \"showbackground\": true, \"ticks\": \"\", \"zerolinecolor\": \"white\"}, \"yaxis\": {\"backgroundcolor\": \"#E5ECF6\", \"gridcolor\": \"white\", \"gridwidth\": 2, \"linecolor\": \"white\", \"showbackground\": true, \"ticks\": \"\", \"zerolinecolor\": \"white\"}, \"zaxis\": {\"backgroundcolor\": \"#E5ECF6\", \"gridcolor\": \"white\", \"gridwidth\": 2, \"linecolor\": \"white\", \"showbackground\": true, \"ticks\": \"\", \"zerolinecolor\": \"white\"}}, \"shapedefaults\": {\"line\": {\"color\": \"#2a3f5f\"}}, \"ternary\": {\"aaxis\": {\"gridcolor\": \"white\", \"linecolor\": \"white\", \"ticks\": \"\"}, \"baxis\": {\"gridcolor\": \"white\", \"linecolor\": \"white\", \"ticks\": \"\"}, \"bgcolor\": \"#E5ECF6\", \"caxis\": {\"gridcolor\": \"white\", \"linecolor\": \"white\", \"ticks\": \"\"}}, \"title\": {\"x\": 0.05}, \"xaxis\": {\"automargin\": true, \"gridcolor\": \"white\", \"linecolor\": \"white\", \"ticks\": \"\", \"zerolinecolor\": \"white\", \"zerolinewidth\": 2}, \"yaxis\": {\"automargin\": true, \"gridcolor\": \"white\", \"linecolor\": \"white\", \"ticks\": \"\", \"zerolinecolor\": \"white\", \"zerolinewidth\": 2}}}, \"title\": {\"text\": \"Analysing temperature statistics of Northern Central Maryland\"}},\n",
       "                        {\"responsive\": true}\n",
       "                    ).then(function(){\n",
       "                            \n",
       "var gd = document.getElementById('9197ccca-5236-4dc0-8c5d-4c20f5542fbf');\n",
       "var x = new MutationObserver(function (mutations, observer) {{\n",
       "        var display = window.getComputedStyle(gd).display;\n",
       "        if (!display || display === 'none') {{\n",
       "            console.log([gd, 'removed!']);\n",
       "            Plotly.purge(gd);\n",
       "            observer.disconnect();\n",
       "        }}\n",
       "}});\n",
       "\n",
       "// Listen for the removal of the full notebook cells\n",
       "var notebookContainer = gd.closest('#notebook-container');\n",
       "if (notebookContainer) {{\n",
       "    x.observe(notebookContainer, {childList: true});\n",
       "}}\n",
       "\n",
       "// Listen for the clearing of the current output cell\n",
       "var outputEl = gd.closest('.output');\n",
       "if (outputEl) {{\n",
       "    x.observe(outputEl, {childList: true});\n",
       "}}\n",
       "\n",
       "                        })\n",
       "                };\n",
       "                });\n",
       "            </script>\n",
       "        </div>"
      ]
     },
     "metadata": {},
     "output_type": "display_data"
    }
   ],
   "source": [
    "fig = go.Figure()\n",
    "fig.add_trace(go.Box(y=year_nc['2006'], name=\"2006\"))\n",
    "fig.add_trace(go.Box(y=year_nc['2007'], name=\"2007\"))\n",
    "fig.add_trace(go.Box(y=year_nc['2008'], name=\"2008\"))\n",
    "fig.add_trace(go.Box(y=year_nc['2009'], name=\"2009\"))\n",
    "fig.add_trace(go.Box(y=year_nc['2010'], name=\"2010\"))\n",
    "fig.add_trace(go.Box(y=year_nc['2011'], name=\"2011\"))\n",
    "fig.add_trace(go.Box(y=year_nc['2012'], name=\"2012\"))\n",
    "fig.add_trace(go.Box(y=year_nc['2013'], name=\"2013\"))\n",
    "fig.add_trace(go.Box(y=year_nc['2014'], name=\"2014\"))\n",
    "fig.add_trace(go.Box(y=year_nc['2015'], name=\"2015\"))\n",
    "fig.add_trace(go.Box(y=year_nc['2016'], name=\"2016\"))\n",
    "fig.add_trace(go.Box(y=year_nc['2017'], name=\"2017\"))\n",
    "fig.add_trace(go.Box(y=year_nc['2018'], name=\"2018\"))\n",
    "fig.update_layout(\n",
    "    title='Analysing temperature statistics of Northern Central Maryland')\n",
    "fig.show()"
   ]
  },
  {
   "cell_type": "markdown",
   "metadata": {},
   "source": [
    "Inference: We can see that the maximum temperature of Northern Central Maryland is around the same over the years but the minimum temperature has more variation."
   ]
  },
  {
   "cell_type": "markdown",
   "metadata": {},
   "source": [
    "#### Comparing the deviation in average temperature over every year and for different regions of Maryland"
   ]
  },
  {
   "cell_type": "code",
   "execution_count": 43,
   "metadata": {},
   "outputs": [],
   "source": [
    "avg = pd.DataFrame(columns = ['Year','NORTHERN CENTRAL','NORTHERN EASTERN','UPPER SOUTHERN','LOWER SOUTHERN','CENTRAL EASTERN','SOUTHERN EASTERN'])"
   ]
  },
  {
   "cell_type": "code",
   "execution_count": 44,
   "metadata": {},
   "outputs": [
    {
     "data": {
      "text/html": [
       "<div>\n",
       "<style scoped>\n",
       "    .dataframe tbody tr th:only-of-type {\n",
       "        vertical-align: middle;\n",
       "    }\n",
       "\n",
       "    .dataframe tbody tr th {\n",
       "        vertical-align: top;\n",
       "    }\n",
       "\n",
       "    .dataframe thead th {\n",
       "        text-align: right;\n",
       "    }\n",
       "</style>\n",
       "<table border=\"1\" class=\"dataframe\">\n",
       "  <thead>\n",
       "    <tr style=\"text-align: right;\">\n",
       "      <th></th>\n",
       "      <th>NORTHERN CENTRAL</th>\n",
       "      <th>NORTHERN EASTERN</th>\n",
       "      <th>UPPER SOUTHERN</th>\n",
       "      <th>LOWER SOUTHERN</th>\n",
       "      <th>CENTRAL EASTERN</th>\n",
       "      <th>SOUTHERN EASTERN</th>\n",
       "    </tr>\n",
       "    <tr>\n",
       "      <th>Year</th>\n",
       "      <th></th>\n",
       "      <th></th>\n",
       "      <th></th>\n",
       "      <th></th>\n",
       "      <th></th>\n",
       "      <th></th>\n",
       "    </tr>\n",
       "  </thead>\n",
       "  <tbody>\n",
       "    <tr>\n",
       "      <td>2005</td>\n",
       "      <td>25.6113</td>\n",
       "      <td>25.131</td>\n",
       "      <td>26.5289</td>\n",
       "      <td>25.5833</td>\n",
       "      <td>25.796</td>\n",
       "      <td>25.6113</td>\n",
       "    </tr>\n",
       "    <tr>\n",
       "      <td>2006</td>\n",
       "      <td>31.7055</td>\n",
       "      <td>31.7055</td>\n",
       "      <td>32.6806</td>\n",
       "      <td>31.4167</td>\n",
       "      <td>31.0868</td>\n",
       "      <td>31.7055</td>\n",
       "    </tr>\n",
       "    <tr>\n",
       "      <td>2007</td>\n",
       "      <td>25.718</td>\n",
       "      <td>25.1272</td>\n",
       "      <td>25.9203</td>\n",
       "      <td>25.8389</td>\n",
       "      <td>26.8845</td>\n",
       "      <td>25.718</td>\n",
       "    </tr>\n",
       "    <tr>\n",
       "      <td>2008</td>\n",
       "      <td>33.7791</td>\n",
       "      <td>33.7791</td>\n",
       "      <td>34.0632</td>\n",
       "      <td>33.5765</td>\n",
       "      <td>35.723</td>\n",
       "      <td>33.7791</td>\n",
       "    </tr>\n",
       "    <tr>\n",
       "      <td>2009</td>\n",
       "      <td>23.3389</td>\n",
       "      <td>23.2741</td>\n",
       "      <td>24.4925</td>\n",
       "      <td>23.3398</td>\n",
       "      <td>24.7676</td>\n",
       "      <td>23.3389</td>\n",
       "    </tr>\n",
       "    <tr>\n",
       "      <td>2010</td>\n",
       "      <td>36.3394</td>\n",
       "      <td>36.2698</td>\n",
       "      <td>37.7698</td>\n",
       "      <td>36.3394</td>\n",
       "      <td>37.4981</td>\n",
       "      <td>36.3394</td>\n",
       "    </tr>\n",
       "    <tr>\n",
       "      <td>2011</td>\n",
       "      <td>21.9563</td>\n",
       "      <td>20.6456</td>\n",
       "      <td>22.7385</td>\n",
       "      <td>22.2148</td>\n",
       "      <td>22.7053</td>\n",
       "      <td>22.408</td>\n",
       "    </tr>\n",
       "    <tr>\n",
       "      <td>2012</td>\n",
       "      <td>34.6213</td>\n",
       "      <td>32.774</td>\n",
       "      <td>35.1265</td>\n",
       "      <td>35.5926</td>\n",
       "      <td>35.4528</td>\n",
       "      <td>34.4053</td>\n",
       "    </tr>\n",
       "    <tr>\n",
       "      <td>2013</td>\n",
       "      <td>22.2347</td>\n",
       "      <td>20.6011</td>\n",
       "      <td>22.4167</td>\n",
       "      <td>22.9545</td>\n",
       "      <td>23.8898</td>\n",
       "      <td>22.3378</td>\n",
       "    </tr>\n",
       "    <tr>\n",
       "      <td>2014</td>\n",
       "      <td>32.3185</td>\n",
       "      <td>31.4536</td>\n",
       "      <td>32.5833</td>\n",
       "      <td>33.3917</td>\n",
       "      <td>33.6748</td>\n",
       "      <td>32.3199</td>\n",
       "    </tr>\n",
       "    <tr>\n",
       "      <td>2015</td>\n",
       "      <td>25.1073</td>\n",
       "      <td>23.9066</td>\n",
       "      <td>25.2982</td>\n",
       "      <td>25.8538</td>\n",
       "      <td>26.7933</td>\n",
       "      <td>25.5019</td>\n",
       "    </tr>\n",
       "    <tr>\n",
       "      <td>2016</td>\n",
       "      <td>31.2443</td>\n",
       "      <td>30.1571</td>\n",
       "      <td>32</td>\n",
       "      <td>32.3238</td>\n",
       "      <td>32.6867</td>\n",
       "      <td>32.0129</td>\n",
       "    </tr>\n",
       "    <tr>\n",
       "      <td>2017</td>\n",
       "      <td>29.0722</td>\n",
       "      <td>28.2167</td>\n",
       "      <td>29.6333</td>\n",
       "      <td>29.8092</td>\n",
       "      <td>31.0363</td>\n",
       "      <td>29.3673</td>\n",
       "    </tr>\n",
       "    <tr>\n",
       "      <td>2018</td>\n",
       "      <td>25.7867</td>\n",
       "      <td>18.1337</td>\n",
       "      <td>27.1667</td>\n",
       "      <td>26.75</td>\n",
       "      <td>27.0833</td>\n",
       "      <td>26.3881</td>\n",
       "    </tr>\n",
       "  </tbody>\n",
       "</table>\n",
       "</div>"
      ],
      "text/plain": [
       "     NORTHERN CENTRAL NORTHERN EASTERN UPPER SOUTHERN LOWER SOUTHERN  \\\n",
       "Year                                                                   \n",
       "2005          25.6113           25.131        26.5289        25.5833   \n",
       "2006          31.7055          31.7055        32.6806        31.4167   \n",
       "2007           25.718          25.1272        25.9203        25.8389   \n",
       "2008          33.7791          33.7791        34.0632        33.5765   \n",
       "2009          23.3389          23.2741        24.4925        23.3398   \n",
       "2010          36.3394          36.2698        37.7698        36.3394   \n",
       "2011          21.9563          20.6456        22.7385        22.2148   \n",
       "2012          34.6213           32.774        35.1265        35.5926   \n",
       "2013          22.2347          20.6011        22.4167        22.9545   \n",
       "2014          32.3185          31.4536        32.5833        33.3917   \n",
       "2015          25.1073          23.9066        25.2982        25.8538   \n",
       "2016          31.2443          30.1571             32        32.3238   \n",
       "2017          29.0722          28.2167        29.6333        29.8092   \n",
       "2018          25.7867          18.1337        27.1667          26.75   \n",
       "\n",
       "     CENTRAL EASTERN SOUTHERN EASTERN  \n",
       "Year                                   \n",
       "2005          25.796          25.6113  \n",
       "2006         31.0868          31.7055  \n",
       "2007         26.8845           25.718  \n",
       "2008          35.723          33.7791  \n",
       "2009         24.7676          23.3389  \n",
       "2010         37.4981          36.3394  \n",
       "2011         22.7053           22.408  \n",
       "2012         35.4528          34.4053  \n",
       "2013         23.8898          22.3378  \n",
       "2014         33.6748          32.3199  \n",
       "2015         26.7933          25.5019  \n",
       "2016         32.6867          32.0129  \n",
       "2017         31.0363          29.3673  \n",
       "2018         27.0833          26.3881  "
      ]
     },
     "execution_count": 44,
     "metadata": {},
     "output_type": "execute_result"
    }
   ],
   "source": [
    "setemp = mdtemp[['Month and Year','NORTHERN CENTRAL   06','NORTHERN EASTERN','UPPER SOUTHERN     04','LOWER SOUTHERN     03','CENTRAL EASTERN','SOUTHERN EASTERN']]\n",
    "setemp = setemp.reset_index()\n",
    "setemp = setemp.drop(columns='index')\n",
    "avg = pd.DataFrame(columns = ['Year','NORTHERN CENTRAL','NORTHERN EASTERN','UPPER SOUTHERN','LOWER SOUTHERN','CENTRAL EASTERN','SOUTHERN EASTERN'])\n",
    "avg['Year'] = [i for i in range(2005,2019)]\n",
    "x = 2005\n",
    "z = 0\n",
    "for i in range(-1,167,12):\n",
    "    y = setemp.loc[i+1:i+12].mean()\n",
    "    avg.iloc[z,1] = y[0]\n",
    "    avg.iloc[z,2] = y[1]\n",
    "    avg.iloc[z,3] = y[2]\n",
    "    avg.iloc[z,4] = y[3]\n",
    "    avg.iloc[z,5] = y[4]\n",
    "    avg.iloc[z,6] = y[5]\n",
    "    z = z+1\n",
    "\n",
    "avg=avg.set_index('Year')\n",
    "avg"
   ]
  },
  {
   "cell_type": "markdown",
   "metadata": {},
   "source": [
    "#### Comparing the deviation in temperature across different regions of MD in consecutive years."
   ]
  },
  {
   "cell_type": "code",
   "execution_count": 45,
   "metadata": {},
   "outputs": [
    {
     "data": {
      "text/html": [
       "<div>\n",
       "<style scoped>\n",
       "    .dataframe tbody tr th:only-of-type {\n",
       "        vertical-align: middle;\n",
       "    }\n",
       "\n",
       "    .dataframe tbody tr th {\n",
       "        vertical-align: top;\n",
       "    }\n",
       "\n",
       "    .dataframe thead th {\n",
       "        text-align: right;\n",
       "    }\n",
       "</style>\n",
       "<table border=\"1\" class=\"dataframe\">\n",
       "  <thead>\n",
       "    <tr style=\"text-align: right;\">\n",
       "      <th>Year</th>\n",
       "      <th>2006</th>\n",
       "      <th>2007</th>\n",
       "      <th>2008</th>\n",
       "      <th>2009</th>\n",
       "      <th>2010</th>\n",
       "      <th>2011</th>\n",
       "      <th>2012</th>\n",
       "      <th>2013</th>\n",
       "      <th>2014</th>\n",
       "      <th>2015</th>\n",
       "      <th>2016</th>\n",
       "      <th>2017</th>\n",
       "      <th>2018</th>\n",
       "    </tr>\n",
       "  </thead>\n",
       "  <tbody>\n",
       "    <tr>\n",
       "      <td>NORTHERN CENTRAL</td>\n",
       "      <td>6.09417</td>\n",
       "      <td>-5.98747</td>\n",
       "      <td>8.06112</td>\n",
       "      <td>-10.4402</td>\n",
       "      <td>13.0005</td>\n",
       "      <td>-14.383</td>\n",
       "      <td>12.6649</td>\n",
       "      <td>-12.3866</td>\n",
       "      <td>10.0839</td>\n",
       "      <td>-7.21122</td>\n",
       "      <td>6.13701</td>\n",
       "      <td>-2.17215</td>\n",
       "      <td>-3.28542</td>\n",
       "    </tr>\n",
       "    <tr>\n",
       "      <td>NORTHERN EASTERN</td>\n",
       "      <td>6.57451</td>\n",
       "      <td>-6.57824</td>\n",
       "      <td>8.65189</td>\n",
       "      <td>-10.505</td>\n",
       "      <td>12.9957</td>\n",
       "      <td>-15.6242</td>\n",
       "      <td>12.1285</td>\n",
       "      <td>-12.173</td>\n",
       "      <td>10.8525</td>\n",
       "      <td>-7.547</td>\n",
       "      <td>6.25058</td>\n",
       "      <td>-1.94048</td>\n",
       "      <td>-10.0829</td>\n",
       "    </tr>\n",
       "    <tr>\n",
       "      <td>UPPER SOUTHERN</td>\n",
       "      <td>6.15173</td>\n",
       "      <td>-6.76028</td>\n",
       "      <td>8.14293</td>\n",
       "      <td>-9.57076</td>\n",
       "      <td>13.2773</td>\n",
       "      <td>-15.0313</td>\n",
       "      <td>12.388</td>\n",
       "      <td>-12.7099</td>\n",
       "      <td>10.1667</td>\n",
       "      <td>-7.2851</td>\n",
       "      <td>6.70177</td>\n",
       "      <td>-2.36667</td>\n",
       "      <td>-2.46667</td>\n",
       "    </tr>\n",
       "    <tr>\n",
       "      <td>LOWER SOUTHERN</td>\n",
       "      <td>5.83333</td>\n",
       "      <td>-5.57778</td>\n",
       "      <td>7.73758</td>\n",
       "      <td>-10.2367</td>\n",
       "      <td>12.9996</td>\n",
       "      <td>-14.1246</td>\n",
       "      <td>13.3778</td>\n",
       "      <td>-12.6381</td>\n",
       "      <td>10.4372</td>\n",
       "      <td>-7.53791</td>\n",
       "      <td>6.47002</td>\n",
       "      <td>-2.51465</td>\n",
       "      <td>-3.05916</td>\n",
       "    </tr>\n",
       "    <tr>\n",
       "      <td>CENTRAL EASTERN</td>\n",
       "      <td>5.29075</td>\n",
       "      <td>-4.20227</td>\n",
       "      <td>8.83852</td>\n",
       "      <td>-10.9554</td>\n",
       "      <td>12.7305</td>\n",
       "      <td>-14.7927</td>\n",
       "      <td>12.7475</td>\n",
       "      <td>-11.5631</td>\n",
       "      <td>9.78502</td>\n",
       "      <td>-6.88149</td>\n",
       "      <td>5.89343</td>\n",
       "      <td>-1.65038</td>\n",
       "      <td>-3.95301</td>\n",
       "    </tr>\n",
       "    <tr>\n",
       "      <td>SOUTHERN EASTERN</td>\n",
       "      <td>6.09417</td>\n",
       "      <td>-5.98747</td>\n",
       "      <td>8.06112</td>\n",
       "      <td>-10.4402</td>\n",
       "      <td>13.0005</td>\n",
       "      <td>-13.9314</td>\n",
       "      <td>11.9973</td>\n",
       "      <td>-12.0674</td>\n",
       "      <td>9.98209</td>\n",
       "      <td>-6.81801</td>\n",
       "      <td>6.51098</td>\n",
       "      <td>-2.64556</td>\n",
       "      <td>-2.97928</td>\n",
       "    </tr>\n",
       "  </tbody>\n",
       "</table>\n",
       "</div>"
      ],
      "text/plain": [
       "Year                 2006     2007     2008     2009     2010     2011  \\\n",
       "NORTHERN CENTRAL  6.09417 -5.98747  8.06112 -10.4402  13.0005  -14.383   \n",
       "NORTHERN EASTERN  6.57451 -6.57824  8.65189  -10.505  12.9957 -15.6242   \n",
       "UPPER SOUTHERN    6.15173 -6.76028  8.14293 -9.57076  13.2773 -15.0313   \n",
       "LOWER SOUTHERN    5.83333 -5.57778  7.73758 -10.2367  12.9996 -14.1246   \n",
       "CENTRAL EASTERN   5.29075 -4.20227  8.83852 -10.9554  12.7305 -14.7927   \n",
       "SOUTHERN EASTERN  6.09417 -5.98747  8.06112 -10.4402  13.0005 -13.9314   \n",
       "\n",
       "Year                 2012     2013     2014     2015     2016     2017  \\\n",
       "NORTHERN CENTRAL  12.6649 -12.3866  10.0839 -7.21122  6.13701 -2.17215   \n",
       "NORTHERN EASTERN  12.1285  -12.173  10.8525   -7.547  6.25058 -1.94048   \n",
       "UPPER SOUTHERN     12.388 -12.7099  10.1667  -7.2851  6.70177 -2.36667   \n",
       "LOWER SOUTHERN    13.3778 -12.6381  10.4372 -7.53791  6.47002 -2.51465   \n",
       "CENTRAL EASTERN   12.7475 -11.5631  9.78502 -6.88149  5.89343 -1.65038   \n",
       "SOUTHERN EASTERN  11.9973 -12.0674  9.98209 -6.81801  6.51098 -2.64556   \n",
       "\n",
       "Year                 2018  \n",
       "NORTHERN CENTRAL -3.28542  \n",
       "NORTHERN EASTERN -10.0829  \n",
       "UPPER SOUTHERN   -2.46667  \n",
       "LOWER SOUTHERN   -3.05916  \n",
       "CENTRAL EASTERN  -3.95301  \n",
       "SOUTHERN EASTERN -2.97928  "
      ]
     },
     "execution_count": 45,
     "metadata": {},
     "output_type": "execute_result"
    }
   ],
   "source": [
    "avg_diff = avg.diff().T\n",
    "avg_diff = avg_diff.drop([2005], axis=1)\n",
    "avg_diff"
   ]
  },
  {
   "cell_type": "code",
   "execution_count": 46,
   "metadata": {},
   "outputs": [
    {
     "data": {
      "application/vnd.plotly.v1+json": {
       "config": {
        "plotlyServerURL": "https://plot.ly"
       },
       "data": [
        {
         "colorscale": [
          [
           0,
           "#000004"
          ],
          [
           0.1111111111111111,
           "#180f3d"
          ],
          [
           0.2222222222222222,
           "#440f76"
          ],
          [
           0.3333333333333333,
           "#721f81"
          ],
          [
           0.4444444444444444,
           "#9e2f7f"
          ],
          [
           0.5555555555555556,
           "#cd4071"
          ],
          [
           0.6666666666666666,
           "#f1605d"
          ],
          [
           0.7777777777777778,
           "#fd9668"
          ],
          [
           0.8888888888888888,
           "#feca8d"
          ],
          [
           1,
           "#fcfdbf"
          ]
         ],
         "type": "heatmap",
         "x": [
          2006,
          2007,
          2008,
          2009,
          2010,
          2011,
          2012,
          2013,
          2014,
          2015,
          2016,
          2017,
          2018
         ],
         "y": [
          "NORTHERN CENTRAL",
          "NORTHERN EASTERN",
          "UPPER SOUTHERN",
          "LOWER SOUTHERN",
          "CENTRAL EASTERN",
          "SOUTHERN EASTERN"
         ],
         "z": [
          [
           6.094165533122204,
           -5.9874708548489295,
           8.061116780871803,
           -10.440193156231292,
           13.000465667233879,
           -14.383036148590488,
           12.664918622018998,
           -12.386601997924586,
           10.083857287273723,
           -7.2112233889041555,
           6.137009871703675,
           -2.1721484367425887,
           -3.285417915561915
          ],
          [
           6.57450919475853,
           -6.57824230450187,
           8.651888230524744,
           -10.5050331320767,
           12.995729329527489,
           -15.624239784159872,
           12.128456648366349,
           -12.172951134735413,
           10.852493292148466,
           -7.54699706423844,
           6.250577200577197,
           -1.9404761904761898,
           -10.082945736434109
          ],
          [
           6.15172755476064,
           -6.760282680870912,
           8.142929682092085,
           -9.57076052284862,
           13.277339584352031,
           -15.031286996207083,
           12.388026506899056,
           -12.709876543209877,
           10.166666666666668,
           -7.2851010101010125,
           6.701767676767677,
           -2.3666666666666636,
           -2.4666666666666686
          ],
          [
           5.833333333333336,
           -5.577777777777779,
           7.7375802093887245,
           -10.236696371004882,
           12.99960728546364,
           -14.12460720334089,
           13.377819783197108,
           -12.638074888074886,
           10.437176329417706,
           -7.537906155147528,
           6.470021645021642,
           -2.5146483942414157,
           -3.059161129568107
          ],
          [
           5.2907476987618125,
           -4.202270414732265,
           8.838517048392418,
           -10.955409210275487,
           12.730472502158865,
           -14.792718045029439,
           12.747476246132472,
           -11.563056412561242,
           9.785017192491967,
           -6.881489498156164,
           5.893429196526789,
           -1.6503835115019392,
           -3.953006403318902
          ],
          [
           6.094165533122204,
           -5.9874708548489295,
           8.061116780871803,
           -10.440193156231292,
           13.000465667233879,
           -13.931399243828583,
           11.997296274927873,
           -12.067441952420761,
           9.982094830908647,
           -6.81801393707423,
           6.510977956242005,
           -2.6455580584359595,
           -2.979276849066096
          ]
         ]
        }
       ],
       "layout": {
        "template": {
         "data": {
          "bar": [
           {
            "error_x": {
             "color": "#2a3f5f"
            },
            "error_y": {
             "color": "#2a3f5f"
            },
            "marker": {
             "line": {
              "color": "#E5ECF6",
              "width": 0.5
             }
            },
            "type": "bar"
           }
          ],
          "barpolar": [
           {
            "marker": {
             "line": {
              "color": "#E5ECF6",
              "width": 0.5
             }
            },
            "type": "barpolar"
           }
          ],
          "carpet": [
           {
            "aaxis": {
             "endlinecolor": "#2a3f5f",
             "gridcolor": "white",
             "linecolor": "white",
             "minorgridcolor": "white",
             "startlinecolor": "#2a3f5f"
            },
            "baxis": {
             "endlinecolor": "#2a3f5f",
             "gridcolor": "white",
             "linecolor": "white",
             "minorgridcolor": "white",
             "startlinecolor": "#2a3f5f"
            },
            "type": "carpet"
           }
          ],
          "choropleth": [
           {
            "colorbar": {
             "outlinewidth": 0,
             "ticks": ""
            },
            "type": "choropleth"
           }
          ],
          "contour": [
           {
            "colorbar": {
             "outlinewidth": 0,
             "ticks": ""
            },
            "colorscale": [
             [
              0,
              "#0d0887"
             ],
             [
              0.1111111111111111,
              "#46039f"
             ],
             [
              0.2222222222222222,
              "#7201a8"
             ],
             [
              0.3333333333333333,
              "#9c179e"
             ],
             [
              0.4444444444444444,
              "#bd3786"
             ],
             [
              0.5555555555555556,
              "#d8576b"
             ],
             [
              0.6666666666666666,
              "#ed7953"
             ],
             [
              0.7777777777777778,
              "#fb9f3a"
             ],
             [
              0.8888888888888888,
              "#fdca26"
             ],
             [
              1,
              "#f0f921"
             ]
            ],
            "type": "contour"
           }
          ],
          "contourcarpet": [
           {
            "colorbar": {
             "outlinewidth": 0,
             "ticks": ""
            },
            "type": "contourcarpet"
           }
          ],
          "heatmap": [
           {
            "colorbar": {
             "outlinewidth": 0,
             "ticks": ""
            },
            "colorscale": [
             [
              0,
              "#0d0887"
             ],
             [
              0.1111111111111111,
              "#46039f"
             ],
             [
              0.2222222222222222,
              "#7201a8"
             ],
             [
              0.3333333333333333,
              "#9c179e"
             ],
             [
              0.4444444444444444,
              "#bd3786"
             ],
             [
              0.5555555555555556,
              "#d8576b"
             ],
             [
              0.6666666666666666,
              "#ed7953"
             ],
             [
              0.7777777777777778,
              "#fb9f3a"
             ],
             [
              0.8888888888888888,
              "#fdca26"
             ],
             [
              1,
              "#f0f921"
             ]
            ],
            "type": "heatmap"
           }
          ],
          "heatmapgl": [
           {
            "colorbar": {
             "outlinewidth": 0,
             "ticks": ""
            },
            "colorscale": [
             [
              0,
              "#0d0887"
             ],
             [
              0.1111111111111111,
              "#46039f"
             ],
             [
              0.2222222222222222,
              "#7201a8"
             ],
             [
              0.3333333333333333,
              "#9c179e"
             ],
             [
              0.4444444444444444,
              "#bd3786"
             ],
             [
              0.5555555555555556,
              "#d8576b"
             ],
             [
              0.6666666666666666,
              "#ed7953"
             ],
             [
              0.7777777777777778,
              "#fb9f3a"
             ],
             [
              0.8888888888888888,
              "#fdca26"
             ],
             [
              1,
              "#f0f921"
             ]
            ],
            "type": "heatmapgl"
           }
          ],
          "histogram": [
           {
            "marker": {
             "colorbar": {
              "outlinewidth": 0,
              "ticks": ""
             }
            },
            "type": "histogram"
           }
          ],
          "histogram2d": [
           {
            "colorbar": {
             "outlinewidth": 0,
             "ticks": ""
            },
            "colorscale": [
             [
              0,
              "#0d0887"
             ],
             [
              0.1111111111111111,
              "#46039f"
             ],
             [
              0.2222222222222222,
              "#7201a8"
             ],
             [
              0.3333333333333333,
              "#9c179e"
             ],
             [
              0.4444444444444444,
              "#bd3786"
             ],
             [
              0.5555555555555556,
              "#d8576b"
             ],
             [
              0.6666666666666666,
              "#ed7953"
             ],
             [
              0.7777777777777778,
              "#fb9f3a"
             ],
             [
              0.8888888888888888,
              "#fdca26"
             ],
             [
              1,
              "#f0f921"
             ]
            ],
            "type": "histogram2d"
           }
          ],
          "histogram2dcontour": [
           {
            "colorbar": {
             "outlinewidth": 0,
             "ticks": ""
            },
            "colorscale": [
             [
              0,
              "#0d0887"
             ],
             [
              0.1111111111111111,
              "#46039f"
             ],
             [
              0.2222222222222222,
              "#7201a8"
             ],
             [
              0.3333333333333333,
              "#9c179e"
             ],
             [
              0.4444444444444444,
              "#bd3786"
             ],
             [
              0.5555555555555556,
              "#d8576b"
             ],
             [
              0.6666666666666666,
              "#ed7953"
             ],
             [
              0.7777777777777778,
              "#fb9f3a"
             ],
             [
              0.8888888888888888,
              "#fdca26"
             ],
             [
              1,
              "#f0f921"
             ]
            ],
            "type": "histogram2dcontour"
           }
          ],
          "mesh3d": [
           {
            "colorbar": {
             "outlinewidth": 0,
             "ticks": ""
            },
            "type": "mesh3d"
           }
          ],
          "parcoords": [
           {
            "line": {
             "colorbar": {
              "outlinewidth": 0,
              "ticks": ""
             }
            },
            "type": "parcoords"
           }
          ],
          "scatter": [
           {
            "marker": {
             "colorbar": {
              "outlinewidth": 0,
              "ticks": ""
             }
            },
            "type": "scatter"
           }
          ],
          "scatter3d": [
           {
            "line": {
             "colorbar": {
              "outlinewidth": 0,
              "ticks": ""
             }
            },
            "marker": {
             "colorbar": {
              "outlinewidth": 0,
              "ticks": ""
             }
            },
            "type": "scatter3d"
           }
          ],
          "scattercarpet": [
           {
            "marker": {
             "colorbar": {
              "outlinewidth": 0,
              "ticks": ""
             }
            },
            "type": "scattercarpet"
           }
          ],
          "scattergeo": [
           {
            "marker": {
             "colorbar": {
              "outlinewidth": 0,
              "ticks": ""
             }
            },
            "type": "scattergeo"
           }
          ],
          "scattergl": [
           {
            "marker": {
             "colorbar": {
              "outlinewidth": 0,
              "ticks": ""
             }
            },
            "type": "scattergl"
           }
          ],
          "scattermapbox": [
           {
            "marker": {
             "colorbar": {
              "outlinewidth": 0,
              "ticks": ""
             }
            },
            "type": "scattermapbox"
           }
          ],
          "scatterpolar": [
           {
            "marker": {
             "colorbar": {
              "outlinewidth": 0,
              "ticks": ""
             }
            },
            "type": "scatterpolar"
           }
          ],
          "scatterpolargl": [
           {
            "marker": {
             "colorbar": {
              "outlinewidth": 0,
              "ticks": ""
             }
            },
            "type": "scatterpolargl"
           }
          ],
          "scatterternary": [
           {
            "marker": {
             "colorbar": {
              "outlinewidth": 0,
              "ticks": ""
             }
            },
            "type": "scatterternary"
           }
          ],
          "surface": [
           {
            "colorbar": {
             "outlinewidth": 0,
             "ticks": ""
            },
            "colorscale": [
             [
              0,
              "#0d0887"
             ],
             [
              0.1111111111111111,
              "#46039f"
             ],
             [
              0.2222222222222222,
              "#7201a8"
             ],
             [
              0.3333333333333333,
              "#9c179e"
             ],
             [
              0.4444444444444444,
              "#bd3786"
             ],
             [
              0.5555555555555556,
              "#d8576b"
             ],
             [
              0.6666666666666666,
              "#ed7953"
             ],
             [
              0.7777777777777778,
              "#fb9f3a"
             ],
             [
              0.8888888888888888,
              "#fdca26"
             ],
             [
              1,
              "#f0f921"
             ]
            ],
            "type": "surface"
           }
          ],
          "table": [
           {
            "cells": {
             "fill": {
              "color": "#EBF0F8"
             },
             "line": {
              "color": "white"
             }
            },
            "header": {
             "fill": {
              "color": "#C8D4E3"
             },
             "line": {
              "color": "white"
             }
            },
            "type": "table"
           }
          ]
         },
         "layout": {
          "annotationdefaults": {
           "arrowcolor": "#2a3f5f",
           "arrowhead": 0,
           "arrowwidth": 1
          },
          "colorscale": {
           "diverging": [
            [
             0,
             "#8e0152"
            ],
            [
             0.1,
             "#c51b7d"
            ],
            [
             0.2,
             "#de77ae"
            ],
            [
             0.3,
             "#f1b6da"
            ],
            [
             0.4,
             "#fde0ef"
            ],
            [
             0.5,
             "#f7f7f7"
            ],
            [
             0.6,
             "#e6f5d0"
            ],
            [
             0.7,
             "#b8e186"
            ],
            [
             0.8,
             "#7fbc41"
            ],
            [
             0.9,
             "#4d9221"
            ],
            [
             1,
             "#276419"
            ]
           ],
           "sequential": [
            [
             0,
             "#0d0887"
            ],
            [
             0.1111111111111111,
             "#46039f"
            ],
            [
             0.2222222222222222,
             "#7201a8"
            ],
            [
             0.3333333333333333,
             "#9c179e"
            ],
            [
             0.4444444444444444,
             "#bd3786"
            ],
            [
             0.5555555555555556,
             "#d8576b"
            ],
            [
             0.6666666666666666,
             "#ed7953"
            ],
            [
             0.7777777777777778,
             "#fb9f3a"
            ],
            [
             0.8888888888888888,
             "#fdca26"
            ],
            [
             1,
             "#f0f921"
            ]
           ],
           "sequentialminus": [
            [
             0,
             "#0d0887"
            ],
            [
             0.1111111111111111,
             "#46039f"
            ],
            [
             0.2222222222222222,
             "#7201a8"
            ],
            [
             0.3333333333333333,
             "#9c179e"
            ],
            [
             0.4444444444444444,
             "#bd3786"
            ],
            [
             0.5555555555555556,
             "#d8576b"
            ],
            [
             0.6666666666666666,
             "#ed7953"
            ],
            [
             0.7777777777777778,
             "#fb9f3a"
            ],
            [
             0.8888888888888888,
             "#fdca26"
            ],
            [
             1,
             "#f0f921"
            ]
           ]
          },
          "colorway": [
           "#636efa",
           "#EF553B",
           "#00cc96",
           "#ab63fa",
           "#FFA15A",
           "#19d3f3",
           "#FF6692",
           "#B6E880",
           "#FF97FF",
           "#FECB52"
          ],
          "font": {
           "color": "#2a3f5f"
          },
          "geo": {
           "bgcolor": "white",
           "lakecolor": "white",
           "landcolor": "#E5ECF6",
           "showlakes": true,
           "showland": true,
           "subunitcolor": "white"
          },
          "hoverlabel": {
           "align": "left"
          },
          "hovermode": "closest",
          "mapbox": {
           "style": "light"
          },
          "paper_bgcolor": "white",
          "plot_bgcolor": "#E5ECF6",
          "polar": {
           "angularaxis": {
            "gridcolor": "white",
            "linecolor": "white",
            "ticks": ""
           },
           "bgcolor": "#E5ECF6",
           "radialaxis": {
            "gridcolor": "white",
            "linecolor": "white",
            "ticks": ""
           }
          },
          "scene": {
           "xaxis": {
            "backgroundcolor": "#E5ECF6",
            "gridcolor": "white",
            "gridwidth": 2,
            "linecolor": "white",
            "showbackground": true,
            "ticks": "",
            "zerolinecolor": "white"
           },
           "yaxis": {
            "backgroundcolor": "#E5ECF6",
            "gridcolor": "white",
            "gridwidth": 2,
            "linecolor": "white",
            "showbackground": true,
            "ticks": "",
            "zerolinecolor": "white"
           },
           "zaxis": {
            "backgroundcolor": "#E5ECF6",
            "gridcolor": "white",
            "gridwidth": 2,
            "linecolor": "white",
            "showbackground": true,
            "ticks": "",
            "zerolinecolor": "white"
           }
          },
          "shapedefaults": {
           "line": {
            "color": "#2a3f5f"
           }
          },
          "ternary": {
           "aaxis": {
            "gridcolor": "white",
            "linecolor": "white",
            "ticks": ""
           },
           "baxis": {
            "gridcolor": "white",
            "linecolor": "white",
            "ticks": ""
           },
           "bgcolor": "#E5ECF6",
           "caxis": {
            "gridcolor": "white",
            "linecolor": "white",
            "ticks": ""
           }
          },
          "title": {
           "x": 0.05
          },
          "xaxis": {
           "automargin": true,
           "gridcolor": "white",
           "linecolor": "white",
           "ticks": "",
           "zerolinecolor": "white",
           "zerolinewidth": 2
          },
          "yaxis": {
           "automargin": true,
           "gridcolor": "white",
           "linecolor": "white",
           "ticks": "",
           "zerolinecolor": "white",
           "zerolinewidth": 2
          }
         }
        },
        "title": {
         "text": "Analysing deviation in temperature across different regions of MD"
        }
       }
      },
      "text/html": [
       "<div>\n",
       "        \n",
       "        \n",
       "            <div id=\"96d309fd-476a-408f-8e48-f9050b3f2fd2\" class=\"plotly-graph-div\" style=\"height:525px; width:100%;\"></div>\n",
       "            <script type=\"text/javascript\">\n",
       "                require([\"plotly\"], function(Plotly) {\n",
       "                    window.PLOTLYENV=window.PLOTLYENV || {};\n",
       "                    \n",
       "                if (document.getElementById(\"96d309fd-476a-408f-8e48-f9050b3f2fd2\")) {\n",
       "                    Plotly.newPlot(\n",
       "                        '96d309fd-476a-408f-8e48-f9050b3f2fd2',\n",
       "                        [{\"colorscale\": [[0.0, \"#000004\"], [0.1111111111111111, \"#180f3d\"], [0.2222222222222222, \"#440f76\"], [0.3333333333333333, \"#721f81\"], [0.4444444444444444, \"#9e2f7f\"], [0.5555555555555556, \"#cd4071\"], [0.6666666666666666, \"#f1605d\"], [0.7777777777777778, \"#fd9668\"], [0.8888888888888888, \"#feca8d\"], [1.0, \"#fcfdbf\"]], \"type\": \"heatmap\", \"x\": [2006, 2007, 2008, 2009, 2010, 2011, 2012, 2013, 2014, 2015, 2016, 2017, 2018], \"y\": [\"NORTHERN CENTRAL\", \"NORTHERN EASTERN\", \"UPPER SOUTHERN\", \"LOWER SOUTHERN\", \"CENTRAL EASTERN\", \"SOUTHERN EASTERN\"], \"z\": [[6.094165533122204, -5.9874708548489295, 8.061116780871803, -10.440193156231292, 13.000465667233879, -14.383036148590488, 12.664918622018998, -12.386601997924586, 10.083857287273723, -7.2112233889041555, 6.137009871703675, -2.1721484367425887, -3.285417915561915], [6.57450919475853, -6.57824230450187, 8.651888230524744, -10.5050331320767, 12.995729329527489, -15.624239784159872, 12.128456648366349, -12.172951134735413, 10.852493292148466, -7.54699706423844, 6.250577200577197, -1.9404761904761898, -10.082945736434109], [6.15172755476064, -6.760282680870912, 8.142929682092085, -9.57076052284862, 13.277339584352031, -15.031286996207083, 12.388026506899056, -12.709876543209877, 10.166666666666668, -7.2851010101010125, 6.701767676767677, -2.3666666666666636, -2.4666666666666686], [5.833333333333336, -5.577777777777779, 7.7375802093887245, -10.236696371004882, 12.99960728546364, -14.12460720334089, 13.377819783197108, -12.638074888074886, 10.437176329417706, -7.537906155147528, 6.470021645021642, -2.5146483942414157, -3.059161129568107], [5.2907476987618125, -4.202270414732265, 8.838517048392418, -10.955409210275487, 12.730472502158865, -14.792718045029439, 12.747476246132472, -11.563056412561242, 9.785017192491967, -6.881489498156164, 5.893429196526789, -1.6503835115019392, -3.953006403318902], [6.094165533122204, -5.9874708548489295, 8.061116780871803, -10.440193156231292, 13.000465667233879, -13.931399243828583, 11.997296274927873, -12.067441952420761, 9.982094830908647, -6.81801393707423, 6.510977956242005, -2.6455580584359595, -2.979276849066096]]}],\n",
       "                        {\"template\": {\"data\": {\"bar\": [{\"error_x\": {\"color\": \"#2a3f5f\"}, \"error_y\": {\"color\": \"#2a3f5f\"}, \"marker\": {\"line\": {\"color\": \"#E5ECF6\", \"width\": 0.5}}, \"type\": \"bar\"}], \"barpolar\": [{\"marker\": {\"line\": {\"color\": \"#E5ECF6\", \"width\": 0.5}}, \"type\": \"barpolar\"}], \"carpet\": [{\"aaxis\": {\"endlinecolor\": \"#2a3f5f\", \"gridcolor\": \"white\", \"linecolor\": \"white\", \"minorgridcolor\": \"white\", \"startlinecolor\": \"#2a3f5f\"}, \"baxis\": {\"endlinecolor\": \"#2a3f5f\", \"gridcolor\": \"white\", \"linecolor\": \"white\", \"minorgridcolor\": \"white\", \"startlinecolor\": \"#2a3f5f\"}, \"type\": \"carpet\"}], \"choropleth\": [{\"colorbar\": {\"outlinewidth\": 0, \"ticks\": \"\"}, \"type\": \"choropleth\"}], \"contour\": [{\"colorbar\": {\"outlinewidth\": 0, \"ticks\": \"\"}, \"colorscale\": [[0.0, \"#0d0887\"], [0.1111111111111111, \"#46039f\"], [0.2222222222222222, \"#7201a8\"], [0.3333333333333333, \"#9c179e\"], [0.4444444444444444, \"#bd3786\"], [0.5555555555555556, \"#d8576b\"], [0.6666666666666666, \"#ed7953\"], [0.7777777777777778, \"#fb9f3a\"], [0.8888888888888888, \"#fdca26\"], [1.0, \"#f0f921\"]], \"type\": \"contour\"}], \"contourcarpet\": [{\"colorbar\": {\"outlinewidth\": 0, \"ticks\": \"\"}, \"type\": \"contourcarpet\"}], \"heatmap\": [{\"colorbar\": {\"outlinewidth\": 0, \"ticks\": \"\"}, \"colorscale\": [[0.0, \"#0d0887\"], [0.1111111111111111, \"#46039f\"], [0.2222222222222222, \"#7201a8\"], [0.3333333333333333, \"#9c179e\"], [0.4444444444444444, \"#bd3786\"], [0.5555555555555556, \"#d8576b\"], [0.6666666666666666, \"#ed7953\"], [0.7777777777777778, \"#fb9f3a\"], [0.8888888888888888, \"#fdca26\"], [1.0, \"#f0f921\"]], \"type\": \"heatmap\"}], \"heatmapgl\": [{\"colorbar\": {\"outlinewidth\": 0, \"ticks\": \"\"}, \"colorscale\": [[0.0, \"#0d0887\"], [0.1111111111111111, \"#46039f\"], [0.2222222222222222, \"#7201a8\"], [0.3333333333333333, \"#9c179e\"], [0.4444444444444444, \"#bd3786\"], [0.5555555555555556, \"#d8576b\"], [0.6666666666666666, \"#ed7953\"], [0.7777777777777778, \"#fb9f3a\"], [0.8888888888888888, \"#fdca26\"], [1.0, \"#f0f921\"]], \"type\": \"heatmapgl\"}], \"histogram\": [{\"marker\": {\"colorbar\": {\"outlinewidth\": 0, \"ticks\": \"\"}}, \"type\": \"histogram\"}], \"histogram2d\": [{\"colorbar\": {\"outlinewidth\": 0, \"ticks\": \"\"}, \"colorscale\": [[0.0, \"#0d0887\"], [0.1111111111111111, \"#46039f\"], [0.2222222222222222, \"#7201a8\"], [0.3333333333333333, \"#9c179e\"], [0.4444444444444444, \"#bd3786\"], [0.5555555555555556, \"#d8576b\"], [0.6666666666666666, \"#ed7953\"], [0.7777777777777778, \"#fb9f3a\"], [0.8888888888888888, \"#fdca26\"], [1.0, \"#f0f921\"]], \"type\": \"histogram2d\"}], \"histogram2dcontour\": [{\"colorbar\": {\"outlinewidth\": 0, \"ticks\": \"\"}, \"colorscale\": [[0.0, \"#0d0887\"], [0.1111111111111111, \"#46039f\"], [0.2222222222222222, \"#7201a8\"], [0.3333333333333333, \"#9c179e\"], [0.4444444444444444, \"#bd3786\"], [0.5555555555555556, \"#d8576b\"], [0.6666666666666666, \"#ed7953\"], [0.7777777777777778, \"#fb9f3a\"], [0.8888888888888888, \"#fdca26\"], [1.0, \"#f0f921\"]], \"type\": \"histogram2dcontour\"}], \"mesh3d\": [{\"colorbar\": {\"outlinewidth\": 0, \"ticks\": \"\"}, \"type\": \"mesh3d\"}], \"parcoords\": [{\"line\": {\"colorbar\": {\"outlinewidth\": 0, \"ticks\": \"\"}}, \"type\": \"parcoords\"}], \"scatter\": [{\"marker\": {\"colorbar\": {\"outlinewidth\": 0, \"ticks\": \"\"}}, \"type\": \"scatter\"}], \"scatter3d\": [{\"line\": {\"colorbar\": {\"outlinewidth\": 0, \"ticks\": \"\"}}, \"marker\": {\"colorbar\": {\"outlinewidth\": 0, \"ticks\": \"\"}}, \"type\": \"scatter3d\"}], \"scattercarpet\": [{\"marker\": {\"colorbar\": {\"outlinewidth\": 0, \"ticks\": \"\"}}, \"type\": \"scattercarpet\"}], \"scattergeo\": [{\"marker\": {\"colorbar\": {\"outlinewidth\": 0, \"ticks\": \"\"}}, \"type\": \"scattergeo\"}], \"scattergl\": [{\"marker\": {\"colorbar\": {\"outlinewidth\": 0, \"ticks\": \"\"}}, \"type\": \"scattergl\"}], \"scattermapbox\": [{\"marker\": {\"colorbar\": {\"outlinewidth\": 0, \"ticks\": \"\"}}, \"type\": \"scattermapbox\"}], \"scatterpolar\": [{\"marker\": {\"colorbar\": {\"outlinewidth\": 0, \"ticks\": \"\"}}, \"type\": \"scatterpolar\"}], \"scatterpolargl\": [{\"marker\": {\"colorbar\": {\"outlinewidth\": 0, \"ticks\": \"\"}}, \"type\": \"scatterpolargl\"}], \"scatterternary\": [{\"marker\": {\"colorbar\": {\"outlinewidth\": 0, \"ticks\": \"\"}}, \"type\": \"scatterternary\"}], \"surface\": [{\"colorbar\": {\"outlinewidth\": 0, \"ticks\": \"\"}, \"colorscale\": [[0.0, \"#0d0887\"], [0.1111111111111111, \"#46039f\"], [0.2222222222222222, \"#7201a8\"], [0.3333333333333333, \"#9c179e\"], [0.4444444444444444, \"#bd3786\"], [0.5555555555555556, \"#d8576b\"], [0.6666666666666666, \"#ed7953\"], [0.7777777777777778, \"#fb9f3a\"], [0.8888888888888888, \"#fdca26\"], [1.0, \"#f0f921\"]], \"type\": \"surface\"}], \"table\": [{\"cells\": {\"fill\": {\"color\": \"#EBF0F8\"}, \"line\": {\"color\": \"white\"}}, \"header\": {\"fill\": {\"color\": \"#C8D4E3\"}, \"line\": {\"color\": \"white\"}}, \"type\": \"table\"}]}, \"layout\": {\"annotationdefaults\": {\"arrowcolor\": \"#2a3f5f\", \"arrowhead\": 0, \"arrowwidth\": 1}, \"colorscale\": {\"diverging\": [[0, \"#8e0152\"], [0.1, \"#c51b7d\"], [0.2, \"#de77ae\"], [0.3, \"#f1b6da\"], [0.4, \"#fde0ef\"], [0.5, \"#f7f7f7\"], [0.6, \"#e6f5d0\"], [0.7, \"#b8e186\"], [0.8, \"#7fbc41\"], [0.9, \"#4d9221\"], [1, \"#276419\"]], \"sequential\": [[0.0, \"#0d0887\"], [0.1111111111111111, \"#46039f\"], [0.2222222222222222, \"#7201a8\"], [0.3333333333333333, \"#9c179e\"], [0.4444444444444444, \"#bd3786\"], [0.5555555555555556, \"#d8576b\"], [0.6666666666666666, \"#ed7953\"], [0.7777777777777778, \"#fb9f3a\"], [0.8888888888888888, \"#fdca26\"], [1.0, \"#f0f921\"]], \"sequentialminus\": [[0.0, \"#0d0887\"], [0.1111111111111111, \"#46039f\"], [0.2222222222222222, \"#7201a8\"], [0.3333333333333333, \"#9c179e\"], [0.4444444444444444, \"#bd3786\"], [0.5555555555555556, \"#d8576b\"], [0.6666666666666666, \"#ed7953\"], [0.7777777777777778, \"#fb9f3a\"], [0.8888888888888888, \"#fdca26\"], [1.0, \"#f0f921\"]]}, \"colorway\": [\"#636efa\", \"#EF553B\", \"#00cc96\", \"#ab63fa\", \"#FFA15A\", \"#19d3f3\", \"#FF6692\", \"#B6E880\", \"#FF97FF\", \"#FECB52\"], \"font\": {\"color\": \"#2a3f5f\"}, \"geo\": {\"bgcolor\": \"white\", \"lakecolor\": \"white\", \"landcolor\": \"#E5ECF6\", \"showlakes\": true, \"showland\": true, \"subunitcolor\": \"white\"}, \"hoverlabel\": {\"align\": \"left\"}, \"hovermode\": \"closest\", \"mapbox\": {\"style\": \"light\"}, \"paper_bgcolor\": \"white\", \"plot_bgcolor\": \"#E5ECF6\", \"polar\": {\"angularaxis\": {\"gridcolor\": \"white\", \"linecolor\": \"white\", \"ticks\": \"\"}, \"bgcolor\": \"#E5ECF6\", \"radialaxis\": {\"gridcolor\": \"white\", \"linecolor\": \"white\", \"ticks\": \"\"}}, \"scene\": {\"xaxis\": {\"backgroundcolor\": \"#E5ECF6\", \"gridcolor\": \"white\", \"gridwidth\": 2, \"linecolor\": \"white\", \"showbackground\": true, \"ticks\": \"\", \"zerolinecolor\": \"white\"}, \"yaxis\": {\"backgroundcolor\": \"#E5ECF6\", \"gridcolor\": \"white\", \"gridwidth\": 2, \"linecolor\": \"white\", \"showbackground\": true, \"ticks\": \"\", \"zerolinecolor\": \"white\"}, \"zaxis\": {\"backgroundcolor\": \"#E5ECF6\", \"gridcolor\": \"white\", \"gridwidth\": 2, \"linecolor\": \"white\", \"showbackground\": true, \"ticks\": \"\", \"zerolinecolor\": \"white\"}}, \"shapedefaults\": {\"line\": {\"color\": \"#2a3f5f\"}}, \"ternary\": {\"aaxis\": {\"gridcolor\": \"white\", \"linecolor\": \"white\", \"ticks\": \"\"}, \"baxis\": {\"gridcolor\": \"white\", \"linecolor\": \"white\", \"ticks\": \"\"}, \"bgcolor\": \"#E5ECF6\", \"caxis\": {\"gridcolor\": \"white\", \"linecolor\": \"white\", \"ticks\": \"\"}}, \"title\": {\"x\": 0.05}, \"xaxis\": {\"automargin\": true, \"gridcolor\": \"white\", \"linecolor\": \"white\", \"ticks\": \"\", \"zerolinecolor\": \"white\", \"zerolinewidth\": 2}, \"yaxis\": {\"automargin\": true, \"gridcolor\": \"white\", \"linecolor\": \"white\", \"ticks\": \"\", \"zerolinecolor\": \"white\", \"zerolinewidth\": 2}}}, \"title\": {\"text\": \"Analysing deviation in temperature across different regions of MD\"}},\n",
       "                        {\"responsive\": true}\n",
       "                    ).then(function(){\n",
       "                            \n",
       "var gd = document.getElementById('96d309fd-476a-408f-8e48-f9050b3f2fd2');\n",
       "var x = new MutationObserver(function (mutations, observer) {{\n",
       "        var display = window.getComputedStyle(gd).display;\n",
       "        if (!display || display === 'none') {{\n",
       "            console.log([gd, 'removed!']);\n",
       "            Plotly.purge(gd);\n",
       "            observer.disconnect();\n",
       "        }}\n",
       "}});\n",
       "\n",
       "// Listen for the removal of the full notebook cells\n",
       "var notebookContainer = gd.closest('#notebook-container');\n",
       "if (notebookContainer) {{\n",
       "    x.observe(notebookContainer, {childList: true});\n",
       "}}\n",
       "\n",
       "// Listen for the clearing of the current output cell\n",
       "var outputEl = gd.closest('.output');\n",
       "if (outputEl) {{\n",
       "    x.observe(outputEl, {childList: true});\n",
       "}}\n",
       "\n",
       "                        })\n",
       "                };\n",
       "                });\n",
       "            </script>\n",
       "        </div>"
      ]
     },
     "metadata": {},
     "output_type": "display_data"
    }
   ],
   "source": [
    "fig = go.Figure(data=go.Heatmap(\n",
    "        z=avg_diff,\n",
    "        y=avg_diff.index,\n",
    "        x=avg_diff.columns,\n",
    "        colorscale='Magma'))\n",
    "\n",
    "fig.update_layout(\n",
    "    title='Analysing deviation in temperature across different regions of MD')\n",
    "\n",
    "fig.show()"
   ]
  },
  {
   "cell_type": "markdown",
   "metadata": {},
   "source": [
    "Inference: Here we see alternative rise and fall of temperature over the years from 2006, and we also note that the difference is nearly similar accross all the regions in MD"
   ]
  },
  {
   "cell_type": "markdown",
   "metadata": {},
   "source": [
    "#### Comparing temperature in different geographical regions of Maryland "
   ]
  },
  {
   "cell_type": "code",
   "execution_count": 47,
   "metadata": {},
   "outputs": [
    {
     "data": {
      "application/vnd.plotly.v1+json": {
       "config": {
        "plotlyServerURL": "https://plot.ly"
       },
       "data": [
        {
         "name": "NORTHERN CENTRAL",
         "type": "scatter",
         "x": [
          "Jan_Temp_05",
          "Feb_Temp_05",
          "Mar_Temp_05",
          "Apr_Temp_05",
          "May_Temp_05",
          "Jun_Temp_05",
          "Jul_Temp_05",
          "Aug_Temp_05",
          "Sep_Temp_05",
          "Oct_Temp_05",
          "Nov_Temp_05",
          "Dec_Temp_05",
          "Ann_Temp_05",
          "Jan_Temp_06",
          "Feb_Temp_06",
          "Mar_Temp_06",
          "Apr_Temp_06",
          "May_Temp_06",
          "Jun_Temp_06",
          "Jul_Temp_06",
          "Aug_Temp_06",
          "Sep_Temp_06",
          "Oct_Temp_06",
          "Nov_Temp_06",
          "Dec_Temp_06",
          "Ann_Temp_06",
          "Jan_Temp_07",
          "Feb_Temp_07",
          "Mar_Temp_07",
          "Apr_Temp_07",
          "May_Temp_07",
          "Jun_Temp_07",
          "Jul_Temp_07",
          "Aug_Temp_07",
          "Sep_Temp_07",
          "Oct_Temp_07",
          "Nov_Temp_07",
          "Dec_Temp_07",
          "Ann_Temp_07",
          "Jan_Temp_08",
          "Feb_Temp_08",
          "Mar_Temp_08",
          "Apr_Temp_08",
          "May_Temp_08",
          "Jun_Temp_08",
          "Jul_Temp_08",
          "Aug_Temp_08",
          "Sep_Temp_08",
          "Oct_Temp_08",
          "Nov_Temp_08",
          "Dec_Temp_08",
          "Ann_Temp_08",
          "Jan_Temp_09",
          "Feb_Temp_09",
          "Mar_Temp_09",
          "Apr_Temp_09",
          "May_Temp_09",
          "Jun_Temp_09",
          "Jul_Temp_09",
          "Aug_Temp_09",
          "Sep_Temp_09",
          "Oct_Temp_09",
          "Nov_Temp_09",
          "Dec_Temp_09",
          "Ann_Temp_09",
          "Jan_Temp_10",
          "Feb_Temp_10",
          "Mar_Temp_10",
          "Apr_Temp_10",
          "May_Temp_10",
          "Jun_Temp_10",
          "Jul_Temp_10",
          "Aug_Temp_10",
          "Sep_Temp_10",
          "Oct_Temp_10",
          "Nov_Temp_10",
          "Dec_Temp_10",
          "Ann_Temp_10",
          "Jan_Temp_11",
          "Feb_Temp_11",
          "Mar_Temp_11",
          "Apr_Temp_11",
          "May_Temp_11",
          "Jun_Temp_11",
          "Jul_Temp_11",
          "Aug_Temp_11",
          "Sep_Temp_11",
          "Oct_Temp_11",
          "Nov_Temp_11",
          "Dec_Temp_11",
          "Ann_Temp_11",
          "Jan_Temp_12",
          "Feb_Temp_12",
          "Mar_Temp_12",
          "Apr_Temp_12",
          "May_Temp_12",
          "Jun_Temp_12",
          "Jul_Temp_12",
          "Aug_Temp_12",
          "Sep_Temp_12",
          "Oct_Temp_12",
          "Nov_Temp_12",
          "Dec_Temp_12",
          "Ann_Temp_12",
          "Jan_Temp_13",
          "Feb_Temp_13",
          "Mar_Temp_13",
          "Apr_Temp_13",
          "May_Temp_13",
          "Jun_Temp_13",
          "Jul_Temp_13",
          "Aug_Temp_13",
          "Sep_Temp_13",
          "Oct_Temp_13",
          "Nov_Temp_13",
          "Dec_Temp_13",
          "Ann_Temp_13",
          "Jan_Temp_14",
          "Feb_Temp_14",
          "Mar_Temp_14",
          "Apr_Temp_14",
          "May_Temp_14",
          "Jun_Temp_14",
          "Jul_Temp_14",
          "Aug_Temp_14",
          "Sep_Temp_14",
          "Oct_Temp_14",
          "Nov_Temp_14",
          "Dec_Temp_14",
          "Ann_Temp_14",
          "Jan_Temp_15",
          "Feb_Temp_15",
          "Mar_Temp_15",
          "Apr_Temp_15",
          "May_Temp_15",
          "Jun_Temp_15",
          "Jul_Temp_15",
          "Aug_Temp_15",
          "Sep_Temp_15",
          "Oct_Temp_15",
          "Nov_Temp_15",
          "Dec_Temp_15",
          "Ann_Temp_15",
          "Jan_Temp_16",
          "Feb_Temp_16",
          "Mar_Temp_16",
          "Apr_Temp_16",
          "May_Temp_16",
          "Jun_Temp_16",
          "Jul_Temp_16",
          "Aug_Temp_16",
          "Sep_Temp_16",
          "Oct_Temp_16",
          "Nov_Temp_16",
          "Dec_Temp_16",
          "Ann_Temp_16",
          "Jan_Temp_17",
          "Feb_Temp_17",
          "Mar_Temp_17",
          "Apr_Temp_17",
          "May_Temp_17",
          "Jun_Temp_17",
          "Jul_Temp_17",
          "Aug_Temp_17",
          "Sep_Temp_17",
          "Oct_Temp_17",
          "Nov_Temp_17",
          "Dec_Temp_17",
          "Ann_Temp_17",
          "Jan_Temp_18",
          "Feb_Temp_18",
          "Mar_Temp_18",
          "Apr_Temp_18",
          "May_Temp_18",
          "Jun_Temp_18",
          "Jul_Temp_18",
          "Aug_Temp_18",
          "Sep_Temp_18",
          "Oct_Temp_18",
          "Nov_Temp_18",
          "Dec_Temp_18",
          "Ann_Temp_18"
         ],
         "y": [
          33.52,
          36.07692307692308,
          38.905660377358494,
          54.132075471698116,
          58.096153846153854,
          72.62745098039215,
          77.42857142857143,
          77.05882352941177,
          71.03921568627452,
          57.38,
          48.3125,
          33.38297872340426,
          54.846153846153854,
          40.47826086956522,
          35.53191489361703,
          43.51020408163265,
          55.875,
          61.6938775510204,
          71.1086956521739,
          77.30434782608695,
          76.6875,
          65.04081632653062,
          54.638297872340424,
          48.8936170212766,
          42.408163265306115,
          56.33333333333334,
          36.51020408163265,
          27.60416666666667,
          44.20454545454545,
          50.17391304347826,
          64.1590909090909,
          72.3695652173913,
          74.97872340425532,
          76.06666666666666,
          69.52173913043478,
          62.73913043478261,
          44.97826086956522,
          37.57446808510638,
          55.17948717948718,
          34.97826086956522,
          36.4375,
          43.76086956521739,
          54.78723404255321,
          59.422222222222224,
          73.72340425531915,
          75.74468085106382,
          72.12765957446808,
          68.36170212765957,
          54.46666666666667,
          44.085106382978715,
          38,
          54.536585365853654,
          28.217391304347824,
          36.369565217391305,
          42.32608695652174,
          53.97826086956522,
          62.85106382978724,
          70.25,
          72.93617021276594,
          75.75,
          66.10204081632654,
          54.8125,
          49.22727272727273,
          34.75,
          54.4,
          31.476190476190478,
          29.97777777777777,
          46.8139534883721,
          56.76086956521739,
          65.06666666666666,
          75.6304347826087,
          78.55555555555556,
          75.93181818181819,
          69.76086956521739,
          57.16279069767442,
          45.52272727272727,
          30.244444444444447,
          55.457142857142856,
          28.41860465116279,
          36.18181818181818,
          41.74418604651163,
          55.7,
          65.0952380952381,
          71.38461538461539,
          77.07692307692308,
          74.29268292682926,
          66.76190476190476,
          55,
          47.47619047619048,
          40.69047619047619,
          36.77777777777778,
          36,
          39.857142857142854,
          49,
          50,
          66,
          68,
          76,
          73,
          65,
          54,
          39,
          38,
          53.73684210526316,
          33,
          32,
          38,
          53,
          60,
          72,
          76,
          71,
          65,
          57,
          42,
          36,
          53,
          22,
          28,
          35,
          50,
          61,
          70,
          72,
          69,
          64,
          54,
          38,
          35,
          50,
          29.921052631578952,
          24.55,
          37.125,
          53.5897435897436,
          65.30769230769229,
          72.375,
          75.12195121951221,
          73.66666666666667,
          70.46153846153847,
          55,
          50.230769230769226,
          46.73684210526316,
          44.351351351351354,
          31.23684210526316,
          35.02564102564103,
          48.775,
          52.275,
          60.17073170731707,
          71.64102564102564,
          77.5,
          77.225,
          70.89473684210526,
          58.5,
          47.2,
          37.230769230769226,
          43.694444444444436,
          37.46153846153846,
          42.714285714285715,
          41.692307692307686,
          58.73684210526316,
          61.125,
          71.65,
          76.76315789473685,
          72.12820512820512,
          67.94871794871794,
          60.47368421052632,
          44.918918918918926,
          34.361111111111114,
          42.97142857142857,
          30.342105263157894,
          40.5897435897436,
          38.20512820512821,
          50.12820512820514,
          68,
          71.41025641025641,
          75.94736842105263,
          76.775,
          72.35897435897436,
          58.45,
          42.85,
          38.615384615384606,
          48.13888888888889
         ]
        },
        {
         "name": "NORTHERN EASTERN",
         "type": "scatter",
         "x": [
          "Jan_Temp_05",
          "Feb_Temp_05",
          "Mar_Temp_05",
          "Apr_Temp_05",
          "May_Temp_05",
          "Jun_Temp_05",
          "Jul_Temp_05",
          "Aug_Temp_05",
          "Sep_Temp_05",
          "Oct_Temp_05",
          "Nov_Temp_05",
          "Dec_Temp_05",
          "Ann_Temp_05",
          "Jan_Temp_06",
          "Feb_Temp_06",
          "Mar_Temp_06",
          "Apr_Temp_06",
          "May_Temp_06",
          "Jun_Temp_06",
          "Jul_Temp_06",
          "Aug_Temp_06",
          "Sep_Temp_06",
          "Oct_Temp_06",
          "Nov_Temp_06",
          "Dec_Temp_06",
          "Ann_Temp_06",
          "Jan_Temp_07",
          "Feb_Temp_07",
          "Mar_Temp_07",
          "Apr_Temp_07",
          "May_Temp_07",
          "Jun_Temp_07",
          "Jul_Temp_07",
          "Aug_Temp_07",
          "Sep_Temp_07",
          "Oct_Temp_07",
          "Nov_Temp_07",
          "Dec_Temp_07",
          "Ann_Temp_07",
          "Jan_Temp_08",
          "Feb_Temp_08",
          "Mar_Temp_08",
          "Apr_Temp_08",
          "May_Temp_08",
          "Jun_Temp_08",
          "Jul_Temp_08",
          "Aug_Temp_08",
          "Sep_Temp_08",
          "Oct_Temp_08",
          "Nov_Temp_08",
          "Dec_Temp_08",
          "Ann_Temp_08",
          "Jan_Temp_09",
          "Feb_Temp_09",
          "Mar_Temp_09",
          "Apr_Temp_09",
          "May_Temp_09",
          "Jun_Temp_09",
          "Jul_Temp_09",
          "Aug_Temp_09",
          "Sep_Temp_09",
          "Oct_Temp_09",
          "Nov_Temp_09",
          "Dec_Temp_09",
          "Ann_Temp_09",
          "Jan_Temp_10",
          "Feb_Temp_10",
          "Mar_Temp_10",
          "Apr_Temp_10",
          "May_Temp_10",
          "Jun_Temp_10",
          "Jul_Temp_10",
          "Aug_Temp_10",
          "Sep_Temp_10",
          "Oct_Temp_10",
          "Nov_Temp_10",
          "Dec_Temp_10",
          "Ann_Temp_10",
          "Jan_Temp_11",
          "Feb_Temp_11",
          "Mar_Temp_11",
          "Apr_Temp_11",
          "May_Temp_11",
          "Jun_Temp_11",
          "Jul_Temp_11",
          "Aug_Temp_11",
          "Sep_Temp_11",
          "Oct_Temp_11",
          "Nov_Temp_11",
          "Dec_Temp_11",
          "Ann_Temp_11",
          "Jan_Temp_12",
          "Feb_Temp_12",
          "Mar_Temp_12",
          "Apr_Temp_12",
          "May_Temp_12",
          "Jun_Temp_12",
          "Jul_Temp_12",
          "Aug_Temp_12",
          "Sep_Temp_12",
          "Oct_Temp_12",
          "Nov_Temp_12",
          "Dec_Temp_12",
          "Ann_Temp_12",
          "Jan_Temp_13",
          "Feb_Temp_13",
          "Mar_Temp_13",
          "Apr_Temp_13",
          "May_Temp_13",
          "Jun_Temp_13",
          "Jul_Temp_13",
          "Aug_Temp_13",
          "Sep_Temp_13",
          "Oct_Temp_13",
          "Nov_Temp_13",
          "Dec_Temp_13",
          "Ann_Temp_13",
          "Jan_Temp_14",
          "Feb_Temp_14",
          "Mar_Temp_14",
          "Apr_Temp_14",
          "May_Temp_14",
          "Jun_Temp_14",
          "Jul_Temp_14",
          "Aug_Temp_14",
          "Sep_Temp_14",
          "Oct_Temp_14",
          "Nov_Temp_14",
          "Dec_Temp_14",
          "Ann_Temp_14",
          "Jan_Temp_15",
          "Feb_Temp_15",
          "Mar_Temp_15",
          "Apr_Temp_15",
          "May_Temp_15",
          "Jun_Temp_15",
          "Jul_Temp_15",
          "Aug_Temp_15",
          "Sep_Temp_15",
          "Oct_Temp_15",
          "Nov_Temp_15",
          "Dec_Temp_15",
          "Ann_Temp_15",
          "Jan_Temp_16",
          "Feb_Temp_16",
          "Mar_Temp_16",
          "Apr_Temp_16",
          "May_Temp_16",
          "Jun_Temp_16",
          "Jul_Temp_16",
          "Aug_Temp_16",
          "Sep_Temp_16",
          "Oct_Temp_16",
          "Nov_Temp_16",
          "Dec_Temp_16",
          "Ann_Temp_16",
          "Jan_Temp_17",
          "Feb_Temp_17",
          "Mar_Temp_17",
          "Apr_Temp_17",
          "May_Temp_17",
          "Jun_Temp_17",
          "Jul_Temp_17",
          "Aug_Temp_17",
          "Sep_Temp_17",
          "Oct_Temp_17",
          "Nov_Temp_17",
          "Dec_Temp_17",
          "Ann_Temp_17",
          "Jan_Temp_18",
          "Feb_Temp_18",
          "Mar_Temp_18",
          "Apr_Temp_18",
          "May_Temp_18",
          "Jun_Temp_18",
          "Jul_Temp_18",
          "Aug_Temp_18",
          "Sep_Temp_18",
          "Oct_Temp_18",
          "Nov_Temp_18",
          "Dec_Temp_18",
          "Ann_Temp_18"
         ],
         "y": [
          32,
          34,
          38,
          55,
          58,
          71,
          77.42857142857143,
          77.05882352941177,
          71.03921568627452,
          57.38,
          48.3125,
          33.38297872340426,
          54.846153846153854,
          39,
          33,
          42,
          55,
          61,
          71.1086956521739,
          77.30434782608695,
          76.6875,
          65.04081632653062,
          54.638297872340424,
          48.8936170212766,
          42.408163265306115,
          56.33333333333334,
          36.51020408163265,
          27,
          44.20454545454545,
          50,
          64,
          73,
          75,
          76,
          69,
          62,
          43,
          36,
          55.17948717948718,
          32,
          31,
          40,
          52,
          55,
          70,
          72,
          68,
          65,
          50,
          41,
          34,
          51,
          25,
          35,
          42,
          53,
          61,
          68,
          70,
          73,
          63,
          53,
          47,
          32,
          52,
          30,
          28,
          46,
          55,
          64,
          72,
          76,
          74,
          68,
          56,
          44,
          29,
          54,
          25,
          31,
          40,
          52,
          63,
          3,
          0,
          72,
          66,
          52,
          46,
          37,
          4,
          36,
          39,
          50,
          51,
          66,
          70,
          78,
          75,
          67.04761904761905,
          56.365853658536594,
          41.604651162790695,
          41.15,
          53.73684210526316,
          34,
          32,
          38,
          53,
          61,
          71,
          76,
          71,
          64,
          56,
          42,
          35,
          53,
          23,
          30,
          36,
          53,
          63,
          72,
          74,
          71,
          66,
          56,
          40,
          38,
          52,
          28,
          24,
          39,
          54,
          66,
          72,
          75,
          73,
          69,
          54,
          49,
          45,
          54,
          26,
          31,
          46,
          49,
          57,
          70,
          75,
          75,
          70,
          55,
          43,
          34,
          1,
          37.46153846153846,
          42.714285714285715,
          41.692307692307686,
          58.73684210526316,
          61.125,
          71.65,
          77,
          72,
          67,
          60,
          43,
          33,
          42.97142857142857,
          27,
          38,
          36,
          48,
          68,
          70,
          75,
          75,
          71,
          57,
          40,
          35,
          53
         ]
        },
        {
         "name": "Central Eastern",
         "type": "scatter",
         "x": [
          "Jan_Temp_05",
          "Feb_Temp_05",
          "Mar_Temp_05",
          "Apr_Temp_05",
          "May_Temp_05",
          "Jun_Temp_05",
          "Jul_Temp_05",
          "Aug_Temp_05",
          "Sep_Temp_05",
          "Oct_Temp_05",
          "Nov_Temp_05",
          "Dec_Temp_05",
          "Ann_Temp_05",
          "Jan_Temp_06",
          "Feb_Temp_06",
          "Mar_Temp_06",
          "Apr_Temp_06",
          "May_Temp_06",
          "Jun_Temp_06",
          "Jul_Temp_06",
          "Aug_Temp_06",
          "Sep_Temp_06",
          "Oct_Temp_06",
          "Nov_Temp_06",
          "Dec_Temp_06",
          "Ann_Temp_06",
          "Jan_Temp_07",
          "Feb_Temp_07",
          "Mar_Temp_07",
          "Apr_Temp_07",
          "May_Temp_07",
          "Jun_Temp_07",
          "Jul_Temp_07",
          "Aug_Temp_07",
          "Sep_Temp_07",
          "Oct_Temp_07",
          "Nov_Temp_07",
          "Dec_Temp_07",
          "Ann_Temp_07",
          "Jan_Temp_08",
          "Feb_Temp_08",
          "Mar_Temp_08",
          "Apr_Temp_08",
          "May_Temp_08",
          "Jun_Temp_08",
          "Jul_Temp_08",
          "Aug_Temp_08",
          "Sep_Temp_08",
          "Oct_Temp_08",
          "Nov_Temp_08",
          "Dec_Temp_08",
          "Ann_Temp_08",
          "Jan_Temp_09",
          "Feb_Temp_09",
          "Mar_Temp_09",
          "Apr_Temp_09",
          "May_Temp_09",
          "Jun_Temp_09",
          "Jul_Temp_09",
          "Aug_Temp_09",
          "Sep_Temp_09",
          "Oct_Temp_09",
          "Nov_Temp_09",
          "Dec_Temp_09",
          "Ann_Temp_09",
          "Jan_Temp_10",
          "Feb_Temp_10",
          "Mar_Temp_10",
          "Apr_Temp_10",
          "May_Temp_10",
          "Jun_Temp_10",
          "Jul_Temp_10",
          "Aug_Temp_10",
          "Sep_Temp_10",
          "Oct_Temp_10",
          "Nov_Temp_10",
          "Dec_Temp_10",
          "Ann_Temp_10",
          "Jan_Temp_11",
          "Feb_Temp_11",
          "Mar_Temp_11",
          "Apr_Temp_11",
          "May_Temp_11",
          "Jun_Temp_11",
          "Jul_Temp_11",
          "Aug_Temp_11",
          "Sep_Temp_11",
          "Oct_Temp_11",
          "Nov_Temp_11",
          "Dec_Temp_11",
          "Ann_Temp_11",
          "Jan_Temp_12",
          "Feb_Temp_12",
          "Mar_Temp_12",
          "Apr_Temp_12",
          "May_Temp_12",
          "Jun_Temp_12",
          "Jul_Temp_12",
          "Aug_Temp_12",
          "Sep_Temp_12",
          "Oct_Temp_12",
          "Nov_Temp_12",
          "Dec_Temp_12",
          "Ann_Temp_12",
          "Jan_Temp_13",
          "Feb_Temp_13",
          "Mar_Temp_13",
          "Apr_Temp_13",
          "May_Temp_13",
          "Jun_Temp_13",
          "Jul_Temp_13",
          "Aug_Temp_13",
          "Sep_Temp_13",
          "Oct_Temp_13",
          "Nov_Temp_13",
          "Dec_Temp_13",
          "Ann_Temp_13",
          "Jan_Temp_14",
          "Feb_Temp_14",
          "Mar_Temp_14",
          "Apr_Temp_14",
          "May_Temp_14",
          "Jun_Temp_14",
          "Jul_Temp_14",
          "Aug_Temp_14",
          "Sep_Temp_14",
          "Oct_Temp_14",
          "Nov_Temp_14",
          "Dec_Temp_14",
          "Ann_Temp_14",
          "Jan_Temp_15",
          "Feb_Temp_15",
          "Mar_Temp_15",
          "Apr_Temp_15",
          "May_Temp_15",
          "Jun_Temp_15",
          "Jul_Temp_15",
          "Aug_Temp_15",
          "Sep_Temp_15",
          "Oct_Temp_15",
          "Nov_Temp_15",
          "Dec_Temp_15",
          "Ann_Temp_15",
          "Jan_Temp_16",
          "Feb_Temp_16",
          "Mar_Temp_16",
          "Apr_Temp_16",
          "May_Temp_16",
          "Jun_Temp_16",
          "Jul_Temp_16",
          "Aug_Temp_16",
          "Sep_Temp_16",
          "Oct_Temp_16",
          "Nov_Temp_16",
          "Dec_Temp_16",
          "Ann_Temp_16",
          "Jan_Temp_17",
          "Feb_Temp_17",
          "Mar_Temp_17",
          "Apr_Temp_17",
          "May_Temp_17",
          "Jun_Temp_17",
          "Jul_Temp_17",
          "Aug_Temp_17",
          "Sep_Temp_17",
          "Oct_Temp_17",
          "Nov_Temp_17",
          "Dec_Temp_17",
          "Ann_Temp_17",
          "Jan_Temp_18",
          "Feb_Temp_18",
          "Mar_Temp_18",
          "Apr_Temp_18",
          "May_Temp_18",
          "Jun_Temp_18",
          "Jul_Temp_18",
          "Aug_Temp_18",
          "Sep_Temp_18",
          "Oct_Temp_18",
          "Nov_Temp_18",
          "Dec_Temp_18",
          "Ann_Temp_18"
         ],
         "y": [
          34,
          36,
          40,
          54,
          57,
          71,
          77,
          76,
          69,
          56,
          48,
          34,
          54,
          43,
          39,
          47,
          58,
          65,
          74,
          81,
          81,
          70,
          59,
          52,
          47,
          60,
          41,
          32,
          44.20454545454545,
          50.17391304347826,
          66,
          75,
          79,
          79,
          72,
          62.73913043478261,
          44.97826086956522,
          42,
          55.17948717948718,
          34.97826086956522,
          41,
          43.76086956521739,
          55,
          59.422222222222224,
          73.72340425531915,
          78,
          76,
          72,
          59,
          48,
          42,
          54.536585365853654,
          33,
          39,
          44,
          56,
          65,
          73,
          77,
          80,
          70,
          59,
          52,
          39,
          57,
          34,
          33,
          48,
          59,
          68,
          79,
          82,
          79,
          75,
          61,
          50,
          33,
          59,
          32,
          39,
          45,
          58,
          66,
          75,
          80,
          76,
          70,
          58,
          51,
          44,
          58,
          39,
          42,
          53,
          55,
          69,
          72,
          81,
          76,
          69,
          58,
          44,
          43,
          58,
          38,
          36,
          40,
          55,
          64,
          74,
          78,
          73,
          67,
          59,
          45,
          41,
          56,
          30,
          34,
          38,
          54,
          65,
          73,
          76,
          73,
          70,
          61,
          42,
          41,
          55,
          32,
          28,
          40,
          55,
          68,
          74,
          77,
          75,
          72,
          57,
          51,
          50,
          56,
          32,
          38,
          51,
          52,
          61,
          71,
          76,
          76,
          70,
          58,
          47,
          38,
          56,
          38,
          45,
          43,
          60,
          61,
          71,
          76,
          72,
          69,
          59,
          45,
          36,
          56,
          34,
          44,
          42,
          54,
          70,
          76,
          81,
          81,
          78,
          64,
          47,
          38.615384615384606,
          61
         ]
        },
        {
         "name": "UPPER SOUTHERN",
         "type": "scatter",
         "x": [
          "Jan_Temp_05",
          "Feb_Temp_05",
          "Mar_Temp_05",
          "Apr_Temp_05",
          "May_Temp_05",
          "Jun_Temp_05",
          "Jul_Temp_05",
          "Aug_Temp_05",
          "Sep_Temp_05",
          "Oct_Temp_05",
          "Nov_Temp_05",
          "Dec_Temp_05",
          "Ann_Temp_05",
          "Jan_Temp_06",
          "Feb_Temp_06",
          "Mar_Temp_06",
          "Apr_Temp_06",
          "May_Temp_06",
          "Jun_Temp_06",
          "Jul_Temp_06",
          "Aug_Temp_06",
          "Sep_Temp_06",
          "Oct_Temp_06",
          "Nov_Temp_06",
          "Dec_Temp_06",
          "Ann_Temp_06",
          "Jan_Temp_07",
          "Feb_Temp_07",
          "Mar_Temp_07",
          "Apr_Temp_07",
          "May_Temp_07",
          "Jun_Temp_07",
          "Jul_Temp_07",
          "Aug_Temp_07",
          "Sep_Temp_07",
          "Oct_Temp_07",
          "Nov_Temp_07",
          "Dec_Temp_07",
          "Ann_Temp_07",
          "Jan_Temp_08",
          "Feb_Temp_08",
          "Mar_Temp_08",
          "Apr_Temp_08",
          "May_Temp_08",
          "Jun_Temp_08",
          "Jul_Temp_08",
          "Aug_Temp_08",
          "Sep_Temp_08",
          "Oct_Temp_08",
          "Nov_Temp_08",
          "Dec_Temp_08",
          "Ann_Temp_08",
          "Jan_Temp_09",
          "Feb_Temp_09",
          "Mar_Temp_09",
          "Apr_Temp_09",
          "May_Temp_09",
          "Jun_Temp_09",
          "Jul_Temp_09",
          "Aug_Temp_09",
          "Sep_Temp_09",
          "Oct_Temp_09",
          "Nov_Temp_09",
          "Dec_Temp_09",
          "Ann_Temp_09",
          "Jan_Temp_10",
          "Feb_Temp_10",
          "Mar_Temp_10",
          "Apr_Temp_10",
          "May_Temp_10",
          "Jun_Temp_10",
          "Jul_Temp_10",
          "Aug_Temp_10",
          "Sep_Temp_10",
          "Oct_Temp_10",
          "Nov_Temp_10",
          "Dec_Temp_10",
          "Ann_Temp_10",
          "Jan_Temp_11",
          "Feb_Temp_11",
          "Mar_Temp_11",
          "Apr_Temp_11",
          "May_Temp_11",
          "Jun_Temp_11",
          "Jul_Temp_11",
          "Aug_Temp_11",
          "Sep_Temp_11",
          "Oct_Temp_11",
          "Nov_Temp_11",
          "Dec_Temp_11",
          "Ann_Temp_11",
          "Jan_Temp_12",
          "Feb_Temp_12",
          "Mar_Temp_12",
          "Apr_Temp_12",
          "May_Temp_12",
          "Jun_Temp_12",
          "Jul_Temp_12",
          "Aug_Temp_12",
          "Sep_Temp_12",
          "Oct_Temp_12",
          "Nov_Temp_12",
          "Dec_Temp_12",
          "Ann_Temp_12",
          "Jan_Temp_13",
          "Feb_Temp_13",
          "Mar_Temp_13",
          "Apr_Temp_13",
          "May_Temp_13",
          "Jun_Temp_13",
          "Jul_Temp_13",
          "Aug_Temp_13",
          "Sep_Temp_13",
          "Oct_Temp_13",
          "Nov_Temp_13",
          "Dec_Temp_13",
          "Ann_Temp_13",
          "Jan_Temp_14",
          "Feb_Temp_14",
          "Mar_Temp_14",
          "Apr_Temp_14",
          "May_Temp_14",
          "Jun_Temp_14",
          "Jul_Temp_14",
          "Aug_Temp_14",
          "Sep_Temp_14",
          "Oct_Temp_14",
          "Nov_Temp_14",
          "Dec_Temp_14",
          "Ann_Temp_14",
          "Jan_Temp_15",
          "Feb_Temp_15",
          "Mar_Temp_15",
          "Apr_Temp_15",
          "May_Temp_15",
          "Jun_Temp_15",
          "Jul_Temp_15",
          "Aug_Temp_15",
          "Sep_Temp_15",
          "Oct_Temp_15",
          "Nov_Temp_15",
          "Dec_Temp_15",
          "Ann_Temp_15",
          "Jan_Temp_16",
          "Feb_Temp_16",
          "Mar_Temp_16",
          "Apr_Temp_16",
          "May_Temp_16",
          "Jun_Temp_16",
          "Jul_Temp_16",
          "Aug_Temp_16",
          "Sep_Temp_16",
          "Oct_Temp_16",
          "Nov_Temp_16",
          "Dec_Temp_16",
          "Ann_Temp_16",
          "Jan_Temp_17",
          "Feb_Temp_17",
          "Mar_Temp_17",
          "Apr_Temp_17",
          "May_Temp_17",
          "Jun_Temp_17",
          "Jul_Temp_17",
          "Aug_Temp_17",
          "Sep_Temp_17",
          "Oct_Temp_17",
          "Nov_Temp_17",
          "Dec_Temp_17",
          "Ann_Temp_17",
          "Jan_Temp_18",
          "Feb_Temp_18",
          "Mar_Temp_18",
          "Apr_Temp_18",
          "May_Temp_18",
          "Jun_Temp_18",
          "Jul_Temp_18",
          "Aug_Temp_18",
          "Sep_Temp_18",
          "Oct_Temp_18",
          "Nov_Temp_18",
          "Dec_Temp_18",
          "Ann_Temp_18"
         ],
         "y": [
          35,
          39,
          42,
          56,
          61,
          72.62745098039215,
          80,
          77.05882352941177,
          74,
          59,
          50,
          35,
          54.846153846153854,
          41,
          36,
          44,
          57,
          62,
          71.1086956521739,
          78,
          78,
          66,
          55,
          49,
          43,
          56.33333333333334,
          41,
          30,
          47,
          53,
          67,
          76,
          78,
          79,
          72,
          65,
          48,
          40,
          58,
          36,
          37,
          44,
          55,
          61,
          75,
          77,
          73,
          69,
          55,
          45,
          38,
          55,
          29,
          38,
          42,
          55,
          64,
          72,
          74,
          77,
          67,
          55,
          49,
          35,
          55,
          33,
          31,
          47,
          58,
          66,
          78,
          79,
          77,
          71,
          58,
          46,
          32,
          56,
          31,
          38,
          45,
          58,
          68,
          76,
          82,
          77,
          71,
          57,
          51,
          42,
          58,
          38,
          42,
          54,
          56,
          69,
          74,
          81,
          78,
          70,
          58,
          44,
          43,
          59,
          37,
          36,
          41,
          56,
          64,
          74,
          79,
          74,
          68,
          60,
          44,
          40,
          56,
          28,
          34,
          39,
          54,
          65,
          74,
          76,
          73,
          70,
          59,
          44,
          40,
          55,
          31,
          26,
          40,
          55,
          69,
          75,
          77,
          76,
          73,
          56,
          51,
          49,
          57,
          34,
          37,
          49,
          53,
          61,
          74,
          80,
          80,
          73,
          61,
          50,
          39,
          58,
          38,
          43,
          43,
          59,
          64,
          75,
          80,
          76,
          72,
          64,
          48,
          37,
          58,
          31,
          41,
          41,
          52,
          69,
          74,
          80,
          81,
          75,
          61,
          45,
          40,
          57
         ]
        },
        {
         "name": "SOUTHERN EASTERN",
         "type": "scatter",
         "x": [
          "Jan_Temp_05",
          "Feb_Temp_05",
          "Mar_Temp_05",
          "Apr_Temp_05",
          "May_Temp_05",
          "Jun_Temp_05",
          "Jul_Temp_05",
          "Aug_Temp_05",
          "Sep_Temp_05",
          "Oct_Temp_05",
          "Nov_Temp_05",
          "Dec_Temp_05",
          "Ann_Temp_05",
          "Jan_Temp_06",
          "Feb_Temp_06",
          "Mar_Temp_06",
          "Apr_Temp_06",
          "May_Temp_06",
          "Jun_Temp_06",
          "Jul_Temp_06",
          "Aug_Temp_06",
          "Sep_Temp_06",
          "Oct_Temp_06",
          "Nov_Temp_06",
          "Dec_Temp_06",
          "Ann_Temp_06",
          "Jan_Temp_07",
          "Feb_Temp_07",
          "Mar_Temp_07",
          "Apr_Temp_07",
          "May_Temp_07",
          "Jun_Temp_07",
          "Jul_Temp_07",
          "Aug_Temp_07",
          "Sep_Temp_07",
          "Oct_Temp_07",
          "Nov_Temp_07",
          "Dec_Temp_07",
          "Ann_Temp_07",
          "Jan_Temp_08",
          "Feb_Temp_08",
          "Mar_Temp_08",
          "Apr_Temp_08",
          "May_Temp_08",
          "Jun_Temp_08",
          "Jul_Temp_08",
          "Aug_Temp_08",
          "Sep_Temp_08",
          "Oct_Temp_08",
          "Nov_Temp_08",
          "Dec_Temp_08",
          "Ann_Temp_08",
          "Jan_Temp_09",
          "Feb_Temp_09",
          "Mar_Temp_09",
          "Apr_Temp_09",
          "May_Temp_09",
          "Jun_Temp_09",
          "Jul_Temp_09",
          "Aug_Temp_09",
          "Sep_Temp_09",
          "Oct_Temp_09",
          "Nov_Temp_09",
          "Dec_Temp_09",
          "Ann_Temp_09",
          "Jan_Temp_10",
          "Feb_Temp_10",
          "Mar_Temp_10",
          "Apr_Temp_10",
          "May_Temp_10",
          "Jun_Temp_10",
          "Jul_Temp_10",
          "Aug_Temp_10",
          "Sep_Temp_10",
          "Oct_Temp_10",
          "Nov_Temp_10",
          "Dec_Temp_10",
          "Ann_Temp_10",
          "Jan_Temp_11",
          "Feb_Temp_11",
          "Mar_Temp_11",
          "Apr_Temp_11",
          "May_Temp_11",
          "Jun_Temp_11",
          "Jul_Temp_11",
          "Aug_Temp_11",
          "Sep_Temp_11",
          "Oct_Temp_11",
          "Nov_Temp_11",
          "Dec_Temp_11",
          "Ann_Temp_11",
          "Jan_Temp_12",
          "Feb_Temp_12",
          "Mar_Temp_12",
          "Apr_Temp_12",
          "May_Temp_12",
          "Jun_Temp_12",
          "Jul_Temp_12",
          "Aug_Temp_12",
          "Sep_Temp_12",
          "Oct_Temp_12",
          "Nov_Temp_12",
          "Dec_Temp_12",
          "Ann_Temp_12",
          "Jan_Temp_13",
          "Feb_Temp_13",
          "Mar_Temp_13",
          "Apr_Temp_13",
          "May_Temp_13",
          "Jun_Temp_13",
          "Jul_Temp_13",
          "Aug_Temp_13",
          "Sep_Temp_13",
          "Oct_Temp_13",
          "Nov_Temp_13",
          "Dec_Temp_13",
          "Ann_Temp_13",
          "Jan_Temp_14",
          "Feb_Temp_14",
          "Mar_Temp_14",
          "Apr_Temp_14",
          "May_Temp_14",
          "Jun_Temp_14",
          "Jul_Temp_14",
          "Aug_Temp_14",
          "Sep_Temp_14",
          "Oct_Temp_14",
          "Nov_Temp_14",
          "Dec_Temp_14",
          "Ann_Temp_14",
          "Jan_Temp_15",
          "Feb_Temp_15",
          "Mar_Temp_15",
          "Apr_Temp_15",
          "May_Temp_15",
          "Jun_Temp_15",
          "Jul_Temp_15",
          "Aug_Temp_15",
          "Sep_Temp_15",
          "Oct_Temp_15",
          "Nov_Temp_15",
          "Dec_Temp_15",
          "Ann_Temp_15",
          "Jan_Temp_16",
          "Feb_Temp_16",
          "Mar_Temp_16",
          "Apr_Temp_16",
          "May_Temp_16",
          "Jun_Temp_16",
          "Jul_Temp_16",
          "Aug_Temp_16",
          "Sep_Temp_16",
          "Oct_Temp_16",
          "Nov_Temp_16",
          "Dec_Temp_16",
          "Ann_Temp_16",
          "Jan_Temp_17",
          "Feb_Temp_17",
          "Mar_Temp_17",
          "Apr_Temp_17",
          "May_Temp_17",
          "Jun_Temp_17",
          "Jul_Temp_17",
          "Aug_Temp_17",
          "Sep_Temp_17",
          "Oct_Temp_17",
          "Nov_Temp_17",
          "Dec_Temp_17",
          "Ann_Temp_17",
          "Jan_Temp_18",
          "Feb_Temp_18",
          "Mar_Temp_18",
          "Apr_Temp_18",
          "May_Temp_18",
          "Jun_Temp_18",
          "Jul_Temp_18",
          "Aug_Temp_18",
          "Sep_Temp_18",
          "Oct_Temp_18",
          "Nov_Temp_18",
          "Dec_Temp_18",
          "Ann_Temp_18"
         ],
         "y": [
          33.52,
          36.07692307692308,
          38.905660377358494,
          54.132075471698116,
          58.096153846153854,
          72.62745098039215,
          77.42857142857143,
          77.05882352941177,
          71.03921568627452,
          57.38,
          48.3125,
          33.38297872340426,
          54.846153846153854,
          40.47826086956522,
          35.53191489361703,
          43.51020408163265,
          55.875,
          61.6938775510204,
          71.1086956521739,
          77.30434782608695,
          76.6875,
          65.04081632653062,
          54.638297872340424,
          48.8936170212766,
          42.408163265306115,
          56.33333333333334,
          36.51020408163265,
          27.60416666666667,
          44.20454545454545,
          50.17391304347826,
          64.1590909090909,
          72.3695652173913,
          74.97872340425532,
          76.06666666666666,
          69.52173913043478,
          62.73913043478261,
          44.97826086956522,
          37.57446808510638,
          55.17948717948718,
          34.97826086956522,
          41,
          43.76086956521739,
          54.78723404255321,
          59.422222222222224,
          73,
          75.74468085106382,
          72.12765957446808,
          68.36170212765957,
          54.46666666666667,
          44.085106382978715,
          38,
          54.536585365853654,
          28.217391304347824,
          36.369565217391305,
          42,
          54,
          62.85106382978724,
          70,
          73,
          75.75,
          68,
          58,
          49.22727272727273,
          34.75,
          54.4,
          31.476190476190478,
          32,
          46.8139534883721,
          58,
          65.06666666666666,
          77,
          80,
          75.93181818181819,
          72,
          57.16279069767442,
          45.52272727272727,
          30.244444444444447,
          55.457142857142856,
          28.41860465116279,
          41,
          41.74418604651163,
          55.7,
          67,
          71.38461538461539,
          77.07692307692308,
          76,
          72,
          55,
          47.47619047619048,
          40.69047619047619,
          36.77777777777778,
          36,
          44,
          51.72727272727273,
          55,
          0,
          73,
          82,
          76,
          67.04761904761905,
          56.365853658536594,
          41.604651162790695,
          41.15,
          53.73684210526316,
          41,
          41,
          38.725,
          53.82051282051282,
          61.975,
          71.975,
          76.94871794871794,
          76,
          65.58974358974359,
          57.33333333333334,
          42.7,
          37.7,
          44.74358974358975,
          34,
          38,
          36.794871794871796,
          55,
          69,
          71.94871794871794,
          78,
          71.15789473684211,
          72,
          64,
          42.054054054054056,
          39,
          47.611111111111114,
          29.921052631578952,
          29,
          37.125,
          53.5897435897436,
          65.30769230769229,
          74,
          77,
          73.66666666666667,
          70,
          55,
          52,
          46.73684210526316,
          44.351351351351354,
          31.23684210526316,
          35.02564102564103,
          54,
          56,
          62,
          72,
          77.5,
          78,
          70.89473684210526,
          58.5,
          50,
          40,
          43.694444444444436,
          42,
          45,
          46,
          58.73684210526316,
          64,
          72,
          76.76315789473685,
          74,
          67.94871794871794,
          61,
          44.918918918918926,
          34.361111111111114,
          42.97142857142857,
          36,
          47,
          38.20512820512821,
          54,
          71,
          74,
          78,
          79,
          76,
          62,
          47,
          43,
          61
         ]
        }
       ],
       "layout": {
        "template": {
         "data": {
          "bar": [
           {
            "error_x": {
             "color": "#2a3f5f"
            },
            "error_y": {
             "color": "#2a3f5f"
            },
            "marker": {
             "line": {
              "color": "#E5ECF6",
              "width": 0.5
             }
            },
            "type": "bar"
           }
          ],
          "barpolar": [
           {
            "marker": {
             "line": {
              "color": "#E5ECF6",
              "width": 0.5
             }
            },
            "type": "barpolar"
           }
          ],
          "carpet": [
           {
            "aaxis": {
             "endlinecolor": "#2a3f5f",
             "gridcolor": "white",
             "linecolor": "white",
             "minorgridcolor": "white",
             "startlinecolor": "#2a3f5f"
            },
            "baxis": {
             "endlinecolor": "#2a3f5f",
             "gridcolor": "white",
             "linecolor": "white",
             "minorgridcolor": "white",
             "startlinecolor": "#2a3f5f"
            },
            "type": "carpet"
           }
          ],
          "choropleth": [
           {
            "colorbar": {
             "outlinewidth": 0,
             "ticks": ""
            },
            "type": "choropleth"
           }
          ],
          "contour": [
           {
            "colorbar": {
             "outlinewidth": 0,
             "ticks": ""
            },
            "colorscale": [
             [
              0,
              "#0d0887"
             ],
             [
              0.1111111111111111,
              "#46039f"
             ],
             [
              0.2222222222222222,
              "#7201a8"
             ],
             [
              0.3333333333333333,
              "#9c179e"
             ],
             [
              0.4444444444444444,
              "#bd3786"
             ],
             [
              0.5555555555555556,
              "#d8576b"
             ],
             [
              0.6666666666666666,
              "#ed7953"
             ],
             [
              0.7777777777777778,
              "#fb9f3a"
             ],
             [
              0.8888888888888888,
              "#fdca26"
             ],
             [
              1,
              "#f0f921"
             ]
            ],
            "type": "contour"
           }
          ],
          "contourcarpet": [
           {
            "colorbar": {
             "outlinewidth": 0,
             "ticks": ""
            },
            "type": "contourcarpet"
           }
          ],
          "heatmap": [
           {
            "colorbar": {
             "outlinewidth": 0,
             "ticks": ""
            },
            "colorscale": [
             [
              0,
              "#0d0887"
             ],
             [
              0.1111111111111111,
              "#46039f"
             ],
             [
              0.2222222222222222,
              "#7201a8"
             ],
             [
              0.3333333333333333,
              "#9c179e"
             ],
             [
              0.4444444444444444,
              "#bd3786"
             ],
             [
              0.5555555555555556,
              "#d8576b"
             ],
             [
              0.6666666666666666,
              "#ed7953"
             ],
             [
              0.7777777777777778,
              "#fb9f3a"
             ],
             [
              0.8888888888888888,
              "#fdca26"
             ],
             [
              1,
              "#f0f921"
             ]
            ],
            "type": "heatmap"
           }
          ],
          "heatmapgl": [
           {
            "colorbar": {
             "outlinewidth": 0,
             "ticks": ""
            },
            "colorscale": [
             [
              0,
              "#0d0887"
             ],
             [
              0.1111111111111111,
              "#46039f"
             ],
             [
              0.2222222222222222,
              "#7201a8"
             ],
             [
              0.3333333333333333,
              "#9c179e"
             ],
             [
              0.4444444444444444,
              "#bd3786"
             ],
             [
              0.5555555555555556,
              "#d8576b"
             ],
             [
              0.6666666666666666,
              "#ed7953"
             ],
             [
              0.7777777777777778,
              "#fb9f3a"
             ],
             [
              0.8888888888888888,
              "#fdca26"
             ],
             [
              1,
              "#f0f921"
             ]
            ],
            "type": "heatmapgl"
           }
          ],
          "histogram": [
           {
            "marker": {
             "colorbar": {
              "outlinewidth": 0,
              "ticks": ""
             }
            },
            "type": "histogram"
           }
          ],
          "histogram2d": [
           {
            "colorbar": {
             "outlinewidth": 0,
             "ticks": ""
            },
            "colorscale": [
             [
              0,
              "#0d0887"
             ],
             [
              0.1111111111111111,
              "#46039f"
             ],
             [
              0.2222222222222222,
              "#7201a8"
             ],
             [
              0.3333333333333333,
              "#9c179e"
             ],
             [
              0.4444444444444444,
              "#bd3786"
             ],
             [
              0.5555555555555556,
              "#d8576b"
             ],
             [
              0.6666666666666666,
              "#ed7953"
             ],
             [
              0.7777777777777778,
              "#fb9f3a"
             ],
             [
              0.8888888888888888,
              "#fdca26"
             ],
             [
              1,
              "#f0f921"
             ]
            ],
            "type": "histogram2d"
           }
          ],
          "histogram2dcontour": [
           {
            "colorbar": {
             "outlinewidth": 0,
             "ticks": ""
            },
            "colorscale": [
             [
              0,
              "#0d0887"
             ],
             [
              0.1111111111111111,
              "#46039f"
             ],
             [
              0.2222222222222222,
              "#7201a8"
             ],
             [
              0.3333333333333333,
              "#9c179e"
             ],
             [
              0.4444444444444444,
              "#bd3786"
             ],
             [
              0.5555555555555556,
              "#d8576b"
             ],
             [
              0.6666666666666666,
              "#ed7953"
             ],
             [
              0.7777777777777778,
              "#fb9f3a"
             ],
             [
              0.8888888888888888,
              "#fdca26"
             ],
             [
              1,
              "#f0f921"
             ]
            ],
            "type": "histogram2dcontour"
           }
          ],
          "mesh3d": [
           {
            "colorbar": {
             "outlinewidth": 0,
             "ticks": ""
            },
            "type": "mesh3d"
           }
          ],
          "parcoords": [
           {
            "line": {
             "colorbar": {
              "outlinewidth": 0,
              "ticks": ""
             }
            },
            "type": "parcoords"
           }
          ],
          "scatter": [
           {
            "marker": {
             "colorbar": {
              "outlinewidth": 0,
              "ticks": ""
             }
            },
            "type": "scatter"
           }
          ],
          "scatter3d": [
           {
            "line": {
             "colorbar": {
              "outlinewidth": 0,
              "ticks": ""
             }
            },
            "marker": {
             "colorbar": {
              "outlinewidth": 0,
              "ticks": ""
             }
            },
            "type": "scatter3d"
           }
          ],
          "scattercarpet": [
           {
            "marker": {
             "colorbar": {
              "outlinewidth": 0,
              "ticks": ""
             }
            },
            "type": "scattercarpet"
           }
          ],
          "scattergeo": [
           {
            "marker": {
             "colorbar": {
              "outlinewidth": 0,
              "ticks": ""
             }
            },
            "type": "scattergeo"
           }
          ],
          "scattergl": [
           {
            "marker": {
             "colorbar": {
              "outlinewidth": 0,
              "ticks": ""
             }
            },
            "type": "scattergl"
           }
          ],
          "scattermapbox": [
           {
            "marker": {
             "colorbar": {
              "outlinewidth": 0,
              "ticks": ""
             }
            },
            "type": "scattermapbox"
           }
          ],
          "scatterpolar": [
           {
            "marker": {
             "colorbar": {
              "outlinewidth": 0,
              "ticks": ""
             }
            },
            "type": "scatterpolar"
           }
          ],
          "scatterpolargl": [
           {
            "marker": {
             "colorbar": {
              "outlinewidth": 0,
              "ticks": ""
             }
            },
            "type": "scatterpolargl"
           }
          ],
          "scatterternary": [
           {
            "marker": {
             "colorbar": {
              "outlinewidth": 0,
              "ticks": ""
             }
            },
            "type": "scatterternary"
           }
          ],
          "surface": [
           {
            "colorbar": {
             "outlinewidth": 0,
             "ticks": ""
            },
            "colorscale": [
             [
              0,
              "#0d0887"
             ],
             [
              0.1111111111111111,
              "#46039f"
             ],
             [
              0.2222222222222222,
              "#7201a8"
             ],
             [
              0.3333333333333333,
              "#9c179e"
             ],
             [
              0.4444444444444444,
              "#bd3786"
             ],
             [
              0.5555555555555556,
              "#d8576b"
             ],
             [
              0.6666666666666666,
              "#ed7953"
             ],
             [
              0.7777777777777778,
              "#fb9f3a"
             ],
             [
              0.8888888888888888,
              "#fdca26"
             ],
             [
              1,
              "#f0f921"
             ]
            ],
            "type": "surface"
           }
          ],
          "table": [
           {
            "cells": {
             "fill": {
              "color": "#EBF0F8"
             },
             "line": {
              "color": "white"
             }
            },
            "header": {
             "fill": {
              "color": "#C8D4E3"
             },
             "line": {
              "color": "white"
             }
            },
            "type": "table"
           }
          ]
         },
         "layout": {
          "annotationdefaults": {
           "arrowcolor": "#2a3f5f",
           "arrowhead": 0,
           "arrowwidth": 1
          },
          "colorscale": {
           "diverging": [
            [
             0,
             "#8e0152"
            ],
            [
             0.1,
             "#c51b7d"
            ],
            [
             0.2,
             "#de77ae"
            ],
            [
             0.3,
             "#f1b6da"
            ],
            [
             0.4,
             "#fde0ef"
            ],
            [
             0.5,
             "#f7f7f7"
            ],
            [
             0.6,
             "#e6f5d0"
            ],
            [
             0.7,
             "#b8e186"
            ],
            [
             0.8,
             "#7fbc41"
            ],
            [
             0.9,
             "#4d9221"
            ],
            [
             1,
             "#276419"
            ]
           ],
           "sequential": [
            [
             0,
             "#0d0887"
            ],
            [
             0.1111111111111111,
             "#46039f"
            ],
            [
             0.2222222222222222,
             "#7201a8"
            ],
            [
             0.3333333333333333,
             "#9c179e"
            ],
            [
             0.4444444444444444,
             "#bd3786"
            ],
            [
             0.5555555555555556,
             "#d8576b"
            ],
            [
             0.6666666666666666,
             "#ed7953"
            ],
            [
             0.7777777777777778,
             "#fb9f3a"
            ],
            [
             0.8888888888888888,
             "#fdca26"
            ],
            [
             1,
             "#f0f921"
            ]
           ],
           "sequentialminus": [
            [
             0,
             "#0d0887"
            ],
            [
             0.1111111111111111,
             "#46039f"
            ],
            [
             0.2222222222222222,
             "#7201a8"
            ],
            [
             0.3333333333333333,
             "#9c179e"
            ],
            [
             0.4444444444444444,
             "#bd3786"
            ],
            [
             0.5555555555555556,
             "#d8576b"
            ],
            [
             0.6666666666666666,
             "#ed7953"
            ],
            [
             0.7777777777777778,
             "#fb9f3a"
            ],
            [
             0.8888888888888888,
             "#fdca26"
            ],
            [
             1,
             "#f0f921"
            ]
           ]
          },
          "colorway": [
           "#636efa",
           "#EF553B",
           "#00cc96",
           "#ab63fa",
           "#FFA15A",
           "#19d3f3",
           "#FF6692",
           "#B6E880",
           "#FF97FF",
           "#FECB52"
          ],
          "font": {
           "color": "#2a3f5f"
          },
          "geo": {
           "bgcolor": "white",
           "lakecolor": "white",
           "landcolor": "#E5ECF6",
           "showlakes": true,
           "showland": true,
           "subunitcolor": "white"
          },
          "hoverlabel": {
           "align": "left"
          },
          "hovermode": "closest",
          "mapbox": {
           "style": "light"
          },
          "paper_bgcolor": "white",
          "plot_bgcolor": "#E5ECF6",
          "polar": {
           "angularaxis": {
            "gridcolor": "white",
            "linecolor": "white",
            "ticks": ""
           },
           "bgcolor": "#E5ECF6",
           "radialaxis": {
            "gridcolor": "white",
            "linecolor": "white",
            "ticks": ""
           }
          },
          "scene": {
           "xaxis": {
            "backgroundcolor": "#E5ECF6",
            "gridcolor": "white",
            "gridwidth": 2,
            "linecolor": "white",
            "showbackground": true,
            "ticks": "",
            "zerolinecolor": "white"
           },
           "yaxis": {
            "backgroundcolor": "#E5ECF6",
            "gridcolor": "white",
            "gridwidth": 2,
            "linecolor": "white",
            "showbackground": true,
            "ticks": "",
            "zerolinecolor": "white"
           },
           "zaxis": {
            "backgroundcolor": "#E5ECF6",
            "gridcolor": "white",
            "gridwidth": 2,
            "linecolor": "white",
            "showbackground": true,
            "ticks": "",
            "zerolinecolor": "white"
           }
          },
          "shapedefaults": {
           "line": {
            "color": "#2a3f5f"
           }
          },
          "ternary": {
           "aaxis": {
            "gridcolor": "white",
            "linecolor": "white",
            "ticks": ""
           },
           "baxis": {
            "gridcolor": "white",
            "linecolor": "white",
            "ticks": ""
           },
           "bgcolor": "#E5ECF6",
           "caxis": {
            "gridcolor": "white",
            "linecolor": "white",
            "ticks": ""
           }
          },
          "title": {
           "x": 0.05
          },
          "xaxis": {
           "automargin": true,
           "gridcolor": "white",
           "linecolor": "white",
           "ticks": "",
           "zerolinecolor": "white",
           "zerolinewidth": 2
          },
          "yaxis": {
           "automargin": true,
           "gridcolor": "white",
           "linecolor": "white",
           "ticks": "",
           "zerolinecolor": "white",
           "zerolinewidth": 2
          }
         }
        },
        "title": {
         "text": "Temperature of Different Regions in Maryland from 2005-2018"
        },
        "xaxis": {
         "rangeslider": {
          "visible": true
         }
        }
       }
      },
      "text/html": [
       "<div>\n",
       "        \n",
       "        \n",
       "            <div id=\"93a3f897-9e4c-4f2b-863a-ce375f633bde\" class=\"plotly-graph-div\" style=\"height:525px; width:100%;\"></div>\n",
       "            <script type=\"text/javascript\">\n",
       "                require([\"plotly\"], function(Plotly) {\n",
       "                    window.PLOTLYENV=window.PLOTLYENV || {};\n",
       "                    \n",
       "                if (document.getElementById(\"93a3f897-9e4c-4f2b-863a-ce375f633bde\")) {\n",
       "                    Plotly.newPlot(\n",
       "                        '93a3f897-9e4c-4f2b-863a-ce375f633bde',\n",
       "                        [{\"name\": \"NORTHERN CENTRAL\", \"type\": \"scatter\", \"x\": [\"Jan_Temp_05\", \"Feb_Temp_05\", \"Mar_Temp_05\", \"Apr_Temp_05\", \"May_Temp_05\", \"Jun_Temp_05\", \"Jul_Temp_05\", \"Aug_Temp_05\", \"Sep_Temp_05\", \"Oct_Temp_05\", \"Nov_Temp_05\", \"Dec_Temp_05\", \"Ann_Temp_05\", \"Jan_Temp_06\", \"Feb_Temp_06\", \"Mar_Temp_06\", \"Apr_Temp_06\", \"May_Temp_06\", \"Jun_Temp_06\", \"Jul_Temp_06\", \"Aug_Temp_06\", \"Sep_Temp_06\", \"Oct_Temp_06\", \"Nov_Temp_06\", \"Dec_Temp_06\", \"Ann_Temp_06\", \"Jan_Temp_07\", \"Feb_Temp_07\", \"Mar_Temp_07\", \"Apr_Temp_07\", \"May_Temp_07\", \"Jun_Temp_07\", \"Jul_Temp_07\", \"Aug_Temp_07\", \"Sep_Temp_07\", \"Oct_Temp_07\", \"Nov_Temp_07\", \"Dec_Temp_07\", \"Ann_Temp_07\", \"Jan_Temp_08\", \"Feb_Temp_08\", \"Mar_Temp_08\", \"Apr_Temp_08\", \"May_Temp_08\", \"Jun_Temp_08\", \"Jul_Temp_08\", \"Aug_Temp_08\", \"Sep_Temp_08\", \"Oct_Temp_08\", \"Nov_Temp_08\", \"Dec_Temp_08\", \"Ann_Temp_08\", \"Jan_Temp_09\", \"Feb_Temp_09\", \"Mar_Temp_09\", \"Apr_Temp_09\", \"May_Temp_09\", \"Jun_Temp_09\", \"Jul_Temp_09\", \"Aug_Temp_09\", \"Sep_Temp_09\", \"Oct_Temp_09\", \"Nov_Temp_09\", \"Dec_Temp_09\", \"Ann_Temp_09\", \"Jan_Temp_10\", \"Feb_Temp_10\", \"Mar_Temp_10\", \"Apr_Temp_10\", \"May_Temp_10\", \"Jun_Temp_10\", \"Jul_Temp_10\", \"Aug_Temp_10\", \"Sep_Temp_10\", \"Oct_Temp_10\", \"Nov_Temp_10\", \"Dec_Temp_10\", \"Ann_Temp_10\", \"Jan_Temp_11\", \"Feb_Temp_11\", \"Mar_Temp_11\", \"Apr_Temp_11\", \"May_Temp_11\", \"Jun_Temp_11\", \"Jul_Temp_11\", \"Aug_Temp_11\", \"Sep_Temp_11\", \"Oct_Temp_11\", \"Nov_Temp_11\", \"Dec_Temp_11\", \"Ann_Temp_11\", \"Jan_Temp_12\", \"Feb_Temp_12\", \"Mar_Temp_12\", \"Apr_Temp_12\", \"May_Temp_12\", \"Jun_Temp_12\", \"Jul_Temp_12\", \"Aug_Temp_12\", \"Sep_Temp_12\", \"Oct_Temp_12\", \"Nov_Temp_12\", \"Dec_Temp_12\", \"Ann_Temp_12\", \"Jan_Temp_13\", \"Feb_Temp_13\", \"Mar_Temp_13\", \"Apr_Temp_13\", \"May_Temp_13\", \"Jun_Temp_13\", \"Jul_Temp_13\", \"Aug_Temp_13\", \"Sep_Temp_13\", \"Oct_Temp_13\", \"Nov_Temp_13\", \"Dec_Temp_13\", \"Ann_Temp_13\", \"Jan_Temp_14\", \"Feb_Temp_14\", \"Mar_Temp_14\", \"Apr_Temp_14\", \"May_Temp_14\", \"Jun_Temp_14\", \"Jul_Temp_14\", \"Aug_Temp_14\", \"Sep_Temp_14\", \"Oct_Temp_14\", \"Nov_Temp_14\", \"Dec_Temp_14\", \"Ann_Temp_14\", \"Jan_Temp_15\", \"Feb_Temp_15\", \"Mar_Temp_15\", \"Apr_Temp_15\", \"May_Temp_15\", \"Jun_Temp_15\", \"Jul_Temp_15\", \"Aug_Temp_15\", \"Sep_Temp_15\", \"Oct_Temp_15\", \"Nov_Temp_15\", \"Dec_Temp_15\", \"Ann_Temp_15\", \"Jan_Temp_16\", \"Feb_Temp_16\", \"Mar_Temp_16\", \"Apr_Temp_16\", \"May_Temp_16\", \"Jun_Temp_16\", \"Jul_Temp_16\", \"Aug_Temp_16\", \"Sep_Temp_16\", \"Oct_Temp_16\", \"Nov_Temp_16\", \"Dec_Temp_16\", \"Ann_Temp_16\", \"Jan_Temp_17\", \"Feb_Temp_17\", \"Mar_Temp_17\", \"Apr_Temp_17\", \"May_Temp_17\", \"Jun_Temp_17\", \"Jul_Temp_17\", \"Aug_Temp_17\", \"Sep_Temp_17\", \"Oct_Temp_17\", \"Nov_Temp_17\", \"Dec_Temp_17\", \"Ann_Temp_17\", \"Jan_Temp_18\", \"Feb_Temp_18\", \"Mar_Temp_18\", \"Apr_Temp_18\", \"May_Temp_18\", \"Jun_Temp_18\", \"Jul_Temp_18\", \"Aug_Temp_18\", \"Sep_Temp_18\", \"Oct_Temp_18\", \"Nov_Temp_18\", \"Dec_Temp_18\", \"Ann_Temp_18\"], \"y\": [33.52, 36.07692307692308, 38.905660377358494, 54.132075471698116, 58.096153846153854, 72.62745098039215, 77.42857142857143, 77.05882352941177, 71.03921568627452, 57.38, 48.3125, 33.38297872340426, 54.846153846153854, 40.47826086956522, 35.53191489361703, 43.51020408163265, 55.875, 61.6938775510204, 71.1086956521739, 77.30434782608695, 76.6875, 65.04081632653062, 54.638297872340424, 48.8936170212766, 42.408163265306115, 56.33333333333334, 36.51020408163265, 27.60416666666667, 44.20454545454545, 50.17391304347826, 64.1590909090909, 72.3695652173913, 74.97872340425532, 76.06666666666666, 69.52173913043478, 62.73913043478261, 44.97826086956522, 37.57446808510638, 55.17948717948718, 34.97826086956522, 36.4375, 43.76086956521739, 54.78723404255321, 59.422222222222224, 73.72340425531915, 75.74468085106382, 72.12765957446808, 68.36170212765957, 54.46666666666667, 44.085106382978715, 38.0, 54.536585365853654, 28.217391304347824, 36.369565217391305, 42.32608695652174, 53.97826086956522, 62.85106382978724, 70.25, 72.93617021276594, 75.75, 66.10204081632654, 54.8125, 49.22727272727273, 34.75, 54.4, 31.476190476190478, 29.97777777777777, 46.8139534883721, 56.76086956521739, 65.06666666666666, 75.6304347826087, 78.55555555555556, 75.93181818181819, 69.76086956521739, 57.16279069767442, 45.52272727272727, 30.244444444444447, 55.457142857142856, 28.41860465116279, 36.18181818181818, 41.74418604651163, 55.7, 65.0952380952381, 71.38461538461539, 77.07692307692308, 74.29268292682926, 66.76190476190476, 55.0, 47.47619047619048, 40.69047619047619, 36.77777777777778, 36.0, 39.857142857142854, 49.0, 50.0, 66.0, 68.0, 76.0, 73.0, 65.0, 54.0, 39.0, 38.0, 53.73684210526316, 33.0, 32.0, 38.0, 53.0, 60.0, 72.0, 76.0, 71.0, 65.0, 57.0, 42.0, 36.0, 53.0, 22.0, 28.0, 35.0, 50.0, 61.0, 70.0, 72.0, 69.0, 64.0, 54.0, 38.0, 35.0, 50.0, 29.921052631578952, 24.55, 37.125, 53.5897435897436, 65.30769230769229, 72.375, 75.12195121951221, 73.66666666666667, 70.46153846153847, 55.0, 50.230769230769226, 46.73684210526316, 44.351351351351354, 31.23684210526316, 35.02564102564103, 48.775, 52.275, 60.17073170731707, 71.64102564102564, 77.5, 77.225, 70.89473684210526, 58.5, 47.2, 37.230769230769226, 43.694444444444436, 37.46153846153846, 42.714285714285715, 41.692307692307686, 58.73684210526316, 61.125, 71.65, 76.76315789473685, 72.12820512820512, 67.94871794871794, 60.47368421052632, 44.918918918918926, 34.361111111111114, 42.97142857142857, 30.342105263157894, 40.5897435897436, 38.20512820512821, 50.12820512820514, 68.0, 71.41025641025641, 75.94736842105263, 76.775, 72.35897435897436, 58.45, 42.85, 38.615384615384606, 48.13888888888889]}, {\"name\": \"NORTHERN EASTERN\", \"type\": \"scatter\", \"x\": [\"Jan_Temp_05\", \"Feb_Temp_05\", \"Mar_Temp_05\", \"Apr_Temp_05\", \"May_Temp_05\", \"Jun_Temp_05\", \"Jul_Temp_05\", \"Aug_Temp_05\", \"Sep_Temp_05\", \"Oct_Temp_05\", \"Nov_Temp_05\", \"Dec_Temp_05\", \"Ann_Temp_05\", \"Jan_Temp_06\", \"Feb_Temp_06\", \"Mar_Temp_06\", \"Apr_Temp_06\", \"May_Temp_06\", \"Jun_Temp_06\", \"Jul_Temp_06\", \"Aug_Temp_06\", \"Sep_Temp_06\", \"Oct_Temp_06\", \"Nov_Temp_06\", \"Dec_Temp_06\", \"Ann_Temp_06\", \"Jan_Temp_07\", \"Feb_Temp_07\", \"Mar_Temp_07\", \"Apr_Temp_07\", \"May_Temp_07\", \"Jun_Temp_07\", \"Jul_Temp_07\", \"Aug_Temp_07\", \"Sep_Temp_07\", \"Oct_Temp_07\", \"Nov_Temp_07\", \"Dec_Temp_07\", \"Ann_Temp_07\", \"Jan_Temp_08\", \"Feb_Temp_08\", \"Mar_Temp_08\", \"Apr_Temp_08\", \"May_Temp_08\", \"Jun_Temp_08\", \"Jul_Temp_08\", \"Aug_Temp_08\", \"Sep_Temp_08\", \"Oct_Temp_08\", \"Nov_Temp_08\", \"Dec_Temp_08\", \"Ann_Temp_08\", \"Jan_Temp_09\", \"Feb_Temp_09\", \"Mar_Temp_09\", \"Apr_Temp_09\", \"May_Temp_09\", \"Jun_Temp_09\", \"Jul_Temp_09\", \"Aug_Temp_09\", \"Sep_Temp_09\", \"Oct_Temp_09\", \"Nov_Temp_09\", \"Dec_Temp_09\", \"Ann_Temp_09\", \"Jan_Temp_10\", \"Feb_Temp_10\", \"Mar_Temp_10\", \"Apr_Temp_10\", \"May_Temp_10\", \"Jun_Temp_10\", \"Jul_Temp_10\", \"Aug_Temp_10\", \"Sep_Temp_10\", \"Oct_Temp_10\", \"Nov_Temp_10\", \"Dec_Temp_10\", \"Ann_Temp_10\", \"Jan_Temp_11\", \"Feb_Temp_11\", \"Mar_Temp_11\", \"Apr_Temp_11\", \"May_Temp_11\", \"Jun_Temp_11\", \"Jul_Temp_11\", \"Aug_Temp_11\", \"Sep_Temp_11\", \"Oct_Temp_11\", \"Nov_Temp_11\", \"Dec_Temp_11\", \"Ann_Temp_11\", \"Jan_Temp_12\", \"Feb_Temp_12\", \"Mar_Temp_12\", \"Apr_Temp_12\", \"May_Temp_12\", \"Jun_Temp_12\", \"Jul_Temp_12\", \"Aug_Temp_12\", \"Sep_Temp_12\", \"Oct_Temp_12\", \"Nov_Temp_12\", \"Dec_Temp_12\", \"Ann_Temp_12\", \"Jan_Temp_13\", \"Feb_Temp_13\", \"Mar_Temp_13\", \"Apr_Temp_13\", \"May_Temp_13\", \"Jun_Temp_13\", \"Jul_Temp_13\", \"Aug_Temp_13\", \"Sep_Temp_13\", \"Oct_Temp_13\", \"Nov_Temp_13\", \"Dec_Temp_13\", \"Ann_Temp_13\", \"Jan_Temp_14\", \"Feb_Temp_14\", \"Mar_Temp_14\", \"Apr_Temp_14\", \"May_Temp_14\", \"Jun_Temp_14\", \"Jul_Temp_14\", \"Aug_Temp_14\", \"Sep_Temp_14\", \"Oct_Temp_14\", \"Nov_Temp_14\", \"Dec_Temp_14\", \"Ann_Temp_14\", \"Jan_Temp_15\", \"Feb_Temp_15\", \"Mar_Temp_15\", \"Apr_Temp_15\", \"May_Temp_15\", \"Jun_Temp_15\", \"Jul_Temp_15\", \"Aug_Temp_15\", \"Sep_Temp_15\", \"Oct_Temp_15\", \"Nov_Temp_15\", \"Dec_Temp_15\", \"Ann_Temp_15\", \"Jan_Temp_16\", \"Feb_Temp_16\", \"Mar_Temp_16\", \"Apr_Temp_16\", \"May_Temp_16\", \"Jun_Temp_16\", \"Jul_Temp_16\", \"Aug_Temp_16\", \"Sep_Temp_16\", \"Oct_Temp_16\", \"Nov_Temp_16\", \"Dec_Temp_16\", \"Ann_Temp_16\", \"Jan_Temp_17\", \"Feb_Temp_17\", \"Mar_Temp_17\", \"Apr_Temp_17\", \"May_Temp_17\", \"Jun_Temp_17\", \"Jul_Temp_17\", \"Aug_Temp_17\", \"Sep_Temp_17\", \"Oct_Temp_17\", \"Nov_Temp_17\", \"Dec_Temp_17\", \"Ann_Temp_17\", \"Jan_Temp_18\", \"Feb_Temp_18\", \"Mar_Temp_18\", \"Apr_Temp_18\", \"May_Temp_18\", \"Jun_Temp_18\", \"Jul_Temp_18\", \"Aug_Temp_18\", \"Sep_Temp_18\", \"Oct_Temp_18\", \"Nov_Temp_18\", \"Dec_Temp_18\", \"Ann_Temp_18\"], \"y\": [32.0, 34.0, 38.0, 55.0, 58.0, 71.0, 77.42857142857143, 77.05882352941177, 71.03921568627452, 57.38, 48.3125, 33.38297872340426, 54.846153846153854, 39.0, 33.0, 42.0, 55.0, 61.0, 71.1086956521739, 77.30434782608695, 76.6875, 65.04081632653062, 54.638297872340424, 48.8936170212766, 42.408163265306115, 56.33333333333334, 36.51020408163265, 27.0, 44.20454545454545, 50.0, 64.0, 73.0, 75.0, 76.0, 69.0, 62.0, 43.0, 36.0, 55.17948717948718, 32.0, 31.0, 40.0, 52.0, 55.0, 70.0, 72.0, 68.0, 65.0, 50.0, 41.0, 34.0, 51.0, 25.0, 35.0, 42.0, 53.0, 61.0, 68.0, 70.0, 73.0, 63.0, 53.0, 47.0, 32.0, 52.0, 30.0, 28.0, 46.0, 55.0, 64.0, 72.0, 76.0, 74.0, 68.0, 56.0, 44.0, 29.0, 54.0, 25.0, 31.0, 40.0, 52.0, 63.0, 3.0, 0.0, 72.0, 66.0, 52.0, 46.0, 37.0, 4.0, 36.0, 39.0, 50.0, 51.0, 66.0, 70.0, 78.0, 75.0, 67.04761904761905, 56.365853658536594, 41.604651162790695, 41.15, 53.73684210526316, 34.0, 32.0, 38.0, 53.0, 61.0, 71.0, 76.0, 71.0, 64.0, 56.0, 42.0, 35.0, 53.0, 23.0, 30.0, 36.0, 53.0, 63.0, 72.0, 74.0, 71.0, 66.0, 56.0, 40.0, 38.0, 52.0, 28.0, 24.0, 39.0, 54.0, 66.0, 72.0, 75.0, 73.0, 69.0, 54.0, 49.0, 45.0, 54.0, 26.0, 31.0, 46.0, 49.0, 57.0, 70.0, 75.0, 75.0, 70.0, 55.0, 43.0, 34.0, 1.0, 37.46153846153846, 42.714285714285715, 41.692307692307686, 58.73684210526316, 61.125, 71.65, 77.0, 72.0, 67.0, 60.0, 43.0, 33.0, 42.97142857142857, 27.0, 38.0, 36.0, 48.0, 68.0, 70.0, 75.0, 75.0, 71.0, 57.0, 40.0, 35.0, 53.0]}, {\"name\": \"Central Eastern\", \"type\": \"scatter\", \"x\": [\"Jan_Temp_05\", \"Feb_Temp_05\", \"Mar_Temp_05\", \"Apr_Temp_05\", \"May_Temp_05\", \"Jun_Temp_05\", \"Jul_Temp_05\", \"Aug_Temp_05\", \"Sep_Temp_05\", \"Oct_Temp_05\", \"Nov_Temp_05\", \"Dec_Temp_05\", \"Ann_Temp_05\", \"Jan_Temp_06\", \"Feb_Temp_06\", \"Mar_Temp_06\", \"Apr_Temp_06\", \"May_Temp_06\", \"Jun_Temp_06\", \"Jul_Temp_06\", \"Aug_Temp_06\", \"Sep_Temp_06\", \"Oct_Temp_06\", \"Nov_Temp_06\", \"Dec_Temp_06\", \"Ann_Temp_06\", \"Jan_Temp_07\", \"Feb_Temp_07\", \"Mar_Temp_07\", \"Apr_Temp_07\", \"May_Temp_07\", \"Jun_Temp_07\", \"Jul_Temp_07\", \"Aug_Temp_07\", \"Sep_Temp_07\", \"Oct_Temp_07\", \"Nov_Temp_07\", \"Dec_Temp_07\", \"Ann_Temp_07\", \"Jan_Temp_08\", \"Feb_Temp_08\", \"Mar_Temp_08\", \"Apr_Temp_08\", \"May_Temp_08\", \"Jun_Temp_08\", \"Jul_Temp_08\", \"Aug_Temp_08\", \"Sep_Temp_08\", \"Oct_Temp_08\", \"Nov_Temp_08\", \"Dec_Temp_08\", \"Ann_Temp_08\", \"Jan_Temp_09\", \"Feb_Temp_09\", \"Mar_Temp_09\", \"Apr_Temp_09\", \"May_Temp_09\", \"Jun_Temp_09\", \"Jul_Temp_09\", \"Aug_Temp_09\", \"Sep_Temp_09\", \"Oct_Temp_09\", \"Nov_Temp_09\", \"Dec_Temp_09\", \"Ann_Temp_09\", \"Jan_Temp_10\", \"Feb_Temp_10\", \"Mar_Temp_10\", \"Apr_Temp_10\", \"May_Temp_10\", \"Jun_Temp_10\", \"Jul_Temp_10\", \"Aug_Temp_10\", \"Sep_Temp_10\", \"Oct_Temp_10\", \"Nov_Temp_10\", \"Dec_Temp_10\", \"Ann_Temp_10\", \"Jan_Temp_11\", \"Feb_Temp_11\", \"Mar_Temp_11\", \"Apr_Temp_11\", \"May_Temp_11\", \"Jun_Temp_11\", \"Jul_Temp_11\", \"Aug_Temp_11\", \"Sep_Temp_11\", \"Oct_Temp_11\", \"Nov_Temp_11\", \"Dec_Temp_11\", \"Ann_Temp_11\", \"Jan_Temp_12\", \"Feb_Temp_12\", \"Mar_Temp_12\", \"Apr_Temp_12\", \"May_Temp_12\", \"Jun_Temp_12\", \"Jul_Temp_12\", \"Aug_Temp_12\", \"Sep_Temp_12\", \"Oct_Temp_12\", \"Nov_Temp_12\", \"Dec_Temp_12\", \"Ann_Temp_12\", \"Jan_Temp_13\", \"Feb_Temp_13\", \"Mar_Temp_13\", \"Apr_Temp_13\", \"May_Temp_13\", \"Jun_Temp_13\", \"Jul_Temp_13\", \"Aug_Temp_13\", \"Sep_Temp_13\", \"Oct_Temp_13\", \"Nov_Temp_13\", \"Dec_Temp_13\", \"Ann_Temp_13\", \"Jan_Temp_14\", \"Feb_Temp_14\", \"Mar_Temp_14\", \"Apr_Temp_14\", \"May_Temp_14\", \"Jun_Temp_14\", \"Jul_Temp_14\", \"Aug_Temp_14\", \"Sep_Temp_14\", \"Oct_Temp_14\", \"Nov_Temp_14\", \"Dec_Temp_14\", \"Ann_Temp_14\", \"Jan_Temp_15\", \"Feb_Temp_15\", \"Mar_Temp_15\", \"Apr_Temp_15\", \"May_Temp_15\", \"Jun_Temp_15\", \"Jul_Temp_15\", \"Aug_Temp_15\", \"Sep_Temp_15\", \"Oct_Temp_15\", \"Nov_Temp_15\", \"Dec_Temp_15\", \"Ann_Temp_15\", \"Jan_Temp_16\", \"Feb_Temp_16\", \"Mar_Temp_16\", \"Apr_Temp_16\", \"May_Temp_16\", \"Jun_Temp_16\", \"Jul_Temp_16\", \"Aug_Temp_16\", \"Sep_Temp_16\", \"Oct_Temp_16\", \"Nov_Temp_16\", \"Dec_Temp_16\", \"Ann_Temp_16\", \"Jan_Temp_17\", \"Feb_Temp_17\", \"Mar_Temp_17\", \"Apr_Temp_17\", \"May_Temp_17\", \"Jun_Temp_17\", \"Jul_Temp_17\", \"Aug_Temp_17\", \"Sep_Temp_17\", \"Oct_Temp_17\", \"Nov_Temp_17\", \"Dec_Temp_17\", \"Ann_Temp_17\", \"Jan_Temp_18\", \"Feb_Temp_18\", \"Mar_Temp_18\", \"Apr_Temp_18\", \"May_Temp_18\", \"Jun_Temp_18\", \"Jul_Temp_18\", \"Aug_Temp_18\", \"Sep_Temp_18\", \"Oct_Temp_18\", \"Nov_Temp_18\", \"Dec_Temp_18\", \"Ann_Temp_18\"], \"y\": [34.0, 36.0, 40.0, 54.0, 57.0, 71.0, 77.0, 76.0, 69.0, 56.0, 48.0, 34.0, 54.0, 43.0, 39.0, 47.0, 58.0, 65.0, 74.0, 81.0, 81.0, 70.0, 59.0, 52.0, 47.0, 60.0, 41.0, 32.0, 44.20454545454545, 50.17391304347826, 66.0, 75.0, 79.0, 79.0, 72.0, 62.73913043478261, 44.97826086956522, 42.0, 55.17948717948718, 34.97826086956522, 41.0, 43.76086956521739, 55.0, 59.422222222222224, 73.72340425531915, 78.0, 76.0, 72.0, 59.0, 48.0, 42.0, 54.536585365853654, 33.0, 39.0, 44.0, 56.0, 65.0, 73.0, 77.0, 80.0, 70.0, 59.0, 52.0, 39.0, 57.0, 34.0, 33.0, 48.0, 59.0, 68.0, 79.0, 82.0, 79.0, 75.0, 61.0, 50.0, 33.0, 59.0, 32.0, 39.0, 45.0, 58.0, 66.0, 75.0, 80.0, 76.0, 70.0, 58.0, 51.0, 44.0, 58.0, 39.0, 42.0, 53.0, 55.0, 69.0, 72.0, 81.0, 76.0, 69.0, 58.0, 44.0, 43.0, 58.0, 38.0, 36.0, 40.0, 55.0, 64.0, 74.0, 78.0, 73.0, 67.0, 59.0, 45.0, 41.0, 56.0, 30.0, 34.0, 38.0, 54.0, 65.0, 73.0, 76.0, 73.0, 70.0, 61.0, 42.0, 41.0, 55.0, 32.0, 28.0, 40.0, 55.0, 68.0, 74.0, 77.0, 75.0, 72.0, 57.0, 51.0, 50.0, 56.0, 32.0, 38.0, 51.0, 52.0, 61.0, 71.0, 76.0, 76.0, 70.0, 58.0, 47.0, 38.0, 56.0, 38.0, 45.0, 43.0, 60.0, 61.0, 71.0, 76.0, 72.0, 69.0, 59.0, 45.0, 36.0, 56.0, 34.0, 44.0, 42.0, 54.0, 70.0, 76.0, 81.0, 81.0, 78.0, 64.0, 47.0, 38.615384615384606, 61.0]}, {\"name\": \"UPPER SOUTHERN\", \"type\": \"scatter\", \"x\": [\"Jan_Temp_05\", \"Feb_Temp_05\", \"Mar_Temp_05\", \"Apr_Temp_05\", \"May_Temp_05\", \"Jun_Temp_05\", \"Jul_Temp_05\", \"Aug_Temp_05\", \"Sep_Temp_05\", \"Oct_Temp_05\", \"Nov_Temp_05\", \"Dec_Temp_05\", \"Ann_Temp_05\", \"Jan_Temp_06\", \"Feb_Temp_06\", \"Mar_Temp_06\", \"Apr_Temp_06\", \"May_Temp_06\", \"Jun_Temp_06\", \"Jul_Temp_06\", \"Aug_Temp_06\", \"Sep_Temp_06\", \"Oct_Temp_06\", \"Nov_Temp_06\", \"Dec_Temp_06\", \"Ann_Temp_06\", \"Jan_Temp_07\", \"Feb_Temp_07\", \"Mar_Temp_07\", \"Apr_Temp_07\", \"May_Temp_07\", \"Jun_Temp_07\", \"Jul_Temp_07\", \"Aug_Temp_07\", \"Sep_Temp_07\", \"Oct_Temp_07\", \"Nov_Temp_07\", \"Dec_Temp_07\", \"Ann_Temp_07\", \"Jan_Temp_08\", \"Feb_Temp_08\", \"Mar_Temp_08\", \"Apr_Temp_08\", \"May_Temp_08\", \"Jun_Temp_08\", \"Jul_Temp_08\", \"Aug_Temp_08\", \"Sep_Temp_08\", \"Oct_Temp_08\", \"Nov_Temp_08\", \"Dec_Temp_08\", \"Ann_Temp_08\", \"Jan_Temp_09\", \"Feb_Temp_09\", \"Mar_Temp_09\", \"Apr_Temp_09\", \"May_Temp_09\", \"Jun_Temp_09\", \"Jul_Temp_09\", \"Aug_Temp_09\", \"Sep_Temp_09\", \"Oct_Temp_09\", \"Nov_Temp_09\", \"Dec_Temp_09\", \"Ann_Temp_09\", \"Jan_Temp_10\", \"Feb_Temp_10\", \"Mar_Temp_10\", \"Apr_Temp_10\", \"May_Temp_10\", \"Jun_Temp_10\", \"Jul_Temp_10\", \"Aug_Temp_10\", \"Sep_Temp_10\", \"Oct_Temp_10\", \"Nov_Temp_10\", \"Dec_Temp_10\", \"Ann_Temp_10\", \"Jan_Temp_11\", \"Feb_Temp_11\", \"Mar_Temp_11\", \"Apr_Temp_11\", \"May_Temp_11\", \"Jun_Temp_11\", \"Jul_Temp_11\", \"Aug_Temp_11\", \"Sep_Temp_11\", \"Oct_Temp_11\", \"Nov_Temp_11\", \"Dec_Temp_11\", \"Ann_Temp_11\", \"Jan_Temp_12\", \"Feb_Temp_12\", \"Mar_Temp_12\", \"Apr_Temp_12\", \"May_Temp_12\", \"Jun_Temp_12\", \"Jul_Temp_12\", \"Aug_Temp_12\", \"Sep_Temp_12\", \"Oct_Temp_12\", \"Nov_Temp_12\", \"Dec_Temp_12\", \"Ann_Temp_12\", \"Jan_Temp_13\", \"Feb_Temp_13\", \"Mar_Temp_13\", \"Apr_Temp_13\", \"May_Temp_13\", \"Jun_Temp_13\", \"Jul_Temp_13\", \"Aug_Temp_13\", \"Sep_Temp_13\", \"Oct_Temp_13\", \"Nov_Temp_13\", \"Dec_Temp_13\", \"Ann_Temp_13\", \"Jan_Temp_14\", \"Feb_Temp_14\", \"Mar_Temp_14\", \"Apr_Temp_14\", \"May_Temp_14\", \"Jun_Temp_14\", \"Jul_Temp_14\", \"Aug_Temp_14\", \"Sep_Temp_14\", \"Oct_Temp_14\", \"Nov_Temp_14\", \"Dec_Temp_14\", \"Ann_Temp_14\", \"Jan_Temp_15\", \"Feb_Temp_15\", \"Mar_Temp_15\", \"Apr_Temp_15\", \"May_Temp_15\", \"Jun_Temp_15\", \"Jul_Temp_15\", \"Aug_Temp_15\", \"Sep_Temp_15\", \"Oct_Temp_15\", \"Nov_Temp_15\", \"Dec_Temp_15\", \"Ann_Temp_15\", \"Jan_Temp_16\", \"Feb_Temp_16\", \"Mar_Temp_16\", \"Apr_Temp_16\", \"May_Temp_16\", \"Jun_Temp_16\", \"Jul_Temp_16\", \"Aug_Temp_16\", \"Sep_Temp_16\", \"Oct_Temp_16\", \"Nov_Temp_16\", \"Dec_Temp_16\", \"Ann_Temp_16\", \"Jan_Temp_17\", \"Feb_Temp_17\", \"Mar_Temp_17\", \"Apr_Temp_17\", \"May_Temp_17\", \"Jun_Temp_17\", \"Jul_Temp_17\", \"Aug_Temp_17\", \"Sep_Temp_17\", \"Oct_Temp_17\", \"Nov_Temp_17\", \"Dec_Temp_17\", \"Ann_Temp_17\", \"Jan_Temp_18\", \"Feb_Temp_18\", \"Mar_Temp_18\", \"Apr_Temp_18\", \"May_Temp_18\", \"Jun_Temp_18\", \"Jul_Temp_18\", \"Aug_Temp_18\", \"Sep_Temp_18\", \"Oct_Temp_18\", \"Nov_Temp_18\", \"Dec_Temp_18\", \"Ann_Temp_18\"], \"y\": [35.0, 39.0, 42.0, 56.0, 61.0, 72.62745098039215, 80.0, 77.05882352941177, 74.0, 59.0, 50.0, 35.0, 54.846153846153854, 41.0, 36.0, 44.0, 57.0, 62.0, 71.1086956521739, 78.0, 78.0, 66.0, 55.0, 49.0, 43.0, 56.33333333333334, 41.0, 30.0, 47.0, 53.0, 67.0, 76.0, 78.0, 79.0, 72.0, 65.0, 48.0, 40.0, 58.0, 36.0, 37.0, 44.0, 55.0, 61.0, 75.0, 77.0, 73.0, 69.0, 55.0, 45.0, 38.0, 55.0, 29.0, 38.0, 42.0, 55.0, 64.0, 72.0, 74.0, 77.0, 67.0, 55.0, 49.0, 35.0, 55.0, 33.0, 31.0, 47.0, 58.0, 66.0, 78.0, 79.0, 77.0, 71.0, 58.0, 46.0, 32.0, 56.0, 31.0, 38.0, 45.0, 58.0, 68.0, 76.0, 82.0, 77.0, 71.0, 57.0, 51.0, 42.0, 58.0, 38.0, 42.0, 54.0, 56.0, 69.0, 74.0, 81.0, 78.0, 70.0, 58.0, 44.0, 43.0, 59.0, 37.0, 36.0, 41.0, 56.0, 64.0, 74.0, 79.0, 74.0, 68.0, 60.0, 44.0, 40.0, 56.0, 28.0, 34.0, 39.0, 54.0, 65.0, 74.0, 76.0, 73.0, 70.0, 59.0, 44.0, 40.0, 55.0, 31.0, 26.0, 40.0, 55.0, 69.0, 75.0, 77.0, 76.0, 73.0, 56.0, 51.0, 49.0, 57.0, 34.0, 37.0, 49.0, 53.0, 61.0, 74.0, 80.0, 80.0, 73.0, 61.0, 50.0, 39.0, 58.0, 38.0, 43.0, 43.0, 59.0, 64.0, 75.0, 80.0, 76.0, 72.0, 64.0, 48.0, 37.0, 58.0, 31.0, 41.0, 41.0, 52.0, 69.0, 74.0, 80.0, 81.0, 75.0, 61.0, 45.0, 40.0, 57.0]}, {\"name\": \"SOUTHERN EASTERN\", \"type\": \"scatter\", \"x\": [\"Jan_Temp_05\", \"Feb_Temp_05\", \"Mar_Temp_05\", \"Apr_Temp_05\", \"May_Temp_05\", \"Jun_Temp_05\", \"Jul_Temp_05\", \"Aug_Temp_05\", \"Sep_Temp_05\", \"Oct_Temp_05\", \"Nov_Temp_05\", \"Dec_Temp_05\", \"Ann_Temp_05\", \"Jan_Temp_06\", \"Feb_Temp_06\", \"Mar_Temp_06\", \"Apr_Temp_06\", \"May_Temp_06\", \"Jun_Temp_06\", \"Jul_Temp_06\", \"Aug_Temp_06\", \"Sep_Temp_06\", \"Oct_Temp_06\", \"Nov_Temp_06\", \"Dec_Temp_06\", \"Ann_Temp_06\", \"Jan_Temp_07\", \"Feb_Temp_07\", \"Mar_Temp_07\", \"Apr_Temp_07\", \"May_Temp_07\", \"Jun_Temp_07\", \"Jul_Temp_07\", \"Aug_Temp_07\", \"Sep_Temp_07\", \"Oct_Temp_07\", \"Nov_Temp_07\", \"Dec_Temp_07\", \"Ann_Temp_07\", \"Jan_Temp_08\", \"Feb_Temp_08\", \"Mar_Temp_08\", \"Apr_Temp_08\", \"May_Temp_08\", \"Jun_Temp_08\", \"Jul_Temp_08\", \"Aug_Temp_08\", \"Sep_Temp_08\", \"Oct_Temp_08\", \"Nov_Temp_08\", \"Dec_Temp_08\", \"Ann_Temp_08\", \"Jan_Temp_09\", \"Feb_Temp_09\", \"Mar_Temp_09\", \"Apr_Temp_09\", \"May_Temp_09\", \"Jun_Temp_09\", \"Jul_Temp_09\", \"Aug_Temp_09\", \"Sep_Temp_09\", \"Oct_Temp_09\", \"Nov_Temp_09\", \"Dec_Temp_09\", \"Ann_Temp_09\", \"Jan_Temp_10\", \"Feb_Temp_10\", \"Mar_Temp_10\", \"Apr_Temp_10\", \"May_Temp_10\", \"Jun_Temp_10\", \"Jul_Temp_10\", \"Aug_Temp_10\", \"Sep_Temp_10\", \"Oct_Temp_10\", \"Nov_Temp_10\", \"Dec_Temp_10\", \"Ann_Temp_10\", \"Jan_Temp_11\", \"Feb_Temp_11\", \"Mar_Temp_11\", \"Apr_Temp_11\", \"May_Temp_11\", \"Jun_Temp_11\", \"Jul_Temp_11\", \"Aug_Temp_11\", \"Sep_Temp_11\", \"Oct_Temp_11\", \"Nov_Temp_11\", \"Dec_Temp_11\", \"Ann_Temp_11\", \"Jan_Temp_12\", \"Feb_Temp_12\", \"Mar_Temp_12\", \"Apr_Temp_12\", \"May_Temp_12\", \"Jun_Temp_12\", \"Jul_Temp_12\", \"Aug_Temp_12\", \"Sep_Temp_12\", \"Oct_Temp_12\", \"Nov_Temp_12\", \"Dec_Temp_12\", \"Ann_Temp_12\", \"Jan_Temp_13\", \"Feb_Temp_13\", \"Mar_Temp_13\", \"Apr_Temp_13\", \"May_Temp_13\", \"Jun_Temp_13\", \"Jul_Temp_13\", \"Aug_Temp_13\", \"Sep_Temp_13\", \"Oct_Temp_13\", \"Nov_Temp_13\", \"Dec_Temp_13\", \"Ann_Temp_13\", \"Jan_Temp_14\", \"Feb_Temp_14\", \"Mar_Temp_14\", \"Apr_Temp_14\", \"May_Temp_14\", \"Jun_Temp_14\", \"Jul_Temp_14\", \"Aug_Temp_14\", \"Sep_Temp_14\", \"Oct_Temp_14\", \"Nov_Temp_14\", \"Dec_Temp_14\", \"Ann_Temp_14\", \"Jan_Temp_15\", \"Feb_Temp_15\", \"Mar_Temp_15\", \"Apr_Temp_15\", \"May_Temp_15\", \"Jun_Temp_15\", \"Jul_Temp_15\", \"Aug_Temp_15\", \"Sep_Temp_15\", \"Oct_Temp_15\", \"Nov_Temp_15\", \"Dec_Temp_15\", \"Ann_Temp_15\", \"Jan_Temp_16\", \"Feb_Temp_16\", \"Mar_Temp_16\", \"Apr_Temp_16\", \"May_Temp_16\", \"Jun_Temp_16\", \"Jul_Temp_16\", \"Aug_Temp_16\", \"Sep_Temp_16\", \"Oct_Temp_16\", \"Nov_Temp_16\", \"Dec_Temp_16\", \"Ann_Temp_16\", \"Jan_Temp_17\", \"Feb_Temp_17\", \"Mar_Temp_17\", \"Apr_Temp_17\", \"May_Temp_17\", \"Jun_Temp_17\", \"Jul_Temp_17\", \"Aug_Temp_17\", \"Sep_Temp_17\", \"Oct_Temp_17\", \"Nov_Temp_17\", \"Dec_Temp_17\", \"Ann_Temp_17\", \"Jan_Temp_18\", \"Feb_Temp_18\", \"Mar_Temp_18\", \"Apr_Temp_18\", \"May_Temp_18\", \"Jun_Temp_18\", \"Jul_Temp_18\", \"Aug_Temp_18\", \"Sep_Temp_18\", \"Oct_Temp_18\", \"Nov_Temp_18\", \"Dec_Temp_18\", \"Ann_Temp_18\"], \"y\": [33.52, 36.07692307692308, 38.905660377358494, 54.132075471698116, 58.096153846153854, 72.62745098039215, 77.42857142857143, 77.05882352941177, 71.03921568627452, 57.38, 48.3125, 33.38297872340426, 54.846153846153854, 40.47826086956522, 35.53191489361703, 43.51020408163265, 55.875, 61.6938775510204, 71.1086956521739, 77.30434782608695, 76.6875, 65.04081632653062, 54.638297872340424, 48.8936170212766, 42.408163265306115, 56.33333333333334, 36.51020408163265, 27.60416666666667, 44.20454545454545, 50.17391304347826, 64.1590909090909, 72.3695652173913, 74.97872340425532, 76.06666666666666, 69.52173913043478, 62.73913043478261, 44.97826086956522, 37.57446808510638, 55.17948717948718, 34.97826086956522, 41.0, 43.76086956521739, 54.78723404255321, 59.422222222222224, 73.0, 75.74468085106382, 72.12765957446808, 68.36170212765957, 54.46666666666667, 44.085106382978715, 38.0, 54.536585365853654, 28.217391304347824, 36.369565217391305, 42.0, 54.0, 62.85106382978724, 70.0, 73.0, 75.75, 68.0, 58.0, 49.22727272727273, 34.75, 54.4, 31.476190476190478, 32.0, 46.8139534883721, 58.0, 65.06666666666666, 77.0, 80.0, 75.93181818181819, 72.0, 57.16279069767442, 45.52272727272727, 30.244444444444447, 55.457142857142856, 28.41860465116279, 41.0, 41.74418604651163, 55.7, 67.0, 71.38461538461539, 77.07692307692308, 76.0, 72.0, 55.0, 47.47619047619048, 40.69047619047619, 36.77777777777778, 36.0, 44.0, 51.72727272727273, 55.0, 0.0, 73.0, 82.0, 76.0, 67.04761904761905, 56.365853658536594, 41.604651162790695, 41.15, 53.73684210526316, 41.0, 41.0, 38.725, 53.82051282051282, 61.975, 71.975, 76.94871794871794, 76.0, 65.58974358974359, 57.33333333333334, 42.7, 37.7, 44.74358974358975, 34.0, 38.0, 36.794871794871796, 55.0, 69.0, 71.94871794871794, 78.0, 71.15789473684211, 72.0, 64.0, 42.054054054054056, 39.0, 47.611111111111114, 29.921052631578952, 29.0, 37.125, 53.5897435897436, 65.30769230769229, 74.0, 77.0, 73.66666666666667, 70.0, 55.0, 52.0, 46.73684210526316, 44.351351351351354, 31.23684210526316, 35.02564102564103, 54.0, 56.0, 62.0, 72.0, 77.5, 78.0, 70.89473684210526, 58.5, 50.0, 40.0, 43.694444444444436, 42.0, 45.0, 46.0, 58.73684210526316, 64.0, 72.0, 76.76315789473685, 74.0, 67.94871794871794, 61.0, 44.918918918918926, 34.361111111111114, 42.97142857142857, 36.0, 47.0, 38.20512820512821, 54.0, 71.0, 74.0, 78.0, 79.0, 76.0, 62.0, 47.0, 43.0, 61.0]}],\n",
       "                        {\"template\": {\"data\": {\"bar\": [{\"error_x\": {\"color\": \"#2a3f5f\"}, \"error_y\": {\"color\": \"#2a3f5f\"}, \"marker\": {\"line\": {\"color\": \"#E5ECF6\", \"width\": 0.5}}, \"type\": \"bar\"}], \"barpolar\": [{\"marker\": {\"line\": {\"color\": \"#E5ECF6\", \"width\": 0.5}}, \"type\": \"barpolar\"}], \"carpet\": [{\"aaxis\": {\"endlinecolor\": \"#2a3f5f\", \"gridcolor\": \"white\", \"linecolor\": \"white\", \"minorgridcolor\": \"white\", \"startlinecolor\": \"#2a3f5f\"}, \"baxis\": {\"endlinecolor\": \"#2a3f5f\", \"gridcolor\": \"white\", \"linecolor\": \"white\", \"minorgridcolor\": \"white\", \"startlinecolor\": \"#2a3f5f\"}, \"type\": \"carpet\"}], \"choropleth\": [{\"colorbar\": {\"outlinewidth\": 0, \"ticks\": \"\"}, \"type\": \"choropleth\"}], \"contour\": [{\"colorbar\": {\"outlinewidth\": 0, \"ticks\": \"\"}, \"colorscale\": [[0.0, \"#0d0887\"], [0.1111111111111111, \"#46039f\"], [0.2222222222222222, \"#7201a8\"], [0.3333333333333333, \"#9c179e\"], [0.4444444444444444, \"#bd3786\"], [0.5555555555555556, \"#d8576b\"], [0.6666666666666666, \"#ed7953\"], [0.7777777777777778, \"#fb9f3a\"], [0.8888888888888888, \"#fdca26\"], [1.0, \"#f0f921\"]], \"type\": \"contour\"}], \"contourcarpet\": [{\"colorbar\": {\"outlinewidth\": 0, \"ticks\": \"\"}, \"type\": \"contourcarpet\"}], \"heatmap\": [{\"colorbar\": {\"outlinewidth\": 0, \"ticks\": \"\"}, \"colorscale\": [[0.0, \"#0d0887\"], [0.1111111111111111, \"#46039f\"], [0.2222222222222222, \"#7201a8\"], [0.3333333333333333, \"#9c179e\"], [0.4444444444444444, \"#bd3786\"], [0.5555555555555556, \"#d8576b\"], [0.6666666666666666, \"#ed7953\"], [0.7777777777777778, \"#fb9f3a\"], [0.8888888888888888, \"#fdca26\"], [1.0, \"#f0f921\"]], \"type\": \"heatmap\"}], \"heatmapgl\": [{\"colorbar\": {\"outlinewidth\": 0, \"ticks\": \"\"}, \"colorscale\": [[0.0, \"#0d0887\"], [0.1111111111111111, \"#46039f\"], [0.2222222222222222, \"#7201a8\"], [0.3333333333333333, \"#9c179e\"], [0.4444444444444444, \"#bd3786\"], [0.5555555555555556, \"#d8576b\"], [0.6666666666666666, \"#ed7953\"], [0.7777777777777778, \"#fb9f3a\"], [0.8888888888888888, \"#fdca26\"], [1.0, \"#f0f921\"]], \"type\": \"heatmapgl\"}], \"histogram\": [{\"marker\": {\"colorbar\": {\"outlinewidth\": 0, \"ticks\": \"\"}}, \"type\": \"histogram\"}], \"histogram2d\": [{\"colorbar\": {\"outlinewidth\": 0, \"ticks\": \"\"}, \"colorscale\": [[0.0, \"#0d0887\"], [0.1111111111111111, \"#46039f\"], [0.2222222222222222, \"#7201a8\"], [0.3333333333333333, \"#9c179e\"], [0.4444444444444444, \"#bd3786\"], [0.5555555555555556, \"#d8576b\"], [0.6666666666666666, \"#ed7953\"], [0.7777777777777778, \"#fb9f3a\"], [0.8888888888888888, \"#fdca26\"], [1.0, \"#f0f921\"]], \"type\": \"histogram2d\"}], \"histogram2dcontour\": [{\"colorbar\": {\"outlinewidth\": 0, \"ticks\": \"\"}, \"colorscale\": [[0.0, \"#0d0887\"], [0.1111111111111111, \"#46039f\"], [0.2222222222222222, \"#7201a8\"], [0.3333333333333333, \"#9c179e\"], [0.4444444444444444, \"#bd3786\"], [0.5555555555555556, \"#d8576b\"], [0.6666666666666666, \"#ed7953\"], [0.7777777777777778, \"#fb9f3a\"], [0.8888888888888888, \"#fdca26\"], [1.0, \"#f0f921\"]], \"type\": \"histogram2dcontour\"}], \"mesh3d\": [{\"colorbar\": {\"outlinewidth\": 0, \"ticks\": \"\"}, \"type\": \"mesh3d\"}], \"parcoords\": [{\"line\": {\"colorbar\": {\"outlinewidth\": 0, \"ticks\": \"\"}}, \"type\": \"parcoords\"}], \"scatter\": [{\"marker\": {\"colorbar\": {\"outlinewidth\": 0, \"ticks\": \"\"}}, \"type\": \"scatter\"}], \"scatter3d\": [{\"line\": {\"colorbar\": {\"outlinewidth\": 0, \"ticks\": \"\"}}, \"marker\": {\"colorbar\": {\"outlinewidth\": 0, \"ticks\": \"\"}}, \"type\": \"scatter3d\"}], \"scattercarpet\": [{\"marker\": {\"colorbar\": {\"outlinewidth\": 0, \"ticks\": \"\"}}, \"type\": \"scattercarpet\"}], \"scattergeo\": [{\"marker\": {\"colorbar\": {\"outlinewidth\": 0, \"ticks\": \"\"}}, \"type\": \"scattergeo\"}], \"scattergl\": [{\"marker\": {\"colorbar\": {\"outlinewidth\": 0, \"ticks\": \"\"}}, \"type\": \"scattergl\"}], \"scattermapbox\": [{\"marker\": {\"colorbar\": {\"outlinewidth\": 0, \"ticks\": \"\"}}, \"type\": \"scattermapbox\"}], \"scatterpolar\": [{\"marker\": {\"colorbar\": {\"outlinewidth\": 0, \"ticks\": \"\"}}, \"type\": \"scatterpolar\"}], \"scatterpolargl\": [{\"marker\": {\"colorbar\": {\"outlinewidth\": 0, \"ticks\": \"\"}}, \"type\": \"scatterpolargl\"}], \"scatterternary\": [{\"marker\": {\"colorbar\": {\"outlinewidth\": 0, \"ticks\": \"\"}}, \"type\": \"scatterternary\"}], \"surface\": [{\"colorbar\": {\"outlinewidth\": 0, \"ticks\": \"\"}, \"colorscale\": [[0.0, \"#0d0887\"], [0.1111111111111111, \"#46039f\"], [0.2222222222222222, \"#7201a8\"], [0.3333333333333333, \"#9c179e\"], [0.4444444444444444, \"#bd3786\"], [0.5555555555555556, \"#d8576b\"], [0.6666666666666666, \"#ed7953\"], [0.7777777777777778, \"#fb9f3a\"], [0.8888888888888888, \"#fdca26\"], [1.0, \"#f0f921\"]], \"type\": \"surface\"}], \"table\": [{\"cells\": {\"fill\": {\"color\": \"#EBF0F8\"}, \"line\": {\"color\": \"white\"}}, \"header\": {\"fill\": {\"color\": \"#C8D4E3\"}, \"line\": {\"color\": \"white\"}}, \"type\": \"table\"}]}, \"layout\": {\"annotationdefaults\": {\"arrowcolor\": \"#2a3f5f\", \"arrowhead\": 0, \"arrowwidth\": 1}, \"colorscale\": {\"diverging\": [[0, \"#8e0152\"], [0.1, \"#c51b7d\"], [0.2, \"#de77ae\"], [0.3, \"#f1b6da\"], [0.4, \"#fde0ef\"], [0.5, \"#f7f7f7\"], [0.6, \"#e6f5d0\"], [0.7, \"#b8e186\"], [0.8, \"#7fbc41\"], [0.9, \"#4d9221\"], [1, \"#276419\"]], \"sequential\": [[0.0, \"#0d0887\"], [0.1111111111111111, \"#46039f\"], [0.2222222222222222, \"#7201a8\"], [0.3333333333333333, \"#9c179e\"], [0.4444444444444444, \"#bd3786\"], [0.5555555555555556, \"#d8576b\"], [0.6666666666666666, \"#ed7953\"], [0.7777777777777778, \"#fb9f3a\"], [0.8888888888888888, \"#fdca26\"], [1.0, \"#f0f921\"]], \"sequentialminus\": [[0.0, \"#0d0887\"], [0.1111111111111111, \"#46039f\"], [0.2222222222222222, \"#7201a8\"], [0.3333333333333333, \"#9c179e\"], [0.4444444444444444, \"#bd3786\"], [0.5555555555555556, \"#d8576b\"], [0.6666666666666666, \"#ed7953\"], [0.7777777777777778, \"#fb9f3a\"], [0.8888888888888888, \"#fdca26\"], [1.0, \"#f0f921\"]]}, \"colorway\": [\"#636efa\", \"#EF553B\", \"#00cc96\", \"#ab63fa\", \"#FFA15A\", \"#19d3f3\", \"#FF6692\", \"#B6E880\", \"#FF97FF\", \"#FECB52\"], \"font\": {\"color\": \"#2a3f5f\"}, \"geo\": {\"bgcolor\": \"white\", \"lakecolor\": \"white\", \"landcolor\": \"#E5ECF6\", \"showlakes\": true, \"showland\": true, \"subunitcolor\": \"white\"}, \"hoverlabel\": {\"align\": \"left\"}, \"hovermode\": \"closest\", \"mapbox\": {\"style\": \"light\"}, \"paper_bgcolor\": \"white\", \"plot_bgcolor\": \"#E5ECF6\", \"polar\": {\"angularaxis\": {\"gridcolor\": \"white\", \"linecolor\": \"white\", \"ticks\": \"\"}, \"bgcolor\": \"#E5ECF6\", \"radialaxis\": {\"gridcolor\": \"white\", \"linecolor\": \"white\", \"ticks\": \"\"}}, \"scene\": {\"xaxis\": {\"backgroundcolor\": \"#E5ECF6\", \"gridcolor\": \"white\", \"gridwidth\": 2, \"linecolor\": \"white\", \"showbackground\": true, \"ticks\": \"\", \"zerolinecolor\": \"white\"}, \"yaxis\": {\"backgroundcolor\": \"#E5ECF6\", \"gridcolor\": \"white\", \"gridwidth\": 2, \"linecolor\": \"white\", \"showbackground\": true, \"ticks\": \"\", \"zerolinecolor\": \"white\"}, \"zaxis\": {\"backgroundcolor\": \"#E5ECF6\", \"gridcolor\": \"white\", \"gridwidth\": 2, \"linecolor\": \"white\", \"showbackground\": true, \"ticks\": \"\", \"zerolinecolor\": \"white\"}}, \"shapedefaults\": {\"line\": {\"color\": \"#2a3f5f\"}}, \"ternary\": {\"aaxis\": {\"gridcolor\": \"white\", \"linecolor\": \"white\", \"ticks\": \"\"}, \"baxis\": {\"gridcolor\": \"white\", \"linecolor\": \"white\", \"ticks\": \"\"}, \"bgcolor\": \"#E5ECF6\", \"caxis\": {\"gridcolor\": \"white\", \"linecolor\": \"white\", \"ticks\": \"\"}}, \"title\": {\"x\": 0.05}, \"xaxis\": {\"automargin\": true, \"gridcolor\": \"white\", \"linecolor\": \"white\", \"ticks\": \"\", \"zerolinecolor\": \"white\", \"zerolinewidth\": 2}, \"yaxis\": {\"automargin\": true, \"gridcolor\": \"white\", \"linecolor\": \"white\", \"ticks\": \"\", \"zerolinecolor\": \"white\", \"zerolinewidth\": 2}}}, \"title\": {\"text\": \"Temperature of Different Regions in Maryland from 2005-2018\"}, \"xaxis\": {\"rangeslider\": {\"visible\": true}}},\n",
       "                        {\"responsive\": true}\n",
       "                    ).then(function(){\n",
       "                            \n",
       "var gd = document.getElementById('93a3f897-9e4c-4f2b-863a-ce375f633bde');\n",
       "var x = new MutationObserver(function (mutations, observer) {{\n",
       "        var display = window.getComputedStyle(gd).display;\n",
       "        if (!display || display === 'none') {{\n",
       "            console.log([gd, 'removed!']);\n",
       "            Plotly.purge(gd);\n",
       "            observer.disconnect();\n",
       "        }}\n",
       "}});\n",
       "\n",
       "// Listen for the removal of the full notebook cells\n",
       "var notebookContainer = gd.closest('#notebook-container');\n",
       "if (notebookContainer) {{\n",
       "    x.observe(notebookContainer, {childList: true});\n",
       "}}\n",
       "\n",
       "// Listen for the clearing of the current output cell\n",
       "var outputEl = gd.closest('.output');\n",
       "if (outputEl) {{\n",
       "    x.observe(outputEl, {childList: true});\n",
       "}}\n",
       "\n",
       "                        })\n",
       "                };\n",
       "                });\n",
       "            </script>\n",
       "        </div>"
      ]
     },
     "metadata": {},
     "output_type": "display_data"
    }
   ],
   "source": [
    "fig4 = go.Figure()\n",
    "\n",
    "fig4.add_trace(go.Scatter(x=mdtem['Month and Year'], y=mdtem['NORTHERN CENTRAL   06'], name=\"NORTHERN CENTRAL\"))\n",
    "fig4.add_trace(go.Scatter(x=mdtem['Month and Year'], y=mdtem['NORTHERN EASTERN'], name=\"NORTHERN EASTERN\"))\n",
    "fig4.add_trace(go.Scatter(x=mdtem['Month and Year'], y=mdtem['CENTRAL EASTERN'], name=\"Central Eastern\"))\n",
    "fig4.add_trace(go.Scatter(x=mdtem['Month and Year'], y=mdtem['UPPER SOUTHERN     04'], name=\"UPPER SOUTHERN\"))\n",
    "#fig4.add_trace(go.Scatter(x=mdtem['Month and Year'], y=mdtem['LOWER SOUTHERN     04'], name=\"Central Eastern\"))\n",
    "fig4.add_trace(go.Scatter(x=mdtem['Month and Year'], y=mdtem['SOUTHERN EASTERN'], name=\"SOUTHERN EASTERN\"))\n",
    "\n",
    "fig4.update_layout(title_text='Temperature of Different Regions in Maryland from 2005-2018',\n",
    "                  xaxis_rangeslider_visible=True)\n",
    "fig4.show()"
   ]
  },
  {
   "cell_type": "markdown",
   "metadata": {},
   "source": [
    "Inference: According to NASA \"The planet's average surface temperature has risen about 1.62 degrees Fahrenheit (0.9 degrees Celsius) since 1880\", hence we cannot really see a change in temperature for a small state over 10 years of data. But the temperature behaves in a similar pattern over each year."
   ]
  },
  {
   "cell_type": "markdown",
   "metadata": {},
   "source": [
    "Limitation: As mentioned above, this graph does not help us prove anything as we are limited by the scope of data. But if we had have been lucky and got text based pdf instead of image based pdf for 119 years then we would have been able to find around 1 degree Fahrenheit increase over the years."
   ]
  },
  {
   "cell_type": "markdown",
   "metadata": {},
   "source": [
    "PS: Due to the complexity of data cleaning, pre processing for different visualization and time constraints we had to leave the Virginia data aside."
   ]
  },
  {
   "cell_type": "markdown",
   "metadata": {},
   "source": [
    "# Conclusion"
   ]
  },
  {
   "cell_type": "markdown",
   "metadata": {},
   "source": [
    "This project has been a huge learning curve for us. We learnt to deal with really unclean data and also how limited data can drastically decrease the scope of the project. \n",
    "Our findings indicate that precipitation can have a much more visible change over a short period than temperature. Also, it is tough to conclude that the few changes we did observe were due to climate change and not due to any other factor. \n",
    "To get more concrete results and conclusions, a much larger dataset spanning a much greater number of years is needed. But if we can observe changes even in such a small dataset, imagine what we would have found with 119 years of data."
   ]
  }
 ],
 "metadata": {
  "kernelspec": {
   "display_name": "Python 3",
   "language": "python",
   "name": "python3"
  },
  "language_info": {
   "codemirror_mode": {
    "name": "ipython",
    "version": 3
   },
   "file_extension": ".py",
   "mimetype": "text/x-python",
   "name": "python",
   "nbconvert_exporter": "python",
   "pygments_lexer": "ipython3",
   "version": "3.7.3"
  }
 },
 "nbformat": 4,
 "nbformat_minor": 2
}
